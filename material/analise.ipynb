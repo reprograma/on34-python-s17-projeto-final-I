{
 "cells": [
  {
   "cell_type": "code",
   "execution_count": null,
   "metadata": {},
   "outputs": [],
   "source": [
    "#Utilizar as bibliotecas de Python aprendidas em aula (pandas, matplotlib, seaborn, etc);\n",
    "#Trazer um notebook estruturado e organizado com o uso de Markdown. O uso de textos no notebook é altamente incentivado);\n",
    "#Mínimo de 3 visualizações que ajudem a sumarizar os resultados da sua análise."
   ]
  }
 ],
 "metadata": {
  "kernelspec": {
   "display_name": "Python 3",
   "language": "python",
   "name": "python3"
  },
  "language_info": {
   "codemirror_mode": {
    "name": "ipython",
    "version": 3
   },
   "file_extension": ".py",
   "mimetype": "text/x-python",
   "name": "python",
   "nbconvert_exporter": "python",
   "pygments_lexer": "ipython3",
   "version": "3.12.4"
  }
 },
 "nbformat": 4,
 "nbformat_minor": 2
}
