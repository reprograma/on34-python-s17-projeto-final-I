{
  "nbformat": 4,
  "nbformat_minor": 0,
  "metadata": {
    "colab": {
      "provenance": [],
      "toc_visible": true
    },
    "kernelspec": {
      "name": "python3",
      "display_name": "Python 3"
    },
    "language_info": {
      "name": "python"
    }
  },
  "cells": [
    {
      "cell_type": "markdown",
      "source": [
        "## Introdução\n",
        "\n",
        "**Tema:** Diversidade na Análise de Dados: Um Olhar sobre Gênero e Raça<br><br>\n",
        "A diversidade de gênero e raça é um tema cada vez mais relevante na análise de dados, pois reflete as desigualdades e oportunidades presentes em diferentes setores da sociedade. Este notebook tem como objetivo explorar a distribuição de gênero e raça na área de dados, investigando diversos aspectos como nível de cargo, faixa salarial, escolaridade, tempo de experiência e ocupação de cargos de gestão.<br><br>\n",
        "De acordo com os dados de 2022 do Instituto Brasileiro de Geografia e Estatística (IBGE), a população brasileira é composta por aproximadamente 51,1% de mulheres e 48,9% de homens. Em termos raciais, 53,2% da população se declara negra (incluindo pretos e pardos), enquanto 47% se declara branca. No entanto, quando se trata da distribuição de oportunidades de carreira e acesso a cargos de liderança, grandes desigualdades ainda são observadas quando analisadas sob o recorte de gênero e raça:<br><br>\n",
        "**Mulheres Negras:** Representam uma parcela significativa da população, mas têm menor representatividade em cargos de liderança e posições bem remuneradas.<br><br>\n",
        "**Homens Brancos:** Apesar de serem uma parcela menor em termos demográficos, ainda dominam cargos de alto nível e apresentam maiores médias salariais.<br><br>\n",
        "**Mulheres Brancas e Negras:** Continuam enfrentando barreiras para acessar cargos de gestão e posições de destaque, refletindo as disparidades históricas que persistem no ambiente de trabalho, embora as mulheres negras estejam ainda mais sub-representadas.<br><br>\n",
        "Esta análise visa identificar e quantificar essas desigualdades, destacando como gênero e raça influenciam a progressão de carreira, a ocupação de cargos de liderança e o acesso a salários justos.<br><br>\n",
        "Ao longo desta análise, utilizaremos gráficos para visualizar as disparidades entre diferentes grupos de gênero e raça, buscando evidências que possam fundamentar políticas de inclusão e equidade. O objetivo é compreender como as diferenças de gênero e raça se manifestam em cada aspecto da carreira, permitindo identificar áreas que precisam de intervenção para promover um ambiente mais justo e diverso na área de dados.\n"
      ],
      "metadata": {
        "id": "R6Spx-BKv5Kv"
      }
    },
    {
      "cell_type": "markdown",
      "source": [
        "## Importando Pandas"
      ],
      "metadata": {
        "id": "5X0qOMWj1i4U"
      }
    },
    {
      "cell_type": "code",
      "source": [
        "import pandas as pd"
      ],
      "metadata": {
        "id": "Bp2LrfmPv8ds"
      },
      "execution_count": null,
      "outputs": []
    },
    {
      "cell_type": "markdown",
      "source": [
        "## Abrindo arquivo CSV - 2022"
      ],
      "metadata": {
        "id": "x0V8WomewAHs"
      }
    },
    {
      "cell_type": "code",
      "source": [
        "df_2022 = pd.read_csv('2022.csv')\n",
        "df_2022"
      ],
      "metadata": {
        "id": "eKX-tZyYwEak"
      },
      "execution_count": null,
      "outputs": []
    },
    {
      "cell_type": "markdown",
      "source": [
        "**Verificando Tipos de dados**"
      ],
      "metadata": {
        "id": "kv2jFOwXwPc3"
      }
    },
    {
      "cell_type": "code",
      "source": [
        "df_2022.info()"
      ],
      "metadata": {
        "id": "varqlP3DwRig"
      },
      "execution_count": null,
      "outputs": []
    },
    {
      "cell_type": "markdown",
      "source": [
        "**Verificando Nulos**"
      ],
      "metadata": {
        "id": "cRCojBi6xKvU"
      }
    },
    {
      "cell_type": "code",
      "source": [
        "df_2022.isnull().sum()"
      ],
      "metadata": {
        "id": "tqBUjNuwxMvG"
      },
      "execution_count": null,
      "outputs": []
    },
    {
      "cell_type": "markdown",
      "source": [
        "**Verificando as dimensões do DataFrame**"
      ],
      "metadata": {
        "id": "XSsyyZu5xTnN"
      }
    },
    {
      "cell_type": "code",
      "source": [
        "df_2022.shape"
      ],
      "metadata": {
        "id": "KhYglO-IxV3M",
        "colab": {
          "base_uri": "https://localhost:8080/"
        },
        "outputId": "f5610e78-5502-4890-f65a-13a6f79d59ff"
      },
      "execution_count": null,
      "outputs": [
        {
          "output_type": "execute_result",
          "data": {
            "text/plain": [
              "(3050, 16)"
            ]
          },
          "metadata": {},
          "execution_count": 25
        }
      ]
    },
    {
      "cell_type": "markdown",
      "source": [
        "## Abrindo arquivo CSV - 2023"
      ],
      "metadata": {
        "id": "SBbwCmkNxY4j"
      }
    },
    {
      "cell_type": "code",
      "source": [
        "df_2023 = pd.read_csv('2023.csv')\n",
        "df_2023"
      ],
      "metadata": {
        "id": "2YzyfTo5xl0r"
      },
      "execution_count": null,
      "outputs": []
    },
    {
      "cell_type": "markdown",
      "source": [
        "**Verificando Tipos de dados**"
      ],
      "metadata": {
        "id": "LEv51V0xxrzT"
      }
    },
    {
      "cell_type": "code",
      "source": [
        "df_2023.info()"
      ],
      "metadata": {
        "id": "V0DVF4_Vxu0-"
      },
      "execution_count": null,
      "outputs": []
    },
    {
      "cell_type": "markdown",
      "source": [
        "**Verificando Nulos**"
      ],
      "metadata": {
        "id": "Vh6OVA6xxzB8"
      }
    },
    {
      "cell_type": "code",
      "source": [
        "df_2023.isnull().sum()"
      ],
      "metadata": {
        "id": "g9AG3TXwx1r4"
      },
      "execution_count": null,
      "outputs": []
    },
    {
      "cell_type": "markdown",
      "source": [
        "**Verificando as dimensões do DataFrame**"
      ],
      "metadata": {
        "id": "yrfZGjyLlXIR"
      }
    },
    {
      "cell_type": "code",
      "source": [
        "df_2023.shape"
      ],
      "metadata": {
        "id": "Zz7vfFbtlXfa"
      },
      "execution_count": null,
      "outputs": []
    },
    {
      "cell_type": "markdown",
      "source": [
        "## Juntando datasets"
      ],
      "metadata": {
        "id": "Xn5veQdqx8ul"
      }
    },
    {
      "cell_type": "code",
      "source": [
        "df_diversidade = pd.merge(df_2022, df_2023, how='outer')\n",
        "df_diversidade"
      ],
      "metadata": {
        "id": "VmHm1cY7x-zD"
      },
      "execution_count": null,
      "outputs": []
    },
    {
      "cell_type": "code",
      "source": [
        "df_diversidade.shape"
      ],
      "metadata": {
        "id": "3_35kvzVyJPV"
      },
      "execution_count": null,
      "outputs": []
    },
    {
      "cell_type": "markdown",
      "source": [
        "## Exportar Base"
      ],
      "metadata": {
        "id": "FsV4Pn3JyM6V"
      }
    },
    {
      "cell_type": "code",
      "source": [
        "df_diversidade.to_csv('base_diversidade.csv', index=False)\n",
        "df_diversidade"
      ],
      "metadata": {
        "id": "fJKz2sq1yO9i"
      },
      "execution_count": null,
      "outputs": []
    },
    {
      "cell_type": "markdown",
      "source": [
        "## Importando Bibliotecas"
      ],
      "metadata": {
        "id": "s9Ymxuasysf5"
      }
    },
    {
      "cell_type": "code",
      "source": [
        "import matplotlib.pyplot as plt\n",
        "import seaborn as sns"
      ],
      "metadata": {
        "id": "PZZ2PFlhyx8g"
      },
      "execution_count": null,
      "outputs": []
    },
    {
      "cell_type": "code",
      "source": [
        "print(df_diversidade.columns)"
      ],
      "metadata": {
        "id": "-rVPqtSVnHSH"
      },
      "execution_count": null,
      "outputs": []
    },
    {
      "cell_type": "markdown",
      "source": [
        "## Visualizações"
      ],
      "metadata": {
        "id": "0Wa-MWCOAh4r"
      }
    },
    {
      "cell_type": "markdown",
      "source": [
        "**Distribuição De Gênero E Raça Na Área de Dados**<br><br>\n",
        "Este gráfico mostra a distribuição dos participantes por raça e gênero. Ao visualizar essas duas variáveis em conjunto, é possível identificar quais grupos são predominantes e quais estão sub-representados.<br><br>\n",
        "\n",
        "**Análise:**\n",
        "\n",
        "Podemos observar disparidades significativas na participação entre diferentes grupos de gênero e raça. Por exemplo, se há uma predominância de homens brancos e uma sub-representação de mulheres pardas ou negras, isso evidencia uma desigualdade na composição demográfica da área de dados. Esta análise é fundamental para identificar os grupos que podem precisar de mais suporte e para fundamentar políticas que promovam a inclusão e a equidade, visando aumentar a diversidade e diminuir as disparidades."
      ],
      "metadata": {
        "id": "vAVOVJE5zZZG"
      }
    },
    {
      "cell_type": "code",
      "source": [
        "#Criando uma tabela de contingência para contar as ocorrências de cada combinação\n",
        "cont_table = pd.crosstab(df_diversidade['Como você se identifica'], df_diversidade['Gênero'], normalize='index') * 100\n",
        "\n",
        "# Plotando o gráfico de barras empilhadas em percentual\n",
        "cores_personalizadas = ['#ffb3ba', '#ffdfba', '#bae1ff', '#ffbffb', '#ffc3a0']\n",
        "cont_table.plot(kind='bar', stacked=True, color=cores_personalizadas, figsize=(12, 8))\n",
        "plt.title('Distribuição Percentual por Gênero e Raça')\n",
        "plt.xlabel('Raça')\n",
        "plt.ylabel('Percentual (%)')\n",
        "plt.legend(title='Gênero', bbox_to_anchor=(1.05, 1), loc='upper left')\n",
        "plt.xticks(rotation=90)\n",
        "\n",
        "plt.show()"
      ],
      "metadata": {
        "id": "_kONyBkIza_H"
      },
      "execution_count": null,
      "outputs": []
    },
    {
      "cell_type": "markdown",
      "source": [
        "**Gráfico de Faixa Salarial por Gênero e Raça**<br><br>\n",
        "Este gráfico mostra a média salarial dos participantes, dividida por gênero e raça. O objetivo é visualizar e analisar possíveis disparidades salariais entre diferentes grupos de gênero e raça.<br><br>\n",
        "\n",
        "**Análise:**\n",
        "\n",
        "Os resultados revelam diferenças significativas nas médias salariais entre os grupos de gênero e raça. Se, por exemplo, homens brancos apresentam as maiores médias salariais e mulheres pardas ou negras possuem as menores, isso evidencia uma clara disparidade salarial. Tais desigualdades podem indicar um reflexo de preconceitos e barreiras sistêmicas que dificultam o acesso de grupos minoritários a oportunidades e remunerações justas. Essa análise reforça a importância de implementar políticas de equidade salarial e iniciativas que promovam a inclusão e valorização da diversidade no ambiente de trabalho, contribuindo para um setor mais justo e representativo."
      ],
      "metadata": {
        "id": "_eDGgIyn0d0b"
      }
    },
    {
      "cell_type": "code",
      "source": [
        "# Calculando a média salarial por grupo de Raça e Gênero\n",
        "media_salarial = df_diversidade.groupby(['Como você se identifica', 'Gênero'])['Média Salarial'].mean().unstack()\n",
        "\n",
        "cores_personalizadas = ['#ffb3ba', '#ffdfba', '#bae1ff', '#ffbffb', '#ffc3a0']\n",
        "media_salarial.plot(kind='bar', stacked=True, color=cores_personalizadas, figsize=(14, 8))\n",
        "plt.title('Faixa Salarial Média por Gênero e Raça')\n",
        "plt.xlabel('Raça')\n",
        "plt.ylabel('Média Salarial (R$)')\n",
        "plt.xticks(rotation=90)\n",
        "plt.legend(title='Gênero', bbox_to_anchor=(1.05, 1), loc='upper left')\n",
        "plt.show()"
      ],
      "metadata": {
        "id": "eXaCwGVcs5b3"
      },
      "execution_count": null,
      "outputs": []
    },
    {
      "cell_type": "markdown",
      "source": [
        "**Nível de Cargo por Gênero e Raça**<br><br>\n",
        "Nível de Cargo por Gênero e Raça\n",
        "Este gráfico analisa a distribuição dos níveis de cargo (Júnior, Pleno, Sênior, e Não Declarou) por gênero e raça, fornecendo uma visão clara sobre como diferentes grupos estão posicionados em termos de progressão de carreira.<br><br>\n",
        "\n",
        "**Análise:**\n",
        "\n",
        "Ao observar os níveis de cargo por gênero e raça, podemos identificar tendências de segregação entre os grupos em relação a posições hierárquicas específicas. Por exemplo, se os resultados indicarem que homens brancos são a maioria nos cargos sêniores, enquanto mulheres pardas ou negras têm predominância nos cargos júnior, isso aponta para a existência de um obstáculo significativo na progressão de carreira para certos grupos. Essa análise destaca a importância de iniciativas que visem eliminar essas barreiras, como políticas de desenvolvimento profissional, programas de mentoria e estratégias específicas de inclusão para garantir que todos os grupos tenham as mesmas oportunidades de crescimento na carreira."
      ],
      "metadata": {
        "id": "Yv6dwLFW0odz"
      }
    },
    {
      "cell_type": "code",
      "source": [
        "# Criando a figura e configurando o tamanho\n",
        "plt.figure(figsize=(12, 7))\n",
        "\n",
        "# Criando o gráfico countplot\n",
        "cores_personalizadas = ['#ffb3ba', '#ffdfba', '#bae1ff', '#ffbffb', '#ffc3a0']\n",
        "sns.countplot(x='Nivel', hue='Gênero', data=df_diversidade, palette=cores_personalizadas, order=['Júnior', 'Pleno', 'Sênior', 'Não Declarou'])\n",
        "\n",
        "plt.title('Nível de Cargo por Gênero e Raça')\n",
        "plt.xlabel('Nível de Cargo')\n",
        "plt.ylabel('Contagem')\n",
        "plt.legend(title='Gênero', bbox_to_anchor=(1.05, 1), loc='upper left')\n",
        "plt.xticks(rotation=90)\n",
        "plt.show()"
      ],
      "metadata": {
        "id": "goA3Ub3N0p_S"
      },
      "execution_count": null,
      "outputs": []
    },
    {
      "cell_type": "markdown",
      "source": [
        "**Distribuição de Escolaridade por Gênero e Raça**<br><br>\n",
        "Este gráfico mostra a distribuição dos níveis de escolaridade dos participantes, segmentados por gênero e raça. O objetivo é analisar se há desigualdade no acesso aos diferentes níveis de escolaridade entre os grupos.<br><br>\n",
        "\n",
        "**Análise:**\n",
        "\n",
        "Ao observar a distribuição dos níveis de escolaridade por gênero e raça, é possível identificar tendências que revelam diferenças no acesso à educação formal. Caso, por exemplo, homens brancos tenham maior representação em níveis superiores, como pós-graduação e doutorado, enquanto mulheres negras estejam concentradas em níveis mais básicos, isso aponta para uma desigualdade de oportunidades no campo educacional. Essa análise é crucial para entender como gênero e raça influenciam o acesso à educação e identificar onde ações afirmativas ou políticas públicas podem ser necessárias para promover uma maior equidade educacional entre os grupos."
      ],
      "metadata": {
        "id": "QPLW31fu38X4"
      }
    },
    {
      "cell_type": "code",
      "source": [
        "# Coluna combinada Gênero e Raça\n",
        "df_diversidade['Gênero_Raça'] = df_diversidade['Gênero'] + ' - ' + df_diversidade['Como você se identifica']\n",
        "\n",
        "plt.figure(figsize=(12, 7))\n",
        "cores_personalizadas = ['#ffb3ba', '#ffdfba', '#bae1ff', '#ffbffb', '#ffc3a0']\n",
        "sns.countplot(x='Escolaridade', hue='Gênero_Raça', data=df_diversidade, palette=cores_personalizadas)\n",
        "plt.title('Distribuição de Escolaridade por Gênero e Raça')\n",
        "plt.xlabel('Escolaridade')\n",
        "plt.ylabel('Contagem')\n",
        "plt.xticks(rotation=90)\n",
        "plt.legend(title='Gênero e Raça', bbox_to_anchor=(1.05, 1), loc='upper left')\n",
        "plt.show()"
      ],
      "metadata": {
        "id": "gnYyWvuu39-D"
      },
      "execution_count": null,
      "outputs": []
    },
    {
      "cell_type": "markdown",
      "source": [
        "**Tempo de Experiência na Área de Dados por Gênero e Raça**<br><br>\n",
        "Este gráfico mostra a distribuição do tempo de experiência dos participantes na área de dados, segmentada por gênero e raça. O objetivo é entender se existem diferenças na experiência acumulada entre diferentes grupos.<br><br>\n",
        "\n",
        "**Análise:**\n",
        "\n",
        "Ao observar o tempo de experiência na área de dados por gênero e raça, podemos identificar desigualdades que indicam diferenças na progressão ou no acesso ao setor. Caso os resultados mostrem que homens brancos têm maior concentração em faixas mais longas de experiência, enquanto mulheres negras estão predominantemente nas faixas iniciais, isso sugere uma barreira de entrada ou menor retenção para certos grupos. Essa análise é fundamental para entender as possíveis dificuldades enfrentadas por alguns grupos para acumular experiência, ressaltando a necessidade de programas de retenção, desenvolvimento profissional e apoio à progressão na carreira para aumentar a equidade entre todos os participantes."
      ],
      "metadata": {
        "id": "JzT6Rcp64LWj"
      }
    },
    {
      "cell_type": "code",
      "source": [
        "plt.figure(figsize=(12, 7))\n",
        "cores_personalizadas = ['#ffb3ba', '#ffdfba', '#bae1ff', '#ffbffb', '#ffc3a0']\n",
        "sns.countplot(x='Tempo de experiência na área de dados', hue='Gênero_Raça', data=df_diversidade, palette=cores_personalizadas)\n",
        "plt.title('Tempo de Experiência na Área de Dados por Gênero e Raça')\n",
        "plt.xlabel('Tempo de Experiência')\n",
        "plt.ylabel('Contagem')\n",
        "plt.xticks(rotation=90)\n",
        "plt.legend(title='Gênero e Raça', bbox_to_anchor=(1.05, 1), loc='upper left')\n",
        "plt.show()"
      ],
      "metadata": {
        "id": "zcyKZEwm4SUA"
      },
      "execution_count": null,
      "outputs": []
    },
    {
      "cell_type": "markdown",
      "source": [
        "**Análise Cruzada de Cargo como Gestor por Gênero e Raça**<br><br>\n",
        "Este gráfico mostra a distribuição de ocupação de cargos de gestão entre os participantes, segmentada por gênero e raça. O objetivo é analisar a representatividade em posições de liderança.<br><br>\n",
        "\n",
        "**Análise:**\n",
        "\n",
        "Ao observar a distribuição de cargos de gestão por gênero e raça, podemos identificar se existem grupos desproporcionalmente sub-representados em posições de liderança. Se, por exemplo, homens brancos forem a maioria em cargos de gestão, enquanto mulheres negras têm uma representação significativamente menor, isso sugere uma barreira importante no acesso a posições de liderança. Essa análise é crucial para entender onde as desigualdades estão mais presentes e como políticas de diversidade e inclusão podem ajudar a promover uma maior equidade na ocupação de cargos de liderança, garantindo oportunidades iguais para todos os grupos."
      ],
      "metadata": {
        "id": "-IgUaUjh4pYK"
      }
    },
    {
      "cell_type": "code",
      "source": [
        "plt.figure(figsize=(14, 8))\n",
        "cores_personalizadas = ['#ffb3ba', '#ffdfba', '#bae1ff', '#ffbffb', '#ffc3a0']\n",
        "sns.countplot(x='Cargo como Gestor', hue='Gênero_Raça', data=df_diversidade, palette=cores_personalizadas)\n",
        "plt.title('Distribuição de Cargos de Gestão por Gênero e Raça')\n",
        "plt.xlabel('Cargo como Gestor')\n",
        "plt.ylabel('Contagem')\n",
        "plt.legend(title='Gênero e Raça', bbox_to_anchor=(1.05, 1), loc='upper left')\n",
        "plt.xticks(rotation=90)\n",
        "plt.show()"
      ],
      "metadata": {
        "id": "IygAY8uA4v5b"
      },
      "execution_count": null,
      "outputs": []
    },
    {
      "cell_type": "markdown",
      "source": [
        "**Considerações Finais**<br><br>\n",
        "As análises realizadas evidenciam desigualdades significativas em diversos aspectos da carreira na área de dados, incluindo escolaridade, nível de cargo, tempo de experiência e ocupação de cargos de gestão. A combinação de gênero e raça revela como esses fatores contribuem para a sub-representação de determinados grupos em posições de destaque e no acesso a oportunidades de desenvolvimento.<br><br>\n",
        "Os gráficos mostram que homens brancos continuam a dominar cargos sêniores e posições de liderança, enquanto mulheres pardas e negras, frequentemente, enfrentam barreiras em termos de progressão de carreira, remuneração e acúmulo de experiência. Tais disparidades refletem a necessidade de intervenções que promovam um ambiente mais igualitário e inclusivo.<br><br>\n",
        "**Para combater essas desigualdades, algumas recomendações incluem:**<br><br>\n",
        "**Programas de Mentoria e Capacitação:** Implementar programas de mentoria para mulheres e minorias raciais, visando apoiar o desenvolvimento de carreira e garantir maior acesso a posições de liderança.<br><br>\n",
        "**Políticas de Equidade Salarial:** Desenvolver políticas de transparência salarial que garantam remuneração justa e igualitária para todos os grupos, independentemente de gênero ou raça.<br><br>\n",
        "**Promoção da Diversidade na Educação:** Incentivar a inclusão de mulheres e pessoas negras em áreas de formação relacionadas à tecnologia e análise de dados, por meio de bolsas de estudo e campanhas de incentivo.<br><br>\n",
        "**Retenção e Desenvolvimento de Talentos:** Criar iniciativas que ajudem a reter profissionais em seus respectivos campos, especialmente aqueles de grupos sub-representados, proporcionando oportunidades de crescimento e reconhecimento.<br><br>\n",
        "O desenvolvimento de políticas voltadas para a equidade e a inclusão na área de dados não é apenas uma questão de justiça social, mas também de inovação e competitividade. Empresas e organizações que promovem a diversidade colhem benefícios como maior criatividade, eficiência e satisfação no ambiente de trabalho. Portanto, os resultados dessas análises reforçam a importância de ações efetivas para construir um setor de tecnologia que seja verdadeiramente inclusivo e representativo."
      ],
      "metadata": {
        "id": "q9C2qd3pwkTt"
      }
    }
  ]
}