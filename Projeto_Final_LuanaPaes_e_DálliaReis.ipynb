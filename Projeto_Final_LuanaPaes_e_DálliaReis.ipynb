{
  "nbformat": 4,
  "nbformat_minor": 0,
  "metadata": {
    "colab": {
      "provenance": [],
      "include_colab_link": true
    },
    "kernelspec": {
      "name": "python3",
      "display_name": "Python 3"
    },
    "language_info": {
      "name": "python"
    }
  },
  "cells": [
    {
      "cell_type": "markdown",
      "metadata": {
        "id": "view-in-github",
        "colab_type": "text"
      },
      "source": [
        "<a href=\"https://colab.research.google.com/github/Lupaes/on34-python-s17-s18-projeto-final/blob/main/Projeto_Final_LuanaPaes_e_D%C3%A1lliaReis.ipynb\" target=\"_parent\"><img src=\"https://colab.research.google.com/assets/colab-badge.svg\" alt=\"Open In Colab\"/></a>"
      ]
    },
    {
      "cell_type": "markdown",
      "source": [
        "\n",
        "Neste projeto trabalharemos com os microdados do ENEM do ano de 2023 disponiblizado pelo Instituto Nacional de Estudos e Pesquisas Educacionais Anísio Teixeira - Inep.\n",
        "\n",
        "A base utilzada e o dicionário de dados estão disponíveis no link abaixo:\n",
        "\n",
        "https://www.gov.br/inep/pt-br/acesso-a-informacao/dados-abertos/microdados/enem\n",
        "\n",
        "Serão analisados apenas os incritos do sexo feminino das regiões Norte e Sul do Brasil.\n"
      ],
      "metadata": {
        "id": "JTpyb_IlRCg3"
      }
    },
    {
      "cell_type": "markdown",
      "source": [
        "O projeto tem como objetivo analisar se há diferenças significatvas entre as inscritas dos extremos do país."
      ],
      "metadata": {
        "id": "f7MfNw53S0Ws"
      }
    },
    {
      "cell_type": "markdown",
      "source": [
        "## Importação, filtragem e exportação dos dados"
      ],
      "metadata": {
        "id": "hGmdiU5dS-C5"
      }
    },
    {
      "cell_type": "code",
      "execution_count": null,
      "metadata": {
        "id": "696WnyG2yKBJ"
      },
      "outputs": [],
      "source": [
        "#importando as bibliotecas que serão utilizadas\n",
        "import pandas as pd\n",
        "import numpy as np\n",
        "import matplotlib as plt\n",
        "import zipfile"
      ]
    },
    {
      "cell_type": "code",
      "source": [
        "from google.colab import drive\n",
        "drive.mount('/content/drive')"
      ],
      "metadata": {
        "colab": {
          "base_uri": "https://localhost:8080/"
        },
        "id": "-jBGq5tolnfq",
        "outputId": "3dfbfd76-b182-4812-90d4-320cab3c2770"
      },
      "execution_count": null,
      "outputs": [
        {
          "output_type": "stream",
          "name": "stdout",
          "text": [
            "Drive already mounted at /content/drive; to attempt to forcibly remount, call drive.mount(\"/content/drive\", force_remount=True).\n"
          ]
        }
      ]
    },
    {
      "cell_type": "code",
      "source": [
        "# Acessando o drive com pasta onde contém o arquivo dos dados\n",
        "\n",
        "with zipfile.ZipFile('/content/drive/MyDrive/microdados_enem_2023.zip') as z:\n",
        "  print(*z.namelist(), sep=\"\\n\")"
      ],
      "metadata": {
        "colab": {
          "base_uri": "https://localhost:8080/"
        },
        "id": "10N_RXeJosmx",
        "outputId": "829298a3-9db2-48c4-9930-5d679feb7ecc"
      },
      "execution_count": null,
      "outputs": [
        {
          "output_type": "stream",
          "name": "stdout",
          "text": [
            "PROVAS E GABARITOS/\n",
            "PROVAS E GABARITOS/ENEM_2023_P1_CAD_01_DIA_1_AZUL.pdf\n",
            "PROVAS E GABARITOS/ENEM_2023_P1_CAD_02_DIA_1_AMARELO.pdf\n",
            "PROVAS E GABARITOS/ENEM_2023_P1_CAD_03_DIA_1_BRANCO.pdf\n",
            "PROVAS E GABARITOS/ENEM_2023_P1_CAD_04_DIA_1_ROSA_AMPLIADA.pdf\n",
            "PROVAS E GABARITOS/ENEM_2023_P1_CAD_04_DIA_1_ROSA_SUPERAMPLIADA.pdf\n",
            "PROVAS E GABARITOS/ENEM_2023_P1_CAD_05_DIA_2_AMARELO.pdf\n",
            "PROVAS E GABARITOS/ENEM_2023_P1_CAD_06_DIA_2_CINZA.pdf\n",
            "PROVAS E GABARITOS/ENEM_2023_P1_CAD_07_DIA_2_AZUL.pdf\n",
            "PROVAS E GABARITOS/ENEM_2023_P1_CAD_08_DIA_2_ROSA.pdf\n",
            "PROVAS E GABARITOS/ENEM_2023_P1_CAD_08_DIA_2_ROSA_AMPLIADA.pdf\n",
            "PROVAS E GABARITOS/ENEM_2023_P1_CAD_08_DIA_2_ROSA_SUPERAMPLIADA.pdf\n",
            "PROVAS E GABARITOS/ENEM_2023_P1_CAD_09_DIA_1_LARANJA_BRAILE_LEDOR.pdf\n",
            "PROVAS E GABARITOS/ENEM_2023_P1_CAD_09_DIA_1_LARANJA_LEITOR_TELA_DOSVOX_CH.txt\n",
            "PROVAS E GABARITOS/ENEM_2023_P1_CAD_09_DIA_1_LARANJA_LEITOR_TELA_DOSVOX_LC.txt\n",
            "PROVAS E GABARITOS/ENEM_2023_P1_CAD_09_DIA_1_LARANJA_LEITOR_TELA_NVDA_CH.pdf\n",
            "PROVAS E GABARITOS/ENEM_2023_P1_CAD_09_DIA_1_LARANJA_LEITOR_TELA_NVDA_LC.pdf\n",
            "PROVAS E GABARITOS/ENEM_2023_P1_CAD_10_DIA_1_VERDE_LIBRAS.pdf\n",
            "PROVAS E GABARITOS/ENEM_2023_P1_CAD_10_DIA_1_VERDE_LIBRAS_AMPLIADA.pdf\n",
            "PROVAS E GABARITOS/ENEM_2023_P1_CAD_10_DIA_1_VERDE_LIBRAS_SUPERAMPLIADA.pdf\n",
            "PROVAS E GABARITOS/ENEM_2023_P1_CAD_11_DIA_2_LARANJA_BRAILE_LEDOR.pdf\n",
            "PROVAS E GABARITOS/ENEM_2023_P1_CAD_11_DIA_2_LARANJA_LEITOR_TELA_DOSVOX_CN.txt\n",
            "PROVAS E GABARITOS/ENEM_2023_P1_CAD_11_DIA_2_LARANJA_LEITOR_TELA_DOSVOX_MT.txt\n",
            "PROVAS E GABARITOS/ENEM_2023_P1_CAD_11_DIA_2_LARANJA_LEITOR_TELA_NVDA_CN.pdf\n",
            "PROVAS E GABARITOS/ENEM_2023_P1_CAD_11_DIA_2_LARANJA_LEITOR_TELA_NVDA_MT.pdf\n",
            "PROVAS E GABARITOS/ENEM_2023_P1_CAD_12_DIA_2_VERDE_LIBRAS.pdf\n",
            "PROVAS E GABARITOS/ENEM_2023_P1_CAD_12_DIA_2_VERDE_LIBRAS_AMPLIADA.pdf\n",
            "PROVAS E GABARITOS/ENEM_2023_P1_CAD_12_DIA_2_VERDE_LIBRAS_SUPERAMPLIADA.pdf\n",
            "PROVAS E GABARITOS/ENEM_2023_P1_GAB_01_DIA_1_AZUL.pdf\n",
            "PROVAS E GABARITOS/ENEM_2023_P1_GAB_02_DIA_1_AMARELO.pdf\n",
            "PROVAS E GABARITOS/ENEM_2023_P1_GAB_03_DIA_1_BRANCO.pdf\n",
            "PROVAS E GABARITOS/ENEM_2023_P1_GAB_04_DIA_1_ROSA.pdf\n",
            "PROVAS E GABARITOS/ENEM_2023_P1_GAB_05_DIA_2_AMARELO.pdf\n",
            "PROVAS E GABARITOS/ENEM_2023_P1_GAB_06_DIA_2_CINZA.pdf\n",
            "PROVAS E GABARITOS/ENEM_2023_P1_GAB_07_DIA_2_AZUL.pdf\n",
            "PROVAS E GABARITOS/ENEM_2023_P1_GAB_08_DIA_2_ROSA.pdf\n",
            "PROVAS E GABARITOS/ENEM_2023_P1_GAB_09_DIA_1_LARANJA_BRAILE_LEDOR.pdf\n",
            "PROVAS E GABARITOS/ENEM_2023_P1_GAB_10_DIA_1_VERDE_LIBRAS.pdf\n",
            "PROVAS E GABARITOS/ENEM_2023_P1_GAB_11_DIA_2_LARANJA_BRAILE_LEDOR.pdf\n",
            "PROVAS E GABARITOS/ENEM_2023_P1_GAB_12_DIA_2_VERDE_LIBRAS.pdf\n",
            "PROVAS E GABARITOS/ENEM_2023_P2_CAD_05_DIA_2_AMARELO.pdf\n",
            "PROVAS E GABARITOS/ENEM_2023_P2_CAD_06_DIA_2_CINZA.pdf\n",
            "PROVAS E GABARITOS/ENEM_2023_P2_CAD_07_DIA_2_AZUL.pdf\n",
            "PROVAS E GABARITOS/ENEM_2023_P2_CAD_08_DIA_2_ROSA.pdf\n",
            "PROVAS E GABARITOS/ENEM_2023_P2_CAD_08_DIA_2_ROSA_AMPLIADA.pdf\n",
            "PROVAS E GABARITOS/ENEM_2023_P2_CAD_08_DIA_2_ROSA_SUPERAMPLIADA.pdf\n",
            "PROVAS E GABARITOS/ENEM_2023_P2_CAD_09_DIA_1_LARANJA_BRAILE_LEDOR.pdf\n",
            "PROVAS E GABARITOS/ENEM_2023_P2_CAD_11_DIA_2_LARANJA_BRAILE_LEDOR.pdf\n",
            "PROVAS E GABARITOS/ENEM_2023_P2_CAD_1_DIA_1_AZUL.pdf\n",
            "PROVAS E GABARITOS/ENEM_2023_P2_CAD_2_DIA_1_AMARELO.pdf\n",
            "PROVAS E GABARITOS/ENEM_2023_P2_CAD_3_DIA_1_BRANCO.pdf\n",
            "PROVAS E GABARITOS/ENEM_2023_P2_CAD_4_DIA_1_ROSA.pdf\n",
            "PROVAS E GABARITOS/ENEM_2023_P2_CAD_4_DIA_1_ROSA_AMPLIADA.pdf\n",
            "PROVAS E GABARITOS/ENEM_2023_P2_CAD_4_DIA_1_ROSA_SUPERAMPLIADA.pdf\n",
            "PROVAS E GABARITOS/ENEM_2023_P2_GAB_05_DIA_2_AMARELO.pdf\n",
            "PROVAS E GABARITOS/ENEM_2023_P2_GAB_06_DIA_2_CINZA.pdf\n",
            "PROVAS E GABARITOS/ENEM_2023_P2_GAB_07_DIA_2_AZUL.pdf\n",
            "PROVAS E GABARITOS/ENEM_2023_P2_GAB_08_DIA_2_ROSA.pdf\n",
            "PROVAS E GABARITOS/ENEM_2023_P2_GAB_08_DIA_2_ROSA_AMPLIADA.pdf\n",
            "PROVAS E GABARITOS/ENEM_2023_P2_GAB_08_DIA_2_ROSA_SUPERAMPLIADA.pdf\n",
            "PROVAS E GABARITOS/ENEM_2023_P2_GAB_09_DIA_1_LARANJA_BRAILE_LEDOR.pdf\n",
            "PROVAS E GABARITOS/ENEM_2023_P2_GAB_11_DIA_2_LARANJA_BRAILE_LEDOR.pdf\n",
            "PROVAS E GABARITOS/ENEM_2023_P2_GAB_1_DIA_1_AZUL.pdf\n",
            "PROVAS E GABARITOS/ENEM_2023_P2_GAB_2_DIA_1_AMARELO.pdf\n",
            "PROVAS E GABARITOS/ENEM_2023_P2_GAB_3_DIA_1_BRANCO.pdf\n",
            "PROVAS E GABARITOS/ENEM_2023_P2_GAB_4_DIA_1_ROSA.pdf\n",
            "PROVAS E GABARITOS/ENEM_2023_P2_GAB_4_DIA_1_ROSA_AMPLIADA.pdf\n",
            "PROVAS E GABARITOS/ENEM_2023_P2_GAB_4_DIA_1_ROSA_SUPERAMPLIADA.pdf\n",
            "DADOS/\n",
            "DADOS/ITENS_PROVA_2023.csv\n",
            "DADOS/MICRODADOS_ENEM_2023.csv\n",
            "DICION╡RIO/\n",
            "DICION╡RIO/Dicionário_Microdados_Enem_2023.ods\n",
            "DICION╡RIO/Dicionário_Microdados_Enem_2023.xlsx\n",
            "INPUTS/\n",
            "INPUTS/INPUT_R_ITENS_PROVA_2023.R\n",
            "INPUTS/INPUT_R_MICRODADOS_ENEM_2023.R\n",
            "INPUTS/INPUT_SAS_ITENS_PROVA_2023.sas\n",
            "INPUTS/INPUT_SAS_MICRODADOS_ENEM_2023.sas\n",
            "INPUTS/INPUT_SPSS_ITENS_PROVA_2023.sps\n",
            "INPUTS/INPUT_SPSS_MICRODADOS_ENEM_2023.sps\n",
            "LEIA-ME E DOCUMENTOS TÉCNICOS/\n",
            "LEIA-ME E DOCUMENTOS TÉCNICOS/Edital_Enem_2023_Impresso.pdf\n",
            "LEIA-ME E DOCUMENTOS TÉCNICOS/enem_procedimentos_de_analise.pdf\n",
            "LEIA-ME E DOCUMENTOS TÉCNICOS/entenda_a_sua_nota_no_enem_guia_do_participante (2).pdf\n",
            "LEIA-ME E DOCUMENTOS TÉCNICOS/Leia_Me_Enem_2023.pdf\n",
            "LEIA-ME E DOCUMENTOS TÉCNICOS/manual_de_redacao_do_enem_2023.pdf\n",
            "LEIA-ME E DOCUMENTOS TÉCNICOS/matriz_referencia_enem.pdf\n"
          ]
        }
      ]
    },
    {
      "cell_type": "code",
      "source": [
        "with zipfile.ZipFile('/content/drive/MyDrive/microdados_enem_2023.zip') as z:\n",
        "  with z.open('DADOS/MICRODADOS_ENEM_2023.csv') as f:\n",
        "    df = pd.read_csv(f, sep=';' , encoding='ISO-8859-1')"
      ],
      "metadata": {
        "id": "d3c78C-Iq24T"
      },
      "execution_count": null,
      "outputs": []
    },
    {
      "cell_type": "code",
      "source": [
        "df.columns.values"
      ],
      "metadata": {
        "colab": {
          "base_uri": "https://localhost:8080/"
        },
        "id": "KjzYKjnt_Um5",
        "outputId": "62e0e88f-c2da-428b-a8ab-d96b30825613"
      },
      "execution_count": null,
      "outputs": [
        {
          "output_type": "execute_result",
          "data": {
            "text/plain": [
              "array(['NU_INSCRICAO', 'NU_ANO', 'TP_FAIXA_ETARIA', 'TP_SEXO',\n",
              "       'TP_ESTADO_CIVIL', 'TP_COR_RACA', 'TP_NACIONALIDADE',\n",
              "       'TP_ST_CONCLUSAO', 'TP_ANO_CONCLUIU', 'TP_ESCOLA', 'TP_ENSINO',\n",
              "       'IN_TREINEIRO', 'CO_MUNICIPIO_ESC', 'NO_MUNICIPIO_ESC',\n",
              "       'CO_UF_ESC', 'SG_UF_ESC', 'TP_DEPENDENCIA_ADM_ESC',\n",
              "       'TP_LOCALIZACAO_ESC', 'TP_SIT_FUNC_ESC', 'CO_MUNICIPIO_PROVA',\n",
              "       'NO_MUNICIPIO_PROVA', 'CO_UF_PROVA', 'SG_UF_PROVA',\n",
              "       'TP_PRESENCA_CN', 'TP_PRESENCA_CH', 'TP_PRESENCA_LC',\n",
              "       'TP_PRESENCA_MT', 'CO_PROVA_CN', 'CO_PROVA_CH', 'CO_PROVA_LC',\n",
              "       'CO_PROVA_MT', 'NU_NOTA_CN', 'NU_NOTA_CH', 'NU_NOTA_LC',\n",
              "       'NU_NOTA_MT', 'TX_RESPOSTAS_CN', 'TX_RESPOSTAS_CH',\n",
              "       'TX_RESPOSTAS_LC', 'TX_RESPOSTAS_MT', 'TP_LINGUA',\n",
              "       'TX_GABARITO_CN', 'TX_GABARITO_CH', 'TX_GABARITO_LC',\n",
              "       'TX_GABARITO_MT', 'TP_STATUS_REDACAO', 'NU_NOTA_COMP1',\n",
              "       'NU_NOTA_COMP2', 'NU_NOTA_COMP3', 'NU_NOTA_COMP4', 'NU_NOTA_COMP5',\n",
              "       'NU_NOTA_REDACAO', 'Q001', 'Q002', 'Q003', 'Q004', 'Q005', 'Q006',\n",
              "       'Q007', 'Q008', 'Q009', 'Q010', 'Q011', 'Q012', 'Q013', 'Q014',\n",
              "       'Q015', 'Q016', 'Q017', 'Q018', 'Q019', 'Q020', 'Q021', 'Q022',\n",
              "       'Q023', 'Q024', 'Q025'], dtype=object)"
            ]
          },
          "metadata": {},
          "execution_count": 46
        }
      ]
    },
    {
      "cell_type": "code",
      "source": [
        "# Salvando na variável 'columns' apenas as colunas que serão utilizadas na análise.\n",
        "\n",
        "columns = ['NU_INSCRICAO', 'TP_FAIXA_ETARIA', 'TP_SEXO',\n",
        "        'TP_COR_RACA', 'TP_ST_CONCLUSAO', 'TP_ESCOLA',\n",
        "       'IN_TREINEIRO', 'NO_MUNICIPIO_PROVA', 'SG_UF_PROVA',\n",
        "       'TP_PRESENCA_CN', 'TP_PRESENCA_CH', 'TP_PRESENCA_LC',\n",
        "       'TP_PRESENCA_MT', 'NU_NOTA_CN', 'NU_NOTA_CH', 'NU_NOTA_LC',\n",
        "       'NU_NOTA_MT', 'TP_LINGUA','TP_STATUS_REDACAO',\n",
        "       'NU_NOTA_REDACAO', 'Q006']"
      ],
      "metadata": {
        "id": "qet_L7h9CNNZ"
      },
      "execution_count": null,
      "outputs": []
    },
    {
      "cell_type": "markdown",
      "source": [
        "Lendo o arquivo apenas com as colunas desejadas, usando 'usecols' e salvando no dataframe 'df_enem'"
      ],
      "metadata": {
        "id": "p9gx05hpGPzX"
      }
    },
    {
      "cell_type": "code",
      "source": [
        "with zipfile.ZipFile('/content/drive/MyDrive/microdados_enem_2023.zip') as z:\n",
        "  with z.open('DADOS/MICRODADOS_ENEM_2023.csv') as f:\n",
        "    df_enem = pd.read_csv(f, sep=';' , encoding='ISO-8859-1', usecols=columns)"
      ],
      "metadata": {
        "id": "Pc1h0EaRE932"
      },
      "execution_count": null,
      "outputs": []
    },
    {
      "cell_type": "markdown",
      "source": [
        "\n",
        "Visto que, para esta análise tomaremos como base apenas as regiões Norte e Sul do Brasil, faremos um filtro pelos estados de prova e salvaremos em um novo Dataframe."
      ],
      "metadata": {
        "id": "GqgV5MyKG3B6"
      }
    },
    {
      "cell_type": "code",
      "source": [
        "# salvando as siglas dos estados da regão norte e sul em variáveis para usarmos no filtro\n",
        "\n",
        "estados_norte = ['AC', 'AP', 'AM', 'PA', 'RO', 'RR', 'TO']\n",
        "estados_sul = ['PR', 'SC', 'RS']\n",
        "estados_norte_sul = estados_norte + estados_sul"
      ],
      "metadata": {
        "id": "wlWltlDSHF2d"
      },
      "execution_count": null,
      "outputs": []
    },
    {
      "cell_type": "code",
      "source": [
        "# gerando um novo dataframe apenas com os estados desejados\n",
        "\n",
        "df_norte_sul = df_enem[df_enem['SG_UF_PROVA'].isin(estados_norte_sul)]"
      ],
      "metadata": {
        "id": "Ywkg8AKdHrK8"
      },
      "execution_count": null,
      "outputs": []
    },
    {
      "cell_type": "code",
      "source": [
        "#Criaremos uma nova coluna chamada 'REGIAO' defininiremos inicialmente o valor como 'Norte'\n",
        "\n",
        "df_norte_sul['REGIAO'] = 'Norte'\n",
        "\n",
        "# Atualizando os valores da coluna 'REGIAO' para 'Sul' onde as siglas dos estados correspondem a região Sul\n",
        "\n",
        "df_norte_sul.loc[df_norte_sul['SG_UF_PROVA'].isin(estados_sul), 'REGIAO'] = 'Sul'"
      ],
      "metadata": {
        "id": "B8iFEgTAIfW2"
      },
      "execution_count": null,
      "outputs": []
    },
    {
      "cell_type": "code",
      "source": [
        "df_norte_sul"
      ],
      "metadata": {
        "colab": {
          "base_uri": "https://localhost:8080/",
          "height": 444
        },
        "id": "BPPwNOwqOL75",
        "outputId": "8c8e5e37-78ea-4087-9dcd-de5633797f51"
      },
      "execution_count": null,
      "outputs": [
        {
          "output_type": "execute_result",
          "data": {
            "text/plain": [
              "         NU_INSCRICAO  TP_FAIXA_ETARIA TP_SEXO  TP_COR_RACA  TP_ST_CONCLUSAO  \\\n",
              "2        210061103945                6       F            1                1   \n",
              "11       210060801595                3       M            3                2   \n",
              "16       210058061534                4       F            1                2   \n",
              "18       210058387328               11       M            1                1   \n",
              "24       210059388088                3       F            1                1   \n",
              "...               ...              ...     ...          ...              ...   \n",
              "3933947  210061965965                9       M            1                1   \n",
              "3933948  210061959674                3       M            1                2   \n",
              "3933949  210061959675                6       F            3                1   \n",
              "3933950  210061959676               12       M            1                1   \n",
              "3933952  210061965966                3       F            3                2   \n",
              "\n",
              "         TP_ESCOLA  IN_TREINEIRO NO_MUNICIPIO_PROVA SG_UF_PROVA  \\\n",
              "2                1             0      Caxias do Sul          RS   \n",
              "11               2             0            Ubiratã          PR   \n",
              "16               2             0              Belém          PA   \n",
              "18               1             0           Londrina          PR   \n",
              "24               1             0            Maringá          PR   \n",
              "...            ...           ...                ...         ...   \n",
              "3933947          1             0         Rio Grande          RS   \n",
              "3933948          2             0       São Leopoldo          RS   \n",
              "3933949          1             0          Igrejinha          RS   \n",
              "3933950          1             0       Cachoeirinha          RS   \n",
              "3933952          2             0      Florianópolis          SC   \n",
              "\n",
              "         TP_PRESENCA_CN  ...  TP_PRESENCA_MT  NU_NOTA_CN  NU_NOTA_CH  \\\n",
              "2                     1  ...               1       502.0       498.9   \n",
              "11                    1  ...               1       608.2       667.6   \n",
              "16                    1  ...               1       515.7       553.1   \n",
              "18                    1  ...               1       571.3       574.7   \n",
              "24                    1  ...               1       540.5       632.5   \n",
              "...                 ...  ...             ...         ...         ...   \n",
              "3933947               0  ...               0         NaN         NaN   \n",
              "3933948               1  ...               1       476.2       542.9   \n",
              "3933949               0  ...               0         NaN         NaN   \n",
              "3933950               1  ...               1       566.2       605.6   \n",
              "3933952               0  ...               0         NaN         NaN   \n",
              "\n",
              "         NU_NOTA_LC  NU_NOTA_MT  TP_LINGUA  TP_STATUS_REDACAO  \\\n",
              "2             475.6       363.2          1                1.0   \n",
              "11            607.9       691.9          0                1.0   \n",
              "16            544.4       437.0          0                1.0   \n",
              "18            613.3       719.7          0                1.0   \n",
              "24            542.8       575.3          0                1.0   \n",
              "...             ...         ...        ...                ...   \n",
              "3933947         NaN         NaN          0                NaN   \n",
              "3933948       545.2       530.5          0                1.0   \n",
              "3933949         NaN         NaN          0                NaN   \n",
              "3933950       613.7       547.3          0                1.0   \n",
              "3933952         NaN         NaN          1                NaN   \n",
              "\n",
              "         NU_NOTA_REDACAO  Q006  REGIAO  \n",
              "2                  700.0     C     Sul  \n",
              "11                 780.0     D     Sul  \n",
              "16                 880.0     B   Norte  \n",
              "18                 560.0     D     Sul  \n",
              "24                 880.0     E     Sul  \n",
              "...                  ...   ...     ...  \n",
              "3933947              NaN     D     Sul  \n",
              "3933948            600.0     F     Sul  \n",
              "3933949              NaN     F     Sul  \n",
              "3933950            540.0     F     Sul  \n",
              "3933952              NaN     B     Sul  \n",
              "\n",
              "[871142 rows x 22 columns]"
            ],
            "text/html": [
              "\n",
              "  <div id=\"df-bfe779f3-7700-4d65-80f7-c6e5143625a9\" class=\"colab-df-container\">\n",
              "    <div>\n",
              "<style scoped>\n",
              "    .dataframe tbody tr th:only-of-type {\n",
              "        vertical-align: middle;\n",
              "    }\n",
              "\n",
              "    .dataframe tbody tr th {\n",
              "        vertical-align: top;\n",
              "    }\n",
              "\n",
              "    .dataframe thead th {\n",
              "        text-align: right;\n",
              "    }\n",
              "</style>\n",
              "<table border=\"1\" class=\"dataframe\">\n",
              "  <thead>\n",
              "    <tr style=\"text-align: right;\">\n",
              "      <th></th>\n",
              "      <th>NU_INSCRICAO</th>\n",
              "      <th>TP_FAIXA_ETARIA</th>\n",
              "      <th>TP_SEXO</th>\n",
              "      <th>TP_COR_RACA</th>\n",
              "      <th>TP_ST_CONCLUSAO</th>\n",
              "      <th>TP_ESCOLA</th>\n",
              "      <th>IN_TREINEIRO</th>\n",
              "      <th>NO_MUNICIPIO_PROVA</th>\n",
              "      <th>SG_UF_PROVA</th>\n",
              "      <th>TP_PRESENCA_CN</th>\n",
              "      <th>...</th>\n",
              "      <th>TP_PRESENCA_MT</th>\n",
              "      <th>NU_NOTA_CN</th>\n",
              "      <th>NU_NOTA_CH</th>\n",
              "      <th>NU_NOTA_LC</th>\n",
              "      <th>NU_NOTA_MT</th>\n",
              "      <th>TP_LINGUA</th>\n",
              "      <th>TP_STATUS_REDACAO</th>\n",
              "      <th>NU_NOTA_REDACAO</th>\n",
              "      <th>Q006</th>\n",
              "      <th>REGIAO</th>\n",
              "    </tr>\n",
              "  </thead>\n",
              "  <tbody>\n",
              "    <tr>\n",
              "      <th>2</th>\n",
              "      <td>210061103945</td>\n",
              "      <td>6</td>\n",
              "      <td>F</td>\n",
              "      <td>1</td>\n",
              "      <td>1</td>\n",
              "      <td>1</td>\n",
              "      <td>0</td>\n",
              "      <td>Caxias do Sul</td>\n",
              "      <td>RS</td>\n",
              "      <td>1</td>\n",
              "      <td>...</td>\n",
              "      <td>1</td>\n",
              "      <td>502.0</td>\n",
              "      <td>498.9</td>\n",
              "      <td>475.6</td>\n",
              "      <td>363.2</td>\n",
              "      <td>1</td>\n",
              "      <td>1.0</td>\n",
              "      <td>700.0</td>\n",
              "      <td>C</td>\n",
              "      <td>Sul</td>\n",
              "    </tr>\n",
              "    <tr>\n",
              "      <th>11</th>\n",
              "      <td>210060801595</td>\n",
              "      <td>3</td>\n",
              "      <td>M</td>\n",
              "      <td>3</td>\n",
              "      <td>2</td>\n",
              "      <td>2</td>\n",
              "      <td>0</td>\n",
              "      <td>Ubiratã</td>\n",
              "      <td>PR</td>\n",
              "      <td>1</td>\n",
              "      <td>...</td>\n",
              "      <td>1</td>\n",
              "      <td>608.2</td>\n",
              "      <td>667.6</td>\n",
              "      <td>607.9</td>\n",
              "      <td>691.9</td>\n",
              "      <td>0</td>\n",
              "      <td>1.0</td>\n",
              "      <td>780.0</td>\n",
              "      <td>D</td>\n",
              "      <td>Sul</td>\n",
              "    </tr>\n",
              "    <tr>\n",
              "      <th>16</th>\n",
              "      <td>210058061534</td>\n",
              "      <td>4</td>\n",
              "      <td>F</td>\n",
              "      <td>1</td>\n",
              "      <td>2</td>\n",
              "      <td>2</td>\n",
              "      <td>0</td>\n",
              "      <td>Belém</td>\n",
              "      <td>PA</td>\n",
              "      <td>1</td>\n",
              "      <td>...</td>\n",
              "      <td>1</td>\n",
              "      <td>515.7</td>\n",
              "      <td>553.1</td>\n",
              "      <td>544.4</td>\n",
              "      <td>437.0</td>\n",
              "      <td>0</td>\n",
              "      <td>1.0</td>\n",
              "      <td>880.0</td>\n",
              "      <td>B</td>\n",
              "      <td>Norte</td>\n",
              "    </tr>\n",
              "    <tr>\n",
              "      <th>18</th>\n",
              "      <td>210058387328</td>\n",
              "      <td>11</td>\n",
              "      <td>M</td>\n",
              "      <td>1</td>\n",
              "      <td>1</td>\n",
              "      <td>1</td>\n",
              "      <td>0</td>\n",
              "      <td>Londrina</td>\n",
              "      <td>PR</td>\n",
              "      <td>1</td>\n",
              "      <td>...</td>\n",
              "      <td>1</td>\n",
              "      <td>571.3</td>\n",
              "      <td>574.7</td>\n",
              "      <td>613.3</td>\n",
              "      <td>719.7</td>\n",
              "      <td>0</td>\n",
              "      <td>1.0</td>\n",
              "      <td>560.0</td>\n",
              "      <td>D</td>\n",
              "      <td>Sul</td>\n",
              "    </tr>\n",
              "    <tr>\n",
              "      <th>24</th>\n",
              "      <td>210059388088</td>\n",
              "      <td>3</td>\n",
              "      <td>F</td>\n",
              "      <td>1</td>\n",
              "      <td>1</td>\n",
              "      <td>1</td>\n",
              "      <td>0</td>\n",
              "      <td>Maringá</td>\n",
              "      <td>PR</td>\n",
              "      <td>1</td>\n",
              "      <td>...</td>\n",
              "      <td>1</td>\n",
              "      <td>540.5</td>\n",
              "      <td>632.5</td>\n",
              "      <td>542.8</td>\n",
              "      <td>575.3</td>\n",
              "      <td>0</td>\n",
              "      <td>1.0</td>\n",
              "      <td>880.0</td>\n",
              "      <td>E</td>\n",
              "      <td>Sul</td>\n",
              "    </tr>\n",
              "    <tr>\n",
              "      <th>...</th>\n",
              "      <td>...</td>\n",
              "      <td>...</td>\n",
              "      <td>...</td>\n",
              "      <td>...</td>\n",
              "      <td>...</td>\n",
              "      <td>...</td>\n",
              "      <td>...</td>\n",
              "      <td>...</td>\n",
              "      <td>...</td>\n",
              "      <td>...</td>\n",
              "      <td>...</td>\n",
              "      <td>...</td>\n",
              "      <td>...</td>\n",
              "      <td>...</td>\n",
              "      <td>...</td>\n",
              "      <td>...</td>\n",
              "      <td>...</td>\n",
              "      <td>...</td>\n",
              "      <td>...</td>\n",
              "      <td>...</td>\n",
              "      <td>...</td>\n",
              "    </tr>\n",
              "    <tr>\n",
              "      <th>3933947</th>\n",
              "      <td>210061965965</td>\n",
              "      <td>9</td>\n",
              "      <td>M</td>\n",
              "      <td>1</td>\n",
              "      <td>1</td>\n",
              "      <td>1</td>\n",
              "      <td>0</td>\n",
              "      <td>Rio Grande</td>\n",
              "      <td>RS</td>\n",
              "      <td>0</td>\n",
              "      <td>...</td>\n",
              "      <td>0</td>\n",
              "      <td>NaN</td>\n",
              "      <td>NaN</td>\n",
              "      <td>NaN</td>\n",
              "      <td>NaN</td>\n",
              "      <td>0</td>\n",
              "      <td>NaN</td>\n",
              "      <td>NaN</td>\n",
              "      <td>D</td>\n",
              "      <td>Sul</td>\n",
              "    </tr>\n",
              "    <tr>\n",
              "      <th>3933948</th>\n",
              "      <td>210061959674</td>\n",
              "      <td>3</td>\n",
              "      <td>M</td>\n",
              "      <td>1</td>\n",
              "      <td>2</td>\n",
              "      <td>2</td>\n",
              "      <td>0</td>\n",
              "      <td>São Leopoldo</td>\n",
              "      <td>RS</td>\n",
              "      <td>1</td>\n",
              "      <td>...</td>\n",
              "      <td>1</td>\n",
              "      <td>476.2</td>\n",
              "      <td>542.9</td>\n",
              "      <td>545.2</td>\n",
              "      <td>530.5</td>\n",
              "      <td>0</td>\n",
              "      <td>1.0</td>\n",
              "      <td>600.0</td>\n",
              "      <td>F</td>\n",
              "      <td>Sul</td>\n",
              "    </tr>\n",
              "    <tr>\n",
              "      <th>3933949</th>\n",
              "      <td>210061959675</td>\n",
              "      <td>6</td>\n",
              "      <td>F</td>\n",
              "      <td>3</td>\n",
              "      <td>1</td>\n",
              "      <td>1</td>\n",
              "      <td>0</td>\n",
              "      <td>Igrejinha</td>\n",
              "      <td>RS</td>\n",
              "      <td>0</td>\n",
              "      <td>...</td>\n",
              "      <td>0</td>\n",
              "      <td>NaN</td>\n",
              "      <td>NaN</td>\n",
              "      <td>NaN</td>\n",
              "      <td>NaN</td>\n",
              "      <td>0</td>\n",
              "      <td>NaN</td>\n",
              "      <td>NaN</td>\n",
              "      <td>F</td>\n",
              "      <td>Sul</td>\n",
              "    </tr>\n",
              "    <tr>\n",
              "      <th>3933950</th>\n",
              "      <td>210061959676</td>\n",
              "      <td>12</td>\n",
              "      <td>M</td>\n",
              "      <td>1</td>\n",
              "      <td>1</td>\n",
              "      <td>1</td>\n",
              "      <td>0</td>\n",
              "      <td>Cachoeirinha</td>\n",
              "      <td>RS</td>\n",
              "      <td>1</td>\n",
              "      <td>...</td>\n",
              "      <td>1</td>\n",
              "      <td>566.2</td>\n",
              "      <td>605.6</td>\n",
              "      <td>613.7</td>\n",
              "      <td>547.3</td>\n",
              "      <td>0</td>\n",
              "      <td>1.0</td>\n",
              "      <td>540.0</td>\n",
              "      <td>F</td>\n",
              "      <td>Sul</td>\n",
              "    </tr>\n",
              "    <tr>\n",
              "      <th>3933952</th>\n",
              "      <td>210061965966</td>\n",
              "      <td>3</td>\n",
              "      <td>F</td>\n",
              "      <td>3</td>\n",
              "      <td>2</td>\n",
              "      <td>2</td>\n",
              "      <td>0</td>\n",
              "      <td>Florianópolis</td>\n",
              "      <td>SC</td>\n",
              "      <td>0</td>\n",
              "      <td>...</td>\n",
              "      <td>0</td>\n",
              "      <td>NaN</td>\n",
              "      <td>NaN</td>\n",
              "      <td>NaN</td>\n",
              "      <td>NaN</td>\n",
              "      <td>1</td>\n",
              "      <td>NaN</td>\n",
              "      <td>NaN</td>\n",
              "      <td>B</td>\n",
              "      <td>Sul</td>\n",
              "    </tr>\n",
              "  </tbody>\n",
              "</table>\n",
              "<p>871142 rows × 22 columns</p>\n",
              "</div>\n",
              "    <div class=\"colab-df-buttons\">\n",
              "\n",
              "  <div class=\"colab-df-container\">\n",
              "    <button class=\"colab-df-convert\" onclick=\"convertToInteractive('df-bfe779f3-7700-4d65-80f7-c6e5143625a9')\"\n",
              "            title=\"Convert this dataframe to an interactive table.\"\n",
              "            style=\"display:none;\">\n",
              "\n",
              "  <svg xmlns=\"http://www.w3.org/2000/svg\" height=\"24px\" viewBox=\"0 -960 960 960\">\n",
              "    <path d=\"M120-120v-720h720v720H120Zm60-500h600v-160H180v160Zm220 220h160v-160H400v160Zm0 220h160v-160H400v160ZM180-400h160v-160H180v160Zm440 0h160v-160H620v160ZM180-180h160v-160H180v160Zm440 0h160v-160H620v160Z\"/>\n",
              "  </svg>\n",
              "    </button>\n",
              "\n",
              "  <style>\n",
              "    .colab-df-container {\n",
              "      display:flex;\n",
              "      gap: 12px;\n",
              "    }\n",
              "\n",
              "    .colab-df-convert {\n",
              "      background-color: #E8F0FE;\n",
              "      border: none;\n",
              "      border-radius: 50%;\n",
              "      cursor: pointer;\n",
              "      display: none;\n",
              "      fill: #1967D2;\n",
              "      height: 32px;\n",
              "      padding: 0 0 0 0;\n",
              "      width: 32px;\n",
              "    }\n",
              "\n",
              "    .colab-df-convert:hover {\n",
              "      background-color: #E2EBFA;\n",
              "      box-shadow: 0px 1px 2px rgba(60, 64, 67, 0.3), 0px 1px 3px 1px rgba(60, 64, 67, 0.15);\n",
              "      fill: #174EA6;\n",
              "    }\n",
              "\n",
              "    .colab-df-buttons div {\n",
              "      margin-bottom: 4px;\n",
              "    }\n",
              "\n",
              "    [theme=dark] .colab-df-convert {\n",
              "      background-color: #3B4455;\n",
              "      fill: #D2E3FC;\n",
              "    }\n",
              "\n",
              "    [theme=dark] .colab-df-convert:hover {\n",
              "      background-color: #434B5C;\n",
              "      box-shadow: 0px 1px 3px 1px rgba(0, 0, 0, 0.15);\n",
              "      filter: drop-shadow(0px 1px 2px rgba(0, 0, 0, 0.3));\n",
              "      fill: #FFFFFF;\n",
              "    }\n",
              "  </style>\n",
              "\n",
              "    <script>\n",
              "      const buttonEl =\n",
              "        document.querySelector('#df-bfe779f3-7700-4d65-80f7-c6e5143625a9 button.colab-df-convert');\n",
              "      buttonEl.style.display =\n",
              "        google.colab.kernel.accessAllowed ? 'block' : 'none';\n",
              "\n",
              "      async function convertToInteractive(key) {\n",
              "        const element = document.querySelector('#df-bfe779f3-7700-4d65-80f7-c6e5143625a9');\n",
              "        const dataTable =\n",
              "          await google.colab.kernel.invokeFunction('convertToInteractive',\n",
              "                                                    [key], {});\n",
              "        if (!dataTable) return;\n",
              "\n",
              "        const docLinkHtml = 'Like what you see? Visit the ' +\n",
              "          '<a target=\"_blank\" href=https://colab.research.google.com/notebooks/data_table.ipynb>data table notebook</a>'\n",
              "          + ' to learn more about interactive tables.';\n",
              "        element.innerHTML = '';\n",
              "        dataTable['output_type'] = 'display_data';\n",
              "        await google.colab.output.renderOutput(dataTable, element);\n",
              "        const docLink = document.createElement('div');\n",
              "        docLink.innerHTML = docLinkHtml;\n",
              "        element.appendChild(docLink);\n",
              "      }\n",
              "    </script>\n",
              "  </div>\n",
              "\n",
              "\n",
              "<div id=\"df-36a1ba5e-faed-49a4-90dd-430f723b5543\">\n",
              "  <button class=\"colab-df-quickchart\" onclick=\"quickchart('df-36a1ba5e-faed-49a4-90dd-430f723b5543')\"\n",
              "            title=\"Suggest charts\"\n",
              "            style=\"display:none;\">\n",
              "\n",
              "<svg xmlns=\"http://www.w3.org/2000/svg\" height=\"24px\"viewBox=\"0 0 24 24\"\n",
              "     width=\"24px\">\n",
              "    <g>\n",
              "        <path d=\"M19 3H5c-1.1 0-2 .9-2 2v14c0 1.1.9 2 2 2h14c1.1 0 2-.9 2-2V5c0-1.1-.9-2-2-2zM9 17H7v-7h2v7zm4 0h-2V7h2v10zm4 0h-2v-4h2v4z\"/>\n",
              "    </g>\n",
              "</svg>\n",
              "  </button>\n",
              "\n",
              "<style>\n",
              "  .colab-df-quickchart {\n",
              "      --bg-color: #E8F0FE;\n",
              "      --fill-color: #1967D2;\n",
              "      --hover-bg-color: #E2EBFA;\n",
              "      --hover-fill-color: #174EA6;\n",
              "      --disabled-fill-color: #AAA;\n",
              "      --disabled-bg-color: #DDD;\n",
              "  }\n",
              "\n",
              "  [theme=dark] .colab-df-quickchart {\n",
              "      --bg-color: #3B4455;\n",
              "      --fill-color: #D2E3FC;\n",
              "      --hover-bg-color: #434B5C;\n",
              "      --hover-fill-color: #FFFFFF;\n",
              "      --disabled-bg-color: #3B4455;\n",
              "      --disabled-fill-color: #666;\n",
              "  }\n",
              "\n",
              "  .colab-df-quickchart {\n",
              "    background-color: var(--bg-color);\n",
              "    border: none;\n",
              "    border-radius: 50%;\n",
              "    cursor: pointer;\n",
              "    display: none;\n",
              "    fill: var(--fill-color);\n",
              "    height: 32px;\n",
              "    padding: 0;\n",
              "    width: 32px;\n",
              "  }\n",
              "\n",
              "  .colab-df-quickchart:hover {\n",
              "    background-color: var(--hover-bg-color);\n",
              "    box-shadow: 0 1px 2px rgba(60, 64, 67, 0.3), 0 1px 3px 1px rgba(60, 64, 67, 0.15);\n",
              "    fill: var(--button-hover-fill-color);\n",
              "  }\n",
              "\n",
              "  .colab-df-quickchart-complete:disabled,\n",
              "  .colab-df-quickchart-complete:disabled:hover {\n",
              "    background-color: var(--disabled-bg-color);\n",
              "    fill: var(--disabled-fill-color);\n",
              "    box-shadow: none;\n",
              "  }\n",
              "\n",
              "  .colab-df-spinner {\n",
              "    border: 2px solid var(--fill-color);\n",
              "    border-color: transparent;\n",
              "    border-bottom-color: var(--fill-color);\n",
              "    animation:\n",
              "      spin 1s steps(1) infinite;\n",
              "  }\n",
              "\n",
              "  @keyframes spin {\n",
              "    0% {\n",
              "      border-color: transparent;\n",
              "      border-bottom-color: var(--fill-color);\n",
              "      border-left-color: var(--fill-color);\n",
              "    }\n",
              "    20% {\n",
              "      border-color: transparent;\n",
              "      border-left-color: var(--fill-color);\n",
              "      border-top-color: var(--fill-color);\n",
              "    }\n",
              "    30% {\n",
              "      border-color: transparent;\n",
              "      border-left-color: var(--fill-color);\n",
              "      border-top-color: var(--fill-color);\n",
              "      border-right-color: var(--fill-color);\n",
              "    }\n",
              "    40% {\n",
              "      border-color: transparent;\n",
              "      border-right-color: var(--fill-color);\n",
              "      border-top-color: var(--fill-color);\n",
              "    }\n",
              "    60% {\n",
              "      border-color: transparent;\n",
              "      border-right-color: var(--fill-color);\n",
              "    }\n",
              "    80% {\n",
              "      border-color: transparent;\n",
              "      border-right-color: var(--fill-color);\n",
              "      border-bottom-color: var(--fill-color);\n",
              "    }\n",
              "    90% {\n",
              "      border-color: transparent;\n",
              "      border-bottom-color: var(--fill-color);\n",
              "    }\n",
              "  }\n",
              "</style>\n",
              "\n",
              "  <script>\n",
              "    async function quickchart(key) {\n",
              "      const quickchartButtonEl =\n",
              "        document.querySelector('#' + key + ' button');\n",
              "      quickchartButtonEl.disabled = true;  // To prevent multiple clicks.\n",
              "      quickchartButtonEl.classList.add('colab-df-spinner');\n",
              "      try {\n",
              "        const charts = await google.colab.kernel.invokeFunction(\n",
              "            'suggestCharts', [key], {});\n",
              "      } catch (error) {\n",
              "        console.error('Error during call to suggestCharts:', error);\n",
              "      }\n",
              "      quickchartButtonEl.classList.remove('colab-df-spinner');\n",
              "      quickchartButtonEl.classList.add('colab-df-quickchart-complete');\n",
              "    }\n",
              "    (() => {\n",
              "      let quickchartButtonEl =\n",
              "        document.querySelector('#df-36a1ba5e-faed-49a4-90dd-430f723b5543 button');\n",
              "      quickchartButtonEl.style.display =\n",
              "        google.colab.kernel.accessAllowed ? 'block' : 'none';\n",
              "    })();\n",
              "  </script>\n",
              "</div>\n",
              "\n",
              "  <div id=\"id_ca61ec24-522a-43a1-a38c-fc26ebf53608\">\n",
              "    <style>\n",
              "      .colab-df-generate {\n",
              "        background-color: #E8F0FE;\n",
              "        border: none;\n",
              "        border-radius: 50%;\n",
              "        cursor: pointer;\n",
              "        display: none;\n",
              "        fill: #1967D2;\n",
              "        height: 32px;\n",
              "        padding: 0 0 0 0;\n",
              "        width: 32px;\n",
              "      }\n",
              "\n",
              "      .colab-df-generate:hover {\n",
              "        background-color: #E2EBFA;\n",
              "        box-shadow: 0px 1px 2px rgba(60, 64, 67, 0.3), 0px 1px 3px 1px rgba(60, 64, 67, 0.15);\n",
              "        fill: #174EA6;\n",
              "      }\n",
              "\n",
              "      [theme=dark] .colab-df-generate {\n",
              "        background-color: #3B4455;\n",
              "        fill: #D2E3FC;\n",
              "      }\n",
              "\n",
              "      [theme=dark] .colab-df-generate:hover {\n",
              "        background-color: #434B5C;\n",
              "        box-shadow: 0px 1px 3px 1px rgba(0, 0, 0, 0.15);\n",
              "        filter: drop-shadow(0px 1px 2px rgba(0, 0, 0, 0.3));\n",
              "        fill: #FFFFFF;\n",
              "      }\n",
              "    </style>\n",
              "    <button class=\"colab-df-generate\" onclick=\"generateWithVariable('df_norte_sul')\"\n",
              "            title=\"Generate code using this dataframe.\"\n",
              "            style=\"display:none;\">\n",
              "\n",
              "  <svg xmlns=\"http://www.w3.org/2000/svg\" height=\"24px\"viewBox=\"0 0 24 24\"\n",
              "       width=\"24px\">\n",
              "    <path d=\"M7,19H8.4L18.45,9,17,7.55,7,17.6ZM5,21V16.75L18.45,3.32a2,2,0,0,1,2.83,0l1.4,1.43a1.91,1.91,0,0,1,.58,1.4,1.91,1.91,0,0,1-.58,1.4L9.25,21ZM18.45,9,17,7.55Zm-12,3A5.31,5.31,0,0,0,4.9,8.1,5.31,5.31,0,0,0,1,6.5,5.31,5.31,0,0,0,4.9,4.9,5.31,5.31,0,0,0,6.5,1,5.31,5.31,0,0,0,8.1,4.9,5.31,5.31,0,0,0,12,6.5,5.46,5.46,0,0,0,6.5,12Z\"/>\n",
              "  </svg>\n",
              "    </button>\n",
              "    <script>\n",
              "      (() => {\n",
              "      const buttonEl =\n",
              "        document.querySelector('#id_ca61ec24-522a-43a1-a38c-fc26ebf53608 button.colab-df-generate');\n",
              "      buttonEl.style.display =\n",
              "        google.colab.kernel.accessAllowed ? 'block' : 'none';\n",
              "\n",
              "      buttonEl.onclick = () => {\n",
              "        google.colab.notebook.generateWithVariable('df_norte_sul');\n",
              "      }\n",
              "      })();\n",
              "    </script>\n",
              "  </div>\n",
              "\n",
              "    </div>\n",
              "  </div>\n"
            ],
            "application/vnd.google.colaboratory.intrinsic+json": {
              "type": "dataframe",
              "variable_name": "df_norte_sul"
            }
          },
          "metadata": {},
          "execution_count": 58
        }
      ]
    },
    {
      "cell_type": "code",
      "source": [
        "# Separando apenas os inscritos do sexo feminino das regiões Norte e Nordeste\n",
        "\n",
        "df_feminino_norte_sul = df_norte_sul[df_norte_sul['TP_SEXO'] == 'F']"
      ],
      "metadata": {
        "id": "zGMVHxCLI4wU"
      },
      "execution_count": null,
      "outputs": []
    },
    {
      "cell_type": "code",
      "source": [
        "#Exportando a base que será usada nas próximas análises\n",
        "\n",
        "df_feminino_norte_sul.to_csv('enem_feminino_norte_sul_2023.csv', index=False)"
      ],
      "metadata": {
        "id": "LOE4kvadKCcv"
      },
      "execution_count": null,
      "outputs": []
    },
    {
      "cell_type": "markdown",
      "source": [
        "## Importação, limpeza e tratamento dos dados"
      ],
      "metadata": {
        "id": "JAfqgprELbt-"
      }
    },
    {
      "cell_type": "markdown",
      "source": [
        "Para facilitar, importaremos a base filtrada por sexo e região."
      ],
      "metadata": {
        "id": "HRiXdpypLnR2"
      }
    },
    {
      "cell_type": "code",
      "source": [
        "enem_feminino_norte_sul = pd.read_csv('enem_feminino_norte_sul_2023.csv' , sep=',' , encoding='latin-1', on_bad_lines='warn')\n"
      ],
      "metadata": {
        "id": "7146LSx9LmnB"
      },
      "execution_count": null,
      "outputs": []
    },
    {
      "cell_type": "code",
      "source": [
        "enem_feminino_norte_sul.columns"
      ],
      "metadata": {
        "colab": {
          "base_uri": "https://localhost:8080/"
        },
        "id": "XA8clXqWOeV_",
        "outputId": "26e929bf-42e0-4ab9-af05-c24ff20e4252"
      },
      "execution_count": null,
      "outputs": [
        {
          "output_type": "execute_result",
          "data": {
            "text/plain": [
              "Index(['NU_INSCRICAO', 'TP_FAIXA_ETARIA', 'TP_SEXO', 'TP_COR_RACA',\n",
              "       'TP_ST_CONCLUSAO', 'TP_ESCOLA', 'IN_TREINEIRO', 'NO_MUNICIPIO_PROVA',\n",
              "       'SG_UF_PROVA', 'TP_PRESENCA_CN', 'TP_PRESENCA_CH', 'TP_PRESENCA_LC',\n",
              "       'TP_PRESENCA_MT', 'NU_NOTA_CN', 'NU_NOTA_CH', 'NU_NOTA_LC',\n",
              "       'NU_NOTA_MT', 'TP_LINGUA', 'TP_STATUS_REDACAO', 'NU_NOTA_REDACAO',\n",
              "       'Q006', 'REGIAO'],\n",
              "      dtype='object')"
            ]
          },
          "metadata": {},
          "execution_count": 169
        }
      ]
    },
    {
      "cell_type": "code",
      "source": [
        "# RENOMEANDO ALGUMAS COLUNAS\n",
        "enem_feminino_norte_sul = enem_feminino_norte_sul.rename(columns={\n",
        "'IN_TREINEIRO': 'INSCRITOS_TREINEIRO' ,\n",
        "'NO_MUNICIPIO_PROVA': 'MUNICIPIO_PROVA' ,\n",
        "'TP_PRESENCA_CN': 'TP_PRESENCA_CIENCIAS_NATUREZA' ,\n",
        "'TP_PRESENCA_CH': 'TP_PRESENCA_CIENCIAS_HUMANAS' ,\n",
        "'TP_PRESENCA_LC': 'TP_PRESENCA_LIGUAGENS_CODIGOS' ,\n",
        "'TP_PRESENCA_MT': 'TP_PRESENCA_MATEMATICA' ,\n",
        "'NU_NOTA_CN': 'NOTA__CIENCIAS_NATUREZA' ,\n",
        "'NU_NOTA_CH': 'NOTA_CIENCIAS_HUMANAS' ,\n",
        "'NU_NOTA_LC': 'NOTA__LIGUAGENS_CODIGOS' ,\n",
        "'NU_NOTA_MT': 'NOTA_MATEMATICA' ,\n",
        "'TP_LINGUA': 'TP_LINGUA_ESTRANGEIRA',\n",
        "'NU_NOTA_REDACAO': 'NOTA_REDACAO' ,\n",
        "'Q006': 'RENDA_FAMILIAR' })"
      ],
      "metadata": {
        "id": "_sxdE_JwOLsw"
      },
      "execution_count": null,
      "outputs": []
    },
    {
      "cell_type": "markdown",
      "source": [
        "Nesta fase iremos substituir alguns valores da base, de acordo com o Dicionário de Dados disponiblizado também pelo Inep.\n",
        "O objetivo dessa substituição é deixar a visualização e contagem dos dados mais clara.\n",
        "\n",
        "Segue abaixo um exemplo de legenda contida no dicionário:\n",
        "![image.png](data:image/png;base64,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)"
      ],
      "metadata": {
        "id": "tiClPcUlXzPe"
      }
    },
    {
      "cell_type": "code",
      "source": [
        "enem_feminino_norte_sul['TP_ESCOLA'] = enem_feminino_norte_sul['TP_ESCOLA'].replace({\n",
        "    1: 'nao respondeu',\n",
        "    2: 'publica',\n",
        "    3: 'privada' })"
      ],
      "metadata": {
        "id": "aGcDdTfcWzBZ"
      },
      "execution_count": null,
      "outputs": []
    },
    {
      "cell_type": "code",
      "source": [
        "enem_feminino_norte_sul['INSCRITOS_TREINEIRO'] = enem_feminino_norte_sul['INSCRITOS_TREINEIRO'].replace({\n",
        "0: 'Nao',\n",
        "1: 'Sim' })"
      ],
      "metadata": {
        "id": "BRmn37Y6fXWo"
      },
      "execution_count": null,
      "outputs": []
    },
    {
      "cell_type": "code",
      "source": [
        "enem_feminino_norte_sul['TP_FAIXA_ETARIA'] = enem_feminino_norte_sul['TP_FAIXA_ETARIA'].replace({\n",
        "  1: 'menor de 17',\n",
        "  2: 17,\n",
        "  3: 18,\n",
        "  4: 19,\n",
        "  5: 20,\n",
        "  6: 21,\n",
        "  7: 22,\n",
        "  8: 23,\n",
        "  9: 24,\n",
        "  10: 25,\n",
        "  11: '26-30',\n",
        "  12: '31-35',\n",
        "  13: '36-40',\n",
        "  14: '41-45',\n",
        "  15: '46-50',\n",
        "  16: '51-55',\n",
        "  17: '56-60',\n",
        "  18: '61-65',\n",
        "  19: '66-70',\n",
        "  20: 'maior de 70' })"
      ],
      "metadata": {
        "id": "2mykrqTNXdzr"
      },
      "execution_count": null,
      "outputs": []
    },
    {
      "cell_type": "code",
      "source": [
        "enem_feminino_norte_sul['TP_COR_RACA'] = enem_feminino_norte_sul['TP_COR_RACA'].replace({\n",
        "  0: 'Não declarado',\n",
        "  1: 'Branca',\n",
        "  2: 'Preta',\n",
        "  3: 'Parda',\n",
        "  4: 'Amarela',\n",
        "  5: 'Indígena',\n",
        "  6: 'Não dispõe da informação' })"
      ],
      "metadata": {
        "id": "PKQNb5LnYddn"
      },
      "execution_count": null,
      "outputs": []
    },
    {
      "cell_type": "code",
      "source": [
        "enem_feminino_norte_sul['TP_ST_CONCLUSAO'] = enem_feminino_norte_sul['TP_ST_CONCLUSAO'].replace({\n",
        "1: 'Concluido' ,\n",
        "2: 'A concluir em 2023',\n",
        "3: 'A concluir após 2023' ,\n",
        "4: 'Não cursando' })"
      ],
      "metadata": {
        "id": "KYiWb3OmZVJk"
      },
      "execution_count": null,
      "outputs": []
    },
    {
      "cell_type": "code",
      "source": [
        "colunas_para_alterar = ['TP_PRESENCA_CIENCIAS_NATUREZA' ,'TP_PRESENCA_CIENCIAS_HUMANAS', 'TP_PRESENCA_LIGUAGENS_CODIGOS', 'TP_PRESENCA_MATEMATICA']"
      ],
      "metadata": {
        "id": "2oxrIAfRZxvf"
      },
      "execution_count": null,
      "outputs": []
    },
    {
      "cell_type": "code",
      "source": [
        "enem_feminino_norte_sul[colunas_para_alterar] = enem_feminino_norte_sul[colunas_para_alterar].replace({\n",
        "  0: 'Faltou' ,\n",
        "  1: 'Presente' ,\n",
        "  2: 'Eliminado' })"
      ],
      "metadata": {
        "id": "wjQ1eJ_0b8Nq"
      },
      "execution_count": null,
      "outputs": []
    },
    {
      "cell_type": "code",
      "source": [
        "enem_feminino_norte_sul['TP_LINGUA_ESTRANGEIRA'] = enem_feminino_norte_sul['TP_LINGUA_ESTRANGEIRA'].replace({\n",
        "0: 'Ingles',\n",
        "1: 'Espanhol' })"
      ],
      "metadata": {
        "id": "HhFRZyV0gKY9"
      },
      "execution_count": null,
      "outputs": []
    },
    {
      "cell_type": "code",
      "source": [
        "enem_feminino_norte_sul['TP_STATUS_REDACAO'] = enem_feminino_norte_sul['TP_STATUS_REDACAO'].replace({\n",
        "1: 'Sem problemas',\n",
        "2: 'Anulada' ,\n",
        "3: 'Cópia Texto Motivador' ,\n",
        "4: 'Em Branco',\n",
        "6: 'Fuga ao tema',\n",
        "7: 'Não atendimento ao tipo textual',\n",
        "8: 'Texto insuficiente',\n",
        "9: 'Parte desconectada' })"
      ],
      "metadata": {
        "id": "QOmRZiBIgQNy"
      },
      "execution_count": null,
      "outputs": []
    },
    {
      "cell_type": "code",
      "source": [
        "enem_feminino_norte_sul['RENDA_FAMILIAR'] = enem_feminino_norte_sul['RENDA_FAMILIAR'].replace({\n",
        "'A': 'Nenhuma Renda',\n",
        "'B': 'Até 1.320,00',\n",
        "'C': '1.320,01 - 1.980,00',\n",
        "'D': '1.980,01 - 2.640,00',\n",
        "'E': '2.640,01 - 3.300,00',\n",
        "'F': '3.300,01 - 3.960,00',\n",
        "'G': '3.960,01 - 5.280,00',\n",
        "'H': '5.280,01 - 6.600,00',\n",
        "'I': '6.600,01 - 7.920,00',\n",
        "'J': '7.920,01 - 9.240,00',\n",
        "'K': '9.240,01 - 10.560,00',\n",
        "'L': '10.560,01 - 11.880,00',\n",
        "'M': '11.880,01 - 13.200,00',\n",
        "'N': '13.200,01 - 15.840,00',\n",
        "'O': '15.840,01 - 19.800,00',\n",
        "'P': '19.800,01 - 26.400,00',\n",
        "'Q': 'Acima de 26.400,00' })"
      ],
      "metadata": {
        "id": "qJAa8gQQgfS3"
      },
      "execution_count": null,
      "outputs": []
    },
    {
      "cell_type": "code",
      "source": [
        "enem_feminino_norte_sul"
      ],
      "metadata": {
        "colab": {
          "base_uri": "https://localhost:8080/",
          "height": 617
        },
        "id": "cA8Dkr4iJqsf",
        "outputId": "4d465de1-1c6b-4891-c663-aa2931173b10"
      },
      "execution_count": null,
      "outputs": [
        {
          "output_type": "execute_result",
          "data": {
            "text/plain": [
              "        NU_INSCRICAO TP_FAIXA_ETARIA TP_SEXO TP_COR_RACA     TP_ST_CONCLUSAO  \\\n",
              "0       210061103945              21       F      Branca           Concluido   \n",
              "1       210058061534              19       F      Branca  A concluir em 2023   \n",
              "2       210059388088              18       F      Branca           Concluido   \n",
              "3       210058061536              19       F       Parda           Concluido   \n",
              "4       210059980946              19       F      Branca           Concluido   \n",
              "...              ...             ...     ...         ...                 ...   \n",
              "536951  210061965960              20       F      Branca           Concluido   \n",
              "536952  210061965962              17       F      Branca  A concluir em 2023   \n",
              "536953  210061965964           31-35       F      Branca           Concluido   \n",
              "536954  210061959675              21       F       Parda           Concluido   \n",
              "536955  210061965966              18       F       Parda  A concluir em 2023   \n",
              "\n",
              "            TP_ESCOLA INSCRITOS_TREINEIRO  MUNICIPIO_PROVA SG_UF_PROVA  \\\n",
              "0       nao respondeu                 Nao    Caxias do Sul          RS   \n",
              "1             publica                 Nao           BelÃ©m          PA   \n",
              "2       nao respondeu                 Nao         MaringÃ¡          PR   \n",
              "3       nao respondeu                 Nao         Marituba          PA   \n",
              "4       nao respondeu                 Nao           BelÃ©m          PA   \n",
              "...               ...                 ...              ...         ...   \n",
              "536951  nao respondeu                 Nao     Cachoeirinha          RS   \n",
              "536952        privada                 Nao  CapÃ£o da Canoa          RS   \n",
              "536953  nao respondeu                 Nao     Porto Alegre          RS   \n",
              "536954  nao respondeu                 Nao        Igrejinha          RS   \n",
              "536955        publica                 Nao   FlorianÃ³polis          SC   \n",
              "\n",
              "       TP_PRESENCA_CIENCIAS_NATUREZA  ... TP_PRESENCA_MATEMATICA  \\\n",
              "0                           Presente  ...               Presente   \n",
              "1                           Presente  ...               Presente   \n",
              "2                           Presente  ...               Presente   \n",
              "3                           Presente  ...               Presente   \n",
              "4                           Presente  ...               Presente   \n",
              "...                              ...  ...                    ...   \n",
              "536951                      Presente  ...               Presente   \n",
              "536952                      Presente  ...               Presente   \n",
              "536953                      Presente  ...               Presente   \n",
              "536954                        Faltou  ...                 Faltou   \n",
              "536955                        Faltou  ...                 Faltou   \n",
              "\n",
              "       NOTA__CIENCIAS_NATUREZA NOTA_CIENCIAS_HUMANAS  NOTA__LIGUAGENS_CODIGOS  \\\n",
              "0                        502.0                 498.9                    475.6   \n",
              "1                        515.7                 553.1                    544.4   \n",
              "2                        540.5                 632.5                    542.8   \n",
              "3                        592.9                 624.0                    676.4   \n",
              "4                        632.0                 688.4                    635.8   \n",
              "...                        ...                   ...                      ...   \n",
              "536951                   497.5                 446.2                    359.6   \n",
              "536952                   444.0                 511.4                    514.8   \n",
              "536953                   568.6                 605.2                    598.2   \n",
              "536954                     NaN                   NaN                      NaN   \n",
              "536955                     NaN                   NaN                      NaN   \n",
              "\n",
              "        NOTA_MATEMATICA  TP_LINGUA_ESTRANGEIRA  TP_STATUS_REDACAO  \\\n",
              "0                 363.2               Espanhol      Sem problemas   \n",
              "1                 437.0                 Ingles      Sem problemas   \n",
              "2                 575.3                 Ingles      Sem problemas   \n",
              "3                 731.8                 Ingles      Sem problemas   \n",
              "4                 709.6                 Ingles      Sem problemas   \n",
              "...                 ...                    ...                ...   \n",
              "536951            602.1                 Ingles      Sem problemas   \n",
              "536952            444.9                 Ingles      Sem problemas   \n",
              "536953            496.8                 Ingles      Sem problemas   \n",
              "536954              NaN                 Ingles                NaN   \n",
              "536955              NaN               Espanhol                NaN   \n",
              "\n",
              "       NOTA_REDACAO        RENDA_FAMILIAR  REGIAO  \n",
              "0             700.0   1.320,01 - 1.980,00     Sul  \n",
              "1             880.0          Até 1.320,00   Norte  \n",
              "2             880.0   2.640,01 - 3.300,00     Sul  \n",
              "3             880.0          Até 1.320,00   Norte  \n",
              "4             940.0  9.240,01 - 10.560,00   Norte  \n",
              "...             ...                   ...     ...  \n",
              "536951        800.0   7.920,01 - 9.240,00     Sul  \n",
              "536952        600.0  9.240,01 - 10.560,00     Sul  \n",
              "536953        500.0   1.980,01 - 2.640,00     Sul  \n",
              "536954          NaN   3.300,01 - 3.960,00     Sul  \n",
              "536955          NaN          Até 1.320,00     Sul  \n",
              "\n",
              "[536956 rows x 22 columns]"
            ],
            "text/html": [
              "\n",
              "  <div id=\"df-0a6ff6b5-6386-48fc-9243-6d5eecfc77ba\" class=\"colab-df-container\">\n",
              "    <div>\n",
              "<style scoped>\n",
              "    .dataframe tbody tr th:only-of-type {\n",
              "        vertical-align: middle;\n",
              "    }\n",
              "\n",
              "    .dataframe tbody tr th {\n",
              "        vertical-align: top;\n",
              "    }\n",
              "\n",
              "    .dataframe thead th {\n",
              "        text-align: right;\n",
              "    }\n",
              "</style>\n",
              "<table border=\"1\" class=\"dataframe\">\n",
              "  <thead>\n",
              "    <tr style=\"text-align: right;\">\n",
              "      <th></th>\n",
              "      <th>NU_INSCRICAO</th>\n",
              "      <th>TP_FAIXA_ETARIA</th>\n",
              "      <th>TP_SEXO</th>\n",
              "      <th>TP_COR_RACA</th>\n",
              "      <th>TP_ST_CONCLUSAO</th>\n",
              "      <th>TP_ESCOLA</th>\n",
              "      <th>INSCRITOS_TREINEIRO</th>\n",
              "      <th>MUNICIPIO_PROVA</th>\n",
              "      <th>SG_UF_PROVA</th>\n",
              "      <th>TP_PRESENCA_CIENCIAS_NATUREZA</th>\n",
              "      <th>...</th>\n",
              "      <th>TP_PRESENCA_MATEMATICA</th>\n",
              "      <th>NOTA__CIENCIAS_NATUREZA</th>\n",
              "      <th>NOTA_CIENCIAS_HUMANAS</th>\n",
              "      <th>NOTA__LIGUAGENS_CODIGOS</th>\n",
              "      <th>NOTA_MATEMATICA</th>\n",
              "      <th>TP_LINGUA_ESTRANGEIRA</th>\n",
              "      <th>TP_STATUS_REDACAO</th>\n",
              "      <th>NOTA_REDACAO</th>\n",
              "      <th>RENDA_FAMILIAR</th>\n",
              "      <th>REGIAO</th>\n",
              "    </tr>\n",
              "  </thead>\n",
              "  <tbody>\n",
              "    <tr>\n",
              "      <th>0</th>\n",
              "      <td>210061103945</td>\n",
              "      <td>21</td>\n",
              "      <td>F</td>\n",
              "      <td>Branca</td>\n",
              "      <td>Concluido</td>\n",
              "      <td>nao respondeu</td>\n",
              "      <td>Nao</td>\n",
              "      <td>Caxias do Sul</td>\n",
              "      <td>RS</td>\n",
              "      <td>Presente</td>\n",
              "      <td>...</td>\n",
              "      <td>Presente</td>\n",
              "      <td>502.0</td>\n",
              "      <td>498.9</td>\n",
              "      <td>475.6</td>\n",
              "      <td>363.2</td>\n",
              "      <td>Espanhol</td>\n",
              "      <td>Sem problemas</td>\n",
              "      <td>700.0</td>\n",
              "      <td>1.320,01 - 1.980,00</td>\n",
              "      <td>Sul</td>\n",
              "    </tr>\n",
              "    <tr>\n",
              "      <th>1</th>\n",
              "      <td>210058061534</td>\n",
              "      <td>19</td>\n",
              "      <td>F</td>\n",
              "      <td>Branca</td>\n",
              "      <td>A concluir em 2023</td>\n",
              "      <td>publica</td>\n",
              "      <td>Nao</td>\n",
              "      <td>BelÃ©m</td>\n",
              "      <td>PA</td>\n",
              "      <td>Presente</td>\n",
              "      <td>...</td>\n",
              "      <td>Presente</td>\n",
              "      <td>515.7</td>\n",
              "      <td>553.1</td>\n",
              "      <td>544.4</td>\n",
              "      <td>437.0</td>\n",
              "      <td>Ingles</td>\n",
              "      <td>Sem problemas</td>\n",
              "      <td>880.0</td>\n",
              "      <td>Até 1.320,00</td>\n",
              "      <td>Norte</td>\n",
              "    </tr>\n",
              "    <tr>\n",
              "      <th>2</th>\n",
              "      <td>210059388088</td>\n",
              "      <td>18</td>\n",
              "      <td>F</td>\n",
              "      <td>Branca</td>\n",
              "      <td>Concluido</td>\n",
              "      <td>nao respondeu</td>\n",
              "      <td>Nao</td>\n",
              "      <td>MaringÃ¡</td>\n",
              "      <td>PR</td>\n",
              "      <td>Presente</td>\n",
              "      <td>...</td>\n",
              "      <td>Presente</td>\n",
              "      <td>540.5</td>\n",
              "      <td>632.5</td>\n",
              "      <td>542.8</td>\n",
              "      <td>575.3</td>\n",
              "      <td>Ingles</td>\n",
              "      <td>Sem problemas</td>\n",
              "      <td>880.0</td>\n",
              "      <td>2.640,01 - 3.300,00</td>\n",
              "      <td>Sul</td>\n",
              "    </tr>\n",
              "    <tr>\n",
              "      <th>3</th>\n",
              "      <td>210058061536</td>\n",
              "      <td>19</td>\n",
              "      <td>F</td>\n",
              "      <td>Parda</td>\n",
              "      <td>Concluido</td>\n",
              "      <td>nao respondeu</td>\n",
              "      <td>Nao</td>\n",
              "      <td>Marituba</td>\n",
              "      <td>PA</td>\n",
              "      <td>Presente</td>\n",
              "      <td>...</td>\n",
              "      <td>Presente</td>\n",
              "      <td>592.9</td>\n",
              "      <td>624.0</td>\n",
              "      <td>676.4</td>\n",
              "      <td>731.8</td>\n",
              "      <td>Ingles</td>\n",
              "      <td>Sem problemas</td>\n",
              "      <td>880.0</td>\n",
              "      <td>Até 1.320,00</td>\n",
              "      <td>Norte</td>\n",
              "    </tr>\n",
              "    <tr>\n",
              "      <th>4</th>\n",
              "      <td>210059980946</td>\n",
              "      <td>19</td>\n",
              "      <td>F</td>\n",
              "      <td>Branca</td>\n",
              "      <td>Concluido</td>\n",
              "      <td>nao respondeu</td>\n",
              "      <td>Nao</td>\n",
              "      <td>BelÃ©m</td>\n",
              "      <td>PA</td>\n",
              "      <td>Presente</td>\n",
              "      <td>...</td>\n",
              "      <td>Presente</td>\n",
              "      <td>632.0</td>\n",
              "      <td>688.4</td>\n",
              "      <td>635.8</td>\n",
              "      <td>709.6</td>\n",
              "      <td>Ingles</td>\n",
              "      <td>Sem problemas</td>\n",
              "      <td>940.0</td>\n",
              "      <td>9.240,01 - 10.560,00</td>\n",
              "      <td>Norte</td>\n",
              "    </tr>\n",
              "    <tr>\n",
              "      <th>...</th>\n",
              "      <td>...</td>\n",
              "      <td>...</td>\n",
              "      <td>...</td>\n",
              "      <td>...</td>\n",
              "      <td>...</td>\n",
              "      <td>...</td>\n",
              "      <td>...</td>\n",
              "      <td>...</td>\n",
              "      <td>...</td>\n",
              "      <td>...</td>\n",
              "      <td>...</td>\n",
              "      <td>...</td>\n",
              "      <td>...</td>\n",
              "      <td>...</td>\n",
              "      <td>...</td>\n",
              "      <td>...</td>\n",
              "      <td>...</td>\n",
              "      <td>...</td>\n",
              "      <td>...</td>\n",
              "      <td>...</td>\n",
              "      <td>...</td>\n",
              "    </tr>\n",
              "    <tr>\n",
              "      <th>536951</th>\n",
              "      <td>210061965960</td>\n",
              "      <td>20</td>\n",
              "      <td>F</td>\n",
              "      <td>Branca</td>\n",
              "      <td>Concluido</td>\n",
              "      <td>nao respondeu</td>\n",
              "      <td>Nao</td>\n",
              "      <td>Cachoeirinha</td>\n",
              "      <td>RS</td>\n",
              "      <td>Presente</td>\n",
              "      <td>...</td>\n",
              "      <td>Presente</td>\n",
              "      <td>497.5</td>\n",
              "      <td>446.2</td>\n",
              "      <td>359.6</td>\n",
              "      <td>602.1</td>\n",
              "      <td>Ingles</td>\n",
              "      <td>Sem problemas</td>\n",
              "      <td>800.0</td>\n",
              "      <td>7.920,01 - 9.240,00</td>\n",
              "      <td>Sul</td>\n",
              "    </tr>\n",
              "    <tr>\n",
              "      <th>536952</th>\n",
              "      <td>210061965962</td>\n",
              "      <td>17</td>\n",
              "      <td>F</td>\n",
              "      <td>Branca</td>\n",
              "      <td>A concluir em 2023</td>\n",
              "      <td>privada</td>\n",
              "      <td>Nao</td>\n",
              "      <td>CapÃ£o da Canoa</td>\n",
              "      <td>RS</td>\n",
              "      <td>Presente</td>\n",
              "      <td>...</td>\n",
              "      <td>Presente</td>\n",
              "      <td>444.0</td>\n",
              "      <td>511.4</td>\n",
              "      <td>514.8</td>\n",
              "      <td>444.9</td>\n",
              "      <td>Ingles</td>\n",
              "      <td>Sem problemas</td>\n",
              "      <td>600.0</td>\n",
              "      <td>9.240,01 - 10.560,00</td>\n",
              "      <td>Sul</td>\n",
              "    </tr>\n",
              "    <tr>\n",
              "      <th>536953</th>\n",
              "      <td>210061965964</td>\n",
              "      <td>31-35</td>\n",
              "      <td>F</td>\n",
              "      <td>Branca</td>\n",
              "      <td>Concluido</td>\n",
              "      <td>nao respondeu</td>\n",
              "      <td>Nao</td>\n",
              "      <td>Porto Alegre</td>\n",
              "      <td>RS</td>\n",
              "      <td>Presente</td>\n",
              "      <td>...</td>\n",
              "      <td>Presente</td>\n",
              "      <td>568.6</td>\n",
              "      <td>605.2</td>\n",
              "      <td>598.2</td>\n",
              "      <td>496.8</td>\n",
              "      <td>Ingles</td>\n",
              "      <td>Sem problemas</td>\n",
              "      <td>500.0</td>\n",
              "      <td>1.980,01 - 2.640,00</td>\n",
              "      <td>Sul</td>\n",
              "    </tr>\n",
              "    <tr>\n",
              "      <th>536954</th>\n",
              "      <td>210061959675</td>\n",
              "      <td>21</td>\n",
              "      <td>F</td>\n",
              "      <td>Parda</td>\n",
              "      <td>Concluido</td>\n",
              "      <td>nao respondeu</td>\n",
              "      <td>Nao</td>\n",
              "      <td>Igrejinha</td>\n",
              "      <td>RS</td>\n",
              "      <td>Faltou</td>\n",
              "      <td>...</td>\n",
              "      <td>Faltou</td>\n",
              "      <td>NaN</td>\n",
              "      <td>NaN</td>\n",
              "      <td>NaN</td>\n",
              "      <td>NaN</td>\n",
              "      <td>Ingles</td>\n",
              "      <td>NaN</td>\n",
              "      <td>NaN</td>\n",
              "      <td>3.300,01 - 3.960,00</td>\n",
              "      <td>Sul</td>\n",
              "    </tr>\n",
              "    <tr>\n",
              "      <th>536955</th>\n",
              "      <td>210061965966</td>\n",
              "      <td>18</td>\n",
              "      <td>F</td>\n",
              "      <td>Parda</td>\n",
              "      <td>A concluir em 2023</td>\n",
              "      <td>publica</td>\n",
              "      <td>Nao</td>\n",
              "      <td>FlorianÃ³polis</td>\n",
              "      <td>SC</td>\n",
              "      <td>Faltou</td>\n",
              "      <td>...</td>\n",
              "      <td>Faltou</td>\n",
              "      <td>NaN</td>\n",
              "      <td>NaN</td>\n",
              "      <td>NaN</td>\n",
              "      <td>NaN</td>\n",
              "      <td>Espanhol</td>\n",
              "      <td>NaN</td>\n",
              "      <td>NaN</td>\n",
              "      <td>Até 1.320,00</td>\n",
              "      <td>Sul</td>\n",
              "    </tr>\n",
              "  </tbody>\n",
              "</table>\n",
              "<p>536956 rows × 22 columns</p>\n",
              "</div>\n",
              "    <div class=\"colab-df-buttons\">\n",
              "\n",
              "  <div class=\"colab-df-container\">\n",
              "    <button class=\"colab-df-convert\" onclick=\"convertToInteractive('df-0a6ff6b5-6386-48fc-9243-6d5eecfc77ba')\"\n",
              "            title=\"Convert this dataframe to an interactive table.\"\n",
              "            style=\"display:none;\">\n",
              "\n",
              "  <svg xmlns=\"http://www.w3.org/2000/svg\" height=\"24px\" viewBox=\"0 -960 960 960\">\n",
              "    <path d=\"M120-120v-720h720v720H120Zm60-500h600v-160H180v160Zm220 220h160v-160H400v160Zm0 220h160v-160H400v160ZM180-400h160v-160H180v160Zm440 0h160v-160H620v160ZM180-180h160v-160H180v160Zm440 0h160v-160H620v160Z\"/>\n",
              "  </svg>\n",
              "    </button>\n",
              "\n",
              "  <style>\n",
              "    .colab-df-container {\n",
              "      display:flex;\n",
              "      gap: 12px;\n",
              "    }\n",
              "\n",
              "    .colab-df-convert {\n",
              "      background-color: #E8F0FE;\n",
              "      border: none;\n",
              "      border-radius: 50%;\n",
              "      cursor: pointer;\n",
              "      display: none;\n",
              "      fill: #1967D2;\n",
              "      height: 32px;\n",
              "      padding: 0 0 0 0;\n",
              "      width: 32px;\n",
              "    }\n",
              "\n",
              "    .colab-df-convert:hover {\n",
              "      background-color: #E2EBFA;\n",
              "      box-shadow: 0px 1px 2px rgba(60, 64, 67, 0.3), 0px 1px 3px 1px rgba(60, 64, 67, 0.15);\n",
              "      fill: #174EA6;\n",
              "    }\n",
              "\n",
              "    .colab-df-buttons div {\n",
              "      margin-bottom: 4px;\n",
              "    }\n",
              "\n",
              "    [theme=dark] .colab-df-convert {\n",
              "      background-color: #3B4455;\n",
              "      fill: #D2E3FC;\n",
              "    }\n",
              "\n",
              "    [theme=dark] .colab-df-convert:hover {\n",
              "      background-color: #434B5C;\n",
              "      box-shadow: 0px 1px 3px 1px rgba(0, 0, 0, 0.15);\n",
              "      filter: drop-shadow(0px 1px 2px rgba(0, 0, 0, 0.3));\n",
              "      fill: #FFFFFF;\n",
              "    }\n",
              "  </style>\n",
              "\n",
              "    <script>\n",
              "      const buttonEl =\n",
              "        document.querySelector('#df-0a6ff6b5-6386-48fc-9243-6d5eecfc77ba button.colab-df-convert');\n",
              "      buttonEl.style.display =\n",
              "        google.colab.kernel.accessAllowed ? 'block' : 'none';\n",
              "\n",
              "      async function convertToInteractive(key) {\n",
              "        const element = document.querySelector('#df-0a6ff6b5-6386-48fc-9243-6d5eecfc77ba');\n",
              "        const dataTable =\n",
              "          await google.colab.kernel.invokeFunction('convertToInteractive',\n",
              "                                                    [key], {});\n",
              "        if (!dataTable) return;\n",
              "\n",
              "        const docLinkHtml = 'Like what you see? Visit the ' +\n",
              "          '<a target=\"_blank\" href=https://colab.research.google.com/notebooks/data_table.ipynb>data table notebook</a>'\n",
              "          + ' to learn more about interactive tables.';\n",
              "        element.innerHTML = '';\n",
              "        dataTable['output_type'] = 'display_data';\n",
              "        await google.colab.output.renderOutput(dataTable, element);\n",
              "        const docLink = document.createElement('div');\n",
              "        docLink.innerHTML = docLinkHtml;\n",
              "        element.appendChild(docLink);\n",
              "      }\n",
              "    </script>\n",
              "  </div>\n",
              "\n",
              "\n",
              "<div id=\"df-c72417ed-f0f1-47f0-878a-5582346ec8d0\">\n",
              "  <button class=\"colab-df-quickchart\" onclick=\"quickchart('df-c72417ed-f0f1-47f0-878a-5582346ec8d0')\"\n",
              "            title=\"Suggest charts\"\n",
              "            style=\"display:none;\">\n",
              "\n",
              "<svg xmlns=\"http://www.w3.org/2000/svg\" height=\"24px\"viewBox=\"0 0 24 24\"\n",
              "     width=\"24px\">\n",
              "    <g>\n",
              "        <path d=\"M19 3H5c-1.1 0-2 .9-2 2v14c0 1.1.9 2 2 2h14c1.1 0 2-.9 2-2V5c0-1.1-.9-2-2-2zM9 17H7v-7h2v7zm4 0h-2V7h2v10zm4 0h-2v-4h2v4z\"/>\n",
              "    </g>\n",
              "</svg>\n",
              "  </button>\n",
              "\n",
              "<style>\n",
              "  .colab-df-quickchart {\n",
              "      --bg-color: #E8F0FE;\n",
              "      --fill-color: #1967D2;\n",
              "      --hover-bg-color: #E2EBFA;\n",
              "      --hover-fill-color: #174EA6;\n",
              "      --disabled-fill-color: #AAA;\n",
              "      --disabled-bg-color: #DDD;\n",
              "  }\n",
              "\n",
              "  [theme=dark] .colab-df-quickchart {\n",
              "      --bg-color: #3B4455;\n",
              "      --fill-color: #D2E3FC;\n",
              "      --hover-bg-color: #434B5C;\n",
              "      --hover-fill-color: #FFFFFF;\n",
              "      --disabled-bg-color: #3B4455;\n",
              "      --disabled-fill-color: #666;\n",
              "  }\n",
              "\n",
              "  .colab-df-quickchart {\n",
              "    background-color: var(--bg-color);\n",
              "    border: none;\n",
              "    border-radius: 50%;\n",
              "    cursor: pointer;\n",
              "    display: none;\n",
              "    fill: var(--fill-color);\n",
              "    height: 32px;\n",
              "    padding: 0;\n",
              "    width: 32px;\n",
              "  }\n",
              "\n",
              "  .colab-df-quickchart:hover {\n",
              "    background-color: var(--hover-bg-color);\n",
              "    box-shadow: 0 1px 2px rgba(60, 64, 67, 0.3), 0 1px 3px 1px rgba(60, 64, 67, 0.15);\n",
              "    fill: var(--button-hover-fill-color);\n",
              "  }\n",
              "\n",
              "  .colab-df-quickchart-complete:disabled,\n",
              "  .colab-df-quickchart-complete:disabled:hover {\n",
              "    background-color: var(--disabled-bg-color);\n",
              "    fill: var(--disabled-fill-color);\n",
              "    box-shadow: none;\n",
              "  }\n",
              "\n",
              "  .colab-df-spinner {\n",
              "    border: 2px solid var(--fill-color);\n",
              "    border-color: transparent;\n",
              "    border-bottom-color: var(--fill-color);\n",
              "    animation:\n",
              "      spin 1s steps(1) infinite;\n",
              "  }\n",
              "\n",
              "  @keyframes spin {\n",
              "    0% {\n",
              "      border-color: transparent;\n",
              "      border-bottom-color: var(--fill-color);\n",
              "      border-left-color: var(--fill-color);\n",
              "    }\n",
              "    20% {\n",
              "      border-color: transparent;\n",
              "      border-left-color: var(--fill-color);\n",
              "      border-top-color: var(--fill-color);\n",
              "    }\n",
              "    30% {\n",
              "      border-color: transparent;\n",
              "      border-left-color: var(--fill-color);\n",
              "      border-top-color: var(--fill-color);\n",
              "      border-right-color: var(--fill-color);\n",
              "    }\n",
              "    40% {\n",
              "      border-color: transparent;\n",
              "      border-right-color: var(--fill-color);\n",
              "      border-top-color: var(--fill-color);\n",
              "    }\n",
              "    60% {\n",
              "      border-color: transparent;\n",
              "      border-right-color: var(--fill-color);\n",
              "    }\n",
              "    80% {\n",
              "      border-color: transparent;\n",
              "      border-right-color: var(--fill-color);\n",
              "      border-bottom-color: var(--fill-color);\n",
              "    }\n",
              "    90% {\n",
              "      border-color: transparent;\n",
              "      border-bottom-color: var(--fill-color);\n",
              "    }\n",
              "  }\n",
              "</style>\n",
              "\n",
              "  <script>\n",
              "    async function quickchart(key) {\n",
              "      const quickchartButtonEl =\n",
              "        document.querySelector('#' + key + ' button');\n",
              "      quickchartButtonEl.disabled = true;  // To prevent multiple clicks.\n",
              "      quickchartButtonEl.classList.add('colab-df-spinner');\n",
              "      try {\n",
              "        const charts = await google.colab.kernel.invokeFunction(\n",
              "            'suggestCharts', [key], {});\n",
              "      } catch (error) {\n",
              "        console.error('Error during call to suggestCharts:', error);\n",
              "      }\n",
              "      quickchartButtonEl.classList.remove('colab-df-spinner');\n",
              "      quickchartButtonEl.classList.add('colab-df-quickchart-complete');\n",
              "    }\n",
              "    (() => {\n",
              "      let quickchartButtonEl =\n",
              "        document.querySelector('#df-c72417ed-f0f1-47f0-878a-5582346ec8d0 button');\n",
              "      quickchartButtonEl.style.display =\n",
              "        google.colab.kernel.accessAllowed ? 'block' : 'none';\n",
              "    })();\n",
              "  </script>\n",
              "</div>\n",
              "\n",
              "  <div id=\"id_73a88db0-6889-4fec-8004-751e0b3bc0e9\">\n",
              "    <style>\n",
              "      .colab-df-generate {\n",
              "        background-color: #E8F0FE;\n",
              "        border: none;\n",
              "        border-radius: 50%;\n",
              "        cursor: pointer;\n",
              "        display: none;\n",
              "        fill: #1967D2;\n",
              "        height: 32px;\n",
              "        padding: 0 0 0 0;\n",
              "        width: 32px;\n",
              "      }\n",
              "\n",
              "      .colab-df-generate:hover {\n",
              "        background-color: #E2EBFA;\n",
              "        box-shadow: 0px 1px 2px rgba(60, 64, 67, 0.3), 0px 1px 3px 1px rgba(60, 64, 67, 0.15);\n",
              "        fill: #174EA6;\n",
              "      }\n",
              "\n",
              "      [theme=dark] .colab-df-generate {\n",
              "        background-color: #3B4455;\n",
              "        fill: #D2E3FC;\n",
              "      }\n",
              "\n",
              "      [theme=dark] .colab-df-generate:hover {\n",
              "        background-color: #434B5C;\n",
              "        box-shadow: 0px 1px 3px 1px rgba(0, 0, 0, 0.15);\n",
              "        filter: drop-shadow(0px 1px 2px rgba(0, 0, 0, 0.3));\n",
              "        fill: #FFFFFF;\n",
              "      }\n",
              "    </style>\n",
              "    <button class=\"colab-df-generate\" onclick=\"generateWithVariable('enem_feminino_norte_sul')\"\n",
              "            title=\"Generate code using this dataframe.\"\n",
              "            style=\"display:none;\">\n",
              "\n",
              "  <svg xmlns=\"http://www.w3.org/2000/svg\" height=\"24px\"viewBox=\"0 0 24 24\"\n",
              "       width=\"24px\">\n",
              "    <path d=\"M7,19H8.4L18.45,9,17,7.55,7,17.6ZM5,21V16.75L18.45,3.32a2,2,0,0,1,2.83,0l1.4,1.43a1.91,1.91,0,0,1,.58,1.4,1.91,1.91,0,0,1-.58,1.4L9.25,21ZM18.45,9,17,7.55Zm-12,3A5.31,5.31,0,0,0,4.9,8.1,5.31,5.31,0,0,0,1,6.5,5.31,5.31,0,0,0,4.9,4.9,5.31,5.31,0,0,0,6.5,1,5.31,5.31,0,0,0,8.1,4.9,5.31,5.31,0,0,0,12,6.5,5.46,5.46,0,0,0,6.5,12Z\"/>\n",
              "  </svg>\n",
              "    </button>\n",
              "    <script>\n",
              "      (() => {\n",
              "      const buttonEl =\n",
              "        document.querySelector('#id_73a88db0-6889-4fec-8004-751e0b3bc0e9 button.colab-df-generate');\n",
              "      buttonEl.style.display =\n",
              "        google.colab.kernel.accessAllowed ? 'block' : 'none';\n",
              "\n",
              "      buttonEl.onclick = () => {\n",
              "        google.colab.notebook.generateWithVariable('enem_feminino_norte_sul');\n",
              "      }\n",
              "      })();\n",
              "    </script>\n",
              "  </div>\n",
              "\n",
              "    </div>\n",
              "  </div>\n"
            ],
            "application/vnd.google.colaboratory.intrinsic+json": {
              "type": "dataframe",
              "variable_name": "enem_feminino_norte_sul"
            }
          },
          "metadata": {},
          "execution_count": 183
        }
      ]
    },
    {
      "cell_type": "markdown",
      "source": [
        "# Análise dos dados"
      ],
      "metadata": {
        "id": "b7-M8Zfjixk_"
      }
    },
    {
      "cell_type": "code",
      "source": [
        "enem_feminino_norte_sul.isnull().sum()"
      ],
      "metadata": {
        "colab": {
          "base_uri": "https://localhost:8080/",
          "height": 774
        },
        "id": "Lp4ephUAhMpr",
        "outputId": "9e430441-5845-4a16-a0fe-13faa442a7de"
      },
      "execution_count": null,
      "outputs": [
        {
          "output_type": "execute_result",
          "data": {
            "text/plain": [
              "NU_INSCRICAO                          0\n",
              "TP_FAIXA_ETARIA                       0\n",
              "TP_SEXO                               0\n",
              "TP_COR_RACA                           0\n",
              "TP_ST_CONCLUSAO                       0\n",
              "TP_ESCOLA                             0\n",
              "INSCRITOS_TREINEIRO                   0\n",
              "MUNICIPIO_PROVA                       0\n",
              "SG_UF_PROVA                           0\n",
              "TP_PRESENCA_CIENCIAS_NATUREZA         0\n",
              "TP_PRESENCA_CIENCIAS_HUMANAS          0\n",
              "TP_PRESENCA_LIGUAGENS_CODIGOS         0\n",
              "TP_PRESENCA_MATEMATICA                0\n",
              "NOTA__CIENCIAS_NATUREZA          181107\n",
              "NOTA_CIENCIAS_HUMANAS            159337\n",
              "NOTA__LIGUAGENS_CODIGOS          159337\n",
              "NOTA_MATEMATICA                  181107\n",
              "TP_LINGUA_ESTRANGEIRA                 0\n",
              "TP_STATUS_REDACAO                159337\n",
              "NOTA_REDACAO                     159337\n",
              "RENDA_FAMILIAR                        0\n",
              "REGIAO                                0\n",
              "dtype: int64"
            ],
            "text/html": [
              "<div>\n",
              "<style scoped>\n",
              "    .dataframe tbody tr th:only-of-type {\n",
              "        vertical-align: middle;\n",
              "    }\n",
              "\n",
              "    .dataframe tbody tr th {\n",
              "        vertical-align: top;\n",
              "    }\n",
              "\n",
              "    .dataframe thead th {\n",
              "        text-align: right;\n",
              "    }\n",
              "</style>\n",
              "<table border=\"1\" class=\"dataframe\">\n",
              "  <thead>\n",
              "    <tr style=\"text-align: right;\">\n",
              "      <th></th>\n",
              "      <th>0</th>\n",
              "    </tr>\n",
              "  </thead>\n",
              "  <tbody>\n",
              "    <tr>\n",
              "      <th>NU_INSCRICAO</th>\n",
              "      <td>0</td>\n",
              "    </tr>\n",
              "    <tr>\n",
              "      <th>TP_FAIXA_ETARIA</th>\n",
              "      <td>0</td>\n",
              "    </tr>\n",
              "    <tr>\n",
              "      <th>TP_SEXO</th>\n",
              "      <td>0</td>\n",
              "    </tr>\n",
              "    <tr>\n",
              "      <th>TP_COR_RACA</th>\n",
              "      <td>0</td>\n",
              "    </tr>\n",
              "    <tr>\n",
              "      <th>TP_ST_CONCLUSAO</th>\n",
              "      <td>0</td>\n",
              "    </tr>\n",
              "    <tr>\n",
              "      <th>TP_ESCOLA</th>\n",
              "      <td>0</td>\n",
              "    </tr>\n",
              "    <tr>\n",
              "      <th>INSCRITOS_TREINEIRO</th>\n",
              "      <td>0</td>\n",
              "    </tr>\n",
              "    <tr>\n",
              "      <th>MUNICIPIO_PROVA</th>\n",
              "      <td>0</td>\n",
              "    </tr>\n",
              "    <tr>\n",
              "      <th>SG_UF_PROVA</th>\n",
              "      <td>0</td>\n",
              "    </tr>\n",
              "    <tr>\n",
              "      <th>TP_PRESENCA_CIENCIAS_NATUREZA</th>\n",
              "      <td>0</td>\n",
              "    </tr>\n",
              "    <tr>\n",
              "      <th>TP_PRESENCA_CIENCIAS_HUMANAS</th>\n",
              "      <td>0</td>\n",
              "    </tr>\n",
              "    <tr>\n",
              "      <th>TP_PRESENCA_LIGUAGENS_CODIGOS</th>\n",
              "      <td>0</td>\n",
              "    </tr>\n",
              "    <tr>\n",
              "      <th>TP_PRESENCA_MATEMATICA</th>\n",
              "      <td>0</td>\n",
              "    </tr>\n",
              "    <tr>\n",
              "      <th>NOTA__CIENCIAS_NATUREZA</th>\n",
              "      <td>181107</td>\n",
              "    </tr>\n",
              "    <tr>\n",
              "      <th>NOTA_CIENCIAS_HUMANAS</th>\n",
              "      <td>159337</td>\n",
              "    </tr>\n",
              "    <tr>\n",
              "      <th>NOTA__LIGUAGENS_CODIGOS</th>\n",
              "      <td>159337</td>\n",
              "    </tr>\n",
              "    <tr>\n",
              "      <th>NOTA_MATEMATICA</th>\n",
              "      <td>181107</td>\n",
              "    </tr>\n",
              "    <tr>\n",
              "      <th>TP_LINGUA_ESTRANGEIRA</th>\n",
              "      <td>0</td>\n",
              "    </tr>\n",
              "    <tr>\n",
              "      <th>TP_STATUS_REDACAO</th>\n",
              "      <td>159337</td>\n",
              "    </tr>\n",
              "    <tr>\n",
              "      <th>NOTA_REDACAO</th>\n",
              "      <td>159337</td>\n",
              "    </tr>\n",
              "    <tr>\n",
              "      <th>RENDA_FAMILIAR</th>\n",
              "      <td>0</td>\n",
              "    </tr>\n",
              "    <tr>\n",
              "      <th>REGIAO</th>\n",
              "      <td>0</td>\n",
              "    </tr>\n",
              "  </tbody>\n",
              "</table>\n",
              "</div><br><label><b>dtype:</b> int64</label>"
            ]
          },
          "metadata": {},
          "execution_count": 184
        }
      ]
    },
    {
      "cell_type": "code",
      "source": [
        "enem_feminino_norte_sul['TP_PRESENCA_CIENCIAS_NATUREZA'].value_counts()"
      ],
      "metadata": {
        "colab": {
          "base_uri": "https://localhost:8080/",
          "height": 210
        },
        "id": "e2J1HMUhieX6",
        "outputId": "cb2ec804-a6eb-4df2-84a0-b6a14fcc9d3c"
      },
      "execution_count": null,
      "outputs": [
        {
          "output_type": "execute_result",
          "data": {
            "text/plain": [
              "TP_PRESENCA_CIENCIAS_NATUREZA\n",
              "Presente     355849\n",
              "Faltou       180850\n",
              "Eliminado       257\n",
              "Name: count, dtype: int64"
            ],
            "text/html": [
              "<div>\n",
              "<style scoped>\n",
              "    .dataframe tbody tr th:only-of-type {\n",
              "        vertical-align: middle;\n",
              "    }\n",
              "\n",
              "    .dataframe tbody tr th {\n",
              "        vertical-align: top;\n",
              "    }\n",
              "\n",
              "    .dataframe thead th {\n",
              "        text-align: right;\n",
              "    }\n",
              "</style>\n",
              "<table border=\"1\" class=\"dataframe\">\n",
              "  <thead>\n",
              "    <tr style=\"text-align: right;\">\n",
              "      <th></th>\n",
              "      <th>count</th>\n",
              "    </tr>\n",
              "    <tr>\n",
              "      <th>TP_PRESENCA_CIENCIAS_NATUREZA</th>\n",
              "      <th></th>\n",
              "    </tr>\n",
              "  </thead>\n",
              "  <tbody>\n",
              "    <tr>\n",
              "      <th>Presente</th>\n",
              "      <td>355849</td>\n",
              "    </tr>\n",
              "    <tr>\n",
              "      <th>Faltou</th>\n",
              "      <td>180850</td>\n",
              "    </tr>\n",
              "    <tr>\n",
              "      <th>Eliminado</th>\n",
              "      <td>257</td>\n",
              "    </tr>\n",
              "  </tbody>\n",
              "</table>\n",
              "</div><br><label><b>dtype:</b> int64</label>"
            ]
          },
          "metadata": {},
          "execution_count": 185
        }
      ]
    },
    {
      "cell_type": "code",
      "source": [
        "enem_feminino_norte_sul['TP_PRESENCA_CIENCIAS_HUMANAS'].value_counts()"
      ],
      "metadata": {
        "colab": {
          "base_uri": "https://localhost:8080/",
          "height": 210
        },
        "id": "O79oxowQjeCU",
        "outputId": "a3da3587-f7ad-40ab-871f-7ce041e35f98"
      },
      "execution_count": null,
      "outputs": [
        {
          "output_type": "execute_result",
          "data": {
            "text/plain": [
              "TP_PRESENCA_CIENCIAS_HUMANAS\n",
              "Presente     377619\n",
              "Faltou       158801\n",
              "Eliminado       536\n",
              "Name: count, dtype: int64"
            ],
            "text/html": [
              "<div>\n",
              "<style scoped>\n",
              "    .dataframe tbody tr th:only-of-type {\n",
              "        vertical-align: middle;\n",
              "    }\n",
              "\n",
              "    .dataframe tbody tr th {\n",
              "        vertical-align: top;\n",
              "    }\n",
              "\n",
              "    .dataframe thead th {\n",
              "        text-align: right;\n",
              "    }\n",
              "</style>\n",
              "<table border=\"1\" class=\"dataframe\">\n",
              "  <thead>\n",
              "    <tr style=\"text-align: right;\">\n",
              "      <th></th>\n",
              "      <th>count</th>\n",
              "    </tr>\n",
              "    <tr>\n",
              "      <th>TP_PRESENCA_CIENCIAS_HUMANAS</th>\n",
              "      <th></th>\n",
              "    </tr>\n",
              "  </thead>\n",
              "  <tbody>\n",
              "    <tr>\n",
              "      <th>Presente</th>\n",
              "      <td>377619</td>\n",
              "    </tr>\n",
              "    <tr>\n",
              "      <th>Faltou</th>\n",
              "      <td>158801</td>\n",
              "    </tr>\n",
              "    <tr>\n",
              "      <th>Eliminado</th>\n",
              "      <td>536</td>\n",
              "    </tr>\n",
              "  </tbody>\n",
              "</table>\n",
              "</div><br><label><b>dtype:</b> int64</label>"
            ]
          },
          "metadata": {},
          "execution_count": 186
        }
      ]
    },
    {
      "cell_type": "code",
      "source": [
        "enem_feminino_norte_sul['TP_PRESENCA_MATEMATICA'].value_counts()"
      ],
      "metadata": {
        "colab": {
          "base_uri": "https://localhost:8080/",
          "height": 210
        },
        "id": "dFZhRpGNji2F",
        "outputId": "71e46365-cb1b-4f1d-fcb5-cb5aa3e879dd"
      },
      "execution_count": null,
      "outputs": [
        {
          "output_type": "execute_result",
          "data": {
            "text/plain": [
              "TP_PRESENCA_MATEMATICA\n",
              "Presente     355849\n",
              "Faltou       180850\n",
              "Eliminado       257\n",
              "Name: count, dtype: int64"
            ],
            "text/html": [
              "<div>\n",
              "<style scoped>\n",
              "    .dataframe tbody tr th:only-of-type {\n",
              "        vertical-align: middle;\n",
              "    }\n",
              "\n",
              "    .dataframe tbody tr th {\n",
              "        vertical-align: top;\n",
              "    }\n",
              "\n",
              "    .dataframe thead th {\n",
              "        text-align: right;\n",
              "    }\n",
              "</style>\n",
              "<table border=\"1\" class=\"dataframe\">\n",
              "  <thead>\n",
              "    <tr style=\"text-align: right;\">\n",
              "      <th></th>\n",
              "      <th>count</th>\n",
              "    </tr>\n",
              "    <tr>\n",
              "      <th>TP_PRESENCA_MATEMATICA</th>\n",
              "      <th></th>\n",
              "    </tr>\n",
              "  </thead>\n",
              "  <tbody>\n",
              "    <tr>\n",
              "      <th>Presente</th>\n",
              "      <td>355849</td>\n",
              "    </tr>\n",
              "    <tr>\n",
              "      <th>Faltou</th>\n",
              "      <td>180850</td>\n",
              "    </tr>\n",
              "    <tr>\n",
              "      <th>Eliminado</th>\n",
              "      <td>257</td>\n",
              "    </tr>\n",
              "  </tbody>\n",
              "</table>\n",
              "</div><br><label><b>dtype:</b> int64</label>"
            ]
          },
          "metadata": {},
          "execution_count": 187
        }
      ]
    },
    {
      "cell_type": "code",
      "source": [
        "enem_feminino_norte_sul['TP_STATUS_REDACAO'].isnull().sum()"
      ],
      "metadata": {
        "colab": {
          "base_uri": "https://localhost:8080/"
        },
        "id": "-uXjYK7tj2vQ",
        "outputId": "1d375cab-e938-4b32-e6a5-a1ec8abadb17"
      },
      "execution_count": null,
      "outputs": [
        {
          "output_type": "execute_result",
          "data": {
            "text/plain": [
              "159337"
            ]
          },
          "metadata": {},
          "execution_count": 188
        }
      ]
    },
    {
      "cell_type": "markdown",
      "source": [
        "Obs: Os dados nulos da coluna TP_STATUS_REDACAO indicam que o inscrito não fez a prova, uma vez que no dicionário de dados, há uma descrição para cada status de entrega/correção da redação, por isso iremos substituir os valores nulos pelo valor \"Faltou\"."
      ],
      "metadata": {
        "id": "O0NgV8Gw_pKj"
      }
    },
    {
      "cell_type": "code",
      "source": [
        "enem_feminino_norte_sul['TP_STATUS_REDACAO'] = enem_feminino_norte_sul['TP_STATUS_REDACAO'].fillna('Faltou')\n"
      ],
      "metadata": {
        "id": "0w0lDUXB_nZl"
      },
      "execution_count": null,
      "outputs": []
    },
    {
      "cell_type": "markdown",
      "source": [
        "De acordo com a análise realizada, pudemos observar que os dados contabilizados nulos das colunas de Notas, correspondem aos números de faltantes + eliminados das colunas TP_PRESENÇA. Ressaltamos que a princípio manteramos os dados nulos, pois a elimação dos menos poderá acarretar uma distorção da nossa análise."
      ],
      "metadata": {
        "id": "GJ2-5E1bk89v"
      }
    },
    {
      "cell_type": "markdown",
      "source": [
        "**Questões Norteadoras**"
      ],
      "metadata": {
        "id": "JFDywCcvl6Fd"
      }
    },
    {
      "cell_type": "markdown",
      "source": [
        "## Identificar qual o percentual de inscritos do sexo feminino por região.\n",
        "\n",
        "Objetivo: Identifcar o percentual de inscrição feminina em cada região e compará-los entre as regiões(Norte x Sul)."
      ],
      "metadata": {
        "id": "Enp3JyQfmCIC"
      }
    },
    {
      "cell_type": "code",
      "source": [
        "contagem_fem_por_regiao = enem_feminino_norte_sul.groupby('REGIAO')['NU_INSCRICAO'].count()\n",
        "contagem_fem_por_regiao"
      ],
      "metadata": {
        "colab": {
          "base_uri": "https://localhost:8080/",
          "height": 178
        },
        "id": "YtF146m8lVx7",
        "outputId": "cfc1b7db-7fb9-4f58-9eb6-289e110b577a"
      },
      "execution_count": null,
      "outputs": [
        {
          "output_type": "execute_result",
          "data": {
            "text/plain": [
              "REGIAO\n",
              "Norte    278371\n",
              "Sul      258585\n",
              "Name: NU_INSCRICAO, dtype: int64"
            ],
            "text/html": [
              "<div>\n",
              "<style scoped>\n",
              "    .dataframe tbody tr th:only-of-type {\n",
              "        vertical-align: middle;\n",
              "    }\n",
              "\n",
              "    .dataframe tbody tr th {\n",
              "        vertical-align: top;\n",
              "    }\n",
              "\n",
              "    .dataframe thead th {\n",
              "        text-align: right;\n",
              "    }\n",
              "</style>\n",
              "<table border=\"1\" class=\"dataframe\">\n",
              "  <thead>\n",
              "    <tr style=\"text-align: right;\">\n",
              "      <th></th>\n",
              "      <th>NU_INSCRICAO</th>\n",
              "    </tr>\n",
              "    <tr>\n",
              "      <th>REGIAO</th>\n",
              "      <th></th>\n",
              "    </tr>\n",
              "  </thead>\n",
              "  <tbody>\n",
              "    <tr>\n",
              "      <th>Norte</th>\n",
              "      <td>278371</td>\n",
              "    </tr>\n",
              "    <tr>\n",
              "      <th>Sul</th>\n",
              "      <td>258585</td>\n",
              "    </tr>\n",
              "  </tbody>\n",
              "</table>\n",
              "</div><br><label><b>dtype:</b> int64</label>"
            ]
          },
          "metadata": {},
          "execution_count": 191
        }
      ]
    },
    {
      "cell_type": "code",
      "source": [
        "total_insc_por_regiao = df_norte_sul.groupby('REGIAO')['NU_INSCRICAO'].count()\n",
        "total_insc_por_regiao"
      ],
      "metadata": {
        "colab": {
          "base_uri": "https://localhost:8080/",
          "height": 178
        },
        "id": "4Et-SzKs6G9a",
        "outputId": "1e202491-4699-49f7-9895-b25cda3037e3"
      },
      "execution_count": null,
      "outputs": [
        {
          "output_type": "execute_result",
          "data": {
            "text/plain": [
              "REGIAO\n",
              "Norte    453454\n",
              "Sul      417688\n",
              "Name: NU_INSCRICAO, dtype: int64"
            ],
            "text/html": [
              "<div>\n",
              "<style scoped>\n",
              "    .dataframe tbody tr th:only-of-type {\n",
              "        vertical-align: middle;\n",
              "    }\n",
              "\n",
              "    .dataframe tbody tr th {\n",
              "        vertical-align: top;\n",
              "    }\n",
              "\n",
              "    .dataframe thead th {\n",
              "        text-align: right;\n",
              "    }\n",
              "</style>\n",
              "<table border=\"1\" class=\"dataframe\">\n",
              "  <thead>\n",
              "    <tr style=\"text-align: right;\">\n",
              "      <th></th>\n",
              "      <th>NU_INSCRICAO</th>\n",
              "    </tr>\n",
              "    <tr>\n",
              "      <th>REGIAO</th>\n",
              "      <th></th>\n",
              "    </tr>\n",
              "  </thead>\n",
              "  <tbody>\n",
              "    <tr>\n",
              "      <th>Norte</th>\n",
              "      <td>453454</td>\n",
              "    </tr>\n",
              "    <tr>\n",
              "      <th>Sul</th>\n",
              "      <td>417688</td>\n",
              "    </tr>\n",
              "  </tbody>\n",
              "</table>\n",
              "</div><br><label><b>dtype:</b> int64</label>"
            ]
          },
          "metadata": {},
          "execution_count": 192
        }
      ]
    },
    {
      "cell_type": "code",
      "source": [
        "# Encontrando o percentual de inscrições femininas por região\n",
        "\n",
        "percentual_feminino_por_regiao = (contagem_fem_por_regiao / total_insc_por_regiao) * 100\n",
        "percentual_feminino_por_regiao.round(2)"
      ],
      "metadata": {
        "colab": {
          "base_uri": "https://localhost:8080/",
          "height": 178
        },
        "id": "QK5KBwX27Gwi",
        "outputId": "2af7508f-d474-46fb-9566-29dfc651aa21"
      },
      "execution_count": null,
      "outputs": [
        {
          "output_type": "execute_result",
          "data": {
            "text/plain": [
              "REGIAO\n",
              "Norte    61.39\n",
              "Sul      61.91\n",
              "Name: NU_INSCRICAO, dtype: float64"
            ],
            "text/html": [
              "<div>\n",
              "<style scoped>\n",
              "    .dataframe tbody tr th:only-of-type {\n",
              "        vertical-align: middle;\n",
              "    }\n",
              "\n",
              "    .dataframe tbody tr th {\n",
              "        vertical-align: top;\n",
              "    }\n",
              "\n",
              "    .dataframe thead th {\n",
              "        text-align: right;\n",
              "    }\n",
              "</style>\n",
              "<table border=\"1\" class=\"dataframe\">\n",
              "  <thead>\n",
              "    <tr style=\"text-align: right;\">\n",
              "      <th></th>\n",
              "      <th>NU_INSCRICAO</th>\n",
              "    </tr>\n",
              "    <tr>\n",
              "      <th>REGIAO</th>\n",
              "      <th></th>\n",
              "    </tr>\n",
              "  </thead>\n",
              "  <tbody>\n",
              "    <tr>\n",
              "      <th>Norte</th>\n",
              "      <td>61.39</td>\n",
              "    </tr>\n",
              "    <tr>\n",
              "      <th>Sul</th>\n",
              "      <td>61.91</td>\n",
              "    </tr>\n",
              "  </tbody>\n",
              "</table>\n",
              "</div><br><label><b>dtype:</b> float64</label>"
            ]
          },
          "metadata": {},
          "execution_count": 193
        }
      ]
    },
    {
      "cell_type": "code",
      "source": [
        "import matplotlib.pyplot as plt"
      ],
      "metadata": {
        "id": "VXZECJLAO0Zr"
      },
      "execution_count": null,
      "outputs": []
    },
    {
      "cell_type": "code",
      "source": [
        "grafico_cor = ['#517EA6', '#F28A2E']\n",
        "percentual_feminino_por_regiao.plot(kind='bar', color=grafico_cor)\n",
        "plt.ylabel('Percentual de inscrição')\n",
        "plt.title('Percentual de inscrição feminina por Região')"
      ],
      "metadata": {
        "colab": {
          "base_uri": "https://localhost:8080/",
          "height": 513
        },
        "id": "YYGvnjrFZT2w",
        "outputId": "efa78427-4c1e-49e6-863d-7f6a9fd7a57e"
      },
      "execution_count": null,
      "outputs": [
        {
          "output_type": "execute_result",
          "data": {
            "text/plain": [
              "Text(0.5, 1.0, 'Percentual de inscrição feminina por Região')"
            ]
          },
          "metadata": {},
          "execution_count": 70
        },
        {
          "output_type": "display_data",
          "data": {
            "text/plain": [
              "<Figure size 640x480 with 1 Axes>"
            ],
            "image/png": "[encoded data removed]"
          },
          "metadata": {}
        }
      ]
    },
    {
      "cell_type": "markdown",
      "source": [
        "Isso indica que 61,39% das inscrições na região Norte são de mulheres e que 61,91% das inscrições na região Sul são de mulheres. Em ambas as regiões o perceuntal de inscrição feminina para o ENEM 2023, foi superior ao percentual masculino.\n"
      ],
      "metadata": {
        "id": "4bpKbKgj8Bx2"
      }
    },
    {
      "cell_type": "markdown",
      "source": [
        "## Identificar o percentual de falta nas regiões Norte e Sul. Levaremos em consideração quem faltou em pelos menos uma das provas, incluindo Redação.\n",
        "\n",
        "Objetivo: comparar se há diferença discrepante entre as duas regiões."
      ],
      "metadata": {
        "id": "2BDcB9-H-N8u"
      }
    },
    {
      "cell_type": "code",
      "source": [
        "copia_fem_norte_sul = enem_feminino_norte_sul.copy()"
      ],
      "metadata": {
        "id": "1CpCGqKDphHF"
      },
      "execution_count": null,
      "outputs": []
    },
    {
      "cell_type": "code",
      "source": [
        "# Criando uma coluna que verifica se a pessoa faltou em pelo menos uma das provas ou redação\n",
        "copia_fem_norte_sul['FALTOU_PELO_MENOS_UMA'] = copia_fem_norte_sul[[\n",
        "    'TP_PRESENCA_CIENCIAS_NATUREZA',\n",
        "    'TP_PRESENCA_CIENCIAS_HUMANAS',\n",
        "    'TP_PRESENCA_LIGUAGENS_CODIGOS',\n",
        "    'TP_PRESENCA_MATEMATICA',\n",
        "    'TP_STATUS_REDACAO']].apply(lambda x: (x == 'Faltou').any(), axis=1)\n"
      ],
      "metadata": {
        "id": "4HFfwldy-VAZ"
      },
      "execution_count": null,
      "outputs": []
    },
    {
      "cell_type": "code",
      "source": [
        "# Calculando o numero de mulheres faltantes por região. O codigo conta apenas as entradas que são True\n",
        "\n",
        "faltaram_por_regiao = copia_fem_norte_sul.groupby('REGIAO')['FALTOU_PELO_MENOS_UMA'].sum()\n",
        "faltaram_por_regiao"
      ],
      "metadata": {
        "colab": {
          "base_uri": "https://localhost:8080/",
          "height": 178
        },
        "id": "qKlvdUPnGHzj",
        "outputId": "b922ff5f-287a-478c-bc5b-386836c300e7"
      },
      "execution_count": null,
      "outputs": [
        {
          "output_type": "execute_result",
          "data": {
            "text/plain": [
              "REGIAO\n",
              "Norte    102606\n",
              "Sul       79942\n",
              "Name: FALTOU_PELO_MENOS_UMA, dtype: int64"
            ],
            "text/html": [
              "<div>\n",
              "<style scoped>\n",
              "    .dataframe tbody tr th:only-of-type {\n",
              "        vertical-align: middle;\n",
              "    }\n",
              "\n",
              "    .dataframe tbody tr th {\n",
              "        vertical-align: top;\n",
              "    }\n",
              "\n",
              "    .dataframe thead th {\n",
              "        text-align: right;\n",
              "    }\n",
              "</style>\n",
              "<table border=\"1\" class=\"dataframe\">\n",
              "  <thead>\n",
              "    <tr style=\"text-align: right;\">\n",
              "      <th></th>\n",
              "      <th>FALTOU_PELO_MENOS_UMA</th>\n",
              "    </tr>\n",
              "    <tr>\n",
              "      <th>REGIAO</th>\n",
              "      <th></th>\n",
              "    </tr>\n",
              "  </thead>\n",
              "  <tbody>\n",
              "    <tr>\n",
              "      <th>Norte</th>\n",
              "      <td>102606</td>\n",
              "    </tr>\n",
              "    <tr>\n",
              "      <th>Sul</th>\n",
              "      <td>79942</td>\n",
              "    </tr>\n",
              "  </tbody>\n",
              "</table>\n",
              "</div><br><label><b>dtype:</b> int64</label>"
            ]
          },
          "metadata": {},
          "execution_count": 234
        }
      ]
    },
    {
      "cell_type": "code",
      "source": [
        "# Usaremos a variavel de contagem feminina criada anteriormente para calcular o percentual\n",
        "\n",
        "percentual_faltas_por_regiao = (faltaram_por_regiao / contagem_fem_por_regiao) * 100\n",
        "percentual_faltas_por_regiao.round(2)"
      ],
      "metadata": {
        "colab": {
          "base_uri": "https://localhost:8080/",
          "height": 178
        },
        "id": "StrMepKHG8JI",
        "outputId": "e136b153-5042-4cf0-f02e-2ffba1c183ca"
      },
      "execution_count": null,
      "outputs": [
        {
          "output_type": "execute_result",
          "data": {
            "text/plain": [
              "REGIAO\n",
              "Norte    36.86\n",
              "Sul      30.92\n",
              "dtype: float64"
            ],
            "text/html": [
              "<div>\n",
              "<style scoped>\n",
              "    .dataframe tbody tr th:only-of-type {\n",
              "        vertical-align: middle;\n",
              "    }\n",
              "\n",
              "    .dataframe tbody tr th {\n",
              "        vertical-align: top;\n",
              "    }\n",
              "\n",
              "    .dataframe thead th {\n",
              "        text-align: right;\n",
              "    }\n",
              "</style>\n",
              "<table border=\"1\" class=\"dataframe\">\n",
              "  <thead>\n",
              "    <tr style=\"text-align: right;\">\n",
              "      <th></th>\n",
              "      <th>0</th>\n",
              "    </tr>\n",
              "    <tr>\n",
              "      <th>REGIAO</th>\n",
              "      <th></th>\n",
              "    </tr>\n",
              "  </thead>\n",
              "  <tbody>\n",
              "    <tr>\n",
              "      <th>Norte</th>\n",
              "      <td>36.86</td>\n",
              "    </tr>\n",
              "    <tr>\n",
              "      <th>Sul</th>\n",
              "      <td>30.92</td>\n",
              "    </tr>\n",
              "  </tbody>\n",
              "</table>\n",
              "</div><br><label><b>dtype:</b> float64</label>"
            ]
          },
          "metadata": {},
          "execution_count": 200
        }
      ]
    },
    {
      "cell_type": "code",
      "source": [
        "grafico_cor = ['#517EA6', '#F28A2E']\n",
        "percentual_faltas_por_regiao.plot(kind='bar', color=grafico_cor)\n",
        "plt.ylabel('Percentual de Faltas')\n",
        "plt.title('Percentual de Faltas por Região')"
      ],
      "metadata": {
        "colab": {
          "base_uri": "https://localhost:8080/",
          "height": 513
        },
        "id": "qzMIPUKcG6jy",
        "outputId": "142e9dd8-7acf-4d05-8eb0-074f745de18a"
      },
      "execution_count": null,
      "outputs": [
        {
          "output_type": "execute_result",
          "data": {
            "text/plain": [
              "Text(0.5, 1.0, 'Percentual de Faltas por Região')"
            ]
          },
          "metadata": {},
          "execution_count": 201
        },
        {
          "output_type": "display_data",
          "data": {
            "text/plain": [
              "<Figure size 640x480 with 1 Axes>"
            ],
            "image/png": "[encoded data removed]"
          },
          "metadata": {}
        }
      ]
    },
    {
      "cell_type": "markdown",
      "source": [
        "Podemos verificar que o percentual de faltas entre as inscritas na região Norte foi um pouco superior a região Sul. A região Norte teve 36,86% de faltas, enquanto que a região Sul teve um percentual de 30,92% de inscritas faltantes."
      ],
      "metadata": {
        "id": "ZTqtsD5AH6V4"
      }
    },
    {
      "cell_type": "markdown",
      "source": [
        "## Identificar qual o top 100 de maiores notas entre todas as provas, incluindo Redação e visualizar em qual faixa de renda familiar está a maioria destes Top 100. Também verificar como o Top 100 está distribuido por região(Norte e Sul).\n",
        "\n",
        "Objetivo: visualizar se há uma possível relação entre as notas mais altas das inscritas x renda familiar e região."
      ],
      "metadata": {
        "id": "HlYgFiLyIbsG"
      }
    },
    {
      "cell_type": "markdown",
      "source": [
        "Para  esta análise levaremos em consideração apenas quem realizou todas a provas, dessa forma, faremos a limpeza dos dados nulos que constam nas colunas de nota."
      ],
      "metadata": {
        "id": "SURg5gQDWkKJ"
      }
    },
    {
      "cell_type": "code",
      "source": [
        "df_notas_sem_null = copia_fem_norte_sul.dropna()"
      ],
      "metadata": {
        "id": "W08tASgHWc69"
      },
      "execution_count": null,
      "outputs": []
    },
    {
      "cell_type": "code",
      "source": [
        "# Criando uma nova coluna - 'SOMA_DE_NOTAS'\n",
        "\n",
        "df_notas_sem_null['SOMA_DE_NOTAS'] = df_notas_sem_null['NOTA__CIENCIAS_NATUREZA'] + df_notas_sem_null['NOTA_CIENCIAS_HUMANAS'] + df_notas_sem_null['NOTA__LIGUAGENS_CODIGOS'] + df_notas_sem_null['NOTA_MATEMATICA'] + df_notas_sem_null['NOTA_REDACAO']"
      ],
      "metadata": {
        "id": "mrRK9vSIX8xx"
      },
      "execution_count": null,
      "outputs": []
    },
    {
      "cell_type": "code",
      "source": [
        "# Ordenando o dataframe pelas maiores notas, em ordem decrescrente\n",
        "df_ordenado = df_notas_sem_null.sort_values(by='SOMA_DE_NOTAS', ascending=False)\n",
        "\n",
        "# Separando as 100 maiores notas no dataframe 'top_100\"\n",
        "top_100 = df_ordenado.head(100)"
      ],
      "metadata": {
        "id": "WoxTBy48Z-J_"
      },
      "execution_count": null,
      "outputs": []
    },
    {
      "cell_type": "code",
      "source": [
        "# Agrupar os 100 melhores por faixa de renda\n",
        "\n",
        "distribuicao_renda_top_100 = top_100.groupby('RENDA_FAMILIAR')['NU_INSCRICAO'].count()\n",
        "\n",
        "distribuicao_renda_top_100"
      ],
      "metadata": {
        "colab": {
          "base_uri": "https://localhost:8080/",
          "height": 586
        },
        "id": "s8zgFACmjjMz",
        "outputId": "2c48537a-4e46-4975-cf2e-73afd00b0e3f"
      },
      "execution_count": null,
      "outputs": [
        {
          "output_type": "execute_result",
          "data": {
            "text/plain": [
              "RENDA_FAMILIAR\n",
              "1.320,01 - 1.980,00       1\n",
              "10.560,01 - 11.880,00     3\n",
              "11.880,01 - 13.200,00     7\n",
              "13.200,01 - 15.840,00    11\n",
              "15.840,01 - 19.800,00     6\n",
              "19.800,01 - 26.400,00    10\n",
              "2.640,01 - 3.300,00       1\n",
              "3.300,01 - 3.960,00       3\n",
              "3.960,01 - 5.280,00      10\n",
              "5.280,01 - 6.600,00       5\n",
              "6.600,01 - 7.920,00       9\n",
              "7.920,01 - 9.240,00      12\n",
              "9.240,01 - 10.560,00      4\n",
              "Acima de 26.400,00       17\n",
              "Até 1.320,00              1\n",
              "Name: NU_INSCRICAO, dtype: int64"
            ],
            "text/html": [
              "<div>\n",
              "<style scoped>\n",
              "    .dataframe tbody tr th:only-of-type {\n",
              "        vertical-align: middle;\n",
              "    }\n",
              "\n",
              "    .dataframe tbody tr th {\n",
              "        vertical-align: top;\n",
              "    }\n",
              "\n",
              "    .dataframe thead th {\n",
              "        text-align: right;\n",
              "    }\n",
              "</style>\n",
              "<table border=\"1\" class=\"dataframe\">\n",
              "  <thead>\n",
              "    <tr style=\"text-align: right;\">\n",
              "      <th></th>\n",
              "      <th>NU_INSCRICAO</th>\n",
              "    </tr>\n",
              "    <tr>\n",
              "      <th>RENDA_FAMILIAR</th>\n",
              "      <th></th>\n",
              "    </tr>\n",
              "  </thead>\n",
              "  <tbody>\n",
              "    <tr>\n",
              "      <th>1.320,01 - 1.980,00</th>\n",
              "      <td>1</td>\n",
              "    </tr>\n",
              "    <tr>\n",
              "      <th>10.560,01 - 11.880,00</th>\n",
              "      <td>3</td>\n",
              "    </tr>\n",
              "    <tr>\n",
              "      <th>11.880,01 - 13.200,00</th>\n",
              "      <td>7</td>\n",
              "    </tr>\n",
              "    <tr>\n",
              "      <th>13.200,01 - 15.840,00</th>\n",
              "      <td>11</td>\n",
              "    </tr>\n",
              "    <tr>\n",
              "      <th>15.840,01 - 19.800,00</th>\n",
              "      <td>6</td>\n",
              "    </tr>\n",
              "    <tr>\n",
              "      <th>19.800,01 - 26.400,00</th>\n",
              "      <td>10</td>\n",
              "    </tr>\n",
              "    <tr>\n",
              "      <th>2.640,01 - 3.300,00</th>\n",
              "      <td>1</td>\n",
              "    </tr>\n",
              "    <tr>\n",
              "      <th>3.300,01 - 3.960,00</th>\n",
              "      <td>3</td>\n",
              "    </tr>\n",
              "    <tr>\n",
              "      <th>3.960,01 - 5.280,00</th>\n",
              "      <td>10</td>\n",
              "    </tr>\n",
              "    <tr>\n",
              "      <th>5.280,01 - 6.600,00</th>\n",
              "      <td>5</td>\n",
              "    </tr>\n",
              "    <tr>\n",
              "      <th>6.600,01 - 7.920,00</th>\n",
              "      <td>9</td>\n",
              "    </tr>\n",
              "    <tr>\n",
              "      <th>7.920,01 - 9.240,00</th>\n",
              "      <td>12</td>\n",
              "    </tr>\n",
              "    <tr>\n",
              "      <th>9.240,01 - 10.560,00</th>\n",
              "      <td>4</td>\n",
              "    </tr>\n",
              "    <tr>\n",
              "      <th>Acima de 26.400,00</th>\n",
              "      <td>17</td>\n",
              "    </tr>\n",
              "    <tr>\n",
              "      <th>Até 1.320,00</th>\n",
              "      <td>1</td>\n",
              "    </tr>\n",
              "  </tbody>\n",
              "</table>\n",
              "</div><br><label><b>dtype:</b> int64</label>"
            ]
          },
          "metadata": {},
          "execution_count": 207
        }
      ]
    },
    {
      "cell_type": "code",
      "source": [
        "distribuicao_renda_top_100_ordenado = distribuicao_renda_top_100.sort_values(ascending=True)"
      ],
      "metadata": {
        "id": "E2_VqZrzBfeU"
      },
      "execution_count": null,
      "outputs": []
    },
    {
      "cell_type": "code",
      "source": [
        "distribuicao_renda_top_100_ordenado.plot(kind='barh', color='#04E01D')  #006400  #'#04E01D'\n",
        "plt.ylabel('Valor da Renda Familiar em Real')\n",
        "plt.title('Distribuição do Top 100 maiores notas x Faixa de Renda')"
      ],
      "metadata": {
        "colab": {
          "base_uri": "https://localhost:8080/",
          "height": 469
        },
        "id": "bJc9pRP64HJr",
        "outputId": "dc8adf72-4045-4df2-c9b6-54de521b7650"
      },
      "execution_count": null,
      "outputs": [
        {
          "output_type": "execute_result",
          "data": {
            "text/plain": [
              "Text(0.5, 1.0, 'Distribuição do Top 100 maiores notas x Faixa de Renda')"
            ]
          },
          "metadata": {},
          "execution_count": 229
        },
        {
          "output_type": "display_data",
          "data": {
            "text/plain": [
              "<Figure size 640x480 with 1 Axes>"
            ],
            "image/png": "[encoded data removed]"
          },
          "metadata": {}
        }
      ]
    },
    {
      "cell_type": "code",
      "source": [
        "# Agrupando os top 100 por região\n",
        "top_100_por_regiao = top_100.groupby('REGIAO')['NU_INSCRICAO'].count()"
      ],
      "metadata": {
        "id": "fm1Kb6vR5JUp"
      },
      "execution_count": null,
      "outputs": []
    },
    {
      "cell_type": "code",
      "source": [
        "top_100_por_regiao"
      ],
      "metadata": {
        "colab": {
          "base_uri": "https://localhost:8080/",
          "height": 178
        },
        "id": "mMapNk7g7212",
        "outputId": "82c9e46d-829e-42fb-88cb-19810ccf8273"
      },
      "execution_count": null,
      "outputs": [
        {
          "output_type": "execute_result",
          "data": {
            "text/plain": [
              "REGIAO\n",
              "Norte     7\n",
              "Sul      93\n",
              "Name: NU_INSCRICAO, dtype: int64"
            ],
            "text/html": [
              "<div>\n",
              "<style scoped>\n",
              "    .dataframe tbody tr th:only-of-type {\n",
              "        vertical-align: middle;\n",
              "    }\n",
              "\n",
              "    .dataframe tbody tr th {\n",
              "        vertical-align: top;\n",
              "    }\n",
              "\n",
              "    .dataframe thead th {\n",
              "        text-align: right;\n",
              "    }\n",
              "</style>\n",
              "<table border=\"1\" class=\"dataframe\">\n",
              "  <thead>\n",
              "    <tr style=\"text-align: right;\">\n",
              "      <th></th>\n",
              "      <th>NU_INSCRICAO</th>\n",
              "    </tr>\n",
              "    <tr>\n",
              "      <th>REGIAO</th>\n",
              "      <th></th>\n",
              "    </tr>\n",
              "  </thead>\n",
              "  <tbody>\n",
              "    <tr>\n",
              "      <th>Norte</th>\n",
              "      <td>7</td>\n",
              "    </tr>\n",
              "    <tr>\n",
              "      <th>Sul</th>\n",
              "      <td>93</td>\n",
              "    </tr>\n",
              "  </tbody>\n",
              "</table>\n",
              "</div><br><label><b>dtype:</b> int64</label>"
            ]
          },
          "metadata": {},
          "execution_count": 215
        }
      ]
    },
    {
      "cell_type": "code",
      "source": [
        "top_100_por_regiao.plot(kind='bar', color =grafico_cor)\n",
        "plt.ylabel('Número de inscritas')\n",
        "plt.title('Distribuição das melhores notas por Região')"
      ],
      "metadata": {
        "colab": {
          "base_uri": "https://localhost:8080/",
          "height": 513
        },
        "id": "1VQnF5Mh8ET5",
        "outputId": "325d856a-32d0-4cee-ed24-f5b9fdbdeb35"
      },
      "execution_count": null,
      "outputs": [
        {
          "output_type": "execute_result",
          "data": {
            "text/plain": [
              "Text(0.5, 1.0, 'Distribuição das melhores notas por Região')"
            ]
          },
          "metadata": {},
          "execution_count": 236
        },
        {
          "output_type": "display_data",
          "data": {
            "text/plain": [
              "<Figure size 640x480 with 1 Axes>"
            ],
            "image/png": "[encoded data removed]"
          },
          "metadata": {}
        }
      ]
    },
    {
      "cell_type": "markdown",
      "source": [
        "Podemos observar que a faixa de renda familiar  acima de R$26.400,00 é onde contém o maior número de inscritas que tiveram as maiores notas, em compensação\n",
        "existe uma representação mínima entre as menores faixas de renda familar.\n",
        "Ao levar essa comparação para região, e observar a quantidade de inscrita que cada região obteve entre as 100 melhores notas, é gritante a diferença entre as melhores colocadas por região."
      ],
      "metadata": {
        "id": "chgDiQgXDCqy"
      }
    },
    {
      "cell_type": "code",
      "source": [
        "# EXPORTANDO A BASE FINAL\n",
        "copia_fem_norte_sul.to_csv('base_final_enem_2023.csv', index=False)"
      ],
      "metadata": {
        "id": "wYK1TD5aLr21"
      },
      "execution_count": null,
      "outputs": []
    }
  ]
}