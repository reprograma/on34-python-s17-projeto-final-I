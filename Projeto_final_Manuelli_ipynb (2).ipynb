{
  "nbformat": 4,
  "nbformat_minor": 0,
  "metadata": {
    "colab": {
      "provenance": []
    },
    "kernelspec": {
      "name": "python3",
      "display_name": "Python 3"
    },
    "language_info": {
      "name": "python"
    }
  },
  "cells": [
    {
      "cell_type": "markdown",
      "source": [
        "Base de dados:\n",
        "https://www.kaggle.com/datasets/waqi786/mental-health-and-technology-usage-dataset?resource=download\n",
        "Conjunto de dados sobre saúde mental e uso de tecnologia 🌱\n",
        "Explorando o impacto do tempo de tela no bem-estar 🧠\n",
        "\n",
        "Conjunto de dados sobre saúde mental e uso de tecnologia 🌱\n",
        "\n",
        "\n",
        "O objetivo da análise é compreender a percepção dos entrevistados sobre seu estado mental em relação ao tempo dedicada a telas.\n",
        "\n",
        "Verificar o padrão de horas dedicadas a horas de sono e atividade física.\n",
        "\n",
        "Verificar a percepção sobre o impacto no trabalho em relação ao uso de telas.\n"
      ],
      "metadata": {
        "id": "ehsYCT0aRQV_"
      }
    },
    {
      "cell_type": "markdown",
      "source": [
        "Imports\n",
        "Para fazer a análise, primeiro precisamos importar as bibliotecas de Python: Pandas."
      ],
      "metadata": {
        "id": "-ccf6wkBSJHM"
      }
    },
    {
      "cell_type": "code",
      "source": [
        "import pandas as pd\n",
        "import matplotlib.pyplot as plt\n",
        "\n",
        "\n"
      ],
      "metadata": {
        "id": "GMC_maMISM-n"
      },
      "execution_count": 33,
      "outputs": []
    },
    {
      "cell_type": "markdown",
      "source": [
        "Criação do Dataframe\n",
        "Etapa de coleta de dados\n",
        "Vamos análisar a fonte de dados em csv, assim precisamos criar um dataframe e ler o arquivos arquivos csv(s)."
      ],
      "metadata": {
        "id": "Bx-PZi-JSV1A"
      }
    },
    {
      "cell_type": "code",
      "source": [
        "dataframe = pd.read_csv(\"mental_health_and_technology_usage_2024.csv\")\n",
        "dataframe\n",
        "#visualização de tabela completa\n",
        "#DataFrame é uma estrutura de dados bidimensional amplamente usada na biblioteca pandas do Python.\n",
        "#Ele se assemelha a uma tabela (como em uma planilha do Excel ou uma tabela SQL), onde os dados são organizados em linhas e colunas."
      ],
      "metadata": {
        "colab": {
          "base_uri": "https://localhost:8080/",
          "height": 617
        },
        "id": "_IxsKqaCZ4UN",
        "outputId": "45482164-1ab0-4e91-8590-5c9be971b384"
      },
      "execution_count": 38,
      "outputs": [
        {
          "output_type": "execute_result",
          "data": {
            "text/plain": [
              "         User_ID  Age  Gender  Technology_Usage_Hours  \\\n",
              "0     USER-00001   23  Female                    6.57   \n",
              "1     USER-00002   21    Male                    3.01   \n",
              "2     USER-00003   51    Male                    3.04   \n",
              "3     USER-00004   25  Female                    3.84   \n",
              "4     USER-00005   53    Male                    1.20   \n",
              "...          ...  ...     ...                     ...   \n",
              "9995  USER-09996   42    Male                    7.05   \n",
              "9996  USER-09997   31   Other                    3.12   \n",
              "9997  USER-09998   23    Male                    4.38   \n",
              "9998  USER-09999   38    Male                    4.44   \n",
              "9999  USER-10000   41    Male                    2.50   \n",
              "\n",
              "      Social_Media_Usage_Hours  Gaming_Hours  Screen_Time_Hours  \\\n",
              "0                         6.00          0.68              12.36   \n",
              "1                         2.57          3.74               7.61   \n",
              "2                         6.14          1.26               3.16   \n",
              "3                         4.48          2.59              13.08   \n",
              "4                         0.56          0.29              12.63   \n",
              "...                        ...           ...                ...   \n",
              "9995                      0.41          0.53              13.90   \n",
              "9996                      6.79          0.80               1.17   \n",
              "9997                      3.98          0.52               7.81   \n",
              "9998                      1.48          3.28              13.95   \n",
              "9999                      4.80          0.25               8.82   \n",
              "\n",
              "     Mental_Health_Status Stress_Level  Sleep_Hours  Physical_Activity_Hours  \\\n",
              "0                    Good          Low         8.01                     6.71   \n",
              "1                    Poor         High         7.28                     5.88   \n",
              "2                    Fair         High         8.04                     9.81   \n",
              "3               Excellent       Medium         5.62                     5.28   \n",
              "4                    Good          Low         5.55                     4.00   \n",
              "...                   ...          ...          ...                      ...   \n",
              "9995                 Good       Medium         7.37                     5.02   \n",
              "9996                 Fair       Medium         8.92                     9.78   \n",
              "9997                 Poor         High         7.59                     2.99   \n",
              "9998                 Poor       Medium         7.26                     2.24   \n",
              "9999                 Fair          Low         4.62                     5.09   \n",
              "\n",
              "     Support_Systems_Access Work_Environment_Impact Online_Support_Usage  \n",
              "0                        No                Negative                  Yes  \n",
              "1                       Yes                Positive                   No  \n",
              "2                        No                Negative                   No  \n",
              "3                       Yes                Negative                  Yes  \n",
              "4                        No                Positive                  Yes  \n",
              "...                     ...                     ...                  ...  \n",
              "9995                    Yes                 Neutral                   No  \n",
              "9996                     No                 Neutral                  Yes  \n",
              "9997                     No                Positive                   No  \n",
              "9998                    Yes                 Neutral                  Yes  \n",
              "9999                    Yes                Positive                  Yes  \n",
              "\n",
              "[10000 rows x 14 columns]"
            ],
            "text/html": [
              "\n",
              "  <div id=\"df-05664ebb-b5ad-4587-a2af-aa97bb182a12\" class=\"colab-df-container\">\n",
              "    <div>\n",
              "<style scoped>\n",
              "    .dataframe tbody tr th:only-of-type {\n",
              "        vertical-align: middle;\n",
              "    }\n",
              "\n",
              "    .dataframe tbody tr th {\n",
              "        vertical-align: top;\n",
              "    }\n",
              "\n",
              "    .dataframe thead th {\n",
              "        text-align: right;\n",
              "    }\n",
              "</style>\n",
              "<table border=\"1\" class=\"dataframe\">\n",
              "  <thead>\n",
              "    <tr style=\"text-align: right;\">\n",
              "      <th></th>\n",
              "      <th>User_ID</th>\n",
              "      <th>Age</th>\n",
              "      <th>Gender</th>\n",
              "      <th>Technology_Usage_Hours</th>\n",
              "      <th>Social_Media_Usage_Hours</th>\n",
              "      <th>Gaming_Hours</th>\n",
              "      <th>Screen_Time_Hours</th>\n",
              "      <th>Mental_Health_Status</th>\n",
              "      <th>Stress_Level</th>\n",
              "      <th>Sleep_Hours</th>\n",
              "      <th>Physical_Activity_Hours</th>\n",
              "      <th>Support_Systems_Access</th>\n",
              "      <th>Work_Environment_Impact</th>\n",
              "      <th>Online_Support_Usage</th>\n",
              "    </tr>\n",
              "  </thead>\n",
              "  <tbody>\n",
              "    <tr>\n",
              "      <th>0</th>\n",
              "      <td>USER-00001</td>\n",
              "      <td>23</td>\n",
              "      <td>Female</td>\n",
              "      <td>6.57</td>\n",
              "      <td>6.00</td>\n",
              "      <td>0.68</td>\n",
              "      <td>12.36</td>\n",
              "      <td>Good</td>\n",
              "      <td>Low</td>\n",
              "      <td>8.01</td>\n",
              "      <td>6.71</td>\n",
              "      <td>No</td>\n",
              "      <td>Negative</td>\n",
              "      <td>Yes</td>\n",
              "    </tr>\n",
              "    <tr>\n",
              "      <th>1</th>\n",
              "      <td>USER-00002</td>\n",
              "      <td>21</td>\n",
              "      <td>Male</td>\n",
              "      <td>3.01</td>\n",
              "      <td>2.57</td>\n",
              "      <td>3.74</td>\n",
              "      <td>7.61</td>\n",
              "      <td>Poor</td>\n",
              "      <td>High</td>\n",
              "      <td>7.28</td>\n",
              "      <td>5.88</td>\n",
              "      <td>Yes</td>\n",
              "      <td>Positive</td>\n",
              "      <td>No</td>\n",
              "    </tr>\n",
              "    <tr>\n",
              "      <th>2</th>\n",
              "      <td>USER-00003</td>\n",
              "      <td>51</td>\n",
              "      <td>Male</td>\n",
              "      <td>3.04</td>\n",
              "      <td>6.14</td>\n",
              "      <td>1.26</td>\n",
              "      <td>3.16</td>\n",
              "      <td>Fair</td>\n",
              "      <td>High</td>\n",
              "      <td>8.04</td>\n",
              "      <td>9.81</td>\n",
              "      <td>No</td>\n",
              "      <td>Negative</td>\n",
              "      <td>No</td>\n",
              "    </tr>\n",
              "    <tr>\n",
              "      <th>3</th>\n",
              "      <td>USER-00004</td>\n",
              "      <td>25</td>\n",
              "      <td>Female</td>\n",
              "      <td>3.84</td>\n",
              "      <td>4.48</td>\n",
              "      <td>2.59</td>\n",
              "      <td>13.08</td>\n",
              "      <td>Excellent</td>\n",
              "      <td>Medium</td>\n",
              "      <td>5.62</td>\n",
              "      <td>5.28</td>\n",
              "      <td>Yes</td>\n",
              "      <td>Negative</td>\n",
              "      <td>Yes</td>\n",
              "    </tr>\n",
              "    <tr>\n",
              "      <th>4</th>\n",
              "      <td>USER-00005</td>\n",
              "      <td>53</td>\n",
              "      <td>Male</td>\n",
              "      <td>1.20</td>\n",
              "      <td>0.56</td>\n",
              "      <td>0.29</td>\n",
              "      <td>12.63</td>\n",
              "      <td>Good</td>\n",
              "      <td>Low</td>\n",
              "      <td>5.55</td>\n",
              "      <td>4.00</td>\n",
              "      <td>No</td>\n",
              "      <td>Positive</td>\n",
              "      <td>Yes</td>\n",
              "    </tr>\n",
              "    <tr>\n",
              "      <th>...</th>\n",
              "      <td>...</td>\n",
              "      <td>...</td>\n",
              "      <td>...</td>\n",
              "      <td>...</td>\n",
              "      <td>...</td>\n",
              "      <td>...</td>\n",
              "      <td>...</td>\n",
              "      <td>...</td>\n",
              "      <td>...</td>\n",
              "      <td>...</td>\n",
              "      <td>...</td>\n",
              "      <td>...</td>\n",
              "      <td>...</td>\n",
              "      <td>...</td>\n",
              "    </tr>\n",
              "    <tr>\n",
              "      <th>9995</th>\n",
              "      <td>USER-09996</td>\n",
              "      <td>42</td>\n",
              "      <td>Male</td>\n",
              "      <td>7.05</td>\n",
              "      <td>0.41</td>\n",
              "      <td>0.53</td>\n",
              "      <td>13.90</td>\n",
              "      <td>Good</td>\n",
              "      <td>Medium</td>\n",
              "      <td>7.37</td>\n",
              "      <td>5.02</td>\n",
              "      <td>Yes</td>\n",
              "      <td>Neutral</td>\n",
              "      <td>No</td>\n",
              "    </tr>\n",
              "    <tr>\n",
              "      <th>9996</th>\n",
              "      <td>USER-09997</td>\n",
              "      <td>31</td>\n",
              "      <td>Other</td>\n",
              "      <td>3.12</td>\n",
              "      <td>6.79</td>\n",
              "      <td>0.80</td>\n",
              "      <td>1.17</td>\n",
              "      <td>Fair</td>\n",
              "      <td>Medium</td>\n",
              "      <td>8.92</td>\n",
              "      <td>9.78</td>\n",
              "      <td>No</td>\n",
              "      <td>Neutral</td>\n",
              "      <td>Yes</td>\n",
              "    </tr>\n",
              "    <tr>\n",
              "      <th>9997</th>\n",
              "      <td>USER-09998</td>\n",
              "      <td>23</td>\n",
              "      <td>Male</td>\n",
              "      <td>4.38</td>\n",
              "      <td>3.98</td>\n",
              "      <td>0.52</td>\n",
              "      <td>7.81</td>\n",
              "      <td>Poor</td>\n",
              "      <td>High</td>\n",
              "      <td>7.59</td>\n",
              "      <td>2.99</td>\n",
              "      <td>No</td>\n",
              "      <td>Positive</td>\n",
              "      <td>No</td>\n",
              "    </tr>\n",
              "    <tr>\n",
              "      <th>9998</th>\n",
              "      <td>USER-09999</td>\n",
              "      <td>38</td>\n",
              "      <td>Male</td>\n",
              "      <td>4.44</td>\n",
              "      <td>1.48</td>\n",
              "      <td>3.28</td>\n",
              "      <td>13.95</td>\n",
              "      <td>Poor</td>\n",
              "      <td>Medium</td>\n",
              "      <td>7.26</td>\n",
              "      <td>2.24</td>\n",
              "      <td>Yes</td>\n",
              "      <td>Neutral</td>\n",
              "      <td>Yes</td>\n",
              "    </tr>\n",
              "    <tr>\n",
              "      <th>9999</th>\n",
              "      <td>USER-10000</td>\n",
              "      <td>41</td>\n",
              "      <td>Male</td>\n",
              "      <td>2.50</td>\n",
              "      <td>4.80</td>\n",
              "      <td>0.25</td>\n",
              "      <td>8.82</td>\n",
              "      <td>Fair</td>\n",
              "      <td>Low</td>\n",
              "      <td>4.62</td>\n",
              "      <td>5.09</td>\n",
              "      <td>Yes</td>\n",
              "      <td>Positive</td>\n",
              "      <td>Yes</td>\n",
              "    </tr>\n",
              "  </tbody>\n",
              "</table>\n",
              "<p>10000 rows × 14 columns</p>\n",
              "</div>\n",
              "    <div class=\"colab-df-buttons\">\n",
              "\n",
              "  <div class=\"colab-df-container\">\n",
              "    <button class=\"colab-df-convert\" onclick=\"convertToInteractive('df-05664ebb-b5ad-4587-a2af-aa97bb182a12')\"\n",
              "            title=\"Convert this dataframe to an interactive table.\"\n",
              "            style=\"display:none;\">\n",
              "\n",
              "  <svg xmlns=\"http://www.w3.org/2000/svg\" height=\"24px\" viewBox=\"0 -960 960 960\">\n",
              "    <path d=\"M120-120v-720h720v720H120Zm60-500h600v-160H180v160Zm220 220h160v-160H400v160Zm0 220h160v-160H400v160ZM180-400h160v-160H180v160Zm440 0h160v-160H620v160ZM180-180h160v-160H180v160Zm440 0h160v-160H620v160Z\"/>\n",
              "  </svg>\n",
              "    </button>\n",
              "\n",
              "  <style>\n",
              "    .colab-df-container {\n",
              "      display:flex;\n",
              "      gap: 12px;\n",
              "    }\n",
              "\n",
              "    .colab-df-convert {\n",
              "      background-color: #E8F0FE;\n",
              "      border: none;\n",
              "      border-radius: 50%;\n",
              "      cursor: pointer;\n",
              "      display: none;\n",
              "      fill: #1967D2;\n",
              "      height: 32px;\n",
              "      padding: 0 0 0 0;\n",
              "      width: 32px;\n",
              "    }\n",
              "\n",
              "    .colab-df-convert:hover {\n",
              "      background-color: #E2EBFA;\n",
              "      box-shadow: 0px 1px 2px rgba(60, 64, 67, 0.3), 0px 1px 3px 1px rgba(60, 64, 67, 0.15);\n",
              "      fill: #174EA6;\n",
              "    }\n",
              "\n",
              "    .colab-df-buttons div {\n",
              "      margin-bottom: 4px;\n",
              "    }\n",
              "\n",
              "    [theme=dark] .colab-df-convert {\n",
              "      background-color: #3B4455;\n",
              "      fill: #D2E3FC;\n",
              "    }\n",
              "\n",
              "    [theme=dark] .colab-df-convert:hover {\n",
              "      background-color: #434B5C;\n",
              "      box-shadow: 0px 1px 3px 1px rgba(0, 0, 0, 0.15);\n",
              "      filter: drop-shadow(0px 1px 2px rgba(0, 0, 0, 0.3));\n",
              "      fill: #FFFFFF;\n",
              "    }\n",
              "  </style>\n",
              "\n",
              "    <script>\n",
              "      const buttonEl =\n",
              "        document.querySelector('#df-05664ebb-b5ad-4587-a2af-aa97bb182a12 button.colab-df-convert');\n",
              "      buttonEl.style.display =\n",
              "        google.colab.kernel.accessAllowed ? 'block' : 'none';\n",
              "\n",
              "      async function convertToInteractive(key) {\n",
              "        const element = document.querySelector('#df-05664ebb-b5ad-4587-a2af-aa97bb182a12');\n",
              "        const dataTable =\n",
              "          await google.colab.kernel.invokeFunction('convertToInteractive',\n",
              "                                                    [key], {});\n",
              "        if (!dataTable) return;\n",
              "\n",
              "        const docLinkHtml = 'Like what you see? Visit the ' +\n",
              "          '<a target=\"_blank\" href=https://colab.research.google.com/notebooks/data_table.ipynb>data table notebook</a>'\n",
              "          + ' to learn more about interactive tables.';\n",
              "        element.innerHTML = '';\n",
              "        dataTable['output_type'] = 'display_data';\n",
              "        await google.colab.output.renderOutput(dataTable, element);\n",
              "        const docLink = document.createElement('div');\n",
              "        docLink.innerHTML = docLinkHtml;\n",
              "        element.appendChild(docLink);\n",
              "      }\n",
              "    </script>\n",
              "  </div>\n",
              "\n",
              "\n",
              "<div id=\"df-aa3d1432-c1cf-4f48-93f5-6a49f17943d3\">\n",
              "  <button class=\"colab-df-quickchart\" onclick=\"quickchart('df-aa3d1432-c1cf-4f48-93f5-6a49f17943d3')\"\n",
              "            title=\"Suggest charts\"\n",
              "            style=\"display:none;\">\n",
              "\n",
              "<svg xmlns=\"http://www.w3.org/2000/svg\" height=\"24px\"viewBox=\"0 0 24 24\"\n",
              "     width=\"24px\">\n",
              "    <g>\n",
              "        <path d=\"M19 3H5c-1.1 0-2 .9-2 2v14c0 1.1.9 2 2 2h14c1.1 0 2-.9 2-2V5c0-1.1-.9-2-2-2zM9 17H7v-7h2v7zm4 0h-2V7h2v10zm4 0h-2v-4h2v4z\"/>\n",
              "    </g>\n",
              "</svg>\n",
              "  </button>\n",
              "\n",
              "<style>\n",
              "  .colab-df-quickchart {\n",
              "      --bg-color: #E8F0FE;\n",
              "      --fill-color: #1967D2;\n",
              "      --hover-bg-color: #E2EBFA;\n",
              "      --hover-fill-color: #174EA6;\n",
              "      --disabled-fill-color: #AAA;\n",
              "      --disabled-bg-color: #DDD;\n",
              "  }\n",
              "\n",
              "  [theme=dark] .colab-df-quickchart {\n",
              "      --bg-color: #3B4455;\n",
              "      --fill-color: #D2E3FC;\n",
              "      --hover-bg-color: #434B5C;\n",
              "      --hover-fill-color: #FFFFFF;\n",
              "      --disabled-bg-color: #3B4455;\n",
              "      --disabled-fill-color: #666;\n",
              "  }\n",
              "\n",
              "  .colab-df-quickchart {\n",
              "    background-color: var(--bg-color);\n",
              "    border: none;\n",
              "    border-radius: 50%;\n",
              "    cursor: pointer;\n",
              "    display: none;\n",
              "    fill: var(--fill-color);\n",
              "    height: 32px;\n",
              "    padding: 0;\n",
              "    width: 32px;\n",
              "  }\n",
              "\n",
              "  .colab-df-quickchart:hover {\n",
              "    background-color: var(--hover-bg-color);\n",
              "    box-shadow: 0 1px 2px rgba(60, 64, 67, 0.3), 0 1px 3px 1px rgba(60, 64, 67, 0.15);\n",
              "    fill: var(--button-hover-fill-color);\n",
              "  }\n",
              "\n",
              "  .colab-df-quickchart-complete:disabled,\n",
              "  .colab-df-quickchart-complete:disabled:hover {\n",
              "    background-color: var(--disabled-bg-color);\n",
              "    fill: var(--disabled-fill-color);\n",
              "    box-shadow: none;\n",
              "  }\n",
              "\n",
              "  .colab-df-spinner {\n",
              "    border: 2px solid var(--fill-color);\n",
              "    border-color: transparent;\n",
              "    border-bottom-color: var(--fill-color);\n",
              "    animation:\n",
              "      spin 1s steps(1) infinite;\n",
              "  }\n",
              "\n",
              "  @keyframes spin {\n",
              "    0% {\n",
              "      border-color: transparent;\n",
              "      border-bottom-color: var(--fill-color);\n",
              "      border-left-color: var(--fill-color);\n",
              "    }\n",
              "    20% {\n",
              "      border-color: transparent;\n",
              "      border-left-color: var(--fill-color);\n",
              "      border-top-color: var(--fill-color);\n",
              "    }\n",
              "    30% {\n",
              "      border-color: transparent;\n",
              "      border-left-color: var(--fill-color);\n",
              "      border-top-color: var(--fill-color);\n",
              "      border-right-color: var(--fill-color);\n",
              "    }\n",
              "    40% {\n",
              "      border-color: transparent;\n",
              "      border-right-color: var(--fill-color);\n",
              "      border-top-color: var(--fill-color);\n",
              "    }\n",
              "    60% {\n",
              "      border-color: transparent;\n",
              "      border-right-color: var(--fill-color);\n",
              "    }\n",
              "    80% {\n",
              "      border-color: transparent;\n",
              "      border-right-color: var(--fill-color);\n",
              "      border-bottom-color: var(--fill-color);\n",
              "    }\n",
              "    90% {\n",
              "      border-color: transparent;\n",
              "      border-bottom-color: var(--fill-color);\n",
              "    }\n",
              "  }\n",
              "</style>\n",
              "\n",
              "  <script>\n",
              "    async function quickchart(key) {\n",
              "      const quickchartButtonEl =\n",
              "        document.querySelector('#' + key + ' button');\n",
              "      quickchartButtonEl.disabled = true;  // To prevent multiple clicks.\n",
              "      quickchartButtonEl.classList.add('colab-df-spinner');\n",
              "      try {\n",
              "        const charts = await google.colab.kernel.invokeFunction(\n",
              "            'suggestCharts', [key], {});\n",
              "      } catch (error) {\n",
              "        console.error('Error during call to suggestCharts:', error);\n",
              "      }\n",
              "      quickchartButtonEl.classList.remove('colab-df-spinner');\n",
              "      quickchartButtonEl.classList.add('colab-df-quickchart-complete');\n",
              "    }\n",
              "    (() => {\n",
              "      let quickchartButtonEl =\n",
              "        document.querySelector('#df-aa3d1432-c1cf-4f48-93f5-6a49f17943d3 button');\n",
              "      quickchartButtonEl.style.display =\n",
              "        google.colab.kernel.accessAllowed ? 'block' : 'none';\n",
              "    })();\n",
              "  </script>\n",
              "</div>\n",
              "\n",
              "  <div id=\"id_bb15d3f2-00ff-475b-9902-1d44f9353d67\">\n",
              "    <style>\n",
              "      .colab-df-generate {\n",
              "        background-color: #E8F0FE;\n",
              "        border: none;\n",
              "        border-radius: 50%;\n",
              "        cursor: pointer;\n",
              "        display: none;\n",
              "        fill: #1967D2;\n",
              "        height: 32px;\n",
              "        padding: 0 0 0 0;\n",
              "        width: 32px;\n",
              "      }\n",
              "\n",
              "      .colab-df-generate:hover {\n",
              "        background-color: #E2EBFA;\n",
              "        box-shadow: 0px 1px 2px rgba(60, 64, 67, 0.3), 0px 1px 3px 1px rgba(60, 64, 67, 0.15);\n",
              "        fill: #174EA6;\n",
              "      }\n",
              "\n",
              "      [theme=dark] .colab-df-generate {\n",
              "        background-color: #3B4455;\n",
              "        fill: #D2E3FC;\n",
              "      }\n",
              "\n",
              "      [theme=dark] .colab-df-generate:hover {\n",
              "        background-color: #434B5C;\n",
              "        box-shadow: 0px 1px 3px 1px rgba(0, 0, 0, 0.15);\n",
              "        filter: drop-shadow(0px 1px 2px rgba(0, 0, 0, 0.3));\n",
              "        fill: #FFFFFF;\n",
              "      }\n",
              "    </style>\n",
              "    <button class=\"colab-df-generate\" onclick=\"generateWithVariable('dataframe')\"\n",
              "            title=\"Generate code using this dataframe.\"\n",
              "            style=\"display:none;\">\n",
              "\n",
              "  <svg xmlns=\"http://www.w3.org/2000/svg\" height=\"24px\"viewBox=\"0 0 24 24\"\n",
              "       width=\"24px\">\n",
              "    <path d=\"M7,19H8.4L18.45,9,17,7.55,7,17.6ZM5,21V16.75L18.45,3.32a2,2,0,0,1,2.83,0l1.4,1.43a1.91,1.91,0,0,1,.58,1.4,1.91,1.91,0,0,1-.58,1.4L9.25,21ZM18.45,9,17,7.55Zm-12,3A5.31,5.31,0,0,0,4.9,8.1,5.31,5.31,0,0,0,1,6.5,5.31,5.31,0,0,0,4.9,4.9,5.31,5.31,0,0,0,6.5,1,5.31,5.31,0,0,0,8.1,4.9,5.31,5.31,0,0,0,12,6.5,5.46,5.46,0,0,0,6.5,12Z\"/>\n",
              "  </svg>\n",
              "    </button>\n",
              "    <script>\n",
              "      (() => {\n",
              "      const buttonEl =\n",
              "        document.querySelector('#id_bb15d3f2-00ff-475b-9902-1d44f9353d67 button.colab-df-generate');\n",
              "      buttonEl.style.display =\n",
              "        google.colab.kernel.accessAllowed ? 'block' : 'none';\n",
              "\n",
              "      buttonEl.onclick = () => {\n",
              "        google.colab.notebook.generateWithVariable('dataframe');\n",
              "      }\n",
              "      })();\n",
              "    </script>\n",
              "  </div>\n",
              "\n",
              "    </div>\n",
              "  </div>\n"
            ],
            "application/vnd.google.colaboratory.intrinsic+json": {
              "type": "dataframe",
              "variable_name": "dataframe",
              "summary": "{\n  \"name\": \"dataframe\",\n  \"rows\": 10000,\n  \"fields\": [\n    {\n      \"column\": \"User_ID\",\n      \"properties\": {\n        \"dtype\": \"string\",\n        \"num_unique_values\": 10000,\n        \"samples\": [\n          \"USER-06253\",\n          \"USER-04685\",\n          \"USER-01732\"\n        ],\n        \"semantic_type\": \"\",\n        \"description\": \"\"\n      }\n    },\n    {\n      \"column\": \"Age\",\n      \"properties\": {\n        \"dtype\": \"number\",\n        \"std\": 13,\n        \"min\": 18,\n        \"max\": 65,\n        \"num_unique_values\": 48,\n        \"samples\": [\n          44,\n          35,\n          41\n        ],\n        \"semantic_type\": \"\",\n        \"description\": \"\"\n      }\n    },\n    {\n      \"column\": \"Gender\",\n      \"properties\": {\n        \"dtype\": \"category\",\n        \"num_unique_values\": 3,\n        \"samples\": [\n          \"Female\",\n          \"Male\",\n          \"Other\"\n        ],\n        \"semantic_type\": \"\",\n        \"description\": \"\"\n      }\n    },\n    {\n      \"column\": \"Technology_Usage_Hours\",\n      \"properties\": {\n        \"dtype\": \"number\",\n        \"std\": 3.169022410148379,\n        \"min\": 1.0,\n        \"max\": 12.0,\n        \"num_unique_values\": 1101,\n        \"samples\": [\n          8.06,\n          3.8,\n          6.09\n        ],\n        \"semantic_type\": \"\",\n        \"description\": \"\"\n      }\n    },\n    {\n      \"column\": \"Social_Media_Usage_Hours\",\n      \"properties\": {\n        \"dtype\": \"number\",\n        \"std\": 2.31370664233858,\n        \"min\": 0.0,\n        \"max\": 8.0,\n        \"num_unique_values\": 801,\n        \"samples\": [\n          4.34,\n          6.87,\n          2.95\n        ],\n        \"semantic_type\": \"\",\n        \"description\": \"\"\n      }\n    },\n    {\n      \"column\": \"Gaming_Hours\",\n      \"properties\": {\n        \"dtype\": \"number\",\n        \"std\": 1.4467484959442913,\n        \"min\": 0.0,\n        \"max\": 5.0,\n        \"num_unique_values\": 501,\n        \"samples\": [\n          2.35,\n          4.94,\n          3.28\n        ],\n        \"semantic_type\": \"\",\n        \"description\": \"\"\n      }\n    },\n    {\n      \"column\": \"Screen_Time_Hours\",\n      \"properties\": {\n        \"dtype\": \"number\",\n        \"std\": 4.042607737897336,\n        \"min\": 1.0,\n        \"max\": 15.0,\n        \"num_unique_values\": 1400,\n        \"samples\": [\n          14.21,\n          7.09,\n          3.19\n        ],\n        \"semantic_type\": \"\",\n        \"description\": \"\"\n      }\n    },\n    {\n      \"column\": \"Mental_Health_Status\",\n      \"properties\": {\n        \"dtype\": \"category\",\n        \"num_unique_values\": 4,\n        \"samples\": [\n          \"Poor\",\n          \"Excellent\",\n          \"Good\"\n        ],\n        \"semantic_type\": \"\",\n        \"description\": \"\"\n      }\n    },\n    {\n      \"column\": \"Stress_Level\",\n      \"properties\": {\n        \"dtype\": \"category\",\n        \"num_unique_values\": 3,\n        \"samples\": [\n          \"Low\",\n          \"High\",\n          \"Medium\"\n        ],\n        \"semantic_type\": \"\",\n        \"description\": \"\"\n      }\n    },\n    {\n      \"column\": \"Sleep_Hours\",\n      \"properties\": {\n        \"dtype\": \"number\",\n        \"std\": 1.450933133028419,\n        \"min\": 4.0,\n        \"max\": 9.0,\n        \"num_unique_values\": 501,\n        \"samples\": [\n          8.06,\n          7.54,\n          6.86\n        ],\n        \"semantic_type\": \"\",\n        \"description\": \"\"\n      }\n    },\n    {\n      \"column\": \"Physical_Activity_Hours\",\n      \"properties\": {\n        \"dtype\": \"number\",\n        \"std\": 2.9050439116152496,\n        \"min\": 0.0,\n        \"max\": 10.0,\n        \"num_unique_values\": 1001,\n        \"samples\": [\n          0.92,\n          1.0,\n          4.76\n        ],\n        \"semantic_type\": \"\",\n        \"description\": \"\"\n      }\n    },\n    {\n      \"column\": \"Support_Systems_Access\",\n      \"properties\": {\n        \"dtype\": \"category\",\n        \"num_unique_values\": 2,\n        \"samples\": [\n          \"Yes\",\n          \"No\"\n        ],\n        \"semantic_type\": \"\",\n        \"description\": \"\"\n      }\n    },\n    {\n      \"column\": \"Work_Environment_Impact\",\n      \"properties\": {\n        \"dtype\": \"category\",\n        \"num_unique_values\": 3,\n        \"samples\": [\n          \"Negative\",\n          \"Positive\"\n        ],\n        \"semantic_type\": \"\",\n        \"description\": \"\"\n      }\n    },\n    {\n      \"column\": \"Online_Support_Usage\",\n      \"properties\": {\n        \"dtype\": \"category\",\n        \"num_unique_values\": 2,\n        \"samples\": [\n          \"No\",\n          \"Yes\"\n        ],\n        \"semantic_type\": \"\",\n        \"description\": \"\"\n      }\n    }\n  ]\n}"
            }
          },
          "metadata": {},
          "execution_count": 38
        }
      ]
    },
    {
      "cell_type": "markdown",
      "source": [
        " Visualização e Limpeza dos dados\n",
        "\n"
      ],
      "metadata": {
        "id": "MV90Tz5qHjz-"
      }
    },
    {
      "cell_type": "code",
      "source": [
        "#identificar as quantidades de linhas e colunas\n",
        "num_linhas = dataframe.shape[0]\n",
        "num_colunas = dataframe.shape[1]\n",
        "colunas = dataframe.columns.values\n",
        "\n",
        "print(f\"Número de linhas: {num_linhas} \\n\"\n",
        "      f\"Número de colunas: {num_colunas} \\n\"\n",
        "      f\"Colunas: {colunas} \\n\")"
      ],
      "metadata": {
        "colab": {
          "base_uri": "https://localhost:8080/"
        },
        "id": "1S5_6JAMHfwO",
        "outputId": "6ed7dad6-8d20-471f-f6b4-93f66df80729"
      },
      "execution_count": 4,
      "outputs": [
        {
          "output_type": "stream",
          "name": "stdout",
          "text": [
            "Número de linhas: 10000 \n",
            "Número de colunas: 14 \n",
            "Colunas: ['User_ID' 'Age' 'Gender' 'Technology_Usage_Hours'\n",
            " 'Social_Media_Usage_Hours' 'Gaming_Hours' 'Screen_Time_Hours'\n",
            " 'Mental_Health_Status' 'Stress_Level' 'Sleep_Hours'\n",
            " 'Physical_Activity_Hours' 'Support_Systems_Access'\n",
            " 'Work_Environment_Impact' 'Online_Support_Usage'] \n",
            "\n"
          ]
        }
      ]
    },
    {
      "cell_type": "code",
      "source": [
        "# Informações do dataframe\n",
        "dataframe.info()"
      ],
      "metadata": {
        "colab": {
          "base_uri": "https://localhost:8080/"
        },
        "outputId": "3a0e4823-abda-4104-a7ff-c4225633453f",
        "id": "W481EZZjH7kx"
      },
      "execution_count": 5,
      "outputs": [
        {
          "output_type": "stream",
          "name": "stdout",
          "text": [
            "<class 'pandas.core.frame.DataFrame'>\n",
            "RangeIndex: 10000 entries, 0 to 9999\n",
            "Data columns (total 14 columns):\n",
            " #   Column                    Non-Null Count  Dtype  \n",
            "---  ------                    --------------  -----  \n",
            " 0   User_ID                   10000 non-null  object \n",
            " 1   Age                       10000 non-null  int64  \n",
            " 2   Gender                    10000 non-null  object \n",
            " 3   Technology_Usage_Hours    10000 non-null  float64\n",
            " 4   Social_Media_Usage_Hours  10000 non-null  float64\n",
            " 5   Gaming_Hours              10000 non-null  float64\n",
            " 6   Screen_Time_Hours         10000 non-null  float64\n",
            " 7   Mental_Health_Status      10000 non-null  object \n",
            " 8   Stress_Level              10000 non-null  object \n",
            " 9   Sleep_Hours               10000 non-null  float64\n",
            " 10  Physical_Activity_Hours   10000 non-null  float64\n",
            " 11  Support_Systems_Access    10000 non-null  object \n",
            " 12  Work_Environment_Impact   10000 non-null  object \n",
            " 13  Online_Support_Usage      10000 non-null  object \n",
            "dtypes: float64(6), int64(1), object(7)\n",
            "memory usage: 1.1+ MB\n"
          ]
        }
      ]
    },
    {
      "cell_type": "code",
      "source": [
        "# Quantidade de nulos por coluna\n",
        "dataframe.isnull().sum()"
      ],
      "metadata": {
        "colab": {
          "base_uri": "https://localhost:8080/",
          "height": 523
        },
        "id": "ydO0XiVbIIE0",
        "outputId": "fe9c4b78-04c2-4cd6-8bb8-310fa676310b"
      },
      "execution_count": 6,
      "outputs": [
        {
          "output_type": "execute_result",
          "data": {
            "text/plain": [
              "User_ID                     0\n",
              "Age                         0\n",
              "Gender                      0\n",
              "Technology_Usage_Hours      0\n",
              "Social_Media_Usage_Hours    0\n",
              "Gaming_Hours                0\n",
              "Screen_Time_Hours           0\n",
              "Mental_Health_Status        0\n",
              "Stress_Level                0\n",
              "Sleep_Hours                 0\n",
              "Physical_Activity_Hours     0\n",
              "Support_Systems_Access      0\n",
              "Work_Environment_Impact     0\n",
              "Online_Support_Usage        0\n",
              "dtype: int64"
            ],
            "text/html": [
              "<div>\n",
              "<style scoped>\n",
              "    .dataframe tbody tr th:only-of-type {\n",
              "        vertical-align: middle;\n",
              "    }\n",
              "\n",
              "    .dataframe tbody tr th {\n",
              "        vertical-align: top;\n",
              "    }\n",
              "\n",
              "    .dataframe thead th {\n",
              "        text-align: right;\n",
              "    }\n",
              "</style>\n",
              "<table border=\"1\" class=\"dataframe\">\n",
              "  <thead>\n",
              "    <tr style=\"text-align: right;\">\n",
              "      <th></th>\n",
              "      <th>0</th>\n",
              "    </tr>\n",
              "  </thead>\n",
              "  <tbody>\n",
              "    <tr>\n",
              "      <th>User_ID</th>\n",
              "      <td>0</td>\n",
              "    </tr>\n",
              "    <tr>\n",
              "      <th>Age</th>\n",
              "      <td>0</td>\n",
              "    </tr>\n",
              "    <tr>\n",
              "      <th>Gender</th>\n",
              "      <td>0</td>\n",
              "    </tr>\n",
              "    <tr>\n",
              "      <th>Technology_Usage_Hours</th>\n",
              "      <td>0</td>\n",
              "    </tr>\n",
              "    <tr>\n",
              "      <th>Social_Media_Usage_Hours</th>\n",
              "      <td>0</td>\n",
              "    </tr>\n",
              "    <tr>\n",
              "      <th>Gaming_Hours</th>\n",
              "      <td>0</td>\n",
              "    </tr>\n",
              "    <tr>\n",
              "      <th>Screen_Time_Hours</th>\n",
              "      <td>0</td>\n",
              "    </tr>\n",
              "    <tr>\n",
              "      <th>Mental_Health_Status</th>\n",
              "      <td>0</td>\n",
              "    </tr>\n",
              "    <tr>\n",
              "      <th>Stress_Level</th>\n",
              "      <td>0</td>\n",
              "    </tr>\n",
              "    <tr>\n",
              "      <th>Sleep_Hours</th>\n",
              "      <td>0</td>\n",
              "    </tr>\n",
              "    <tr>\n",
              "      <th>Physical_Activity_Hours</th>\n",
              "      <td>0</td>\n",
              "    </tr>\n",
              "    <tr>\n",
              "      <th>Support_Systems_Access</th>\n",
              "      <td>0</td>\n",
              "    </tr>\n",
              "    <tr>\n",
              "      <th>Work_Environment_Impact</th>\n",
              "      <td>0</td>\n",
              "    </tr>\n",
              "    <tr>\n",
              "      <th>Online_Support_Usage</th>\n",
              "      <td>0</td>\n",
              "    </tr>\n",
              "  </tbody>\n",
              "</table>\n",
              "</div><br><label><b>dtype:</b> int64</label>"
            ]
          },
          "metadata": {},
          "execution_count": 6
        }
      ]
    },
    {
      "cell_type": "code",
      "source": [
        "# Etapa de Transformação:  dados renomeados para identificar o significado das colunas melhorar a análise\n",
        "dataframe_renomeado = dataframe.rename(columns={'User_ID': 'Usuario_ID', 'Age': 'Idade','Gender': 'Gênero', 'Technology_Usage_Hours': 'Horas_de_uso_da_tecnologia',\n",
        "                                                   'Social_Media_Usage_Hours': 'Horas de uso de mídias sociais', 'Gaming_Hours': 'Horas de jogo','Screen_Time_Hours': 'Horas_de_Tempo_de_Tela',  'Mental_Health_Status': 'Estado_de_Saúde_Mental', 'Stress_Level': 'Nível_de_estresse',  'Sleep_Hours': 'Horas de sono', 'Physical_Activity_Hours': 'Horas_de_Atividade_Física',\n",
        "                                                      'Support_Systems_Access': 'Suporte_Sistemas_Acesso', 'Work_Environment_Impact': 'Impacto_no_ambiente_de_trabalho', 'Online_Support_Usage': 'Uso_do_suporte_online', })\n",
        "\n",
        "colunas_atualizadas = dataframe_renomeado.columns.values\n",
        "\n",
        "print(f\"Colunas Atualizadas: {colunas_atualizadas} \\n\")"
      ],
      "metadata": {
        "colab": {
          "base_uri": "https://localhost:8080/"
        },
        "id": "lMkkRx7gRvar",
        "outputId": "f2a85ad1-9006-4637-9f25-7308dfc3bcfc"
      },
      "execution_count": 28,
      "outputs": [
        {
          "output_type": "stream",
          "name": "stdout",
          "text": [
            "Colunas Atualizadas: ['Usuario_ID' 'Idade' 'Gênero' 'Horas_de_uso_da_tecnologia'\n",
            " 'Horas de uso de mídias sociais' 'Horas de jogo' 'Horas_de_Tempo_de_Tela'\n",
            " 'Estado_de_Saúde_Mental' 'Nível_de_estresse' 'Horas de sono'\n",
            " 'Horas_de_Atividade_Física' 'Suporte_Sistemas_Acesso'\n",
            " 'Impacto_no_ambiente_de_trabalho' 'Uso_do_suporte_online'] \n",
            "\n"
          ]
        }
      ]
    },
    {
      "cell_type": "code",
      "source": [
        "# Quantidade de pessoas por Gênero\n",
        "#do pandas é utilizada para contar a quantidade de ocorrências de cada valor em uma coluna.\n",
        "#A coluna Gender será contada e retornará a quantidade de pessoas por gênero.\n",
        "contagem_genero = dataframe['Gender'].value_counts()\n",
        "contagem_genero\n",
        "\n"
      ],
      "metadata": {
        "colab": {
          "base_uri": "https://localhost:8080/",
          "height": 210
        },
        "id": "_Ir0JYOcR99L",
        "outputId": "3355b86a-7a58-42d6-d520-5d669821137b"
      },
      "execution_count": 29,
      "outputs": [
        {
          "output_type": "execute_result",
          "data": {
            "text/plain": [
              "Gender\n",
              "Other     3364\n",
              "Male      3350\n",
              "Female    3286\n",
              "Name: count, dtype: int64"
            ],
            "text/html": [
              "<div>\n",
              "<style scoped>\n",
              "    .dataframe tbody tr th:only-of-type {\n",
              "        vertical-align: middle;\n",
              "    }\n",
              "\n",
              "    .dataframe tbody tr th {\n",
              "        vertical-align: top;\n",
              "    }\n",
              "\n",
              "    .dataframe thead th {\n",
              "        text-align: right;\n",
              "    }\n",
              "</style>\n",
              "<table border=\"1\" class=\"dataframe\">\n",
              "  <thead>\n",
              "    <tr style=\"text-align: right;\">\n",
              "      <th></th>\n",
              "      <th>count</th>\n",
              "    </tr>\n",
              "    <tr>\n",
              "      <th>Gender</th>\n",
              "      <th></th>\n",
              "    </tr>\n",
              "  </thead>\n",
              "  <tbody>\n",
              "    <tr>\n",
              "      <th>Other</th>\n",
              "      <td>3364</td>\n",
              "    </tr>\n",
              "    <tr>\n",
              "      <th>Male</th>\n",
              "      <td>3350</td>\n",
              "    </tr>\n",
              "    <tr>\n",
              "      <th>Female</th>\n",
              "      <td>3286</td>\n",
              "    </tr>\n",
              "  </tbody>\n",
              "</table>\n",
              "</div><br><label><b>dtype:</b> int64</label>"
            ]
          },
          "metadata": {},
          "execution_count": 29
        }
      ]
    },
    {
      "cell_type": "code",
      "source": [
        "# Quantidade de pessoas por idade\n",
        "#value_conts(): do pandas é utilizada para contar a quantidade de ocorrências de cada valor em uma coluna.\n",
        "#a coluna Age será contada e retornará a quantidade de pessoas por idade.\n",
        "#  sort_index(): é utilizada para ordenar os dados de uma Series ou DataFrame de acordo com o índice.\n",
        "# contagem_idade será ordenada pelos valores do índice, que  contém faixas etárias ou valores de idade.\n",
        "# groupby() do pandas é usada para agrupar dados com base em uma ou mais colunas e realizar operações agregadas, como somas, médias, contagens, etc., em cada grupo\n",
        "contagem_idade= dataframe['Age'].value_counts()\n",
        "contagem_idade\n",
        "order_idade = contagem_idade.sort_index()\n",
        "order_idade\n",
        "groupby_idade = dataframe.groupby('Age')['Gender'].value_counts()\n",
        "groupby_idade"
      ],
      "metadata": {
        "colab": {
          "base_uri": "https://localhost:8080/",
          "height": 490
        },
        "id": "HS1a5QplSTd7",
        "outputId": "0e8fdc48-8dea-4d31-fad2-13c30fd6ada5"
      },
      "execution_count": 30,
      "outputs": [
        {
          "output_type": "execute_result",
          "data": {
            "text/plain": [
              "Age  Gender\n",
              "18   Other     78\n",
              "     Female    75\n",
              "     Male      67\n",
              "19   Male      63\n",
              "     Other     63\n",
              "               ..\n",
              "64   Female    72\n",
              "     Male      62\n",
              "65   Male      80\n",
              "     Other     78\n",
              "     Female    72\n",
              "Name: count, Length: 144, dtype: int64"
            ],
            "text/html": [
              "<div>\n",
              "<style scoped>\n",
              "    .dataframe tbody tr th:only-of-type {\n",
              "        vertical-align: middle;\n",
              "    }\n",
              "\n",
              "    .dataframe tbody tr th {\n",
              "        vertical-align: top;\n",
              "    }\n",
              "\n",
              "    .dataframe thead th {\n",
              "        text-align: right;\n",
              "    }\n",
              "</style>\n",
              "<table border=\"1\" class=\"dataframe\">\n",
              "  <thead>\n",
              "    <tr style=\"text-align: right;\">\n",
              "      <th></th>\n",
              "      <th></th>\n",
              "      <th>count</th>\n",
              "    </tr>\n",
              "    <tr>\n",
              "      <th>Age</th>\n",
              "      <th>Gender</th>\n",
              "      <th></th>\n",
              "    </tr>\n",
              "  </thead>\n",
              "  <tbody>\n",
              "    <tr>\n",
              "      <th rowspan=\"3\" valign=\"top\">18</th>\n",
              "      <th>Other</th>\n",
              "      <td>78</td>\n",
              "    </tr>\n",
              "    <tr>\n",
              "      <th>Female</th>\n",
              "      <td>75</td>\n",
              "    </tr>\n",
              "    <tr>\n",
              "      <th>Male</th>\n",
              "      <td>67</td>\n",
              "    </tr>\n",
              "    <tr>\n",
              "      <th rowspan=\"2\" valign=\"top\">19</th>\n",
              "      <th>Male</th>\n",
              "      <td>63</td>\n",
              "    </tr>\n",
              "    <tr>\n",
              "      <th>Other</th>\n",
              "      <td>63</td>\n",
              "    </tr>\n",
              "    <tr>\n",
              "      <th>...</th>\n",
              "      <th>...</th>\n",
              "      <td>...</td>\n",
              "    </tr>\n",
              "    <tr>\n",
              "      <th rowspan=\"2\" valign=\"top\">64</th>\n",
              "      <th>Female</th>\n",
              "      <td>72</td>\n",
              "    </tr>\n",
              "    <tr>\n",
              "      <th>Male</th>\n",
              "      <td>62</td>\n",
              "    </tr>\n",
              "    <tr>\n",
              "      <th rowspan=\"3\" valign=\"top\">65</th>\n",
              "      <th>Male</th>\n",
              "      <td>80</td>\n",
              "    </tr>\n",
              "    <tr>\n",
              "      <th>Other</th>\n",
              "      <td>78</td>\n",
              "    </tr>\n",
              "    <tr>\n",
              "      <th>Female</th>\n",
              "      <td>72</td>\n",
              "    </tr>\n",
              "  </tbody>\n",
              "</table>\n",
              "<p>144 rows × 1 columns</p>\n",
              "</div><br><label><b>dtype:</b> int64</label>"
            ]
          },
          "metadata": {},
          "execution_count": 30
        }
      ]
    },
    {
      "cell_type": "code",
      "source": [
        "#quantidade de respostas de acordo com a percepção de nível de estresse em relação ao gênero\n",
        "#A função crosstab() do pandas é usada para criar uma tabela de frequência cruzada entre duas ou mais colunas.\n",
        "# Ela é útil para gerar tabelas de contingência que mostram a relação entre variáveis categóricas, como a contagem de ocorrências entre elas.\n",
        "dataframe_crosstab = pd.crosstab(dataframe['Gender'], dataframe['Stress_Level'])\n",
        "print(dataframe_crosstab)"
      ],
      "metadata": {
        "colab": {
          "base_uri": "https://localhost:8080/"
        },
        "id": "2px9ffYGRKuq",
        "outputId": "ae8aada2-0f92-4478-b36d-c4ef68d6aaf1"
      },
      "execution_count": 26,
      "outputs": [
        {
          "output_type": "stream",
          "name": "stdout",
          "text": [
            "Stress_Level  High   Low  Medium\n",
            "Gender                          \n",
            "Female        1107  1099    1080\n",
            "Male          1110  1120    1120\n",
            "Other         1113  1113    1138\n"
          ]
        }
      ]
    },
    {
      "cell_type": "markdown",
      "source": [
        "De acordo com o resultado os niveis de estresse para o gênero feminino como alto teve maior incidência.\n",
        "Para o gênero masculino o nível médio e baixo teve a mesma quantidade.\n",
        "Para o gênero outros o nível de stress médio teve maior incidência.\n"
      ],
      "metadata": {
        "id": "ghnh8pKpd_Xc"
      }
    },
    {
      "cell_type": "code",
      "source": [
        "#quantidade de respostas de acordo com a percepção a sensação do estado mental em relação ao gênero\n",
        "dataframe_crosstab = pd.crosstab(dataframe['Gender'], dataframe['Mental_Health_Status'])\n",
        "print(dataframe_crosstab)"
      ],
      "metadata": {
        "colab": {
          "base_uri": "https://localhost:8080/"
        },
        "id": "Id2zBo6XRTVT",
        "outputId": "828411a7-32d0-48f4-eb78-21268e41d0f9"
      },
      "execution_count": 27,
      "outputs": [
        {
          "output_type": "stream",
          "name": "stdout",
          "text": [
            "Mental_Health_Status  Excellent  Fair  Good  Poor\n",
            "Gender                                           \n",
            "Female                      846   779   847   814\n",
            "Male                        840   833   823   854\n",
            "Other                       832   878   838   816\n"
          ]
        }
      ]
    },
    {
      "cell_type": "markdown",
      "source": [
        "De acordo com o resultado o estado de saúde mental para o gênero feminino como 'Excelente\" teve maior incidência. Para o gênero masculino o estado de saúde mental ruim teve maior incidência. Para o gênero outros o estado de saúde razoável maior incidência.\n",
        "É possivel notar resultados interessantes pois a exemplo: apesar das mulheres em sua maioria descrevem estarem estressadas, a maioria classifica seu estado mental como Excelente.\n",
        "Para o gênero masculino os resultados possuem mais relação entre o nível de strees entre médio e baixo com a percepção do estado mental(ruim).\n",
        "Para o gênero outros os resultados possuem mais relação entre o nível de strees entre médio  com a percepção do estado mental(razoável).\n"
      ],
      "metadata": {
        "id": "o9EGG5oUhYe7"
      }
    },
    {
      "cell_type": "code",
      "source": [
        "dataframe_crosstab = pd.crosstab(dataframe['Gender'], dataframe['Work_Environment_Impact'])\n",
        "print(dataframe_crosstab)"
      ],
      "metadata": {
        "colab": {
          "base_uri": "https://localhost:8080/"
        },
        "id": "LPs9IR8yVQKm",
        "outputId": "d1649fb0-6fa9-412f-8356-4fe82bda24fa"
      },
      "execution_count": 24,
      "outputs": [
        {
          "output_type": "stream",
          "name": "stdout",
          "text": [
            "Work_Environment_Impact  Negative  Neutral  Positive\n",
            "Gender                                              \n",
            "Female                       1112     1069      1105\n",
            "Male                         1129     1119      1102\n",
            "Other                        1137     1124      1103\n"
          ]
        }
      ]
    },
    {
      "cell_type": "markdown",
      "source": [
        "Nessa tabela é possível identificar a quantidade de respostas sobre a sensação ao impacto no ambiente de trabalho em relação ao uso de tecnologias(telas, redes sociais, jogos, videogames).\n",
        "A maioria acreditar ter impacto negativo, mas há uma variação pequena nas quantidade das respostas.\n"
      ],
      "metadata": {
        "id": "_6jmEHfeFw7u"
      }
    },
    {
      "cell_type": "code",
      "source": [
        "# Aplicar uma função que classifica os genêros a média de horas de sono\n",
        "dataframe_horas_sono = dataframe.groupby('Gender')['Sleep_Hours'].mean()\n",
        "print(dataframe_horas_sono)\n"
      ],
      "metadata": {
        "colab": {
          "base_uri": "https://localhost:8080/"
        },
        "id": "keSd5dKjdDLC",
        "outputId": "7f32aac6-113b-49b3-e5fd-e86453a240cf"
      },
      "execution_count": 37,
      "outputs": [
        {
          "output_type": "stream",
          "name": "stdout",
          "text": [
            "Gender\n",
            "Female    6.502684\n",
            "Male      6.497627\n",
            "Other     6.501894\n",
            "Name: Sleep_Hours, dtype: float64\n"
          ]
        }
      ]
    },
    {
      "cell_type": "markdown",
      "source": [
        "Os grupos de genêro apresentam uma média de horas de sono aproximadas.\n",
        "\n",
        "> Adicionar aspas\n",
        "\n"
      ],
      "metadata": {
        "id": "W6MVupGdmhUG"
      }
    },
    {
      "source": [
        "# Aplicar uma função que classifica os generos a atividade física\n",
        "dataframe_horas_at = dataframe.groupby('Gender')['Physical_Activity_Hours'].mean() # Define dataframe_horas_at and assign the result to the variable itself, not an attribute.\n",
        "print(dataframe_horas_at)\n"
      ],
      "cell_type": "code",
      "metadata": {
        "colab": {
          "base_uri": "https://localhost:8080/"
        },
        "id": "59uQmKatEmXW",
        "outputId": "501d57a1-7739-4d34-909b-6f8690353850"
      },
      "execution_count": 25,
      "outputs": [
        {
          "output_type": "stream",
          "name": "stdout",
          "text": [
            "Gender\n",
            "Female    5.011625\n",
            "Male      5.003287\n",
            "Other     4.996846\n",
            "Name: Physical_Activity_Hours, dtype: float64\n"
          ]
        }
      ]
    },
    {
      "cell_type": "markdown",
      "source": [
        "Os grupos de genêro apresentam uma média de horas praticando atividade físicas aproximadas."
      ],
      "metadata": {
        "id": "-94G5cAmm1PG"
      }
    },
    {
      "cell_type": "code",
      "source": [
        "dataframe_horas_tela = dataframe.groupby('Gender')['Screen_Time_Hours'].mean()\n",
        "print(dataframe_horas_tela)\n",
        "\n"
      ],
      "metadata": {
        "colab": {
          "base_uri": "https://localhost:8080/"
        },
        "id": "-vf2PcW-Vx_5",
        "outputId": "5244ed53-7f38-4cf6-f9f6-1db7475553f8"
      },
      "execution_count": 22,
      "outputs": [
        {
          "output_type": "stream",
          "name": "stdout",
          "text": [
            "Gender\n",
            "Female    8.078010\n",
            "Male      7.868096\n",
            "Other     7.983112\n",
            "Name: Screen_Time_Hours, dtype: float64\n"
          ]
        }
      ]
    },
    {
      "cell_type": "markdown",
      "source": [
        "O grupo do gênero feminimo passa mais tem nas telas."
      ],
      "metadata": {
        "id": "oSm28K7onBxE"
      }
    },
    {
      "cell_type": "code",
      "source": [
        "dataframe_saude_mental = dataframe.groupby('Gender')['Mental_Health_Status'].value_counts()\n",
        "print(dataframe_saude_mental)"
      ],
      "metadata": {
        "colab": {
          "base_uri": "https://localhost:8080/"
        },
        "id": "mXbcmaOgWGo1",
        "outputId": "bf3a9568-85b1-41a0-a9b7-38523b69a656"
      },
      "execution_count": 11,
      "outputs": [
        {
          "output_type": "stream",
          "name": "stdout",
          "text": [
            "Gender  Mental_Health_Status\n",
            "Female  Good                    847\n",
            "        Excellent               846\n",
            "        Poor                    814\n",
            "        Fair                    779\n",
            "Male    Poor                    854\n",
            "        Excellent               840\n",
            "        Fair                    833\n",
            "        Good                    823\n",
            "Other   Fair                    878\n",
            "        Good                    838\n",
            "        Excellent               832\n",
            "        Poor                    816\n",
            "Name: count, dtype: int64\n"
          ]
        }
      ]
    },
    {
      "cell_type": "code",
      "source": [
        "# Criando uma tabela cruzada\n",
        "dataframe_crosstab = pd.crosstab(dataframe['Gender'], dataframe['Age'])\n",
        "print(dataframe_crosstab)\n",
        "dataframe_crosstab = pd.crosstab(dataframe['Gender'], dataframe['Screen_Time_Hours'],)\n",
        "print(dataframe_crosstab)\n",
        "groupby_gender = dataframe.groupby('Gender')['Screen_Time_Hours'].mean()\n",
        "print(groupby_gender)\n",
        "# aqui é possivel notar que os entrevistados possuem a faixa etária de 18 as 65, com uma quantidade homogênea entre as idades.\n",
        "# e as horas de tela varia de 1 a 15 horas\n",
        "#identicação de gênero: feminino, masculino, outros."
      ],
      "metadata": {
        "colab": {
          "base_uri": "https://localhost:8080/"
        },
        "id": "0-mQoAiXKa0X",
        "outputId": "89d9fadd-afb5-429e-c39d-08cc5b24b67c"
      },
      "execution_count": 15,
      "outputs": [
        {
          "output_type": "stream",
          "name": "stdout",
          "text": [
            "Age     18  19  20  21  22  23  24  25  26  27  ...  56  57  58  59  60  61  \\\n",
            "Gender                                          ...                           \n",
            "Female  75  52  58  67  65  67  62  70  77  71  ...  71  73  64  78  63  66   \n",
            "Male    67  63  74  81  71  84  71  70  75  64  ...  65  68  59  82  54  60   \n",
            "Other   78  63  82  68  80  65  79  82  68  75  ...  67  77  73  75  69  61   \n",
            "\n",
            "Age     62  63  64  65  \n",
            "Gender                  \n",
            "Female  79  72  72  72  \n",
            "Male    81  70  62  80  \n",
            "Other   85  65  74  78  \n",
            "\n",
            "[3 rows x 48 columns]\n",
            "Screen_Time_Hours  1.00   1.01   1.02   1.03   1.04   1.05   1.06   1.07   \\\n",
            "Gender                                                                      \n",
            "Female                 0      1      4      2      1      4      3      1   \n",
            "Male                   2      2      1      2      2      3      1      3   \n",
            "Other                  1      4      0      2      2      1      1      1   \n",
            "\n",
            "Screen_Time_Hours  1.08   1.09   ...  14.91  14.92  14.93  14.94  14.95  \\\n",
            "Gender                           ...                                      \n",
            "Female                 2      2  ...      6      5      2      2      4   \n",
            "Male                   2      5  ...      2      3      1      2      2   \n",
            "Other                  1      3  ...      3      2      1      2      5   \n",
            "\n",
            "Screen_Time_Hours  14.96  14.97  14.98  14.99  15.00  \n",
            "Gender                                                \n",
            "Female                 4      3      1      0      1  \n",
            "Male                   1      1      3      2      3  \n",
            "Other                  2      1      2      3      4  \n",
            "\n",
            "[3 rows x 1400 columns]\n",
            "Gender\n",
            "Female    8.078010\n",
            "Male      7.868096\n",
            "Other     7.983112\n",
            "Name: Screen_Time_Hours, dtype: float64\n"
          ]
        }
      ]
    },
    {
      "cell_type": "code",
      "source": [
        "# Calcular a tabulação cruzada de Gênero e Status de Saúde Mental,\n",
        "# agregando Horas de Uso de Tecnologia com a função média\n",
        "\n",
        "dataframe_crosstab = pd.crosstab(dataframe['Gender'], dataframe['Mental_Health_Status'], values=dataframe['Technology_Usage_Hours'], aggfunc='mean')\n",
        "print(dataframe_crosstab)\n",
        "\n",
        "\n"
      ],
      "metadata": {
        "colab": {
          "base_uri": "https://localhost:8080/"
        },
        "id": "HitPidcZAqrC",
        "outputId": "3cc5e41b-aded-400c-cb60-3934f79854bc"
      },
      "execution_count": 16,
      "outputs": [
        {
          "output_type": "stream",
          "name": "stdout",
          "text": [
            "Mental_Health_Status  Excellent      Fair      Good      Poor\n",
            "Gender                                                       \n",
            "Female                 6.439634  6.174326  6.608654  6.772948\n",
            "Male                   6.455131  6.374454  6.427023  6.419180\n",
            "Other                  6.422055  6.488747  6.570501  6.525699\n"
          ]
        }
      ]
    },
    {
      "cell_type": "code",
      "source": [
        "data = {\n",
        "    'Mental_Health_Status': ['Excellent', 'Fair', 'Good', 'Poor'],\n",
        "    'Female': [6.439634, 6.174326, 6.608654, 6.772948],\n",
        "    'Male': [6.455131, 6.374454, 6.427023, 6.419180],\n",
        "    'Other': [6.422055, 6.488747, 6.570501, 6.525699]\n",
        "}\n",
        "\n",
        "# Criando um DataFrame com os dados\n",
        "df = pd.DataFrame(data)\n",
        "\n",
        "# Definindo o gráfico de barras\n",
        "df.set_index('Mental_Health_Status').plot(kind='bar', figsize=(10,6))\n",
        "\n",
        "# Adicionando rótulos e título\n",
        "plt.title('Mental Health Status by Gender')\n",
        "plt.xlabel('Mental Health Status')\n",
        "plt.ylabel('Mean Score')\n",
        "plt.xticks(rotation=0)  # Rotaciona os labels do eixo x\n",
        "\n",
        "# Exibindo o gráfico\n",
        "plt.legend(title='Gender')\n",
        "plt.show()\n"
      ],
      "metadata": {
        "colab": {
          "base_uri": "https://localhost:8080/",
          "height": 564
        },
        "id": "0x66XwX0bz5a",
        "outputId": "9e447960-7e19-4394-b63b-59f41b6cd266"
      },
      "execution_count": 35,
      "outputs": [
        {
          "output_type": "display_data",
          "data": {
            "text/plain": [
              "<Figure size 1000x600 with 1 Axes>"
            ],
            "image/png": "[encoded data removed]"
          },
          "metadata": {}
        }
      ]
    },
    {
      "cell_type": "markdown",
      "source": [
        "Pela relação apresentada acima as médias de horas usando tecnologia, a variação de horas usando tecnologia é pequena em relação ao estado mental. Mas o gênero feminimo que informou estado mental ruim fica um puco mais nas telas. o gênero masculino e outros, possui médias muito próximnas entre horas usando tecnologia e sua relação com a sensação dos estado mental. Acredito ser possivel inferir que a sensação do estado mental ao tempo de usando tecnologia não tenham uma realação significativa de acordo com as respostas no contexto de horas usando teconologia.\n",
        "\n",
        "Excellent: Excelente / Fair: Razoável/ Good: Bom/ Poor: Ruim"
      ],
      "metadata": {
        "id": "4PoHgP0yAsjJ"
      }
    },
    {
      "cell_type": "code",
      "source": [
        "\n",
        "dataframe_crosstab = pd.crosstab(dataframe['Gender'], dataframe['Mental_Health_Status'], values=dataframe['Social_Media_Usage_Hours'], aggfunc='mean')\n",
        "print(dataframe_crosstab)"
      ],
      "metadata": {
        "colab": {
          "base_uri": "https://localhost:8080/"
        },
        "id": "ccHkKUsEA2_F",
        "outputId": "999bfa2b-056f-4eee-d104-4e9f91702555"
      },
      "execution_count": 17,
      "outputs": [
        {
          "output_type": "stream",
          "name": "stdout",
          "text": [
            "Mental_Health_Status  Excellent      Fair      Good      Poor\n",
            "Gender                                                       \n",
            "Female                 3.845260  4.110244  3.940130  3.953956\n",
            "Male                   4.024190  3.991393  4.072260  3.895152\n",
            "Other                  3.919147  3.977802  3.949212  4.003272\n"
          ]
        }
      ]
    },
    {
      "cell_type": "markdown",
      "source": [
        "Resolvi verificar as horas dedicadas a mídias sociais para verificar se há diferenças referente a análise anterior.\n",
        "\n",
        "Nesse sentido apesar das pequenas diferenças em relação as médias, para os grupos a sensação de estado mental são distintas entre si. Para as mulheres que passam mais tempo em redes sociais seu estado mental é razoável, diferente do tempo dedicado a telas que a sensação estado mental era ruim. Para os homens que passam mais tempo em redes sociais seu estado mental é bom, semelhante ao tempo dedicadas a telas. Para os outros que passam mais tempo em redes sociais seu estado mental é ruim, diferente do tempo dedicado a telas que a sensação estado mental era razoável."
      ],
      "metadata": {
        "id": "wup_l88yBBys"
      }
    },
    {
      "cell_type": "code",
      "source": [
        "\n",
        "dataframe_crosstab = pd.crosstab(dataframe['Gender'], dataframe['Mental_Health_Status'], values=dataframe['Social_Media_Usage_Hours'], aggfunc='mean')\n",
        "print(dataframe_crosstab)"
      ],
      "metadata": {
        "colab": {
          "base_uri": "https://localhost:8080/"
        },
        "id": "808hlt0UBWA8",
        "outputId": "d6b16ecf-280a-4f47-f774-ee346594700e"
      },
      "execution_count": 18,
      "outputs": [
        {
          "output_type": "stream",
          "name": "stdout",
          "text": [
            "Mental_Health_Status  Excellent      Fair      Good      Poor\n",
            "Gender                                                       \n",
            "Female                 3.845260  4.110244  3.940130  3.953956\n",
            "Male                   4.024190  3.991393  4.072260  3.895152\n",
            "Other                  3.919147  3.977802  3.949212  4.003272\n"
          ]
        }
      ]
    },
    {
      "cell_type": "markdown",
      "source": [
        "Resolvi verificar as horas dedicadas a mídias sociais para verificar se há diferenças referente a análise anterior.\n",
        "\n",
        "Nesse sentido  apesar das pequenas diferenças em relação as médias, para os grupos a sensação de estado mental são distintas entre si.\n",
        "Para as mulheres  que passam mais tempo em redes sociais seu estado mental é razoável, diferente do tempo dedicado a telas que a sensação estado mental era ruim.\n",
        "Para os homens  que passam mais tempo  em redes sociais seu estado mental é bom, semelhante ao tempo dedicadas a telas.\n",
        "Para os outros  que passam mais tempo em redes sociais seu estado mental é ruim, diferente do tempo dedicado a telas que a sensação estado mental era  razoável."
      ],
      "metadata": {
        "id": "Ba3nw0nHBYfG"
      }
    },
    {
      "cell_type": "markdown",
      "source": [],
      "metadata": {
        "id": "XZjITheTZOdE"
      }
    }
  ]
}