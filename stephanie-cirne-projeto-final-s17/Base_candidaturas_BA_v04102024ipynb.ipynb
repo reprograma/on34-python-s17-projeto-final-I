{
  "cells": [
    {
      "cell_type": "markdown",
      "metadata": {
        "id": "zLhKXtYHTY3y"
      },
      "source": [
        "## Sobre o projeto\n",
        "\n",
        "**Problema:**\n",
        "\n",
        "\n",
        "Segundo o IBGE (Censo 2022),  54,4% da população soteropolitana é composta de mulheres. A cidade também concentra a menor proporção de pessoas brancas no Brasil, [pretos e pardos ](https://g1.globo.com/ba/bahia/noticia/2023/12/22/censo-2022-cor-ou-raca-municipios-da-bahia.ghtml)somam 88.2% da população. O estudo visa investigar a representação de mulheres e pessoas negras nas candidaturas a vereança na capital baiana.\n",
        "\n",
        "\n",
        "**Perguntas a serem respondidas:**\n",
        "\n",
        "\n",
        "- Qual número de candidaturas de homens x mulheres\n",
        "- Qual é o avanço da proporção homens x mulheres de 2016 - 2024?\n",
        "- Qual é a raça dos candidatos?\n",
        "- Qual é a escolaridade dos candidatos?\n",
        "\n",
        "\n",
        "**Plano de trabalho:**\n",
        "\n",
        "\n",
        "Utilizaremos a biblioteca Pandas para tratar os dados e o Tableau para DataViz.\n",
        "\n",
        "\n",
        "**1)Exploração da planilha:** leitura exploratória para entender a disposição e teor dos dados\n",
        "\n",
        "\n",
        "**2)Exclusão de colunas:** exclusão de colunas que não serão utilizadas\n",
        "\n",
        "\n",
        "**3)Limpeza de base:** verificação de valores duplicados ou nulos\n",
        "\n",
        "\n",
        "**4)Filtragem:** aplicação dos filtros da cidade \"salvador\" e cargo \"vereador\"\n",
        "\n",
        "**5) Calculo de idade:** calculo de idade a partir das colunas 'DT_NASCIMENTO' e 'ANO_ELEICAO'\n",
        "\n",
        "\n",
        "**6)Relacionamento entre planilhas:**checagem de número e ordem de colunas, para aglutinar as planilhas de 2024, 2020 e 2016\n",
        "\n",
        "\n",
        "**7)Refinamento:** ajustes na base após migração para Tableau\n",
        "\n",
        "\n",
        "**8)Exportação:**exportação da base csv\n",
        "\n"
      ]
    },
    {
      "cell_type": "markdown",
      "metadata": {
        "id": "MU7EhqwTU6Y7"
      },
      "source": [
        "#Fonte bases\n",
        "\n",
        "**Fontes que já foram disponibilizadas limpas, portanto serão anexadas diretamente no Tableau:**\n",
        "\n",
        "**Eleitorado (UF: BA/ Municipio: Salvador/Perfil do eleitorado/ Masculino x Feminino)**\n",
        "https://sig.tse.jus.br/ords/dwapr/r/seai/sig-eleicao-eleitorado/painel-perfil-eleitorado?clear=17&session=3744905316104\n",
        "\n",
        "\n",
        "\n",
        "**Fontes que vamos tratar com Pandas:**\n",
        "\n",
        "\n",
        "**2024** - https://dadosabertos.tse.jus.br/dataset/candidatos-2024\n",
        "\n",
        "**2020** - https://dadosabertos.tse.jus.br/dataset/candidatos-2020-subtemas\n",
        "\n",
        "**2016** - https://dadosabertos.tse.jus.br/dataset/candidatos-2016/resource/8ecf472b-9caa-4755-9faa-b95bd7aef0d3"
      ]
    },
    {
      "cell_type": "markdown",
      "metadata": {
        "id": "DTwyv9CUKK9d"
      },
      "source": [
        "# Base 2024"
      ]
    },
    {
      "cell_type": "code",
      "execution_count": 1,
      "metadata": {
        "id": "hRGKeEfpKSI_"
      },
      "outputs": [],
      "source": [
        "import pandas as pd\n",
        "df = pd.read_csv('consulta_cand_2024_BA.csv', sep=';',encoding='latin-1')\n",
        "df_copy_2024 = df"
      ]
    },
    {
      "cell_type": "code",
      "execution_count": 2,
      "metadata": {
        "colab": {
          "base_uri": "https://localhost:8080/"
        },
        "id": "8ij1AA46Ced6",
        "outputId": "b5639ad7-3edf-4148-adbc-5bd5642b9076"
      },
      "outputs": [
        {
          "data": {
            "text/plain": [
              "array(['08/08/1965', '04/03/1985', '20/01/1958', ..., '05/07/1959',\n",
              "       '02/05/1963', '01/03/2001'], dtype=object)"
            ]
          },
          "execution_count": 2,
          "metadata": {},
          "output_type": "execute_result"
        }
      ],
      "source": [
        "colum1 = df_copy_2024 ['DT_NASCIMENTO']\n",
        "colum1.unique()\n"
      ]
    },
    {
      "cell_type": "code",
      "execution_count": 3,
      "metadata": {
        "id": "BSvMQQN1q14r"
      },
      "outputs": [],
      "source": [
        "#convertendo a coluna de data que está em object para data\n",
        "\n",
        "df_copy_2024['DT_NASCIMENTO'] = pd.to_datetime(df_copy_2024['DT_NASCIMENTO'],format='%d/%m/%Y')"
      ]
    },
    {
      "cell_type": "code",
      "execution_count": 4,
      "metadata": {
        "colab": {
          "base_uri": "https://localhost:8080/"
        },
        "id": "3KeRdf5OrSQl",
        "outputId": "42db2384-32cf-4b27-d8f4-1b93a4688087"
      },
      "outputs": [
        {
          "name": "stdout",
          "output_type": "stream",
          "text": [
            "<class 'pandas.core.frame.DataFrame'>\n",
            "RangeIndex: 35199 entries, 0 to 35198\n",
            "Data columns (total 50 columns):\n",
            " #   Column                         Non-Null Count  Dtype         \n",
            "---  ------                         --------------  -----         \n",
            " 0   DT_GERACAO                     35199 non-null  object        \n",
            " 1   HH_GERACAO                     35199 non-null  object        \n",
            " 2   ANO_ELEICAO                    35199 non-null  int64         \n",
            " 3   CD_TIPO_ELEICAO                35199 non-null  int64         \n",
            " 4   NM_TIPO_ELEICAO                35199 non-null  object        \n",
            " 5   NR_TURNO                       35199 non-null  int64         \n",
            " 6   CD_ELEICAO                     35199 non-null  int64         \n",
            " 7   DS_ELEICAO                     35199 non-null  object        \n",
            " 8   DT_ELEICAO                     35199 non-null  object        \n",
            " 9   TP_ABRANGENCIA_ELEICAO         35199 non-null  object        \n",
            " 10  SG_UF                          35199 non-null  object        \n",
            " 11  SG_UE                          35199 non-null  int64         \n",
            " 12  NM_UE                          35199 non-null  object        \n",
            " 13  CD_CARGO                       35199 non-null  int64         \n",
            " 14  DS_CARGO                       35199 non-null  object        \n",
            " 15  SQ_CANDIDATO                   35199 non-null  int64         \n",
            " 16  NR_CANDIDATO                   35199 non-null  int64         \n",
            " 17  NM_CANDIDATO                   35199 non-null  object        \n",
            " 18  NM_URNA_CANDIDATO              35199 non-null  object        \n",
            " 19  NM_SOCIAL_CANDIDATO            35199 non-null  object        \n",
            " 20  NR_CPF_CANDIDATO               35199 non-null  int64         \n",
            " 21  DS_EMAIL                       35199 non-null  object        \n",
            " 22  CD_SITUACAO_CANDIDATURA        35199 non-null  int64         \n",
            " 23  DS_SITUACAO_CANDIDATURA        35199 non-null  object        \n",
            " 24  TP_AGREMIACAO                  35199 non-null  object        \n",
            " 25  NR_PARTIDO                     35199 non-null  int64         \n",
            " 26  SG_PARTIDO                     35199 non-null  object        \n",
            " 27  NM_PARTIDO                     35199 non-null  object        \n",
            " 28  NR_FEDERACAO                   35199 non-null  int64         \n",
            " 29  NM_FEDERACAO                   35199 non-null  object        \n",
            " 30  SG_FEDERACAO                   35199 non-null  object        \n",
            " 31  DS_COMPOSICAO_FEDERACAO        35199 non-null  object        \n",
            " 32  SQ_COLIGACAO                   35199 non-null  int64         \n",
            " 33  NM_COLIGACAO                   35199 non-null  object        \n",
            " 34  DS_COMPOSICAO_COLIGACAO        35199 non-null  object        \n",
            " 35  SG_UF_NASCIMENTO               35199 non-null  object        \n",
            " 36  DT_NASCIMENTO                  35199 non-null  datetime64[ns]\n",
            " 37  NR_TITULO_ELEITORAL_CANDIDATO  35199 non-null  int64         \n",
            " 38  CD_GENERO                      35199 non-null  int64         \n",
            " 39  DS_GENERO                      35199 non-null  object        \n",
            " 40  CD_GRAU_INSTRUCAO              35199 non-null  int64         \n",
            " 41  DS_GRAU_INSTRUCAO              35199 non-null  object        \n",
            " 42  CD_ESTADO_CIVIL                35199 non-null  int64         \n",
            " 43  DS_ESTADO_CIVIL                35199 non-null  object        \n",
            " 44  CD_COR_RACA                    35199 non-null  int64         \n",
            " 45  DS_COR_RACA                    35199 non-null  object        \n",
            " 46  CD_OCUPACAO                    35199 non-null  int64         \n",
            " 47  DS_OCUPACAO                    35199 non-null  object        \n",
            " 48  CD_SIT_TOT_TURNO               35199 non-null  int64         \n",
            " 49  DS_SIT_TOT_TURNO               35199 non-null  object        \n",
            "dtypes: datetime64[ns](1), int64(20), object(29)\n",
            "memory usage: 13.4+ MB\n"
          ]
        }
      ],
      "source": [
        "df_copy_2024.info()"
      ]
    },
    {
      "cell_type": "markdown",
      "metadata": {
        "id": "U9qBbKRPMVIU"
      },
      "source": [
        "## **Colunas mantidas - 2024**\n",
        "\n",
        "*   ANO_ELEICAO\t - Ano da eleição.\n",
        "\n",
        "*   NM_UE - Nome da unidade da federação (estado).\n",
        "\n",
        "*   DS_CARGO - Descrição do cargo.\n",
        "\n",
        "*   NR_CANDIDATO - Número do candidato na urna.\n",
        "\n",
        "*   NM_CANDIDATO - Nome completo do candidato.\n",
        "\n",
        "*   NM_URNA_CANDIDATO - Nome do candidato como aparecerá na urna.\n",
        "\n",
        "*   NM_SOCIAL_CANDIDATO - Nome social do candidato.\n",
        "\n",
        "*   DS_SITUACAO_CANDIDATURA - Situação da candidatura (apto, indeferido, etc.).*Ainda em andamento em 2024 *\n",
        "\n",
        "*   TP_AGREMIACAO - Tipo de agremiação (partido, coligação).\n",
        "\n",
        "*   SG_PARTIDO - Sigla do partido político.\n",
        "\n",
        "*   NM_PARTIDO\t- Nome completo do partido político.\n",
        "\n",
        "*   SG_FEDERACAO -\tSigla da federação partidária.\n",
        "\n",
        "*   NM_FEDERACAO - Nome completo da federação partidária.\n",
        "\n",
        "*   DS_COMPOSICAO_FEDERACAO\t- Descrição da composição da federação.\n",
        "\n",
        "*   SQ_COLIGACAO - Código da coligação.\n",
        "\n",
        "*   NM_COLIGACAO - Nome da coligação.\n",
        "\n",
        "*   DS_COMPOSICAO_COLIGACAO - Descrição da composição da coligação.\n",
        "\n",
        "*   SG_UF_NASCIMENTO - Sigla da unidade federativa de nascimento do candidato.\n",
        "\n",
        "*   DT_NASCIMENTO\t- Data de nascimento do candidato.\n",
        "\n",
        "*   DS_GENERO -\tGênero do candidato.\n",
        "\n",
        "*   DS_GRAU_INSTRUCAO\t- Grau de instrução do candidato.\n",
        "\n",
        "*   DS_ESTADO_CIVIL\t- Estado civil do candidato.\n",
        "\n",
        "*   DS_COR_RACA\t- Cor/raça do candidato.\n",
        "\n",
        "*   DS_OCUPACAO\t- Ocupação do candidato.\n",
        "\n",
        "*   DS_SIT_TOT_TURNO -\tSituação final do candidato no turno.\n",
        "\n",
        "\n",
        "\n",
        "\n",
        "\n",
        "\n"
      ]
    },
    {
      "cell_type": "code",
      "execution_count": 5,
      "metadata": {
        "colab": {
          "base_uri": "https://localhost:8080/",
          "height": 447
        },
        "id": "nYbfaKxUAkOq",
        "outputId": "0ab7d5dd-8b89-46e2-8c99-36d41d648bb0"
      },
      "outputs": [
        {
          "data": {
            "application/vnd.google.colaboratory.intrinsic+json": {
              "type": "dataframe",
              "variable_name": "df_clean_colums_2024"
            },
            "text/html": [
              "\n",
              "  <div id=\"df-28faf339-fe1c-4e81-8cb8-aca5182df877\" class=\"colab-df-container\">\n",
              "    <div>\n",
              "<style scoped>\n",
              "    .dataframe tbody tr th:only-of-type {\n",
              "        vertical-align: middle;\n",
              "    }\n",
              "\n",
              "    .dataframe tbody tr th {\n",
              "        vertical-align: top;\n",
              "    }\n",
              "\n",
              "    .dataframe thead th {\n",
              "        text-align: right;\n",
              "    }\n",
              "</style>\n",
              "<table border=\"1\" class=\"dataframe\">\n",
              "  <thead>\n",
              "    <tr style=\"text-align: right;\">\n",
              "      <th></th>\n",
              "      <th>ANO_ELEICAO</th>\n",
              "      <th>NM_UE</th>\n",
              "      <th>DS_CARGO</th>\n",
              "      <th>NR_CANDIDATO</th>\n",
              "      <th>NM_CANDIDATO</th>\n",
              "      <th>NM_URNA_CANDIDATO</th>\n",
              "      <th>NM_SOCIAL_CANDIDATO</th>\n",
              "      <th>DS_SITUACAO_CANDIDATURA</th>\n",
              "      <th>TP_AGREMIACAO</th>\n",
              "      <th>SG_PARTIDO</th>\n",
              "      <th>...</th>\n",
              "      <th>NM_COLIGACAO</th>\n",
              "      <th>DS_COMPOSICAO_COLIGACAO</th>\n",
              "      <th>SG_UF_NASCIMENTO</th>\n",
              "      <th>DT_NASCIMENTO</th>\n",
              "      <th>DS_GENERO</th>\n",
              "      <th>DS_GRAU_INSTRUCAO</th>\n",
              "      <th>DS_ESTADO_CIVIL</th>\n",
              "      <th>DS_COR_RACA</th>\n",
              "      <th>DS_OCUPACAO</th>\n",
              "      <th>DS_SIT_TOT_TURNO</th>\n",
              "    </tr>\n",
              "  </thead>\n",
              "  <tbody>\n",
              "    <tr>\n",
              "      <th>0</th>\n",
              "      <td>2024</td>\n",
              "      <td>ITAMARAJU</td>\n",
              "      <td>VEREADOR</td>\n",
              "      <td>18010</td>\n",
              "      <td>MANUEL BISPO DE SENA FILHO</td>\n",
              "      <td>DINEI DO SÃO PAULINHO</td>\n",
              "      <td>#NULO#</td>\n",
              "      <td>#NE</td>\n",
              "      <td>FEDERAÇÃO</td>\n",
              "      <td>REDE</td>\n",
              "      <td>...</td>\n",
              "      <td>FEDERAÇÃO</td>\n",
              "      <td>Federação PSOL REDE(PSOL/REDE)</td>\n",
              "      <td>BA</td>\n",
              "      <td>1965-08-08</td>\n",
              "      <td>MASCULINO</td>\n",
              "      <td>ENSINO FUNDAMENTAL COMPLETO</td>\n",
              "      <td>CASADO(A)</td>\n",
              "      <td>PARDA</td>\n",
              "      <td>AGRICULTOR</td>\n",
              "      <td>#NULO#</td>\n",
              "    </tr>\n",
              "    <tr>\n",
              "      <th>1</th>\n",
              "      <td>2024</td>\n",
              "      <td>GOVERNADOR MANGABEIRA</td>\n",
              "      <td>VEREADOR</td>\n",
              "      <td>70123</td>\n",
              "      <td>JAREDE IVAN DA SILVA PEREIRA</td>\n",
              "      <td>JAREDE DO TAPA BURACO</td>\n",
              "      <td>#NULO#</td>\n",
              "      <td>#NE</td>\n",
              "      <td>PARTIDO ISOLADO</td>\n",
              "      <td>AVANTE</td>\n",
              "      <td>...</td>\n",
              "      <td>PARTIDO ISOLADO</td>\n",
              "      <td>AVANTE</td>\n",
              "      <td>BA</td>\n",
              "      <td>1985-03-04</td>\n",
              "      <td>MASCULINO</td>\n",
              "      <td>SUPERIOR INCOMPLETO</td>\n",
              "      <td>SOLTEIRO(A)</td>\n",
              "      <td>PARDA</td>\n",
              "      <td>EMPRESÁRIO</td>\n",
              "      <td>#NULO#</td>\n",
              "    </tr>\n",
              "    <tr>\n",
              "      <th>2</th>\n",
              "      <td>2024</td>\n",
              "      <td>MATA DE SÃO JOÃO</td>\n",
              "      <td>VEREADOR</td>\n",
              "      <td>15555</td>\n",
              "      <td>ANTÔNIO ROBERTO SENA COSTA</td>\n",
              "      <td>ROBERTO SENA</td>\n",
              "      <td>#NULO#</td>\n",
              "      <td>#NE</td>\n",
              "      <td>PARTIDO ISOLADO</td>\n",
              "      <td>MDB</td>\n",
              "      <td>...</td>\n",
              "      <td>PARTIDO ISOLADO</td>\n",
              "      <td>MDB</td>\n",
              "      <td>BA</td>\n",
              "      <td>1958-01-20</td>\n",
              "      <td>MASCULINO</td>\n",
              "      <td>SUPERIOR COMPLETO</td>\n",
              "      <td>CASADO(A)</td>\n",
              "      <td>PARDA</td>\n",
              "      <td>APOSENTADO (EXCETO SERVIDOR PÚBLICO)</td>\n",
              "      <td>#NULO#</td>\n",
              "    </tr>\n",
              "    <tr>\n",
              "      <th>3</th>\n",
              "      <td>2024</td>\n",
              "      <td>SÃO SEBASTIÃO DO PASSÉ</td>\n",
              "      <td>VEREADOR</td>\n",
              "      <td>36013</td>\n",
              "      <td>LUCIENE DOS SANTOS DE SENA</td>\n",
              "      <td>LUCIENE DA SAÚDE</td>\n",
              "      <td>#NULO#</td>\n",
              "      <td>#NE</td>\n",
              "      <td>PARTIDO ISOLADO</td>\n",
              "      <td>AGIR</td>\n",
              "      <td>...</td>\n",
              "      <td>PARTIDO ISOLADO</td>\n",
              "      <td>AGIR</td>\n",
              "      <td>BA</td>\n",
              "      <td>1976-11-21</td>\n",
              "      <td>FEMININO</td>\n",
              "      <td>SUPERIOR COMPLETO</td>\n",
              "      <td>SOLTEIRO(A)</td>\n",
              "      <td>PRETA</td>\n",
              "      <td>ENFERMEIRO</td>\n",
              "      <td>#NULO#</td>\n",
              "    </tr>\n",
              "    <tr>\n",
              "      <th>4</th>\n",
              "      <td>2024</td>\n",
              "      <td>RAFAEL JAMBEIRO</td>\n",
              "      <td>VEREADOR</td>\n",
              "      <td>10111</td>\n",
              "      <td>INACIO CUPERTINO CORREIA</td>\n",
              "      <td>NAI CORREIA</td>\n",
              "      <td>#NULO#</td>\n",
              "      <td>#NE</td>\n",
              "      <td>PARTIDO ISOLADO</td>\n",
              "      <td>REPUBLICANOS</td>\n",
              "      <td>...</td>\n",
              "      <td>PARTIDO ISOLADO</td>\n",
              "      <td>REPUBLICANOS</td>\n",
              "      <td>BA</td>\n",
              "      <td>1951-11-09</td>\n",
              "      <td>MASCULINO</td>\n",
              "      <td>LÊ E ESCREVE</td>\n",
              "      <td>CASADO(A)</td>\n",
              "      <td>PARDA</td>\n",
              "      <td>TRABALHADOR RURAL</td>\n",
              "      <td>#NULO#</td>\n",
              "    </tr>\n",
              "  </tbody>\n",
              "</table>\n",
              "<p>5 rows × 25 columns</p>\n",
              "</div>\n",
              "    <div class=\"colab-df-buttons\">\n",
              "\n",
              "  <div class=\"colab-df-container\">\n",
              "    <button class=\"colab-df-convert\" onclick=\"convertToInteractive('df-28faf339-fe1c-4e81-8cb8-aca5182df877')\"\n",
              "            title=\"Convert this dataframe to an interactive table.\"\n",
              "            style=\"display:none;\">\n",
              "\n",
              "  <svg xmlns=\"http://www.w3.org/2000/svg\" height=\"24px\" viewBox=\"0 -960 960 960\">\n",
              "    <path d=\"M120-120v-720h720v720H120Zm60-500h600v-160H180v160Zm220 220h160v-160H400v160Zm0 220h160v-160H400v160ZM180-400h160v-160H180v160Zm440 0h160v-160H620v160ZM180-180h160v-160H180v160Zm440 0h160v-160H620v160Z\"/>\n",
              "  </svg>\n",
              "    </button>\n",
              "\n",
              "  <style>\n",
              "    .colab-df-container {\n",
              "      display:flex;\n",
              "      gap: 12px;\n",
              "    }\n",
              "\n",
              "    .colab-df-convert {\n",
              "      background-color: #E8F0FE;\n",
              "      border: none;\n",
              "      border-radius: 50%;\n",
              "      cursor: pointer;\n",
              "      display: none;\n",
              "      fill: #1967D2;\n",
              "      height: 32px;\n",
              "      padding: 0 0 0 0;\n",
              "      width: 32px;\n",
              "    }\n",
              "\n",
              "    .colab-df-convert:hover {\n",
              "      background-color: #E2EBFA;\n",
              "      box-shadow: 0px 1px 2px rgba(60, 64, 67, 0.3), 0px 1px 3px 1px rgba(60, 64, 67, 0.15);\n",
              "      fill: #174EA6;\n",
              "    }\n",
              "\n",
              "    .colab-df-buttons div {\n",
              "      margin-bottom: 4px;\n",
              "    }\n",
              "\n",
              "    [theme=dark] .colab-df-convert {\n",
              "      background-color: #3B4455;\n",
              "      fill: #D2E3FC;\n",
              "    }\n",
              "\n",
              "    [theme=dark] .colab-df-convert:hover {\n",
              "      background-color: #434B5C;\n",
              "      box-shadow: 0px 1px 3px 1px rgba(0, 0, 0, 0.15);\n",
              "      filter: drop-shadow(0px 1px 2px rgba(0, 0, 0, 0.3));\n",
              "      fill: #FFFFFF;\n",
              "    }\n",
              "  </style>\n",
              "\n",
              "    <script>\n",
              "      const buttonEl =\n",
              "        document.querySelector('#df-28faf339-fe1c-4e81-8cb8-aca5182df877 button.colab-df-convert');\n",
              "      buttonEl.style.display =\n",
              "        google.colab.kernel.accessAllowed ? 'block' : 'none';\n",
              "\n",
              "      async function convertToInteractive(key) {\n",
              "        const element = document.querySelector('#df-28faf339-fe1c-4e81-8cb8-aca5182df877');\n",
              "        const dataTable =\n",
              "          await google.colab.kernel.invokeFunction('convertToInteractive',\n",
              "                                                    [key], {});\n",
              "        if (!dataTable) return;\n",
              "\n",
              "        const docLinkHtml = 'Like what you see? Visit the ' +\n",
              "          '<a target=\"_blank\" href=https://colab.research.google.com/notebooks/data_table.ipynb>data table notebook</a>'\n",
              "          + ' to learn more about interactive tables.';\n",
              "        element.innerHTML = '';\n",
              "        dataTable['output_type'] = 'display_data';\n",
              "        await google.colab.output.renderOutput(dataTable, element);\n",
              "        const docLink = document.createElement('div');\n",
              "        docLink.innerHTML = docLinkHtml;\n",
              "        element.appendChild(docLink);\n",
              "      }\n",
              "    </script>\n",
              "  </div>\n",
              "\n",
              "\n",
              "<div id=\"df-8c3d1b96-ca4b-4e84-9a51-eab101772245\">\n",
              "  <button class=\"colab-df-quickchart\" onclick=\"quickchart('df-8c3d1b96-ca4b-4e84-9a51-eab101772245')\"\n",
              "            title=\"Suggest charts\"\n",
              "            style=\"display:none;\">\n",
              "\n",
              "<svg xmlns=\"http://www.w3.org/2000/svg\" height=\"24px\"viewBox=\"0 0 24 24\"\n",
              "     width=\"24px\">\n",
              "    <g>\n",
              "        <path d=\"M19 3H5c-1.1 0-2 .9-2 2v14c0 1.1.9 2 2 2h14c1.1 0 2-.9 2-2V5c0-1.1-.9-2-2-2zM9 17H7v-7h2v7zm4 0h-2V7h2v10zm4 0h-2v-4h2v4z\"/>\n",
              "    </g>\n",
              "</svg>\n",
              "  </button>\n",
              "\n",
              "<style>\n",
              "  .colab-df-quickchart {\n",
              "      --bg-color: #E8F0FE;\n",
              "      --fill-color: #1967D2;\n",
              "      --hover-bg-color: #E2EBFA;\n",
              "      --hover-fill-color: #174EA6;\n",
              "      --disabled-fill-color: #AAA;\n",
              "      --disabled-bg-color: #DDD;\n",
              "  }\n",
              "\n",
              "  [theme=dark] .colab-df-quickchart {\n",
              "      --bg-color: #3B4455;\n",
              "      --fill-color: #D2E3FC;\n",
              "      --hover-bg-color: #434B5C;\n",
              "      --hover-fill-color: #FFFFFF;\n",
              "      --disabled-bg-color: #3B4455;\n",
              "      --disabled-fill-color: #666;\n",
              "  }\n",
              "\n",
              "  .colab-df-quickchart {\n",
              "    background-color: var(--bg-color);\n",
              "    border: none;\n",
              "    border-radius: 50%;\n",
              "    cursor: pointer;\n",
              "    display: none;\n",
              "    fill: var(--fill-color);\n",
              "    height: 32px;\n",
              "    padding: 0;\n",
              "    width: 32px;\n",
              "  }\n",
              "\n",
              "  .colab-df-quickchart:hover {\n",
              "    background-color: var(--hover-bg-color);\n",
              "    box-shadow: 0 1px 2px rgba(60, 64, 67, 0.3), 0 1px 3px 1px rgba(60, 64, 67, 0.15);\n",
              "    fill: var(--button-hover-fill-color);\n",
              "  }\n",
              "\n",
              "  .colab-df-quickchart-complete:disabled,\n",
              "  .colab-df-quickchart-complete:disabled:hover {\n",
              "    background-color: var(--disabled-bg-color);\n",
              "    fill: var(--disabled-fill-color);\n",
              "    box-shadow: none;\n",
              "  }\n",
              "\n",
              "  .colab-df-spinner {\n",
              "    border: 2px solid var(--fill-color);\n",
              "    border-color: transparent;\n",
              "    border-bottom-color: var(--fill-color);\n",
              "    animation:\n",
              "      spin 1s steps(1) infinite;\n",
              "  }\n",
              "\n",
              "  @keyframes spin {\n",
              "    0% {\n",
              "      border-color: transparent;\n",
              "      border-bottom-color: var(--fill-color);\n",
              "      border-left-color: var(--fill-color);\n",
              "    }\n",
              "    20% {\n",
              "      border-color: transparent;\n",
              "      border-left-color: var(--fill-color);\n",
              "      border-top-color: var(--fill-color);\n",
              "    }\n",
              "    30% {\n",
              "      border-color: transparent;\n",
              "      border-left-color: var(--fill-color);\n",
              "      border-top-color: var(--fill-color);\n",
              "      border-right-color: var(--fill-color);\n",
              "    }\n",
              "    40% {\n",
              "      border-color: transparent;\n",
              "      border-right-color: var(--fill-color);\n",
              "      border-top-color: var(--fill-color);\n",
              "    }\n",
              "    60% {\n",
              "      border-color: transparent;\n",
              "      border-right-color: var(--fill-color);\n",
              "    }\n",
              "    80% {\n",
              "      border-color: transparent;\n",
              "      border-right-color: var(--fill-color);\n",
              "      border-bottom-color: var(--fill-color);\n",
              "    }\n",
              "    90% {\n",
              "      border-color: transparent;\n",
              "      border-bottom-color: var(--fill-color);\n",
              "    }\n",
              "  }\n",
              "</style>\n",
              "\n",
              "  <script>\n",
              "    async function quickchart(key) {\n",
              "      const quickchartButtonEl =\n",
              "        document.querySelector('#' + key + ' button');\n",
              "      quickchartButtonEl.disabled = true;  // To prevent multiple clicks.\n",
              "      quickchartButtonEl.classList.add('colab-df-spinner');\n",
              "      try {\n",
              "        const charts = await google.colab.kernel.invokeFunction(\n",
              "            'suggestCharts', [key], {});\n",
              "      } catch (error) {\n",
              "        console.error('Error during call to suggestCharts:', error);\n",
              "      }\n",
              "      quickchartButtonEl.classList.remove('colab-df-spinner');\n",
              "      quickchartButtonEl.classList.add('colab-df-quickchart-complete');\n",
              "    }\n",
              "    (() => {\n",
              "      let quickchartButtonEl =\n",
              "        document.querySelector('#df-8c3d1b96-ca4b-4e84-9a51-eab101772245 button');\n",
              "      quickchartButtonEl.style.display =\n",
              "        google.colab.kernel.accessAllowed ? 'block' : 'none';\n",
              "    })();\n",
              "  </script>\n",
              "</div>\n",
              "\n",
              "    </div>\n",
              "  </div>\n"
            ],
            "text/plain": [
              "   ANO_ELEICAO                   NM_UE  DS_CARGO  NR_CANDIDATO  \\\n",
              "0         2024               ITAMARAJU  VEREADOR         18010   \n",
              "1         2024   GOVERNADOR MANGABEIRA  VEREADOR         70123   \n",
              "2         2024        MATA DE SÃO JOÃO  VEREADOR         15555   \n",
              "3         2024  SÃO SEBASTIÃO DO PASSÉ  VEREADOR         36013   \n",
              "4         2024         RAFAEL JAMBEIRO  VEREADOR         10111   \n",
              "\n",
              "                   NM_CANDIDATO      NM_URNA_CANDIDATO NM_SOCIAL_CANDIDATO  \\\n",
              "0    MANUEL BISPO DE SENA FILHO  DINEI DO SÃO PAULINHO              #NULO#   \n",
              "1  JAREDE IVAN DA SILVA PEREIRA  JAREDE DO TAPA BURACO              #NULO#   \n",
              "2    ANTÔNIO ROBERTO SENA COSTA           ROBERTO SENA              #NULO#   \n",
              "3    LUCIENE DOS SANTOS DE SENA       LUCIENE DA SAÚDE              #NULO#   \n",
              "4      INACIO CUPERTINO CORREIA            NAI CORREIA              #NULO#   \n",
              "\n",
              "  DS_SITUACAO_CANDIDATURA    TP_AGREMIACAO    SG_PARTIDO  ...  \\\n",
              "0                     #NE        FEDERAÇÃO          REDE  ...   \n",
              "1                     #NE  PARTIDO ISOLADO        AVANTE  ...   \n",
              "2                     #NE  PARTIDO ISOLADO           MDB  ...   \n",
              "3                     #NE  PARTIDO ISOLADO          AGIR  ...   \n",
              "4                     #NE  PARTIDO ISOLADO  REPUBLICANOS  ...   \n",
              "\n",
              "      NM_COLIGACAO         DS_COMPOSICAO_COLIGACAO SG_UF_NASCIMENTO  \\\n",
              "0        FEDERAÇÃO  Federação PSOL REDE(PSOL/REDE)               BA   \n",
              "1  PARTIDO ISOLADO                          AVANTE               BA   \n",
              "2  PARTIDO ISOLADO                             MDB               BA   \n",
              "3  PARTIDO ISOLADO                            AGIR               BA   \n",
              "4  PARTIDO ISOLADO                    REPUBLICANOS               BA   \n",
              "\n",
              "  DT_NASCIMENTO  DS_GENERO            DS_GRAU_INSTRUCAO DS_ESTADO_CIVIL  \\\n",
              "0    1965-08-08  MASCULINO  ENSINO FUNDAMENTAL COMPLETO       CASADO(A)   \n",
              "1    1985-03-04  MASCULINO          SUPERIOR INCOMPLETO     SOLTEIRO(A)   \n",
              "2    1958-01-20  MASCULINO            SUPERIOR COMPLETO       CASADO(A)   \n",
              "3    1976-11-21   FEMININO            SUPERIOR COMPLETO     SOLTEIRO(A)   \n",
              "4    1951-11-09  MASCULINO                 LÊ E ESCREVE       CASADO(A)   \n",
              "\n",
              "  DS_COR_RACA                           DS_OCUPACAO DS_SIT_TOT_TURNO  \n",
              "0       PARDA                            AGRICULTOR           #NULO#  \n",
              "1       PARDA                            EMPRESÁRIO           #NULO#  \n",
              "2       PARDA  APOSENTADO (EXCETO SERVIDOR PÚBLICO)           #NULO#  \n",
              "3       PRETA                            ENFERMEIRO           #NULO#  \n",
              "4       PARDA                     TRABALHADOR RURAL           #NULO#  \n",
              "\n",
              "[5 rows x 25 columns]"
            ]
          },
          "execution_count": 5,
          "metadata": {},
          "output_type": "execute_result"
        }
      ],
      "source": [
        "columns_drop_produtos = ['DT_GERACAO','HH_GERACAO','HH_GERACAO','CD_TIPO_ELEICAO','NM_TIPO_ELEICAO','NR_TURNO','CD_ELEICAO','DS_ELEICAO','DT_ELEICAO','TP_ABRANGENCIA_ELEICAO','SG_UF','SG_UE','CD_CARGO','SQ_CANDIDATO','NR_CPF_CANDIDATO','DS_EMAIL','CD_SITUACAO_CANDIDATURA','NR_PARTIDO','NR_FEDERACAO','NR_TITULO_ELEITORAL_CANDIDATO','CD_GENERO','CD_GRAU_INSTRUCAO','CD_ESTADO_CIVIL','CD_COR_RACA','CD_OCUPACAO','CD_SIT_TOT_TURNO']\n",
        "df_clean_colums_2024 = df_copy_2024.drop(columns_drop_produtos, axis=1)\n",
        "df_clean_colums_2024.head()"
      ]
    },
    {
      "cell_type": "markdown",
      "metadata": {
        "id": "QblpLd8LIoxB"
      },
      "source": [
        "## Limpeza da base - 2024"
      ]
    },
    {
      "cell_type": "code",
      "execution_count": 6,
      "metadata": {
        "colab": {
          "base_uri": "https://localhost:8080/",
          "height": 868
        },
        "id": "bTfWdi8SGXAv",
        "outputId": "754762a8-3bb8-4e37-af7b-f7882a911c8b"
      },
      "outputs": [
        {
          "data": {
            "text/html": [
              "<div>\n",
              "<style scoped>\n",
              "    .dataframe tbody tr th:only-of-type {\n",
              "        vertical-align: middle;\n",
              "    }\n",
              "\n",
              "    .dataframe tbody tr th {\n",
              "        vertical-align: top;\n",
              "    }\n",
              "\n",
              "    .dataframe thead th {\n",
              "        text-align: right;\n",
              "    }\n",
              "</style>\n",
              "<table border=\"1\" class=\"dataframe\">\n",
              "  <thead>\n",
              "    <tr style=\"text-align: right;\">\n",
              "      <th></th>\n",
              "      <th>0</th>\n",
              "    </tr>\n",
              "  </thead>\n",
              "  <tbody>\n",
              "    <tr>\n",
              "      <th>ANO_ELEICAO</th>\n",
              "      <td>0</td>\n",
              "    </tr>\n",
              "    <tr>\n",
              "      <th>NM_UE</th>\n",
              "      <td>0</td>\n",
              "    </tr>\n",
              "    <tr>\n",
              "      <th>DS_CARGO</th>\n",
              "      <td>0</td>\n",
              "    </tr>\n",
              "    <tr>\n",
              "      <th>NR_CANDIDATO</th>\n",
              "      <td>0</td>\n",
              "    </tr>\n",
              "    <tr>\n",
              "      <th>NM_CANDIDATO</th>\n",
              "      <td>0</td>\n",
              "    </tr>\n",
              "    <tr>\n",
              "      <th>NM_URNA_CANDIDATO</th>\n",
              "      <td>0</td>\n",
              "    </tr>\n",
              "    <tr>\n",
              "      <th>NM_SOCIAL_CANDIDATO</th>\n",
              "      <td>0</td>\n",
              "    </tr>\n",
              "    <tr>\n",
              "      <th>DS_SITUACAO_CANDIDATURA</th>\n",
              "      <td>0</td>\n",
              "    </tr>\n",
              "    <tr>\n",
              "      <th>TP_AGREMIACAO</th>\n",
              "      <td>0</td>\n",
              "    </tr>\n",
              "    <tr>\n",
              "      <th>SG_PARTIDO</th>\n",
              "      <td>0</td>\n",
              "    </tr>\n",
              "    <tr>\n",
              "      <th>NM_PARTIDO</th>\n",
              "      <td>0</td>\n",
              "    </tr>\n",
              "    <tr>\n",
              "      <th>NM_FEDERACAO</th>\n",
              "      <td>0</td>\n",
              "    </tr>\n",
              "    <tr>\n",
              "      <th>SG_FEDERACAO</th>\n",
              "      <td>0</td>\n",
              "    </tr>\n",
              "    <tr>\n",
              "      <th>DS_COMPOSICAO_FEDERACAO</th>\n",
              "      <td>0</td>\n",
              "    </tr>\n",
              "    <tr>\n",
              "      <th>SQ_COLIGACAO</th>\n",
              "      <td>0</td>\n",
              "    </tr>\n",
              "    <tr>\n",
              "      <th>NM_COLIGACAO</th>\n",
              "      <td>0</td>\n",
              "    </tr>\n",
              "    <tr>\n",
              "      <th>DS_COMPOSICAO_COLIGACAO</th>\n",
              "      <td>0</td>\n",
              "    </tr>\n",
              "    <tr>\n",
              "      <th>SG_UF_NASCIMENTO</th>\n",
              "      <td>0</td>\n",
              "    </tr>\n",
              "    <tr>\n",
              "      <th>DT_NASCIMENTO</th>\n",
              "      <td>0</td>\n",
              "    </tr>\n",
              "    <tr>\n",
              "      <th>DS_GENERO</th>\n",
              "      <td>0</td>\n",
              "    </tr>\n",
              "    <tr>\n",
              "      <th>DS_GRAU_INSTRUCAO</th>\n",
              "      <td>0</td>\n",
              "    </tr>\n",
              "    <tr>\n",
              "      <th>DS_ESTADO_CIVIL</th>\n",
              "      <td>0</td>\n",
              "    </tr>\n",
              "    <tr>\n",
              "      <th>DS_COR_RACA</th>\n",
              "      <td>0</td>\n",
              "    </tr>\n",
              "    <tr>\n",
              "      <th>DS_OCUPACAO</th>\n",
              "      <td>0</td>\n",
              "    </tr>\n",
              "    <tr>\n",
              "      <th>DS_SIT_TOT_TURNO</th>\n",
              "      <td>0</td>\n",
              "    </tr>\n",
              "  </tbody>\n",
              "</table>\n",
              "</div><br><label><b>dtype:</b> int64</label>"
            ],
            "text/plain": [
              "ANO_ELEICAO                0\n",
              "NM_UE                      0\n",
              "DS_CARGO                   0\n",
              "NR_CANDIDATO               0\n",
              "NM_CANDIDATO               0\n",
              "NM_URNA_CANDIDATO          0\n",
              "NM_SOCIAL_CANDIDATO        0\n",
              "DS_SITUACAO_CANDIDATURA    0\n",
              "TP_AGREMIACAO              0\n",
              "SG_PARTIDO                 0\n",
              "NM_PARTIDO                 0\n",
              "NM_FEDERACAO               0\n",
              "SG_FEDERACAO               0\n",
              "DS_COMPOSICAO_FEDERACAO    0\n",
              "SQ_COLIGACAO               0\n",
              "NM_COLIGACAO               0\n",
              "DS_COMPOSICAO_COLIGACAO    0\n",
              "SG_UF_NASCIMENTO           0\n",
              "DT_NASCIMENTO              0\n",
              "DS_GENERO                  0\n",
              "DS_GRAU_INSTRUCAO          0\n",
              "DS_ESTADO_CIVIL            0\n",
              "DS_COR_RACA                0\n",
              "DS_OCUPACAO                0\n",
              "DS_SIT_TOT_TURNO           0\n",
              "dtype: int64"
            ]
          },
          "execution_count": 6,
          "metadata": {},
          "output_type": "execute_result"
        }
      ],
      "source": [
        "df_clean_colums_2024.isnull().sum()"
      ]
    },
    {
      "cell_type": "code",
      "execution_count": 7,
      "metadata": {
        "colab": {
          "base_uri": "https://localhost:8080/"
        },
        "id": "FYO4vCSmJUs7",
        "outputId": "81bf5ce4-a3a3-4803-a5d8-18332accb843"
      },
      "outputs": [
        {
          "data": {
            "text/plain": [
              "5"
            ]
          },
          "execution_count": 7,
          "metadata": {},
          "output_type": "execute_result"
        }
      ],
      "source": [
        "#Limpeza de 5 valores repetidos\n",
        "\n",
        "df_clean_colums_2024.duplicated().sum()\n"
      ]
    },
    {
      "cell_type": "code",
      "execution_count": 8,
      "metadata": {
        "colab": {
          "base_uri": "https://localhost:8080/"
        },
        "id": "6h5wrn1UEdh6",
        "outputId": "48287d14-dff6-433f-c639-05dac8dc3579"
      },
      "outputs": [
        {
          "data": {
            "text/plain": [
              "0"
            ]
          },
          "execution_count": 8,
          "metadata": {},
          "output_type": "execute_result"
        }
      ],
      "source": [
        "df_clean_colums_2024.drop_duplicates(inplace=True)\n",
        "df_clean_colums_2024.duplicated().sum()"
      ]
    },
    {
      "cell_type": "code",
      "execution_count": 8,
      "metadata": {
        "id": "qExubzIZB7pF"
      },
      "outputs": [],
      "source": []
    },
    {
      "cell_type": "markdown",
      "metadata": {
        "id": "FZkPjI3OJh5f"
      },
      "source": [
        "##Filtragem - 2024"
      ]
    },
    {
      "cell_type": "code",
      "execution_count": 9,
      "metadata": {
        "id": "SmY8px0dKeyD"
      },
      "outputs": [],
      "source": [
        "#Filtrando os dados para selecionar apenas candidaturas de Salvador\n",
        "df_salvador_2024 = df_clean_colums_2024[df_clean_colums_2024['NM_UE']=='SALVADOR']"
      ]
    },
    {
      "cell_type": "code",
      "execution_count": 10,
      "metadata": {
        "id": "-ojkhVw7LdSh"
      },
      "outputs": [],
      "source": [
        "#Filtrando os dados para selecionar apenas candidaturas de vereadores\n",
        "df_salvador_vereadores_2024 = df_salvador_2024[df_salvador_2024['DS_CARGO']=='VEREADOR']"
      ]
    },
    {
      "cell_type": "code",
      "execution_count": 11,
      "metadata": {
        "colab": {
          "base_uri": "https://localhost:8080/"
        },
        "id": "vz9HdHzXLxxo",
        "outputId": "a5a2c028-eb0f-4070-ea87-5fb547c856fe"
      },
      "outputs": [
        {
          "name": "stdout",
          "output_type": "stream",
          "text": [
            "<class 'pandas.core.frame.DataFrame'>\n",
            "Index: 852 entries, 18 to 35187\n",
            "Data columns (total 25 columns):\n",
            " #   Column                   Non-Null Count  Dtype         \n",
            "---  ------                   --------------  -----         \n",
            " 0   ANO_ELEICAO              852 non-null    int64         \n",
            " 1   NM_UE                    852 non-null    object        \n",
            " 2   DS_CARGO                 852 non-null    object        \n",
            " 3   NR_CANDIDATO             852 non-null    int64         \n",
            " 4   NM_CANDIDATO             852 non-null    object        \n",
            " 5   NM_URNA_CANDIDATO        852 non-null    object        \n",
            " 6   NM_SOCIAL_CANDIDATO      852 non-null    object        \n",
            " 7   DS_SITUACAO_CANDIDATURA  852 non-null    object        \n",
            " 8   TP_AGREMIACAO            852 non-null    object        \n",
            " 9   SG_PARTIDO               852 non-null    object        \n",
            " 10  NM_PARTIDO               852 non-null    object        \n",
            " 11  NM_FEDERACAO             852 non-null    object        \n",
            " 12  SG_FEDERACAO             852 non-null    object        \n",
            " 13  DS_COMPOSICAO_FEDERACAO  852 non-null    object        \n",
            " 14  SQ_COLIGACAO             852 non-null    int64         \n",
            " 15  NM_COLIGACAO             852 non-null    object        \n",
            " 16  DS_COMPOSICAO_COLIGACAO  852 non-null    object        \n",
            " 17  SG_UF_NASCIMENTO         852 non-null    object        \n",
            " 18  DT_NASCIMENTO            852 non-null    datetime64[ns]\n",
            " 19  DS_GENERO                852 non-null    object        \n",
            " 20  DS_GRAU_INSTRUCAO        852 non-null    object        \n",
            " 21  DS_ESTADO_CIVIL          852 non-null    object        \n",
            " 22  DS_COR_RACA              852 non-null    object        \n",
            " 23  DS_OCUPACAO              852 non-null    object        \n",
            " 24  DS_SIT_TOT_TURNO         852 non-null    object        \n",
            "dtypes: datetime64[ns](1), int64(3), object(21)\n",
            "memory usage: 173.1+ KB\n"
          ]
        }
      ],
      "source": [
        "df_salvador_vereadores_2024.info()"
      ]
    },
    {
      "cell_type": "code",
      "execution_count": 12,
      "metadata": {
        "colab": {
          "base_uri": "https://localhost:8080/"
        },
        "id": "tQIiv79iaCyT",
        "outputId": "3d22d3c1-d32d-4d70-8d39-15fdd38f15c4"
      },
      "outputs": [
        {
          "data": {
            "text/plain": [
              "array(['#NE'], dtype=object)"
            ]
          },
          "execution_count": 12,
          "metadata": {},
          "output_type": "execute_result"
        }
      ],
      "source": [
        "df_salvador_vereadores_2024['DS_SITUACAO_CANDIDATURA'].unique()"
      ]
    },
    {
      "cell_type": "markdown",
      "metadata": {
        "id": "pW7FzG_dgrhQ"
      },
      "source": [
        "##Calculo de idade - 2024"
      ]
    },
    {
      "cell_type": "code",
      "execution_count": 13,
      "metadata": {
        "colab": {
          "base_uri": "https://localhost:8080/"
        },
        "id": "d66lwkW3xBjV",
        "outputId": "30395382-b8a5-4d18-d6f4-ef7f15f346d9"
      },
      "outputs": [
        {
          "name": "stderr",
          "output_type": "stream",
          "text": [
            "<ipython-input-13-6d8e9d3aa0b6>:1: SettingWithCopyWarning: \n",
            "A value is trying to be set on a copy of a slice from a DataFrame.\n",
            "Try using .loc[row_indexer,col_indexer] = value instead\n",
            "\n",
            "See the caveats in the documentation: https://pandas.pydata.org/pandas-docs/stable/user_guide/indexing.html#returning-a-view-versus-a-copy\n",
            "  df_salvador_vereadores_2024.loc[:, 'ANO_NASCIMENTO'] = df_salvador_vereadores_2024['DT_NASCIMENTO'].dt.year\n"
          ]
        }
      ],
      "source": [
        "df_salvador_vereadores_2024.loc[:, 'ANO_NASCIMENTO'] = df_salvador_vereadores_2024['DT_NASCIMENTO'].dt.year"
      ]
    },
    {
      "cell_type": "code",
      "execution_count": 14,
      "metadata": {
        "colab": {
          "base_uri": "https://localhost:8080/"
        },
        "id": "d-8a8VH6yYJL",
        "outputId": "f056749a-bf7a-41f9-f08e-d3c279bb5f36"
      },
      "outputs": [
        {
          "name": "stderr",
          "output_type": "stream",
          "text": [
            "<ipython-input-14-facbf6c81064>:1: SettingWithCopyWarning: \n",
            "A value is trying to be set on a copy of a slice from a DataFrame.\n",
            "Try using .loc[row_indexer,col_indexer] = value instead\n",
            "\n",
            "See the caveats in the documentation: https://pandas.pydata.org/pandas-docs/stable/user_guide/indexing.html#returning-a-view-versus-a-copy\n",
            "  df_salvador_vereadores_2024.loc[:, 'IDADE'] = df_salvador_vereadores_2024['ANO_ELEICAO'] - df_salvador_vereadores_2024['ANO_NASCIMENTO']\n"
          ]
        }
      ],
      "source": [
        "df_salvador_vereadores_2024.loc[:, 'IDADE'] = df_salvador_vereadores_2024['ANO_ELEICAO'] - df_salvador_vereadores_2024['ANO_NASCIMENTO']"
      ]
    },
    {
      "cell_type": "code",
      "execution_count": 15,
      "metadata": {
        "colab": {
          "base_uri": "https://localhost:8080/",
          "height": 447
        },
        "id": "VsHh3RBuynWY",
        "outputId": "d092fb3f-830f-4bb7-98f3-75de690d370e"
      },
      "outputs": [
        {
          "data": {
            "application/vnd.google.colaboratory.intrinsic+json": {
              "type": "dataframe",
              "variable_name": "df_salvador_vereadores_2024"
            },
            "text/html": [
              "\n",
              "  <div id=\"df-b746a194-92cd-4b26-afc4-3e5774da36e1\" class=\"colab-df-container\">\n",
              "    <div>\n",
              "<style scoped>\n",
              "    .dataframe tbody tr th:only-of-type {\n",
              "        vertical-align: middle;\n",
              "    }\n",
              "\n",
              "    .dataframe tbody tr th {\n",
              "        vertical-align: top;\n",
              "    }\n",
              "\n",
              "    .dataframe thead th {\n",
              "        text-align: right;\n",
              "    }\n",
              "</style>\n",
              "<table border=\"1\" class=\"dataframe\">\n",
              "  <thead>\n",
              "    <tr style=\"text-align: right;\">\n",
              "      <th></th>\n",
              "      <th>ANO_ELEICAO</th>\n",
              "      <th>NM_UE</th>\n",
              "      <th>DS_CARGO</th>\n",
              "      <th>NR_CANDIDATO</th>\n",
              "      <th>NM_CANDIDATO</th>\n",
              "      <th>NM_URNA_CANDIDATO</th>\n",
              "      <th>NM_SOCIAL_CANDIDATO</th>\n",
              "      <th>DS_SITUACAO_CANDIDATURA</th>\n",
              "      <th>TP_AGREMIACAO</th>\n",
              "      <th>SG_PARTIDO</th>\n",
              "      <th>...</th>\n",
              "      <th>SG_UF_NASCIMENTO</th>\n",
              "      <th>DT_NASCIMENTO</th>\n",
              "      <th>DS_GENERO</th>\n",
              "      <th>DS_GRAU_INSTRUCAO</th>\n",
              "      <th>DS_ESTADO_CIVIL</th>\n",
              "      <th>DS_COR_RACA</th>\n",
              "      <th>DS_OCUPACAO</th>\n",
              "      <th>DS_SIT_TOT_TURNO</th>\n",
              "      <th>ANO_NASCIMENTO</th>\n",
              "      <th>IDADE</th>\n",
              "    </tr>\n",
              "  </thead>\n",
              "  <tbody>\n",
              "    <tr>\n",
              "      <th>18</th>\n",
              "      <td>2024</td>\n",
              "      <td>SALVADOR</td>\n",
              "      <td>VEREADOR</td>\n",
              "      <td>28800</td>\n",
              "      <td>FERNANDO DOS SANTOS</td>\n",
              "      <td>FERNANDO  SANTOS</td>\n",
              "      <td>#NULO#</td>\n",
              "      <td>#NE</td>\n",
              "      <td>PARTIDO ISOLADO</td>\n",
              "      <td>PRTB</td>\n",
              "      <td>...</td>\n",
              "      <td>BA</td>\n",
              "      <td>1986-07-26</td>\n",
              "      <td>MASCULINO</td>\n",
              "      <td>ENSINO MÉDIO COMPLETO</td>\n",
              "      <td>SOLTEIRO(A)</td>\n",
              "      <td>PARDA</td>\n",
              "      <td>AGENTE ADMINISTRATIVO</td>\n",
              "      <td>#NULO#</td>\n",
              "      <td>1986</td>\n",
              "      <td>38</td>\n",
              "    </tr>\n",
              "    <tr>\n",
              "      <th>107</th>\n",
              "      <td>2024</td>\n",
              "      <td>SALVADOR</td>\n",
              "      <td>VEREADOR</td>\n",
              "      <td>12678</td>\n",
              "      <td>ADILSON DANTAS CONCEIÇÃO</td>\n",
              "      <td>DR. ADILSON</td>\n",
              "      <td>#NULO#</td>\n",
              "      <td>#NE</td>\n",
              "      <td>PARTIDO ISOLADO</td>\n",
              "      <td>PDT</td>\n",
              "      <td>...</td>\n",
              "      <td>BA</td>\n",
              "      <td>1965-09-28</td>\n",
              "      <td>MASCULINO</td>\n",
              "      <td>SUPERIOR COMPLETO</td>\n",
              "      <td>CASADO(A)</td>\n",
              "      <td>PRETA</td>\n",
              "      <td>ADVOGADO</td>\n",
              "      <td>#NULO#</td>\n",
              "      <td>1965</td>\n",
              "      <td>59</td>\n",
              "    </tr>\n",
              "    <tr>\n",
              "      <th>136</th>\n",
              "      <td>2024</td>\n",
              "      <td>SALVADOR</td>\n",
              "      <td>VEREADOR</td>\n",
              "      <td>35577</td>\n",
              "      <td>EDNEIA BATISTA SANTOS</td>\n",
              "      <td>AGENTES PELA SAÚDE</td>\n",
              "      <td>#NULO#</td>\n",
              "      <td>#NE</td>\n",
              "      <td>PARTIDO ISOLADO</td>\n",
              "      <td>PMB</td>\n",
              "      <td>...</td>\n",
              "      <td>BA</td>\n",
              "      <td>1973-02-24</td>\n",
              "      <td>FEMININO</td>\n",
              "      <td>SUPERIOR COMPLETO</td>\n",
              "      <td>SOLTEIRO(A)</td>\n",
              "      <td>PRETA</td>\n",
              "      <td>SERVIDOR PÚBLICO MUNICIPAL</td>\n",
              "      <td>#NULO#</td>\n",
              "      <td>1973</td>\n",
              "      <td>51</td>\n",
              "    </tr>\n",
              "    <tr>\n",
              "      <th>159</th>\n",
              "      <td>2024</td>\n",
              "      <td>SALVADOR</td>\n",
              "      <td>VEREADOR</td>\n",
              "      <td>12342</td>\n",
              "      <td>CLAUDIO EMANOEL PINHEIRO AMORIM</td>\n",
              "      <td>CLAUDIO AMORIM</td>\n",
              "      <td>#NULO#</td>\n",
              "      <td>#NE</td>\n",
              "      <td>PARTIDO ISOLADO</td>\n",
              "      <td>PDT</td>\n",
              "      <td>...</td>\n",
              "      <td>BA</td>\n",
              "      <td>1969-11-30</td>\n",
              "      <td>MASCULINO</td>\n",
              "      <td>SUPERIOR INCOMPLETO</td>\n",
              "      <td>CASADO(A)</td>\n",
              "      <td>PARDA</td>\n",
              "      <td>TÉCNICO CONTABILIDADE, ESTATÍSTICA, ECONOMIA D...</td>\n",
              "      <td>#NULO#</td>\n",
              "      <td>1969</td>\n",
              "      <td>55</td>\n",
              "    </tr>\n",
              "    <tr>\n",
              "      <th>167</th>\n",
              "      <td>2024</td>\n",
              "      <td>SALVADOR</td>\n",
              "      <td>VEREADOR</td>\n",
              "      <td>55100</td>\n",
              "      <td>CARLOS KLEBER COSTA DE ALMEIDA</td>\n",
              "      <td>CARLOS KLEBER</td>\n",
              "      <td>#NULO#</td>\n",
              "      <td>#NE</td>\n",
              "      <td>PARTIDO ISOLADO</td>\n",
              "      <td>PSD</td>\n",
              "      <td>...</td>\n",
              "      <td>BA</td>\n",
              "      <td>1969-04-22</td>\n",
              "      <td>MASCULINO</td>\n",
              "      <td>SUPERIOR COMPLETO</td>\n",
              "      <td>CASADO(A)</td>\n",
              "      <td>BRANCA</td>\n",
              "      <td>TÉCNICO DE MECÂNICA</td>\n",
              "      <td>#NULO#</td>\n",
              "      <td>1969</td>\n",
              "      <td>55</td>\n",
              "    </tr>\n",
              "  </tbody>\n",
              "</table>\n",
              "<p>5 rows × 27 columns</p>\n",
              "</div>\n",
              "    <div class=\"colab-df-buttons\">\n",
              "\n",
              "  <div class=\"colab-df-container\">\n",
              "    <button class=\"colab-df-convert\" onclick=\"convertToInteractive('df-b746a194-92cd-4b26-afc4-3e5774da36e1')\"\n",
              "            title=\"Convert this dataframe to an interactive table.\"\n",
              "            style=\"display:none;\">\n",
              "\n",
              "  <svg xmlns=\"http://www.w3.org/2000/svg\" height=\"24px\" viewBox=\"0 -960 960 960\">\n",
              "    <path d=\"M120-120v-720h720v720H120Zm60-500h600v-160H180v160Zm220 220h160v-160H400v160Zm0 220h160v-160H400v160ZM180-400h160v-160H180v160Zm440 0h160v-160H620v160ZM180-180h160v-160H180v160Zm440 0h160v-160H620v160Z\"/>\n",
              "  </svg>\n",
              "    </button>\n",
              "\n",
              "  <style>\n",
              "    .colab-df-container {\n",
              "      display:flex;\n",
              "      gap: 12px;\n",
              "    }\n",
              "\n",
              "    .colab-df-convert {\n",
              "      background-color: #E8F0FE;\n",
              "      border: none;\n",
              "      border-radius: 50%;\n",
              "      cursor: pointer;\n",
              "      display: none;\n",
              "      fill: #1967D2;\n",
              "      height: 32px;\n",
              "      padding: 0 0 0 0;\n",
              "      width: 32px;\n",
              "    }\n",
              "\n",
              "    .colab-df-convert:hover {\n",
              "      background-color: #E2EBFA;\n",
              "      box-shadow: 0px 1px 2px rgba(60, 64, 67, 0.3), 0px 1px 3px 1px rgba(60, 64, 67, 0.15);\n",
              "      fill: #174EA6;\n",
              "    }\n",
              "\n",
              "    .colab-df-buttons div {\n",
              "      margin-bottom: 4px;\n",
              "    }\n",
              "\n",
              "    [theme=dark] .colab-df-convert {\n",
              "      background-color: #3B4455;\n",
              "      fill: #D2E3FC;\n",
              "    }\n",
              "\n",
              "    [theme=dark] .colab-df-convert:hover {\n",
              "      background-color: #434B5C;\n",
              "      box-shadow: 0px 1px 3px 1px rgba(0, 0, 0, 0.15);\n",
              "      filter: drop-shadow(0px 1px 2px rgba(0, 0, 0, 0.3));\n",
              "      fill: #FFFFFF;\n",
              "    }\n",
              "  </style>\n",
              "\n",
              "    <script>\n",
              "      const buttonEl =\n",
              "        document.querySelector('#df-b746a194-92cd-4b26-afc4-3e5774da36e1 button.colab-df-convert');\n",
              "      buttonEl.style.display =\n",
              "        google.colab.kernel.accessAllowed ? 'block' : 'none';\n",
              "\n",
              "      async function convertToInteractive(key) {\n",
              "        const element = document.querySelector('#df-b746a194-92cd-4b26-afc4-3e5774da36e1');\n",
              "        const dataTable =\n",
              "          await google.colab.kernel.invokeFunction('convertToInteractive',\n",
              "                                                    [key], {});\n",
              "        if (!dataTable) return;\n",
              "\n",
              "        const docLinkHtml = 'Like what you see? Visit the ' +\n",
              "          '<a target=\"_blank\" href=https://colab.research.google.com/notebooks/data_table.ipynb>data table notebook</a>'\n",
              "          + ' to learn more about interactive tables.';\n",
              "        element.innerHTML = '';\n",
              "        dataTable['output_type'] = 'display_data';\n",
              "        await google.colab.output.renderOutput(dataTable, element);\n",
              "        const docLink = document.createElement('div');\n",
              "        docLink.innerHTML = docLinkHtml;\n",
              "        element.appendChild(docLink);\n",
              "      }\n",
              "    </script>\n",
              "  </div>\n",
              "\n",
              "\n",
              "<div id=\"df-0dcfc54f-e555-4606-9e9c-7ccc8ddf3db3\">\n",
              "  <button class=\"colab-df-quickchart\" onclick=\"quickchart('df-0dcfc54f-e555-4606-9e9c-7ccc8ddf3db3')\"\n",
              "            title=\"Suggest charts\"\n",
              "            style=\"display:none;\">\n",
              "\n",
              "<svg xmlns=\"http://www.w3.org/2000/svg\" height=\"24px\"viewBox=\"0 0 24 24\"\n",
              "     width=\"24px\">\n",
              "    <g>\n",
              "        <path d=\"M19 3H5c-1.1 0-2 .9-2 2v14c0 1.1.9 2 2 2h14c1.1 0 2-.9 2-2V5c0-1.1-.9-2-2-2zM9 17H7v-7h2v7zm4 0h-2V7h2v10zm4 0h-2v-4h2v4z\"/>\n",
              "    </g>\n",
              "</svg>\n",
              "  </button>\n",
              "\n",
              "<style>\n",
              "  .colab-df-quickchart {\n",
              "      --bg-color: #E8F0FE;\n",
              "      --fill-color: #1967D2;\n",
              "      --hover-bg-color: #E2EBFA;\n",
              "      --hover-fill-color: #174EA6;\n",
              "      --disabled-fill-color: #AAA;\n",
              "      --disabled-bg-color: #DDD;\n",
              "  }\n",
              "\n",
              "  [theme=dark] .colab-df-quickchart {\n",
              "      --bg-color: #3B4455;\n",
              "      --fill-color: #D2E3FC;\n",
              "      --hover-bg-color: #434B5C;\n",
              "      --hover-fill-color: #FFFFFF;\n",
              "      --disabled-bg-color: #3B4455;\n",
              "      --disabled-fill-color: #666;\n",
              "  }\n",
              "\n",
              "  .colab-df-quickchart {\n",
              "    background-color: var(--bg-color);\n",
              "    border: none;\n",
              "    border-radius: 50%;\n",
              "    cursor: pointer;\n",
              "    display: none;\n",
              "    fill: var(--fill-color);\n",
              "    height: 32px;\n",
              "    padding: 0;\n",
              "    width: 32px;\n",
              "  }\n",
              "\n",
              "  .colab-df-quickchart:hover {\n",
              "    background-color: var(--hover-bg-color);\n",
              "    box-shadow: 0 1px 2px rgba(60, 64, 67, 0.3), 0 1px 3px 1px rgba(60, 64, 67, 0.15);\n",
              "    fill: var(--button-hover-fill-color);\n",
              "  }\n",
              "\n",
              "  .colab-df-quickchart-complete:disabled,\n",
              "  .colab-df-quickchart-complete:disabled:hover {\n",
              "    background-color: var(--disabled-bg-color);\n",
              "    fill: var(--disabled-fill-color);\n",
              "    box-shadow: none;\n",
              "  }\n",
              "\n",
              "  .colab-df-spinner {\n",
              "    border: 2px solid var(--fill-color);\n",
              "    border-color: transparent;\n",
              "    border-bottom-color: var(--fill-color);\n",
              "    animation:\n",
              "      spin 1s steps(1) infinite;\n",
              "  }\n",
              "\n",
              "  @keyframes spin {\n",
              "    0% {\n",
              "      border-color: transparent;\n",
              "      border-bottom-color: var(--fill-color);\n",
              "      border-left-color: var(--fill-color);\n",
              "    }\n",
              "    20% {\n",
              "      border-color: transparent;\n",
              "      border-left-color: var(--fill-color);\n",
              "      border-top-color: var(--fill-color);\n",
              "    }\n",
              "    30% {\n",
              "      border-color: transparent;\n",
              "      border-left-color: var(--fill-color);\n",
              "      border-top-color: var(--fill-color);\n",
              "      border-right-color: var(--fill-color);\n",
              "    }\n",
              "    40% {\n",
              "      border-color: transparent;\n",
              "      border-right-color: var(--fill-color);\n",
              "      border-top-color: var(--fill-color);\n",
              "    }\n",
              "    60% {\n",
              "      border-color: transparent;\n",
              "      border-right-color: var(--fill-color);\n",
              "    }\n",
              "    80% {\n",
              "      border-color: transparent;\n",
              "      border-right-color: var(--fill-color);\n",
              "      border-bottom-color: var(--fill-color);\n",
              "    }\n",
              "    90% {\n",
              "      border-color: transparent;\n",
              "      border-bottom-color: var(--fill-color);\n",
              "    }\n",
              "  }\n",
              "</style>\n",
              "\n",
              "  <script>\n",
              "    async function quickchart(key) {\n",
              "      const quickchartButtonEl =\n",
              "        document.querySelector('#' + key + ' button');\n",
              "      quickchartButtonEl.disabled = true;  // To prevent multiple clicks.\n",
              "      quickchartButtonEl.classList.add('colab-df-spinner');\n",
              "      try {\n",
              "        const charts = await google.colab.kernel.invokeFunction(\n",
              "            'suggestCharts', [key], {});\n",
              "      } catch (error) {\n",
              "        console.error('Error during call to suggestCharts:', error);\n",
              "      }\n",
              "      quickchartButtonEl.classList.remove('colab-df-spinner');\n",
              "      quickchartButtonEl.classList.add('colab-df-quickchart-complete');\n",
              "    }\n",
              "    (() => {\n",
              "      let quickchartButtonEl =\n",
              "        document.querySelector('#df-0dcfc54f-e555-4606-9e9c-7ccc8ddf3db3 button');\n",
              "      quickchartButtonEl.style.display =\n",
              "        google.colab.kernel.accessAllowed ? 'block' : 'none';\n",
              "    })();\n",
              "  </script>\n",
              "</div>\n",
              "\n",
              "    </div>\n",
              "  </div>\n"
            ],
            "text/plain": [
              "     ANO_ELEICAO     NM_UE  DS_CARGO  NR_CANDIDATO  \\\n",
              "18          2024  SALVADOR  VEREADOR         28800   \n",
              "107         2024  SALVADOR  VEREADOR         12678   \n",
              "136         2024  SALVADOR  VEREADOR         35577   \n",
              "159         2024  SALVADOR  VEREADOR         12342   \n",
              "167         2024  SALVADOR  VEREADOR         55100   \n",
              "\n",
              "                        NM_CANDIDATO   NM_URNA_CANDIDATO NM_SOCIAL_CANDIDATO  \\\n",
              "18               FERNANDO DOS SANTOS    FERNANDO  SANTOS              #NULO#   \n",
              "107         ADILSON DANTAS CONCEIÇÃO         DR. ADILSON              #NULO#   \n",
              "136            EDNEIA BATISTA SANTOS  AGENTES PELA SAÚDE              #NULO#   \n",
              "159  CLAUDIO EMANOEL PINHEIRO AMORIM      CLAUDIO AMORIM              #NULO#   \n",
              "167   CARLOS KLEBER COSTA DE ALMEIDA       CARLOS KLEBER              #NULO#   \n",
              "\n",
              "    DS_SITUACAO_CANDIDATURA    TP_AGREMIACAO SG_PARTIDO  ... SG_UF_NASCIMENTO  \\\n",
              "18                      #NE  PARTIDO ISOLADO       PRTB  ...               BA   \n",
              "107                     #NE  PARTIDO ISOLADO        PDT  ...               BA   \n",
              "136                     #NE  PARTIDO ISOLADO        PMB  ...               BA   \n",
              "159                     #NE  PARTIDO ISOLADO        PDT  ...               BA   \n",
              "167                     #NE  PARTIDO ISOLADO        PSD  ...               BA   \n",
              "\n",
              "    DT_NASCIMENTO  DS_GENERO      DS_GRAU_INSTRUCAO  DS_ESTADO_CIVIL  \\\n",
              "18     1986-07-26  MASCULINO  ENSINO MÉDIO COMPLETO      SOLTEIRO(A)   \n",
              "107    1965-09-28  MASCULINO      SUPERIOR COMPLETO        CASADO(A)   \n",
              "136    1973-02-24   FEMININO      SUPERIOR COMPLETO      SOLTEIRO(A)   \n",
              "159    1969-11-30  MASCULINO    SUPERIOR INCOMPLETO        CASADO(A)   \n",
              "167    1969-04-22  MASCULINO      SUPERIOR COMPLETO        CASADO(A)   \n",
              "\n",
              "    DS_COR_RACA                                        DS_OCUPACAO  \\\n",
              "18        PARDA                              AGENTE ADMINISTRATIVO   \n",
              "107       PRETA                                           ADVOGADO   \n",
              "136       PRETA                         SERVIDOR PÚBLICO MUNICIPAL   \n",
              "159       PARDA  TÉCNICO CONTABILIDADE, ESTATÍSTICA, ECONOMIA D...   \n",
              "167      BRANCA                                TÉCNICO DE MECÂNICA   \n",
              "\n",
              "    DS_SIT_TOT_TURNO ANO_NASCIMENTO IDADE  \n",
              "18            #NULO#           1986    38  \n",
              "107           #NULO#           1965    59  \n",
              "136           #NULO#           1973    51  \n",
              "159           #NULO#           1969    55  \n",
              "167           #NULO#           1969    55  \n",
              "\n",
              "[5 rows x 27 columns]"
            ]
          },
          "execution_count": 15,
          "metadata": {},
          "output_type": "execute_result"
        }
      ],
      "source": [
        "df_salvador_vereadores_2024.head()"
      ]
    },
    {
      "cell_type": "markdown",
      "metadata": {
        "id": "FI173jKAL7mj"
      },
      "source": [
        "# Base 2020"
      ]
    },
    {
      "cell_type": "code",
      "execution_count": 16,
      "metadata": {
        "id": "3ZN7XSIfOmPB"
      },
      "outputs": [],
      "source": [
        "df = pd.read_csv('consulta_cand_2020_BA.csv', sep=';',encoding='latin-1')\n",
        "df_copy_2020 = df"
      ]
    },
    {
      "cell_type": "code",
      "execution_count": 17,
      "metadata": {
        "id": "defTdiHzqjlx"
      },
      "outputs": [],
      "source": [
        "#convertendo a coluna de data que está em object para data\n",
        "\n",
        "df_copy_2020['DT_NASCIMENTO'] = pd.to_datetime(df_copy_2020['DT_NASCIMENTO'],format='%d/%m/%Y', errors='coerce')"
      ]
    },
    {
      "cell_type": "code",
      "execution_count": 18,
      "metadata": {
        "colab": {
          "base_uri": "https://localhost:8080/"
        },
        "id": "tgaeeZeBPzij",
        "outputId": "b86227a9-ecad-491c-b8ee-1a77989805c8"
      },
      "outputs": [
        {
          "name": "stdout",
          "output_type": "stream",
          "text": [
            "<class 'pandas.core.frame.DataFrame'>\n",
            "RangeIndex: 41619 entries, 0 to 41618\n",
            "Data columns (total 71 columns):\n",
            " #   Column                         Non-Null Count  Dtype         \n",
            "---  ------                         --------------  -----         \n",
            " 0   DT_GERACAO                     41619 non-null  object        \n",
            " 1   HH_GERACAO                     41619 non-null  object        \n",
            " 2   ANO_ELEICAO                    41619 non-null  int64         \n",
            " 3   CD_TIPO_ELEICAO                41619 non-null  int64         \n",
            " 4   NM_TIPO_ELEICAO                41619 non-null  object        \n",
            " 5   NR_TURNO                       41619 non-null  int64         \n",
            " 6   CD_ELEICAO                     41619 non-null  int64         \n",
            " 7   DS_ELEICAO                     41619 non-null  object        \n",
            " 8   DT_ELEICAO                     41619 non-null  object        \n",
            " 9   TP_ABRANGENCIA                 41619 non-null  object        \n",
            " 10  SG_UF                          41619 non-null  object        \n",
            " 11  SG_UE                          41619 non-null  int64         \n",
            " 12  NM_UE                          41619 non-null  object        \n",
            " 13  CD_CARGO                       41619 non-null  int64         \n",
            " 14  DS_CARGO                       41619 non-null  object        \n",
            " 15  SQ_CANDIDATO                   41619 non-null  int64         \n",
            " 16  NR_CANDIDATO                   41619 non-null  int64         \n",
            " 17  NM_CANDIDATO                   41619 non-null  object        \n",
            " 18  NM_URNA_CANDIDATO              41619 non-null  object        \n",
            " 19  NM_SOCIAL_CANDIDATO            41619 non-null  object        \n",
            " 20  NR_CPF_CANDIDATO               41619 non-null  int64         \n",
            " 21  NM_EMAIL                       41619 non-null  object        \n",
            " 22  CD_SITUACAO_CANDIDATURA        41619 non-null  int64         \n",
            " 23  DS_SITUACAO_CANDIDATURA        41619 non-null  object        \n",
            " 24  CD_DETALHE_SITUACAO_CAND       41619 non-null  int64         \n",
            " 25  DS_DETALHE_SITUACAO_CAND       41619 non-null  object        \n",
            " 26  TP_AGREMIACAO                  41619 non-null  object        \n",
            " 27  NR_PARTIDO                     41619 non-null  int64         \n",
            " 28  SG_PARTIDO                     41619 non-null  object        \n",
            " 29  NM_PARTIDO                     41619 non-null  object        \n",
            " 30  NR_FEDERACAO                   41619 non-null  int64         \n",
            " 31  NM_FEDERACAO                   41619 non-null  object        \n",
            " 32  SG_FEDERACAO                   41619 non-null  object        \n",
            " 33  DS_COMPOSICAO_FEDERACAO        41619 non-null  object        \n",
            " 34  SQ_COLIGACAO                   41619 non-null  int64         \n",
            " 35  NM_COLIGACAO                   41619 non-null  object        \n",
            " 36  DS_COMPOSICAO_COLIGACAO        41619 non-null  object        \n",
            " 37  CD_NACIONALIDADE               41619 non-null  int64         \n",
            " 38  DS_NACIONALIDADE               41619 non-null  object        \n",
            " 39  SG_UF_NASCIMENTO               41619 non-null  object        \n",
            " 40  CD_MUNICIPIO_NASCIMENTO        41619 non-null  int64         \n",
            " 41  NM_MUNICIPIO_NASCIMENTO        41619 non-null  object        \n",
            " 42  DT_NASCIMENTO                  41618 non-null  datetime64[ns]\n",
            " 43  NR_IDADE_DATA_POSSE            41619 non-null  int64         \n",
            " 44  NR_TITULO_ELEITORAL_CANDIDATO  41619 non-null  int64         \n",
            " 45  CD_GENERO                      41619 non-null  int64         \n",
            " 46  DS_GENERO                      41619 non-null  object        \n",
            " 47  CD_GRAU_INSTRUCAO              41619 non-null  int64         \n",
            " 48  DS_GRAU_INSTRUCAO              41619 non-null  object        \n",
            " 49  CD_ESTADO_CIVIL                41619 non-null  int64         \n",
            " 50  DS_ESTADO_CIVIL                41619 non-null  object        \n",
            " 51  CD_COR_RACA                    41619 non-null  int64         \n",
            " 52  DS_COR_RACA                    41619 non-null  object        \n",
            " 53  CD_OCUPACAO                    41619 non-null  int64         \n",
            " 54  DS_OCUPACAO                    41619 non-null  object        \n",
            " 55  VR_DESPESA_MAX_CAMPANHA        41619 non-null  float64       \n",
            " 56  CD_SIT_TOT_TURNO               41619 non-null  int64         \n",
            " 57  DS_SIT_TOT_TURNO               41619 non-null  object        \n",
            " 58  ST_REELEICAO                   41619 non-null  object        \n",
            " 59  ST_DECLARAR_BENS               41619 non-null  object        \n",
            " 60  NR_PROTOCOLO_CANDIDATURA       41619 non-null  int64         \n",
            " 61  NR_PROCESSO                    41619 non-null  int64         \n",
            " 62  CD_SITUACAO_CANDIDATO_PLEITO   41619 non-null  int64         \n",
            " 63  DS_SITUACAO_CANDIDATO_PLEITO   41619 non-null  object        \n",
            " 64  CD_SITUACAO_CANDIDATO_URNA     41619 non-null  int64         \n",
            " 65  DS_SITUACAO_CANDIDATO_URNA     41619 non-null  object        \n",
            " 66  ST_CANDIDATO_INSERIDO_URNA     41619 non-null  object        \n",
            " 67  NM_TIPO_DESTINACAO_VOTOS       41619 non-null  object        \n",
            " 68  CD_SITUACAO_CANDIDATO_TOT      41619 non-null  int64         \n",
            " 69  DS_SITUACAO_CANDIDATO_TOT      41619 non-null  object        \n",
            " 70  ST_PREST_CONTAS                41619 non-null  object        \n",
            "dtypes: datetime64[ns](1), float64(1), int64(29), object(40)\n",
            "memory usage: 22.5+ MB\n"
          ]
        }
      ],
      "source": [
        "df_copy_2020.info()"
      ]
    },
    {
      "cell_type": "code",
      "execution_count": 19,
      "metadata": {
        "colab": {
          "base_uri": "https://localhost:8080/"
        },
        "id": "9ma53JOAqma7",
        "outputId": "af059839-21cd-4e9b-ab2b-96e6e75ffdc4"
      },
      "outputs": [
        {
          "data": {
            "text/plain": [
              "<DatetimeArray>\n",
              "['1972-10-17 00:00:00', '1975-04-16 00:00:00', '1977-05-26 00:00:00',\n",
              " '1980-03-25 00:00:00', '1986-02-25 00:00:00', '1974-01-02 00:00:00',\n",
              " '1999-05-08 00:00:00', '1979-05-26 00:00:00', '1963-04-19 00:00:00',\n",
              " '1987-04-26 00:00:00',\n",
              " ...\n",
              " '1950-03-19 00:00:00', '1961-07-15 00:00:00', '1986-10-03 00:00:00',\n",
              " '1990-01-26 00:00:00', '1951-08-24 00:00:00', '1962-04-05 00:00:00',\n",
              " '1953-07-16 00:00:00', '1986-03-03 00:00:00', '2000-02-14 00:00:00',\n",
              " '1999-01-14 00:00:00']\n",
              "Length: 15181, dtype: datetime64[ns]"
            ]
          },
          "execution_count": 19,
          "metadata": {},
          "output_type": "execute_result"
        }
      ],
      "source": [
        "colum1 = df_copy_2020 ['DT_NASCIMENTO']\n",
        "colum1.unique()"
      ]
    },
    {
      "cell_type": "markdown",
      "metadata": {
        "id": "OXsWvcK4Ow27"
      },
      "source": [
        "## Colunas mantidas - 2020\n",
        "\n",
        "\n",
        "*   ANO_ELEICAO\t - Ano da eleição.\n",
        "\n",
        "*   NM_UE - Nome da unidade da federação (estado).\n",
        "\n",
        "*   DS_CARGO - Descrição do cargo.\n",
        "\n",
        "*   NR_CANDIDATO - Número do candidato na urna.\n",
        "\n",
        "*   NM_CANDIDATO - Nome completo do candidato.\n",
        "\n",
        "*   NM_URNA_CANDIDATO - Nome do candidato como aparecerá na urna.\n",
        "\n",
        "*   NM_SOCIAL_CANDIDATO - Nome social do candidato.\n",
        "\n",
        "*   DS_SITUACAO_CANDIDATURA - Situação da candidatura (apto, indeferido, etc.).\n",
        "\n",
        "*   TP_AGREMIACAO - Tipo de agremiação (partido, coligação).\n",
        "\n",
        "*   SG_PARTIDO - Sigla do partido político.\n",
        "\n",
        "*   NM_PARTIDO\t- Nome completo do partido político.\n",
        "\n",
        "*   SG_FEDERACAO -\tSigla da federação partidária.\n",
        "\n",
        "*   NM_FEDERACAO - Nome completo da federação partidária.\n",
        "\n",
        "*   DS_COMPOSICAO_FEDERACAO\t- Descrição da composição da federação.\n",
        "\n",
        "*   SQ_COLIGACAO - Código da coligação.\n",
        "\n",
        "*   NM_COLIGACAO - Nome da coligação.\n",
        "\n",
        "*   DS_COMPOSICAO_COLIGACAO - Descrição da composição da coligação.\n",
        "\n",
        "*   SG_UF_NASCIMENTO - Sigla da unidade federativa de nascimento do candidato.\n",
        "\n",
        "*   DT_NASCIMENTO\t- Data de nascimento do candidato.\n",
        "\n",
        "*   DS_GENERO -\tGênero do candidato.\n",
        "\n",
        "*   DS_GRAU_INSTRUCAO\t- Grau de instrução do candidato.\n",
        "\n",
        "*   DS_ESTADO_CIVIL\t- Estado civil do candidato.\n",
        "\n",
        "*   DS_COR_RACA\t- Cor/raça do candidato.\n",
        "\n",
        "*   DS_OCUPACAO\t- Ocupação do candidato.\n",
        "\n",
        "*   DS_SIT_TOT_TURNO -\tSituação final do candidato no turno.\n"
      ]
    },
    {
      "cell_type": "code",
      "execution_count": 20,
      "metadata": {
        "colab": {
          "base_uri": "https://localhost:8080/",
          "height": 0
        },
        "id": "SuT-f_lXPClO",
        "outputId": "4cd26ecc-0d2f-4ec1-e070-dfbaa322bfc7"
      },
      "outputs": [
        {
          "data": {
            "application/vnd.google.colaboratory.intrinsic+json": {
              "type": "dataframe",
              "variable_name": "df_clean_colums_2020"
            },
            "text/html": [
              "\n",
              "  <div id=\"df-d64af5a5-cd6f-4117-961f-57c979e2e05e\" class=\"colab-df-container\">\n",
              "    <div>\n",
              "<style scoped>\n",
              "    .dataframe tbody tr th:only-of-type {\n",
              "        vertical-align: middle;\n",
              "    }\n",
              "\n",
              "    .dataframe tbody tr th {\n",
              "        vertical-align: top;\n",
              "    }\n",
              "\n",
              "    .dataframe thead th {\n",
              "        text-align: right;\n",
              "    }\n",
              "</style>\n",
              "<table border=\"1\" class=\"dataframe\">\n",
              "  <thead>\n",
              "    <tr style=\"text-align: right;\">\n",
              "      <th></th>\n",
              "      <th>ANO_ELEICAO</th>\n",
              "      <th>NM_UE</th>\n",
              "      <th>DS_CARGO</th>\n",
              "      <th>NR_CANDIDATO</th>\n",
              "      <th>NM_CANDIDATO</th>\n",
              "      <th>NM_URNA_CANDIDATO</th>\n",
              "      <th>NM_SOCIAL_CANDIDATO</th>\n",
              "      <th>DS_SITUACAO_CANDIDATURA</th>\n",
              "      <th>TP_AGREMIACAO</th>\n",
              "      <th>SG_PARTIDO</th>\n",
              "      <th>...</th>\n",
              "      <th>NM_COLIGACAO</th>\n",
              "      <th>DS_COMPOSICAO_COLIGACAO</th>\n",
              "      <th>SG_UF_NASCIMENTO</th>\n",
              "      <th>DT_NASCIMENTO</th>\n",
              "      <th>DS_GENERO</th>\n",
              "      <th>DS_GRAU_INSTRUCAO</th>\n",
              "      <th>DS_ESTADO_CIVIL</th>\n",
              "      <th>DS_COR_RACA</th>\n",
              "      <th>DS_OCUPACAO</th>\n",
              "      <th>DS_SIT_TOT_TURNO</th>\n",
              "    </tr>\n",
              "  </thead>\n",
              "  <tbody>\n",
              "    <tr>\n",
              "      <th>0</th>\n",
              "      <td>2020</td>\n",
              "      <td>RIACHÃO DO JACUÍPE</td>\n",
              "      <td>PREFEITO</td>\n",
              "      <td>25</td>\n",
              "      <td>JOSE CARLOS DE MATOS SOARES</td>\n",
              "      <td>CARLINHOS MATOS</td>\n",
              "      <td>#NULO#</td>\n",
              "      <td>APTO</td>\n",
              "      <td>COLIGAÇÃO</td>\n",
              "      <td>DEM</td>\n",
              "      <td>...</td>\n",
              "      <td>JUNTOS SOMOS MAIS FORTES</td>\n",
              "      <td>PDT / REPUBLICANOS / PTB / PSL / DEM / PSDB</td>\n",
              "      <td>BA</td>\n",
              "      <td>1972-10-17</td>\n",
              "      <td>MASCULINO</td>\n",
              "      <td>SUPERIOR COMPLETO</td>\n",
              "      <td>CASADO(A)</td>\n",
              "      <td>PARDA</td>\n",
              "      <td>ADMINISTRADOR</td>\n",
              "      <td>ELEITO</td>\n",
              "    </tr>\n",
              "    <tr>\n",
              "      <th>1</th>\n",
              "      <td>2020</td>\n",
              "      <td>MIRANGABA</td>\n",
              "      <td>VEREADOR</td>\n",
              "      <td>65444</td>\n",
              "      <td>PEDRO GALDINO DOS SANTOS</td>\n",
              "      <td>GONZAGA DE MARRUÁS</td>\n",
              "      <td>#NULO#</td>\n",
              "      <td>APTO</td>\n",
              "      <td>PARTIDO ISOLADO</td>\n",
              "      <td>PC do B</td>\n",
              "      <td>...</td>\n",
              "      <td>PARTIDO ISOLADO</td>\n",
              "      <td>PC do B</td>\n",
              "      <td>BA</td>\n",
              "      <td>1975-04-16</td>\n",
              "      <td>MASCULINO</td>\n",
              "      <td>ENSINO FUNDAMENTAL INCOMPLETO</td>\n",
              "      <td>SOLTEIRO(A)</td>\n",
              "      <td>PARDA</td>\n",
              "      <td>AGRICULTOR</td>\n",
              "      <td>NÃO ELEITO</td>\n",
              "    </tr>\n",
              "    <tr>\n",
              "      <th>2</th>\n",
              "      <td>2020</td>\n",
              "      <td>SÃO SEBASTIÃO DO PASSÉ</td>\n",
              "      <td>VEREADOR</td>\n",
              "      <td>14193</td>\n",
              "      <td>FRANCISCO BARBOSA DOS SANTOS</td>\n",
              "      <td>LELEU DE BRAULIA</td>\n",
              "      <td>#NULO#</td>\n",
              "      <td>APTO</td>\n",
              "      <td>PARTIDO ISOLADO</td>\n",
              "      <td>PTB</td>\n",
              "      <td>...</td>\n",
              "      <td>PARTIDO ISOLADO</td>\n",
              "      <td>PTB</td>\n",
              "      <td>BA</td>\n",
              "      <td>1977-05-26</td>\n",
              "      <td>MASCULINO</td>\n",
              "      <td>ENSINO FUNDAMENTAL COMPLETO</td>\n",
              "      <td>SOLTEIRO(A)</td>\n",
              "      <td>PARDA</td>\n",
              "      <td>DETETIVE PARTICULAR</td>\n",
              "      <td>SUPLENTE</td>\n",
              "    </tr>\n",
              "    <tr>\n",
              "      <th>3</th>\n",
              "      <td>2020</td>\n",
              "      <td>SALVADOR</td>\n",
              "      <td>VEREADOR</td>\n",
              "      <td>14133</td>\n",
              "      <td>JOSUE DA SILVA VITORINO</td>\n",
              "      <td>JOSUE VITORINO JOCA</td>\n",
              "      <td>#NULO#</td>\n",
              "      <td>APTO</td>\n",
              "      <td>PARTIDO ISOLADO</td>\n",
              "      <td>PTB</td>\n",
              "      <td>...</td>\n",
              "      <td>PARTIDO ISOLADO</td>\n",
              "      <td>PTB</td>\n",
              "      <td>BA</td>\n",
              "      <td>1980-03-25</td>\n",
              "      <td>MASCULINO</td>\n",
              "      <td>ENSINO MÉDIO COMPLETO</td>\n",
              "      <td>SOLTEIRO(A)</td>\n",
              "      <td>PARDA</td>\n",
              "      <td>OUTROS</td>\n",
              "      <td>SUPLENTE</td>\n",
              "    </tr>\n",
              "    <tr>\n",
              "      <th>4</th>\n",
              "      <td>2020</td>\n",
              "      <td>IGAPORÃ</td>\n",
              "      <td>VEREADOR</td>\n",
              "      <td>55369</td>\n",
              "      <td>DIOGO CARLOS ALVES FERNANDES</td>\n",
              "      <td>DIOGO</td>\n",
              "      <td>#NULO#</td>\n",
              "      <td>APTO</td>\n",
              "      <td>PARTIDO ISOLADO</td>\n",
              "      <td>PSD</td>\n",
              "      <td>...</td>\n",
              "      <td>PARTIDO ISOLADO</td>\n",
              "      <td>PSD</td>\n",
              "      <td>BA</td>\n",
              "      <td>1986-02-25</td>\n",
              "      <td>MASCULINO</td>\n",
              "      <td>ENSINO MÉDIO COMPLETO</td>\n",
              "      <td>CASADO(A)</td>\n",
              "      <td>BRANCA</td>\n",
              "      <td>OUTROS</td>\n",
              "      <td>ELEITO POR QP</td>\n",
              "    </tr>\n",
              "  </tbody>\n",
              "</table>\n",
              "<p>5 rows × 25 columns</p>\n",
              "</div>\n",
              "    <div class=\"colab-df-buttons\">\n",
              "\n",
              "  <div class=\"colab-df-container\">\n",
              "    <button class=\"colab-df-convert\" onclick=\"convertToInteractive('df-d64af5a5-cd6f-4117-961f-57c979e2e05e')\"\n",
              "            title=\"Convert this dataframe to an interactive table.\"\n",
              "            style=\"display:none;\">\n",
              "\n",
              "  <svg xmlns=\"http://www.w3.org/2000/svg\" height=\"24px\" viewBox=\"0 -960 960 960\">\n",
              "    <path d=\"M120-120v-720h720v720H120Zm60-500h600v-160H180v160Zm220 220h160v-160H400v160Zm0 220h160v-160H400v160ZM180-400h160v-160H180v160Zm440 0h160v-160H620v160ZM180-180h160v-160H180v160Zm440 0h160v-160H620v160Z\"/>\n",
              "  </svg>\n",
              "    </button>\n",
              "\n",
              "  <style>\n",
              "    .colab-df-container {\n",
              "      display:flex;\n",
              "      gap: 12px;\n",
              "    }\n",
              "\n",
              "    .colab-df-convert {\n",
              "      background-color: #E8F0FE;\n",
              "      border: none;\n",
              "      border-radius: 50%;\n",
              "      cursor: pointer;\n",
              "      display: none;\n",
              "      fill: #1967D2;\n",
              "      height: 32px;\n",
              "      padding: 0 0 0 0;\n",
              "      width: 32px;\n",
              "    }\n",
              "\n",
              "    .colab-df-convert:hover {\n",
              "      background-color: #E2EBFA;\n",
              "      box-shadow: 0px 1px 2px rgba(60, 64, 67, 0.3), 0px 1px 3px 1px rgba(60, 64, 67, 0.15);\n",
              "      fill: #174EA6;\n",
              "    }\n",
              "\n",
              "    .colab-df-buttons div {\n",
              "      margin-bottom: 4px;\n",
              "    }\n",
              "\n",
              "    [theme=dark] .colab-df-convert {\n",
              "      background-color: #3B4455;\n",
              "      fill: #D2E3FC;\n",
              "    }\n",
              "\n",
              "    [theme=dark] .colab-df-convert:hover {\n",
              "      background-color: #434B5C;\n",
              "      box-shadow: 0px 1px 3px 1px rgba(0, 0, 0, 0.15);\n",
              "      filter: drop-shadow(0px 1px 2px rgba(0, 0, 0, 0.3));\n",
              "      fill: #FFFFFF;\n",
              "    }\n",
              "  </style>\n",
              "\n",
              "    <script>\n",
              "      const buttonEl =\n",
              "        document.querySelector('#df-d64af5a5-cd6f-4117-961f-57c979e2e05e button.colab-df-convert');\n",
              "      buttonEl.style.display =\n",
              "        google.colab.kernel.accessAllowed ? 'block' : 'none';\n",
              "\n",
              "      async function convertToInteractive(key) {\n",
              "        const element = document.querySelector('#df-d64af5a5-cd6f-4117-961f-57c979e2e05e');\n",
              "        const dataTable =\n",
              "          await google.colab.kernel.invokeFunction('convertToInteractive',\n",
              "                                                    [key], {});\n",
              "        if (!dataTable) return;\n",
              "\n",
              "        const docLinkHtml = 'Like what you see? Visit the ' +\n",
              "          '<a target=\"_blank\" href=https://colab.research.google.com/notebooks/data_table.ipynb>data table notebook</a>'\n",
              "          + ' to learn more about interactive tables.';\n",
              "        element.innerHTML = '';\n",
              "        dataTable['output_type'] = 'display_data';\n",
              "        await google.colab.output.renderOutput(dataTable, element);\n",
              "        const docLink = document.createElement('div');\n",
              "        docLink.innerHTML = docLinkHtml;\n",
              "        element.appendChild(docLink);\n",
              "      }\n",
              "    </script>\n",
              "  </div>\n",
              "\n",
              "\n",
              "<div id=\"df-ffc5e903-bf70-4f4d-a85b-95db805bad8f\">\n",
              "  <button class=\"colab-df-quickchart\" onclick=\"quickchart('df-ffc5e903-bf70-4f4d-a85b-95db805bad8f')\"\n",
              "            title=\"Suggest charts\"\n",
              "            style=\"display:none;\">\n",
              "\n",
              "<svg xmlns=\"http://www.w3.org/2000/svg\" height=\"24px\"viewBox=\"0 0 24 24\"\n",
              "     width=\"24px\">\n",
              "    <g>\n",
              "        <path d=\"M19 3H5c-1.1 0-2 .9-2 2v14c0 1.1.9 2 2 2h14c1.1 0 2-.9 2-2V5c0-1.1-.9-2-2-2zM9 17H7v-7h2v7zm4 0h-2V7h2v10zm4 0h-2v-4h2v4z\"/>\n",
              "    </g>\n",
              "</svg>\n",
              "  </button>\n",
              "\n",
              "<style>\n",
              "  .colab-df-quickchart {\n",
              "      --bg-color: #E8F0FE;\n",
              "      --fill-color: #1967D2;\n",
              "      --hover-bg-color: #E2EBFA;\n",
              "      --hover-fill-color: #174EA6;\n",
              "      --disabled-fill-color: #AAA;\n",
              "      --disabled-bg-color: #DDD;\n",
              "  }\n",
              "\n",
              "  [theme=dark] .colab-df-quickchart {\n",
              "      --bg-color: #3B4455;\n",
              "      --fill-color: #D2E3FC;\n",
              "      --hover-bg-color: #434B5C;\n",
              "      --hover-fill-color: #FFFFFF;\n",
              "      --disabled-bg-color: #3B4455;\n",
              "      --disabled-fill-color: #666;\n",
              "  }\n",
              "\n",
              "  .colab-df-quickchart {\n",
              "    background-color: var(--bg-color);\n",
              "    border: none;\n",
              "    border-radius: 50%;\n",
              "    cursor: pointer;\n",
              "    display: none;\n",
              "    fill: var(--fill-color);\n",
              "    height: 32px;\n",
              "    padding: 0;\n",
              "    width: 32px;\n",
              "  }\n",
              "\n",
              "  .colab-df-quickchart:hover {\n",
              "    background-color: var(--hover-bg-color);\n",
              "    box-shadow: 0 1px 2px rgba(60, 64, 67, 0.3), 0 1px 3px 1px rgba(60, 64, 67, 0.15);\n",
              "    fill: var(--button-hover-fill-color);\n",
              "  }\n",
              "\n",
              "  .colab-df-quickchart-complete:disabled,\n",
              "  .colab-df-quickchart-complete:disabled:hover {\n",
              "    background-color: var(--disabled-bg-color);\n",
              "    fill: var(--disabled-fill-color);\n",
              "    box-shadow: none;\n",
              "  }\n",
              "\n",
              "  .colab-df-spinner {\n",
              "    border: 2px solid var(--fill-color);\n",
              "    border-color: transparent;\n",
              "    border-bottom-color: var(--fill-color);\n",
              "    animation:\n",
              "      spin 1s steps(1) infinite;\n",
              "  }\n",
              "\n",
              "  @keyframes spin {\n",
              "    0% {\n",
              "      border-color: transparent;\n",
              "      border-bottom-color: var(--fill-color);\n",
              "      border-left-color: var(--fill-color);\n",
              "    }\n",
              "    20% {\n",
              "      border-color: transparent;\n",
              "      border-left-color: var(--fill-color);\n",
              "      border-top-color: var(--fill-color);\n",
              "    }\n",
              "    30% {\n",
              "      border-color: transparent;\n",
              "      border-left-color: var(--fill-color);\n",
              "      border-top-color: var(--fill-color);\n",
              "      border-right-color: var(--fill-color);\n",
              "    }\n",
              "    40% {\n",
              "      border-color: transparent;\n",
              "      border-right-color: var(--fill-color);\n",
              "      border-top-color: var(--fill-color);\n",
              "    }\n",
              "    60% {\n",
              "      border-color: transparent;\n",
              "      border-right-color: var(--fill-color);\n",
              "    }\n",
              "    80% {\n",
              "      border-color: transparent;\n",
              "      border-right-color: var(--fill-color);\n",
              "      border-bottom-color: var(--fill-color);\n",
              "    }\n",
              "    90% {\n",
              "      border-color: transparent;\n",
              "      border-bottom-color: var(--fill-color);\n",
              "    }\n",
              "  }\n",
              "</style>\n",
              "\n",
              "  <script>\n",
              "    async function quickchart(key) {\n",
              "      const quickchartButtonEl =\n",
              "        document.querySelector('#' + key + ' button');\n",
              "      quickchartButtonEl.disabled = true;  // To prevent multiple clicks.\n",
              "      quickchartButtonEl.classList.add('colab-df-spinner');\n",
              "      try {\n",
              "        const charts = await google.colab.kernel.invokeFunction(\n",
              "            'suggestCharts', [key], {});\n",
              "      } catch (error) {\n",
              "        console.error('Error during call to suggestCharts:', error);\n",
              "      }\n",
              "      quickchartButtonEl.classList.remove('colab-df-spinner');\n",
              "      quickchartButtonEl.classList.add('colab-df-quickchart-complete');\n",
              "    }\n",
              "    (() => {\n",
              "      let quickchartButtonEl =\n",
              "        document.querySelector('#df-ffc5e903-bf70-4f4d-a85b-95db805bad8f button');\n",
              "      quickchartButtonEl.style.display =\n",
              "        google.colab.kernel.accessAllowed ? 'block' : 'none';\n",
              "    })();\n",
              "  </script>\n",
              "</div>\n",
              "\n",
              "    </div>\n",
              "  </div>\n"
            ],
            "text/plain": [
              "   ANO_ELEICAO                   NM_UE  DS_CARGO  NR_CANDIDATO  \\\n",
              "0         2020      RIACHÃO DO JACUÍPE  PREFEITO            25   \n",
              "1         2020               MIRANGABA  VEREADOR         65444   \n",
              "2         2020  SÃO SEBASTIÃO DO PASSÉ  VEREADOR         14193   \n",
              "3         2020                SALVADOR  VEREADOR         14133   \n",
              "4         2020                 IGAPORÃ  VEREADOR         55369   \n",
              "\n",
              "                   NM_CANDIDATO    NM_URNA_CANDIDATO NM_SOCIAL_CANDIDATO  \\\n",
              "0   JOSE CARLOS DE MATOS SOARES      CARLINHOS MATOS              #NULO#   \n",
              "1      PEDRO GALDINO DOS SANTOS   GONZAGA DE MARRUÁS              #NULO#   \n",
              "2  FRANCISCO BARBOSA DOS SANTOS     LELEU DE BRAULIA              #NULO#   \n",
              "3       JOSUE DA SILVA VITORINO  JOSUE VITORINO JOCA              #NULO#   \n",
              "4  DIOGO CARLOS ALVES FERNANDES                DIOGO              #NULO#   \n",
              "\n",
              "  DS_SITUACAO_CANDIDATURA    TP_AGREMIACAO SG_PARTIDO  ...  \\\n",
              "0                    APTO        COLIGAÇÃO        DEM  ...   \n",
              "1                    APTO  PARTIDO ISOLADO    PC do B  ...   \n",
              "2                    APTO  PARTIDO ISOLADO        PTB  ...   \n",
              "3                    APTO  PARTIDO ISOLADO        PTB  ...   \n",
              "4                    APTO  PARTIDO ISOLADO        PSD  ...   \n",
              "\n",
              "               NM_COLIGACAO                      DS_COMPOSICAO_COLIGACAO  \\\n",
              "0  JUNTOS SOMOS MAIS FORTES  PDT / REPUBLICANOS / PTB / PSL / DEM / PSDB   \n",
              "1           PARTIDO ISOLADO                                      PC do B   \n",
              "2           PARTIDO ISOLADO                                          PTB   \n",
              "3           PARTIDO ISOLADO                                          PTB   \n",
              "4           PARTIDO ISOLADO                                          PSD   \n",
              "\n",
              "  SG_UF_NASCIMENTO DT_NASCIMENTO  DS_GENERO              DS_GRAU_INSTRUCAO  \\\n",
              "0               BA    1972-10-17  MASCULINO              SUPERIOR COMPLETO   \n",
              "1               BA    1975-04-16  MASCULINO  ENSINO FUNDAMENTAL INCOMPLETO   \n",
              "2               BA    1977-05-26  MASCULINO    ENSINO FUNDAMENTAL COMPLETO   \n",
              "3               BA    1980-03-25  MASCULINO          ENSINO MÉDIO COMPLETO   \n",
              "4               BA    1986-02-25  MASCULINO          ENSINO MÉDIO COMPLETO   \n",
              "\n",
              "  DS_ESTADO_CIVIL DS_COR_RACA          DS_OCUPACAO DS_SIT_TOT_TURNO  \n",
              "0       CASADO(A)       PARDA        ADMINISTRADOR           ELEITO  \n",
              "1     SOLTEIRO(A)       PARDA           AGRICULTOR       NÃO ELEITO  \n",
              "2     SOLTEIRO(A)       PARDA  DETETIVE PARTICULAR         SUPLENTE  \n",
              "3     SOLTEIRO(A)       PARDA               OUTROS         SUPLENTE  \n",
              "4       CASADO(A)      BRANCA               OUTROS    ELEITO POR QP  \n",
              "\n",
              "[5 rows x 25 columns]"
            ]
          },
          "execution_count": 20,
          "metadata": {},
          "output_type": "execute_result"
        }
      ],
      "source": [
        "columns_drop_produtos = ['DT_GERACAO','HH_GERACAO','HH_GERACAO','CD_TIPO_ELEICAO','NM_TIPO_ELEICAO','NR_TURNO','CD_ELEICAO','DS_ELEICAO','DT_ELEICAO','TP_ABRANGENCIA','SG_UF','SG_UE','CD_CARGO','SQ_CANDIDATO','NR_CPF_CANDIDATO','NM_EMAIL','CD_SITUACAO_CANDIDATURA','CD_DETALHE_SITUACAO_CAND', 'CD_MUNICIPIO_NASCIMENTO', 'CD_NACIONALIDADE', 'CD_SITUACAO_CANDIDATO_PLEITO', 'CD_SITUACAO_CANDIDATO_TOT', 'CD_SITUACAO_CANDIDATO_URNA', 'DS_DETALHE_SITUACAO_CAND', 'DS_NACIONALIDADE', 'DS_SITUACAO_CANDIDATO_PLEITO', 'DS_SITUACAO_CANDIDATO_TOT', 'DS_SITUACAO_CANDIDATO_URNA', 'NM_MUNICIPIO_NASCIMENTO', 'NM_TIPO_DESTINACAO_VOTOS', 'NR_IDADE_DATA_POSSE', 'NR_PROCESSO', 'NR_PROTOCOLO_CANDIDATURA', 'ST_CANDIDATO_INSERIDO_URNA', 'ST_DECLARAR_BENS', 'ST_PREST_CONTAS', 'ST_REELEICAO', 'VR_DESPESA_MAX_CAMPANHA','NR_PARTIDO','NR_FEDERACAO','NR_TITULO_ELEITORAL_CANDIDATO','CD_GENERO','CD_GRAU_INSTRUCAO','CD_ESTADO_CIVIL','CD_COR_RACA','CD_OCUPACAO','CD_SIT_TOT_TURNO']\n",
        "df_clean_colums_2020 = df_copy_2020.drop(columns_drop_produtos, axis=1)\n",
        "df_clean_colums_2020.head()"
      ]
    },
    {
      "cell_type": "markdown",
      "metadata": {
        "id": "NHCU2cWNQqjN"
      },
      "source": [
        "##Limpeza da base - 2020"
      ]
    },
    {
      "cell_type": "code",
      "execution_count": 21,
      "metadata": {
        "colab": {
          "base_uri": "https://localhost:8080/",
          "height": 0
        },
        "id": "p19HQOQyQ5Wr",
        "outputId": "d9e30e7f-2aea-49bc-b6c8-9c12f97ab113"
      },
      "outputs": [
        {
          "data": {
            "text/html": [
              "<div>\n",
              "<style scoped>\n",
              "    .dataframe tbody tr th:only-of-type {\n",
              "        vertical-align: middle;\n",
              "    }\n",
              "\n",
              "    .dataframe tbody tr th {\n",
              "        vertical-align: top;\n",
              "    }\n",
              "\n",
              "    .dataframe thead th {\n",
              "        text-align: right;\n",
              "    }\n",
              "</style>\n",
              "<table border=\"1\" class=\"dataframe\">\n",
              "  <thead>\n",
              "    <tr style=\"text-align: right;\">\n",
              "      <th></th>\n",
              "      <th>0</th>\n",
              "    </tr>\n",
              "  </thead>\n",
              "  <tbody>\n",
              "    <tr>\n",
              "      <th>ANO_ELEICAO</th>\n",
              "      <td>0</td>\n",
              "    </tr>\n",
              "    <tr>\n",
              "      <th>NM_UE</th>\n",
              "      <td>0</td>\n",
              "    </tr>\n",
              "    <tr>\n",
              "      <th>DS_CARGO</th>\n",
              "      <td>0</td>\n",
              "    </tr>\n",
              "    <tr>\n",
              "      <th>NR_CANDIDATO</th>\n",
              "      <td>0</td>\n",
              "    </tr>\n",
              "    <tr>\n",
              "      <th>NM_CANDIDATO</th>\n",
              "      <td>0</td>\n",
              "    </tr>\n",
              "    <tr>\n",
              "      <th>NM_URNA_CANDIDATO</th>\n",
              "      <td>0</td>\n",
              "    </tr>\n",
              "    <tr>\n",
              "      <th>NM_SOCIAL_CANDIDATO</th>\n",
              "      <td>0</td>\n",
              "    </tr>\n",
              "    <tr>\n",
              "      <th>DS_SITUACAO_CANDIDATURA</th>\n",
              "      <td>0</td>\n",
              "    </tr>\n",
              "    <tr>\n",
              "      <th>TP_AGREMIACAO</th>\n",
              "      <td>0</td>\n",
              "    </tr>\n",
              "    <tr>\n",
              "      <th>SG_PARTIDO</th>\n",
              "      <td>0</td>\n",
              "    </tr>\n",
              "    <tr>\n",
              "      <th>NM_PARTIDO</th>\n",
              "      <td>0</td>\n",
              "    </tr>\n",
              "    <tr>\n",
              "      <th>NM_FEDERACAO</th>\n",
              "      <td>0</td>\n",
              "    </tr>\n",
              "    <tr>\n",
              "      <th>SG_FEDERACAO</th>\n",
              "      <td>0</td>\n",
              "    </tr>\n",
              "    <tr>\n",
              "      <th>DS_COMPOSICAO_FEDERACAO</th>\n",
              "      <td>0</td>\n",
              "    </tr>\n",
              "    <tr>\n",
              "      <th>SQ_COLIGACAO</th>\n",
              "      <td>0</td>\n",
              "    </tr>\n",
              "    <tr>\n",
              "      <th>NM_COLIGACAO</th>\n",
              "      <td>0</td>\n",
              "    </tr>\n",
              "    <tr>\n",
              "      <th>DS_COMPOSICAO_COLIGACAO</th>\n",
              "      <td>0</td>\n",
              "    </tr>\n",
              "    <tr>\n",
              "      <th>SG_UF_NASCIMENTO</th>\n",
              "      <td>0</td>\n",
              "    </tr>\n",
              "    <tr>\n",
              "      <th>DT_NASCIMENTO</th>\n",
              "      <td>1</td>\n",
              "    </tr>\n",
              "    <tr>\n",
              "      <th>DS_GENERO</th>\n",
              "      <td>0</td>\n",
              "    </tr>\n",
              "    <tr>\n",
              "      <th>DS_GRAU_INSTRUCAO</th>\n",
              "      <td>0</td>\n",
              "    </tr>\n",
              "    <tr>\n",
              "      <th>DS_ESTADO_CIVIL</th>\n",
              "      <td>0</td>\n",
              "    </tr>\n",
              "    <tr>\n",
              "      <th>DS_COR_RACA</th>\n",
              "      <td>0</td>\n",
              "    </tr>\n",
              "    <tr>\n",
              "      <th>DS_OCUPACAO</th>\n",
              "      <td>0</td>\n",
              "    </tr>\n",
              "    <tr>\n",
              "      <th>DS_SIT_TOT_TURNO</th>\n",
              "      <td>0</td>\n",
              "    </tr>\n",
              "  </tbody>\n",
              "</table>\n",
              "</div><br><label><b>dtype:</b> int64</label>"
            ],
            "text/plain": [
              "ANO_ELEICAO                0\n",
              "NM_UE                      0\n",
              "DS_CARGO                   0\n",
              "NR_CANDIDATO               0\n",
              "NM_CANDIDATO               0\n",
              "NM_URNA_CANDIDATO          0\n",
              "NM_SOCIAL_CANDIDATO        0\n",
              "DS_SITUACAO_CANDIDATURA    0\n",
              "TP_AGREMIACAO              0\n",
              "SG_PARTIDO                 0\n",
              "NM_PARTIDO                 0\n",
              "NM_FEDERACAO               0\n",
              "SG_FEDERACAO               0\n",
              "DS_COMPOSICAO_FEDERACAO    0\n",
              "SQ_COLIGACAO               0\n",
              "NM_COLIGACAO               0\n",
              "DS_COMPOSICAO_COLIGACAO    0\n",
              "SG_UF_NASCIMENTO           0\n",
              "DT_NASCIMENTO              1\n",
              "DS_GENERO                  0\n",
              "DS_GRAU_INSTRUCAO          0\n",
              "DS_ESTADO_CIVIL            0\n",
              "DS_COR_RACA                0\n",
              "DS_OCUPACAO                0\n",
              "DS_SIT_TOT_TURNO           0\n",
              "dtype: int64"
            ]
          },
          "execution_count": 21,
          "metadata": {},
          "output_type": "execute_result"
        }
      ],
      "source": [
        "df_clean_colums_2020.isnull().sum()"
      ]
    },
    {
      "cell_type": "code",
      "execution_count": 22,
      "metadata": {
        "colab": {
          "base_uri": "https://localhost:8080/"
        },
        "id": "225jnlvsRCbq",
        "outputId": "93c49d32-5f66-48c5-80d3-4554d018f2f5"
      },
      "outputs": [
        {
          "data": {
            "text/plain": [
              "3"
            ]
          },
          "execution_count": 22,
          "metadata": {},
          "output_type": "execute_result"
        }
      ],
      "source": [
        "df_clean_colums_2020.duplicated().sum()"
      ]
    },
    {
      "cell_type": "markdown",
      "metadata": {
        "id": "Z9IfWNGwRNg8"
      },
      "source": [
        "##Filtragem - 2020"
      ]
    },
    {
      "cell_type": "code",
      "execution_count": 23,
      "metadata": {
        "id": "ptwrI6KNRTVz"
      },
      "outputs": [],
      "source": [
        "#Filtrando os dados para selecionar apenas candidaturas de Salvador\n",
        "df_salvador_2020 = df_clean_colums_2020[df_clean_colums_2020['NM_UE']=='SALVADOR']"
      ]
    },
    {
      "cell_type": "code",
      "execution_count": 24,
      "metadata": {
        "id": "Jwx0eWSbR6Gd"
      },
      "outputs": [],
      "source": [
        "#Filtrando os dados para selecionar apenas candidaturas de vereadores\n",
        "df_salvador_vereadores_2020 = df_salvador_2020[df_salvador_2020['DS_CARGO']=='VEREADOR']"
      ]
    },
    {
      "cell_type": "code",
      "execution_count": 25,
      "metadata": {
        "id": "3GmvoA8Rf-_C"
      },
      "outputs": [],
      "source": [
        "#Filtrando os dados para selecionar apenas candidaturas de vereadores aptos\n",
        "df_salvador_vereadores_2020 = df_salvador_2020[df_salvador_2020['DS_SITUACAO_CANDIDATURA']=='APTO']"
      ]
    },
    {
      "cell_type": "code",
      "execution_count": 25,
      "metadata": {
        "id": "dcotGR6Xf8DZ"
      },
      "outputs": [],
      "source": []
    },
    {
      "cell_type": "code",
      "execution_count": 26,
      "metadata": {
        "colab": {
          "base_uri": "https://localhost:8080/"
        },
        "id": "VgFNigbUSOj3",
        "outputId": "93b68e99-893a-4fa7-d334-63778a98bc1a"
      },
      "outputs": [
        {
          "name": "stdout",
          "output_type": "stream",
          "text": [
            "<class 'pandas.core.frame.DataFrame'>\n",
            "Index: 1513 entries, 3 to 41602\n",
            "Data columns (total 25 columns):\n",
            " #   Column                   Non-Null Count  Dtype         \n",
            "---  ------                   --------------  -----         \n",
            " 0   ANO_ELEICAO              1513 non-null   int64         \n",
            " 1   NM_UE                    1513 non-null   object        \n",
            " 2   DS_CARGO                 1513 non-null   object        \n",
            " 3   NR_CANDIDATO             1513 non-null   int64         \n",
            " 4   NM_CANDIDATO             1513 non-null   object        \n",
            " 5   NM_URNA_CANDIDATO        1513 non-null   object        \n",
            " 6   NM_SOCIAL_CANDIDATO      1513 non-null   object        \n",
            " 7   DS_SITUACAO_CANDIDATURA  1513 non-null   object        \n",
            " 8   TP_AGREMIACAO            1513 non-null   object        \n",
            " 9   SG_PARTIDO               1513 non-null   object        \n",
            " 10  NM_PARTIDO               1513 non-null   object        \n",
            " 11  NM_FEDERACAO             1513 non-null   object        \n",
            " 12  SG_FEDERACAO             1513 non-null   object        \n",
            " 13  DS_COMPOSICAO_FEDERACAO  1513 non-null   object        \n",
            " 14  SQ_COLIGACAO             1513 non-null   int64         \n",
            " 15  NM_COLIGACAO             1513 non-null   object        \n",
            " 16  DS_COMPOSICAO_COLIGACAO  1513 non-null   object        \n",
            " 17  SG_UF_NASCIMENTO         1513 non-null   object        \n",
            " 18  DT_NASCIMENTO            1513 non-null   datetime64[ns]\n",
            " 19  DS_GENERO                1513 non-null   object        \n",
            " 20  DS_GRAU_INSTRUCAO        1513 non-null   object        \n",
            " 21  DS_ESTADO_CIVIL          1513 non-null   object        \n",
            " 22  DS_COR_RACA              1513 non-null   object        \n",
            " 23  DS_OCUPACAO              1513 non-null   object        \n",
            " 24  DS_SIT_TOT_TURNO         1513 non-null   object        \n",
            "dtypes: datetime64[ns](1), int64(3), object(21)\n",
            "memory usage: 307.3+ KB\n"
          ]
        }
      ],
      "source": [
        "df_salvador_vereadores_2020.info()"
      ]
    },
    {
      "cell_type": "markdown",
      "metadata": {
        "id": "N9yDN6G5ivbI"
      },
      "source": [
        "##Calculo de idade - 2020"
      ]
    },
    {
      "cell_type": "code",
      "execution_count": 27,
      "metadata": {
        "colab": {
          "base_uri": "https://localhost:8080/"
        },
        "id": "ouaWR40hzQsf",
        "outputId": "2eafde3e-cb11-4f06-ee2d-021cd401ba0b"
      },
      "outputs": [
        {
          "name": "stderr",
          "output_type": "stream",
          "text": [
            "<ipython-input-27-aada3ff6ae3d>:1: SettingWithCopyWarning: \n",
            "A value is trying to be set on a copy of a slice from a DataFrame.\n",
            "Try using .loc[row_indexer,col_indexer] = value instead\n",
            "\n",
            "See the caveats in the documentation: https://pandas.pydata.org/pandas-docs/stable/user_guide/indexing.html#returning-a-view-versus-a-copy\n",
            "  df_salvador_vereadores_2020.loc[:, 'ANO_NASCIMENTO'] = df_salvador_vereadores_2020['DT_NASCIMENTO'].dt.year\n"
          ]
        }
      ],
      "source": [
        "df_salvador_vereadores_2020.loc[:, 'ANO_NASCIMENTO'] = df_salvador_vereadores_2020['DT_NASCIMENTO'].dt.year"
      ]
    },
    {
      "cell_type": "code",
      "execution_count": 28,
      "metadata": {
        "colab": {
          "base_uri": "https://localhost:8080/"
        },
        "id": "f0c4V4dkzVJJ",
        "outputId": "fb525a2a-95ae-44fd-d026-9fb4bd7fe7c0"
      },
      "outputs": [
        {
          "name": "stderr",
          "output_type": "stream",
          "text": [
            "<ipython-input-28-e6c4dd584adf>:1: SettingWithCopyWarning: \n",
            "A value is trying to be set on a copy of a slice from a DataFrame.\n",
            "Try using .loc[row_indexer,col_indexer] = value instead\n",
            "\n",
            "See the caveats in the documentation: https://pandas.pydata.org/pandas-docs/stable/user_guide/indexing.html#returning-a-view-versus-a-copy\n",
            "  df_salvador_vereadores_2020.loc[:, 'IDADE'] = df_salvador_vereadores_2020['ANO_ELEICAO'] - df_salvador_vereadores_2020['ANO_NASCIMENTO']\n"
          ]
        }
      ],
      "source": [
        "df_salvador_vereadores_2020.loc[:, 'IDADE'] = df_salvador_vereadores_2020['ANO_ELEICAO'] - df_salvador_vereadores_2020['ANO_NASCIMENTO']"
      ]
    },
    {
      "cell_type": "markdown",
      "metadata": {
        "id": "umPGDjyJSW6W"
      },
      "source": [
        "# Base 2016"
      ]
    },
    {
      "cell_type": "code",
      "execution_count": 29,
      "metadata": {
        "id": "XPrQkL6bSOcY"
      },
      "outputs": [],
      "source": [
        "df = pd.read_csv('consulta_cand_2016_BA.csv', sep=';',encoding='latin-1')\n",
        "df_copy_2016 = df"
      ]
    },
    {
      "cell_type": "code",
      "execution_count": 30,
      "metadata": {
        "colab": {
          "base_uri": "https://localhost:8080/"
        },
        "id": "TxfTqsPRqxNw",
        "outputId": "f8144504-6c7c-4b2e-8318-9dde16308c5e"
      },
      "outputs": [
        {
          "data": {
            "text/plain": [
              "array(['02/01/1975', '20/07/1974', '26/12/1955', ..., '14/12/1997',\n",
              "       '17/02/1993', '31/12/1987'], dtype=object)"
            ]
          },
          "execution_count": 30,
          "metadata": {},
          "output_type": "execute_result"
        }
      ],
      "source": [
        "colum1 = df_copy_2016 ['DT_NASCIMENTO']\n",
        "colum1.unique()"
      ]
    },
    {
      "cell_type": "code",
      "execution_count": 31,
      "metadata": {
        "id": "ziUiGmklrt51"
      },
      "outputs": [],
      "source": [
        "#convertendo a coluna de data que está em object para data\n",
        "\n",
        "df_copy_2016['DT_NASCIMENTO'] = pd.to_datetime(df_copy_2016['DT_NASCIMENTO'],format='%d/%m/%Y')"
      ]
    },
    {
      "cell_type": "code",
      "execution_count": 32,
      "metadata": {
        "colab": {
          "base_uri": "https://localhost:8080/"
        },
        "id": "TQKLwTAGRQFK",
        "outputId": "43700947-437c-476a-8f78-a7f8d6e1da61"
      },
      "outputs": [
        {
          "name": "stdout",
          "output_type": "stream",
          "text": [
            "<class 'pandas.core.frame.DataFrame'>\n",
            "RangeIndex: 36830 entries, 0 to 36829\n",
            "Data columns (total 75 columns):\n",
            " #   Column                         Non-Null Count  Dtype         \n",
            "---  ------                         --------------  -----         \n",
            " 0   DT_GERACAO                     36830 non-null  object        \n",
            " 1   HH_GERACAO                     36830 non-null  object        \n",
            " 2   ANO_ELEICAO                    36830 non-null  int64         \n",
            " 3   CD_TIPO_ELEICAO                36830 non-null  int64         \n",
            " 4   NM_TIPO_ELEICAO                36830 non-null  object        \n",
            " 5   NR_TURNO                       36830 non-null  int64         \n",
            " 6   CD_ELEICAO                     36830 non-null  int64         \n",
            " 7   DS_ELEICAO                     36830 non-null  object        \n",
            " 8   DT_ELEICAO                     36830 non-null  object        \n",
            " 9   TP_ABRANGENCIA                 36830 non-null  object        \n",
            " 10  SG_UF                          36830 non-null  object        \n",
            " 11  SG_UE                          36830 non-null  int64         \n",
            " 12  NM_UE                          36830 non-null  object        \n",
            " 13  CD_CARGO                       36830 non-null  int64         \n",
            " 14  DS_CARGO                       36830 non-null  object        \n",
            " 15  SQ_CANDIDATO                   36830 non-null  int64         \n",
            " 16  NR_CANDIDATO                   36830 non-null  int64         \n",
            " 17  NM_CANDIDATO                   36830 non-null  object        \n",
            " 18  NM_URNA_CANDIDATO              36830 non-null  object        \n",
            " 19  NM_SOCIAL_CANDIDATO            36830 non-null  object        \n",
            " 20  NR_CPF_CANDIDATO               36830 non-null  int64         \n",
            " 21  NM_EMAIL                       36830 non-null  object        \n",
            " 22  CD_SITUACAO_CANDIDATURA        36830 non-null  int64         \n",
            " 23  DS_SITUACAO_CANDIDATURA        36830 non-null  object        \n",
            " 24  CD_DETALHE_SITUACAO_CAND       36830 non-null  int64         \n",
            " 25  DS_DETALHE_SITUACAO_CAND       36830 non-null  object        \n",
            " 26  TP_AGREMIACAO                  36830 non-null  object        \n",
            " 27  NR_PARTIDO                     36830 non-null  int64         \n",
            " 28  SG_PARTIDO                     36830 non-null  object        \n",
            " 29  NM_PARTIDO                     36830 non-null  object        \n",
            " 30  NR_FEDERACAO                   36830 non-null  int64         \n",
            " 31  NM_FEDERACAO                   36830 non-null  object        \n",
            " 32  SG_FEDERACAO                   36830 non-null  object        \n",
            " 33  DS_COMPOSICAO_FEDERACAO        36830 non-null  object        \n",
            " 34  SQ_COLIGACAO                   36830 non-null  int64         \n",
            " 35  NM_COLIGACAO                   36830 non-null  object        \n",
            " 36  DS_COMPOSICAO_COLIGACAO        36830 non-null  object        \n",
            " 37  CD_NACIONALIDADE               36830 non-null  int64         \n",
            " 38  DS_NACIONALIDADE               36830 non-null  object        \n",
            " 39  SG_UF_NASCIMENTO               36830 non-null  object        \n",
            " 40  CD_MUNICIPIO_NASCIMENTO        36830 non-null  int64         \n",
            " 41  NM_MUNICIPIO_NASCIMENTO        36830 non-null  object        \n",
            " 42  DT_NASCIMENTO                  36829 non-null  datetime64[ns]\n",
            " 43  NR_IDADE_DATA_POSSE            36829 non-null  float64       \n",
            " 44  NR_TITULO_ELEITORAL_CANDIDATO  36830 non-null  int64         \n",
            " 45  CD_GENERO                      36830 non-null  int64         \n",
            " 46  DS_GENERO                      36830 non-null  object        \n",
            " 47  CD_GRAU_INSTRUCAO              36830 non-null  int64         \n",
            " 48  DS_GRAU_INSTRUCAO              36830 non-null  object        \n",
            " 49  CD_ESTADO_CIVIL                36830 non-null  int64         \n",
            " 50  DS_ESTADO_CIVIL                36830 non-null  object        \n",
            " 51  CD_COR_RACA                    36830 non-null  int64         \n",
            " 52  DS_COR_RACA                    36830 non-null  object        \n",
            " 53  CD_OCUPACAO                    36830 non-null  int64         \n",
            " 54  DS_OCUPACAO                    36830 non-null  object        \n",
            " 55  VR_DESPESA_MAX_CAMPANHA        36830 non-null  float64       \n",
            " 56  CD_SIT_TOT_TURNO               36830 non-null  int64         \n",
            " 57  DS_SIT_TOT_TURNO               36830 non-null  object        \n",
            " 58  ST_REELEICAO                   36830 non-null  object        \n",
            " 59  ST_DECLARAR_BENS               36830 non-null  object        \n",
            " 60  NR_PROTOCOLO_CANDIDATURA       36830 non-null  int64         \n",
            " 61  NR_PROCESSO                    36830 non-null  int64         \n",
            " 62  CD_SITUACAO_CANDIDATO_PLEITO   36830 non-null  int64         \n",
            " 63  DS_SITUACAO_CANDIDATO_PLEITO   36830 non-null  object        \n",
            " 64  CD_SITUACAO_CANDIDATO_URNA     36830 non-null  int64         \n",
            " 65  DS_SITUACAO_CANDIDATO_URNA     36830 non-null  object        \n",
            " 66  ST_CANDIDATO_INSERIDO_URNA     36830 non-null  object        \n",
            " 67  NM_TIPO_DESTINACAO_VOTOS       36830 non-null  object        \n",
            " 68  CD_SITUACAO_CANDIDATO_TOT      36830 non-null  int64         \n",
            " 69  DS_SITUACAO_CANDIDATO_TOT      36830 non-null  object        \n",
            " 70  ST_PREST_CONTAS                36830 non-null  object        \n",
            " 71  ST_SUBSTITUIDO                 36830 non-null  object        \n",
            " 72  SQ_SUBSTITUIDO                 36830 non-null  int64         \n",
            " 73  SQ_ORDEM_SUPLENCIA             36830 non-null  int64         \n",
            " 74  DT_ACEITE_CANDIDATURA          36830 non-null  object        \n",
            "dtypes: datetime64[ns](1), float64(2), int64(30), object(42)\n",
            "memory usage: 21.1+ MB\n"
          ]
        }
      ],
      "source": [
        "df_copy_2016.info()"
      ]
    },
    {
      "cell_type": "markdown",
      "metadata": {
        "id": "nAl0goe1x0cY"
      },
      "source": [
        "##Colunas mantidas - 2016\n",
        "\n",
        "*   ANO_ELEICAO\t - Ano da eleição.\n",
        "\n",
        "*   NM_UE - Nome da unidade da federação (estado).\n",
        "\n",
        "*   DS_CARGO - Descrição do cargo.\n",
        "\n",
        "*   NR_CANDIDATO - Número do candidato na urna.\n",
        "\n",
        "*   NM_CANDIDATO - Nome completo do candidato.\n",
        "\n",
        "*   NM_URNA_CANDIDATO - Nome do candidato como aparecerá na urna.\n",
        "\n",
        "*   NM_SOCIAL_CANDIDATO - Nome social do candidato.\n",
        "\n",
        "*   DS_SITUACAO_CANDIDATURA - Situação da candidatura (apto, indeferido, etc.).\n",
        "\n",
        "*   TP_AGREMIACAO - Tipo de agremiação (partido, coligação).\n",
        "\n",
        "*   SG_PARTIDO - Sigla do partido político.\n",
        "\n",
        "*   NM_PARTIDO\t- Nome completo do partido político.\n",
        "\n",
        "*   SG_FEDERACAO -\tSigla da federação partidária.\n",
        "\n",
        "*   NM_FEDERACAO - Nome completo da federação partidária.\n",
        "\n",
        "*   DS_COMPOSICAO_FEDERACAO\t- Descrição da composição da federação.\n",
        "\n",
        "*   SQ_COLIGACAO - Código da coligação.\n",
        "\n",
        "*   NM_COLIGACAO - Nome da coligação.\n",
        "\n",
        "*   DS_COMPOSICAO_COLIGACAO - Descrição da composição da coligação.\n",
        "\n",
        "*   SG_UF_NASCIMENTO - Sigla da unidade federativa de nascimento do candidato.\n",
        "\n",
        "*   DT_NASCIMENTO\t- Data de nascimento do candidato.\n",
        "\n",
        "*   DS_GENERO -\tGênero do candidato.\n",
        "\n",
        "*   DS_GRAU_INSTRUCAO\t- Grau de instrução do candidato.\n",
        "\n",
        "*   DS_ESTADO_CIVIL\t- Estado civil do candidato.\n",
        "\n",
        "*   DS_COR_RACA\t- Cor/raça do candidato.\n",
        "\n",
        "*   DS_OCUPACAO\t- Ocupação do candidato.\n",
        "\n",
        "*   DS_SIT_TOT_TURNO -\tSituação final do candidato no turno.\n"
      ]
    },
    {
      "cell_type": "code",
      "execution_count": 33,
      "metadata": {
        "colab": {
          "base_uri": "https://localhost:8080/",
          "height": 0
        },
        "id": "bdF-nljryJ2v",
        "outputId": "19157449-57bd-4438-b7a3-5f3efdbce97d"
      },
      "outputs": [
        {
          "data": {
            "application/vnd.google.colaboratory.intrinsic+json": {
              "type": "dataframe",
              "variable_name": "df_clean_colums_2016"
            },
            "text/html": [
              "\n",
              "  <div id=\"df-cd7eaf6a-59c7-4e70-a7da-60a7099ecc39\" class=\"colab-df-container\">\n",
              "    <div>\n",
              "<style scoped>\n",
              "    .dataframe tbody tr th:only-of-type {\n",
              "        vertical-align: middle;\n",
              "    }\n",
              "\n",
              "    .dataframe tbody tr th {\n",
              "        vertical-align: top;\n",
              "    }\n",
              "\n",
              "    .dataframe thead th {\n",
              "        text-align: right;\n",
              "    }\n",
              "</style>\n",
              "<table border=\"1\" class=\"dataframe\">\n",
              "  <thead>\n",
              "    <tr style=\"text-align: right;\">\n",
              "      <th></th>\n",
              "      <th>ANO_ELEICAO</th>\n",
              "      <th>NM_UE</th>\n",
              "      <th>DS_CARGO</th>\n",
              "      <th>NR_CANDIDATO</th>\n",
              "      <th>NM_CANDIDATO</th>\n",
              "      <th>NM_URNA_CANDIDATO</th>\n",
              "      <th>NM_SOCIAL_CANDIDATO</th>\n",
              "      <th>DS_SITUACAO_CANDIDATURA</th>\n",
              "      <th>TP_AGREMIACAO</th>\n",
              "      <th>SG_PARTIDO</th>\n",
              "      <th>...</th>\n",
              "      <th>NM_COLIGACAO</th>\n",
              "      <th>DS_COMPOSICAO_COLIGACAO</th>\n",
              "      <th>SG_UF_NASCIMENTO</th>\n",
              "      <th>DT_NASCIMENTO</th>\n",
              "      <th>DS_GENERO</th>\n",
              "      <th>DS_GRAU_INSTRUCAO</th>\n",
              "      <th>DS_ESTADO_CIVIL</th>\n",
              "      <th>DS_COR_RACA</th>\n",
              "      <th>DS_OCUPACAO</th>\n",
              "      <th>DS_SIT_TOT_TURNO</th>\n",
              "    </tr>\n",
              "  </thead>\n",
              "  <tbody>\n",
              "    <tr>\n",
              "      <th>0</th>\n",
              "      <td>2016</td>\n",
              "      <td>ITAGUAÇU DA BAHIA</td>\n",
              "      <td>PREFEITO</td>\n",
              "      <td>55</td>\n",
              "      <td>IVAN TIBURTINO OLIVEIRA</td>\n",
              "      <td>IVAN</td>\n",
              "      <td>#NULO#</td>\n",
              "      <td>APTO</td>\n",
              "      <td>COLIGAÇÃO</td>\n",
              "      <td>PSD</td>\n",
              "      <td>...</td>\n",
              "      <td>PARA ITAGUAÇU DA BAHIA CONTINUAR CRESCENDO</td>\n",
              "      <td>PSD / PSL / PRB / PMDB / DEM / PTB</td>\n",
              "      <td>BA</td>\n",
              "      <td>1975-01-02</td>\n",
              "      <td>MASCULINO</td>\n",
              "      <td>ENSINO MÉDIO INCOMPLETO</td>\n",
              "      <td>SOLTEIRO(A)</td>\n",
              "      <td>PARDA</td>\n",
              "      <td>OUTROS</td>\n",
              "      <td>ELEITO</td>\n",
              "    </tr>\n",
              "    <tr>\n",
              "      <th>1</th>\n",
              "      <td>2016</td>\n",
              "      <td>ANAGÉ</td>\n",
              "      <td>PREFEITO</td>\n",
              "      <td>12</td>\n",
              "      <td>ELEN ZITE PEREIRA DOS SANTOS</td>\n",
              "      <td>DRA. ELEN ZITE</td>\n",
              "      <td>#NULO#</td>\n",
              "      <td>APTO</td>\n",
              "      <td>COLIGAÇÃO</td>\n",
              "      <td>PDT</td>\n",
              "      <td>...</td>\n",
              "      <td>UNIDOS POR UMA ANAGÉ MELHOR</td>\n",
              "      <td>PDT / SD / PMDB / PRB / PP / PSB</td>\n",
              "      <td>BA</td>\n",
              "      <td>1974-07-20</td>\n",
              "      <td>FEMININO</td>\n",
              "      <td>SUPERIOR COMPLETO</td>\n",
              "      <td>CASADO(A)</td>\n",
              "      <td>PARDA</td>\n",
              "      <td>ADVOGADO</td>\n",
              "      <td>ELEITO</td>\n",
              "    </tr>\n",
              "    <tr>\n",
              "      <th>2</th>\n",
              "      <td>2016</td>\n",
              "      <td>CARAVELAS</td>\n",
              "      <td>VEREADOR</td>\n",
              "      <td>17111</td>\n",
              "      <td>MARIA ELIETE OLIVEIRA DE FARIAS</td>\n",
              "      <td>IRMÃ ELIETE</td>\n",
              "      <td>#NULO#</td>\n",
              "      <td>APTO</td>\n",
              "      <td>COLIGAÇÃO</td>\n",
              "      <td>PSL</td>\n",
              "      <td>...</td>\n",
              "      <td>MAIS MUDANÇAS, NOVAS CONQUISTAS</td>\n",
              "      <td>PSL / PT</td>\n",
              "      <td>MG</td>\n",
              "      <td>1955-12-26</td>\n",
              "      <td>FEMININO</td>\n",
              "      <td>SUPERIOR COMPLETO</td>\n",
              "      <td>CASADO(A)</td>\n",
              "      <td>PRETA</td>\n",
              "      <td>COMERCIANTE</td>\n",
              "      <td>SUPLENTE</td>\n",
              "    </tr>\n",
              "    <tr>\n",
              "      <th>3</th>\n",
              "      <td>2016</td>\n",
              "      <td>TERRA NOVA</td>\n",
              "      <td>VEREADOR</td>\n",
              "      <td>40345</td>\n",
              "      <td>RAIMUNDA VASCONCELOS DA ASSUNÇÃO</td>\n",
              "      <td>RAIMUNDA</td>\n",
              "      <td>#NULO#</td>\n",
              "      <td>APTO</td>\n",
              "      <td>COLIGAÇÃO</td>\n",
              "      <td>PSB</td>\n",
              "      <td>...</td>\n",
              "      <td>Socialismo mais Forte</td>\n",
              "      <td>PSB / PSL</td>\n",
              "      <td>BA</td>\n",
              "      <td>1954-11-04</td>\n",
              "      <td>FEMININO</td>\n",
              "      <td>ENSINO MÉDIO COMPLETO</td>\n",
              "      <td>SOLTEIRO(A)</td>\n",
              "      <td>PARDA</td>\n",
              "      <td>COZINHEIRO</td>\n",
              "      <td>SUPLENTE</td>\n",
              "    </tr>\n",
              "    <tr>\n",
              "      <th>4</th>\n",
              "      <td>2016</td>\n",
              "      <td>TERRA NOVA</td>\n",
              "      <td>VEREADOR</td>\n",
              "      <td>10777</td>\n",
              "      <td>JANETE DE JESUS EMIDIO</td>\n",
              "      <td>JANETE DO LANCHE</td>\n",
              "      <td>#NULO#</td>\n",
              "      <td>APTO</td>\n",
              "      <td>COLIGAÇÃO</td>\n",
              "      <td>PRB</td>\n",
              "      <td>...</td>\n",
              "      <td>Por uma Terra Nova Melhor</td>\n",
              "      <td>PRB / PC do B / PSC</td>\n",
              "      <td>BA</td>\n",
              "      <td>1983-05-06</td>\n",
              "      <td>FEMININO</td>\n",
              "      <td>ENSINO FUNDAMENTAL INCOMPLETO</td>\n",
              "      <td>SOLTEIRO(A)</td>\n",
              "      <td>PRETA</td>\n",
              "      <td>DONA DE CASA</td>\n",
              "      <td>SUPLENTE</td>\n",
              "    </tr>\n",
              "  </tbody>\n",
              "</table>\n",
              "<p>5 rows × 25 columns</p>\n",
              "</div>\n",
              "    <div class=\"colab-df-buttons\">\n",
              "\n",
              "  <div class=\"colab-df-container\">\n",
              "    <button class=\"colab-df-convert\" onclick=\"convertToInteractive('df-cd7eaf6a-59c7-4e70-a7da-60a7099ecc39')\"\n",
              "            title=\"Convert this dataframe to an interactive table.\"\n",
              "            style=\"display:none;\">\n",
              "\n",
              "  <svg xmlns=\"http://www.w3.org/2000/svg\" height=\"24px\" viewBox=\"0 -960 960 960\">\n",
              "    <path d=\"M120-120v-720h720v720H120Zm60-500h600v-160H180v160Zm220 220h160v-160H400v160Zm0 220h160v-160H400v160ZM180-400h160v-160H180v160Zm440 0h160v-160H620v160ZM180-180h160v-160H180v160Zm440 0h160v-160H620v160Z\"/>\n",
              "  </svg>\n",
              "    </button>\n",
              "\n",
              "  <style>\n",
              "    .colab-df-container {\n",
              "      display:flex;\n",
              "      gap: 12px;\n",
              "    }\n",
              "\n",
              "    .colab-df-convert {\n",
              "      background-color: #E8F0FE;\n",
              "      border: none;\n",
              "      border-radius: 50%;\n",
              "      cursor: pointer;\n",
              "      display: none;\n",
              "      fill: #1967D2;\n",
              "      height: 32px;\n",
              "      padding: 0 0 0 0;\n",
              "      width: 32px;\n",
              "    }\n",
              "\n",
              "    .colab-df-convert:hover {\n",
              "      background-color: #E2EBFA;\n",
              "      box-shadow: 0px 1px 2px rgba(60, 64, 67, 0.3), 0px 1px 3px 1px rgba(60, 64, 67, 0.15);\n",
              "      fill: #174EA6;\n",
              "    }\n",
              "\n",
              "    .colab-df-buttons div {\n",
              "      margin-bottom: 4px;\n",
              "    }\n",
              "\n",
              "    [theme=dark] .colab-df-convert {\n",
              "      background-color: #3B4455;\n",
              "      fill: #D2E3FC;\n",
              "    }\n",
              "\n",
              "    [theme=dark] .colab-df-convert:hover {\n",
              "      background-color: #434B5C;\n",
              "      box-shadow: 0px 1px 3px 1px rgba(0, 0, 0, 0.15);\n",
              "      filter: drop-shadow(0px 1px 2px rgba(0, 0, 0, 0.3));\n",
              "      fill: #FFFFFF;\n",
              "    }\n",
              "  </style>\n",
              "\n",
              "    <script>\n",
              "      const buttonEl =\n",
              "        document.querySelector('#df-cd7eaf6a-59c7-4e70-a7da-60a7099ecc39 button.colab-df-convert');\n",
              "      buttonEl.style.display =\n",
              "        google.colab.kernel.accessAllowed ? 'block' : 'none';\n",
              "\n",
              "      async function convertToInteractive(key) {\n",
              "        const element = document.querySelector('#df-cd7eaf6a-59c7-4e70-a7da-60a7099ecc39');\n",
              "        const dataTable =\n",
              "          await google.colab.kernel.invokeFunction('convertToInteractive',\n",
              "                                                    [key], {});\n",
              "        if (!dataTable) return;\n",
              "\n",
              "        const docLinkHtml = 'Like what you see? Visit the ' +\n",
              "          '<a target=\"_blank\" href=https://colab.research.google.com/notebooks/data_table.ipynb>data table notebook</a>'\n",
              "          + ' to learn more about interactive tables.';\n",
              "        element.innerHTML = '';\n",
              "        dataTable['output_type'] = 'display_data';\n",
              "        await google.colab.output.renderOutput(dataTable, element);\n",
              "        const docLink = document.createElement('div');\n",
              "        docLink.innerHTML = docLinkHtml;\n",
              "        element.appendChild(docLink);\n",
              "      }\n",
              "    </script>\n",
              "  </div>\n",
              "\n",
              "\n",
              "<div id=\"df-c39ee7aa-3d36-4887-a1d0-e8d853820081\">\n",
              "  <button class=\"colab-df-quickchart\" onclick=\"quickchart('df-c39ee7aa-3d36-4887-a1d0-e8d853820081')\"\n",
              "            title=\"Suggest charts\"\n",
              "            style=\"display:none;\">\n",
              "\n",
              "<svg xmlns=\"http://www.w3.org/2000/svg\" height=\"24px\"viewBox=\"0 0 24 24\"\n",
              "     width=\"24px\">\n",
              "    <g>\n",
              "        <path d=\"M19 3H5c-1.1 0-2 .9-2 2v14c0 1.1.9 2 2 2h14c1.1 0 2-.9 2-2V5c0-1.1-.9-2-2-2zM9 17H7v-7h2v7zm4 0h-2V7h2v10zm4 0h-2v-4h2v4z\"/>\n",
              "    </g>\n",
              "</svg>\n",
              "  </button>\n",
              "\n",
              "<style>\n",
              "  .colab-df-quickchart {\n",
              "      --bg-color: #E8F0FE;\n",
              "      --fill-color: #1967D2;\n",
              "      --hover-bg-color: #E2EBFA;\n",
              "      --hover-fill-color: #174EA6;\n",
              "      --disabled-fill-color: #AAA;\n",
              "      --disabled-bg-color: #DDD;\n",
              "  }\n",
              "\n",
              "  [theme=dark] .colab-df-quickchart {\n",
              "      --bg-color: #3B4455;\n",
              "      --fill-color: #D2E3FC;\n",
              "      --hover-bg-color: #434B5C;\n",
              "      --hover-fill-color: #FFFFFF;\n",
              "      --disabled-bg-color: #3B4455;\n",
              "      --disabled-fill-color: #666;\n",
              "  }\n",
              "\n",
              "  .colab-df-quickchart {\n",
              "    background-color: var(--bg-color);\n",
              "    border: none;\n",
              "    border-radius: 50%;\n",
              "    cursor: pointer;\n",
              "    display: none;\n",
              "    fill: var(--fill-color);\n",
              "    height: 32px;\n",
              "    padding: 0;\n",
              "    width: 32px;\n",
              "  }\n",
              "\n",
              "  .colab-df-quickchart:hover {\n",
              "    background-color: var(--hover-bg-color);\n",
              "    box-shadow: 0 1px 2px rgba(60, 64, 67, 0.3), 0 1px 3px 1px rgba(60, 64, 67, 0.15);\n",
              "    fill: var(--button-hover-fill-color);\n",
              "  }\n",
              "\n",
              "  .colab-df-quickchart-complete:disabled,\n",
              "  .colab-df-quickchart-complete:disabled:hover {\n",
              "    background-color: var(--disabled-bg-color);\n",
              "    fill: var(--disabled-fill-color);\n",
              "    box-shadow: none;\n",
              "  }\n",
              "\n",
              "  .colab-df-spinner {\n",
              "    border: 2px solid var(--fill-color);\n",
              "    border-color: transparent;\n",
              "    border-bottom-color: var(--fill-color);\n",
              "    animation:\n",
              "      spin 1s steps(1) infinite;\n",
              "  }\n",
              "\n",
              "  @keyframes spin {\n",
              "    0% {\n",
              "      border-color: transparent;\n",
              "      border-bottom-color: var(--fill-color);\n",
              "      border-left-color: var(--fill-color);\n",
              "    }\n",
              "    20% {\n",
              "      border-color: transparent;\n",
              "      border-left-color: var(--fill-color);\n",
              "      border-top-color: var(--fill-color);\n",
              "    }\n",
              "    30% {\n",
              "      border-color: transparent;\n",
              "      border-left-color: var(--fill-color);\n",
              "      border-top-color: var(--fill-color);\n",
              "      border-right-color: var(--fill-color);\n",
              "    }\n",
              "    40% {\n",
              "      border-color: transparent;\n",
              "      border-right-color: var(--fill-color);\n",
              "      border-top-color: var(--fill-color);\n",
              "    }\n",
              "    60% {\n",
              "      border-color: transparent;\n",
              "      border-right-color: var(--fill-color);\n",
              "    }\n",
              "    80% {\n",
              "      border-color: transparent;\n",
              "      border-right-color: var(--fill-color);\n",
              "      border-bottom-color: var(--fill-color);\n",
              "    }\n",
              "    90% {\n",
              "      border-color: transparent;\n",
              "      border-bottom-color: var(--fill-color);\n",
              "    }\n",
              "  }\n",
              "</style>\n",
              "\n",
              "  <script>\n",
              "    async function quickchart(key) {\n",
              "      const quickchartButtonEl =\n",
              "        document.querySelector('#' + key + ' button');\n",
              "      quickchartButtonEl.disabled = true;  // To prevent multiple clicks.\n",
              "      quickchartButtonEl.classList.add('colab-df-spinner');\n",
              "      try {\n",
              "        const charts = await google.colab.kernel.invokeFunction(\n",
              "            'suggestCharts', [key], {});\n",
              "      } catch (error) {\n",
              "        console.error('Error during call to suggestCharts:', error);\n",
              "      }\n",
              "      quickchartButtonEl.classList.remove('colab-df-spinner');\n",
              "      quickchartButtonEl.classList.add('colab-df-quickchart-complete');\n",
              "    }\n",
              "    (() => {\n",
              "      let quickchartButtonEl =\n",
              "        document.querySelector('#df-c39ee7aa-3d36-4887-a1d0-e8d853820081 button');\n",
              "      quickchartButtonEl.style.display =\n",
              "        google.colab.kernel.accessAllowed ? 'block' : 'none';\n",
              "    })();\n",
              "  </script>\n",
              "</div>\n",
              "\n",
              "    </div>\n",
              "  </div>\n"
            ],
            "text/plain": [
              "   ANO_ELEICAO              NM_UE  DS_CARGO  NR_CANDIDATO  \\\n",
              "0         2016  ITAGUAÇU DA BAHIA  PREFEITO            55   \n",
              "1         2016              ANAGÉ  PREFEITO            12   \n",
              "2         2016          CARAVELAS  VEREADOR         17111   \n",
              "3         2016         TERRA NOVA  VEREADOR         40345   \n",
              "4         2016         TERRA NOVA  VEREADOR         10777   \n",
              "\n",
              "                       NM_CANDIDATO NM_URNA_CANDIDATO NM_SOCIAL_CANDIDATO  \\\n",
              "0           IVAN TIBURTINO OLIVEIRA              IVAN              #NULO#   \n",
              "1      ELEN ZITE PEREIRA DOS SANTOS    DRA. ELEN ZITE              #NULO#   \n",
              "2   MARIA ELIETE OLIVEIRA DE FARIAS       IRMÃ ELIETE              #NULO#   \n",
              "3  RAIMUNDA VASCONCELOS DA ASSUNÇÃO          RAIMUNDA              #NULO#   \n",
              "4            JANETE DE JESUS EMIDIO  JANETE DO LANCHE              #NULO#   \n",
              "\n",
              "  DS_SITUACAO_CANDIDATURA TP_AGREMIACAO SG_PARTIDO  ...  \\\n",
              "0                    APTO     COLIGAÇÃO        PSD  ...   \n",
              "1                    APTO     COLIGAÇÃO        PDT  ...   \n",
              "2                    APTO     COLIGAÇÃO        PSL  ...   \n",
              "3                    APTO     COLIGAÇÃO        PSB  ...   \n",
              "4                    APTO     COLIGAÇÃO        PRB  ...   \n",
              "\n",
              "                                 NM_COLIGACAO  \\\n",
              "0  PARA ITAGUAÇU DA BAHIA CONTINUAR CRESCENDO   \n",
              "1                 UNIDOS POR UMA ANAGÉ MELHOR   \n",
              "2             MAIS MUDANÇAS, NOVAS CONQUISTAS   \n",
              "3                       Socialismo mais Forte   \n",
              "4                   Por uma Terra Nova Melhor   \n",
              "\n",
              "              DS_COMPOSICAO_COLIGACAO SG_UF_NASCIMENTO DT_NASCIMENTO  \\\n",
              "0  PSD / PSL / PRB / PMDB / DEM / PTB               BA    1975-01-02   \n",
              "1    PDT / SD / PMDB / PRB / PP / PSB               BA    1974-07-20   \n",
              "2                            PSL / PT               MG    1955-12-26   \n",
              "3                           PSB / PSL               BA    1954-11-04   \n",
              "4                 PRB / PC do B / PSC               BA    1983-05-06   \n",
              "\n",
              "   DS_GENERO              DS_GRAU_INSTRUCAO DS_ESTADO_CIVIL DS_COR_RACA  \\\n",
              "0  MASCULINO        ENSINO MÉDIO INCOMPLETO     SOLTEIRO(A)       PARDA   \n",
              "1   FEMININO              SUPERIOR COMPLETO       CASADO(A)       PARDA   \n",
              "2   FEMININO              SUPERIOR COMPLETO       CASADO(A)       PRETA   \n",
              "3   FEMININO          ENSINO MÉDIO COMPLETO     SOLTEIRO(A)       PARDA   \n",
              "4   FEMININO  ENSINO FUNDAMENTAL INCOMPLETO     SOLTEIRO(A)       PRETA   \n",
              "\n",
              "    DS_OCUPACAO DS_SIT_TOT_TURNO  \n",
              "0        OUTROS           ELEITO  \n",
              "1      ADVOGADO           ELEITO  \n",
              "2   COMERCIANTE         SUPLENTE  \n",
              "3    COZINHEIRO         SUPLENTE  \n",
              "4  DONA DE CASA         SUPLENTE  \n",
              "\n",
              "[5 rows x 25 columns]"
            ]
          },
          "execution_count": 33,
          "metadata": {},
          "output_type": "execute_result"
        }
      ],
      "source": [
        "columns_drop_produtos = ['DT_GERACAO','HH_GERACAO','HH_GERACAO','CD_TIPO_ELEICAO','NM_TIPO_ELEICAO','NR_TURNO','CD_ELEICAO','DS_ELEICAO','DT_ELEICAO','TP_ABRANGENCIA','SG_UF','SG_UE','CD_CARGO','SQ_CANDIDATO','NR_CPF_CANDIDATO','NM_EMAIL','CD_SITUACAO_CANDIDATURA','CD_DETALHE_SITUACAO_CAND', 'CD_MUNICIPIO_NASCIMENTO', 'CD_NACIONALIDADE', 'CD_SITUACAO_CANDIDATO_PLEITO', 'CD_SITUACAO_CANDIDATO_TOT', 'CD_SITUACAO_CANDIDATO_URNA', 'DS_DETALHE_SITUACAO_CAND', 'DS_NACIONALIDADE', 'DS_SITUACAO_CANDIDATO_PLEITO', 'DS_SITUACAO_CANDIDATO_TOT', 'DS_SITUACAO_CANDIDATO_URNA', 'DT_ACEITE_CANDIDATURA', 'NM_MUNICIPIO_NASCIMENTO', 'NM_TIPO_DESTINACAO_VOTOS', 'NR_IDADE_DATA_POSSE', 'NR_PROCESSO', 'NR_PROTOCOLO_CANDIDATURA', 'SQ_ORDEM_SUPLENCIA', 'SQ_SUBSTITUIDO', 'ST_CANDIDATO_INSERIDO_URNA', 'ST_DECLARAR_BENS', 'ST_PREST_CONTAS', 'ST_REELEICAO', 'ST_SUBSTITUIDO', 'VR_DESPESA_MAX_CAMPANHA','NR_PARTIDO','NR_FEDERACAO','NR_TITULO_ELEITORAL_CANDIDATO','CD_GENERO','CD_GRAU_INSTRUCAO','CD_ESTADO_CIVIL','CD_COR_RACA','CD_OCUPACAO','CD_SIT_TOT_TURNO']\n",
        "df_clean_colums_2016 = df_copy_2016.drop(columns_drop_produtos, axis=1)\n",
        "df_clean_colums_2016.head()"
      ]
    },
    {
      "cell_type": "markdown",
      "metadata": {
        "id": "ne1Z4UIUx-R5"
      },
      "source": []
    },
    {
      "cell_type": "code",
      "execution_count": 33,
      "metadata": {
        "id": "-4cFr34IxnKy"
      },
      "outputs": [],
      "source": []
    },
    {
      "cell_type": "markdown",
      "metadata": {
        "id": "wS7L9YH6zQRP"
      },
      "source": [
        "##Limpeza de base - 2016"
      ]
    },
    {
      "cell_type": "code",
      "execution_count": 33,
      "metadata": {
        "id": "kD_X3XMnzU0Q"
      },
      "outputs": [],
      "source": []
    },
    {
      "cell_type": "code",
      "execution_count": 34,
      "metadata": {
        "colab": {
          "base_uri": "https://localhost:8080/",
          "height": 0
        },
        "id": "PcF88La6zcVJ",
        "outputId": "b628e6ae-210f-4986-ab50-8c8958b8c999"
      },
      "outputs": [
        {
          "data": {
            "text/html": [
              "<div>\n",
              "<style scoped>\n",
              "    .dataframe tbody tr th:only-of-type {\n",
              "        vertical-align: middle;\n",
              "    }\n",
              "\n",
              "    .dataframe tbody tr th {\n",
              "        vertical-align: top;\n",
              "    }\n",
              "\n",
              "    .dataframe thead th {\n",
              "        text-align: right;\n",
              "    }\n",
              "</style>\n",
              "<table border=\"1\" class=\"dataframe\">\n",
              "  <thead>\n",
              "    <tr style=\"text-align: right;\">\n",
              "      <th></th>\n",
              "      <th>0</th>\n",
              "    </tr>\n",
              "  </thead>\n",
              "  <tbody>\n",
              "    <tr>\n",
              "      <th>ANO_ELEICAO</th>\n",
              "      <td>0</td>\n",
              "    </tr>\n",
              "    <tr>\n",
              "      <th>NM_UE</th>\n",
              "      <td>0</td>\n",
              "    </tr>\n",
              "    <tr>\n",
              "      <th>DS_CARGO</th>\n",
              "      <td>0</td>\n",
              "    </tr>\n",
              "    <tr>\n",
              "      <th>NR_CANDIDATO</th>\n",
              "      <td>0</td>\n",
              "    </tr>\n",
              "    <tr>\n",
              "      <th>NM_CANDIDATO</th>\n",
              "      <td>0</td>\n",
              "    </tr>\n",
              "    <tr>\n",
              "      <th>NM_URNA_CANDIDATO</th>\n",
              "      <td>0</td>\n",
              "    </tr>\n",
              "    <tr>\n",
              "      <th>NM_SOCIAL_CANDIDATO</th>\n",
              "      <td>0</td>\n",
              "    </tr>\n",
              "    <tr>\n",
              "      <th>DS_SITUACAO_CANDIDATURA</th>\n",
              "      <td>0</td>\n",
              "    </tr>\n",
              "    <tr>\n",
              "      <th>TP_AGREMIACAO</th>\n",
              "      <td>0</td>\n",
              "    </tr>\n",
              "    <tr>\n",
              "      <th>SG_PARTIDO</th>\n",
              "      <td>0</td>\n",
              "    </tr>\n",
              "    <tr>\n",
              "      <th>NM_PARTIDO</th>\n",
              "      <td>0</td>\n",
              "    </tr>\n",
              "    <tr>\n",
              "      <th>NM_FEDERACAO</th>\n",
              "      <td>0</td>\n",
              "    </tr>\n",
              "    <tr>\n",
              "      <th>SG_FEDERACAO</th>\n",
              "      <td>0</td>\n",
              "    </tr>\n",
              "    <tr>\n",
              "      <th>DS_COMPOSICAO_FEDERACAO</th>\n",
              "      <td>0</td>\n",
              "    </tr>\n",
              "    <tr>\n",
              "      <th>SQ_COLIGACAO</th>\n",
              "      <td>0</td>\n",
              "    </tr>\n",
              "    <tr>\n",
              "      <th>NM_COLIGACAO</th>\n",
              "      <td>0</td>\n",
              "    </tr>\n",
              "    <tr>\n",
              "      <th>DS_COMPOSICAO_COLIGACAO</th>\n",
              "      <td>0</td>\n",
              "    </tr>\n",
              "    <tr>\n",
              "      <th>SG_UF_NASCIMENTO</th>\n",
              "      <td>0</td>\n",
              "    </tr>\n",
              "    <tr>\n",
              "      <th>DT_NASCIMENTO</th>\n",
              "      <td>1</td>\n",
              "    </tr>\n",
              "    <tr>\n",
              "      <th>DS_GENERO</th>\n",
              "      <td>0</td>\n",
              "    </tr>\n",
              "    <tr>\n",
              "      <th>DS_GRAU_INSTRUCAO</th>\n",
              "      <td>0</td>\n",
              "    </tr>\n",
              "    <tr>\n",
              "      <th>DS_ESTADO_CIVIL</th>\n",
              "      <td>0</td>\n",
              "    </tr>\n",
              "    <tr>\n",
              "      <th>DS_COR_RACA</th>\n",
              "      <td>0</td>\n",
              "    </tr>\n",
              "    <tr>\n",
              "      <th>DS_OCUPACAO</th>\n",
              "      <td>0</td>\n",
              "    </tr>\n",
              "    <tr>\n",
              "      <th>DS_SIT_TOT_TURNO</th>\n",
              "      <td>0</td>\n",
              "    </tr>\n",
              "  </tbody>\n",
              "</table>\n",
              "</div><br><label><b>dtype:</b> int64</label>"
            ],
            "text/plain": [
              "ANO_ELEICAO                0\n",
              "NM_UE                      0\n",
              "DS_CARGO                   0\n",
              "NR_CANDIDATO               0\n",
              "NM_CANDIDATO               0\n",
              "NM_URNA_CANDIDATO          0\n",
              "NM_SOCIAL_CANDIDATO        0\n",
              "DS_SITUACAO_CANDIDATURA    0\n",
              "TP_AGREMIACAO              0\n",
              "SG_PARTIDO                 0\n",
              "NM_PARTIDO                 0\n",
              "NM_FEDERACAO               0\n",
              "SG_FEDERACAO               0\n",
              "DS_COMPOSICAO_FEDERACAO    0\n",
              "SQ_COLIGACAO               0\n",
              "NM_COLIGACAO               0\n",
              "DS_COMPOSICAO_COLIGACAO    0\n",
              "SG_UF_NASCIMENTO           0\n",
              "DT_NASCIMENTO              1\n",
              "DS_GENERO                  0\n",
              "DS_GRAU_INSTRUCAO          0\n",
              "DS_ESTADO_CIVIL            0\n",
              "DS_COR_RACA                0\n",
              "DS_OCUPACAO                0\n",
              "DS_SIT_TOT_TURNO           0\n",
              "dtype: int64"
            ]
          },
          "execution_count": 34,
          "metadata": {},
          "output_type": "execute_result"
        }
      ],
      "source": [
        "df_clean_colums_2016.isnull().sum()"
      ]
    },
    {
      "cell_type": "code",
      "execution_count": 35,
      "metadata": {
        "colab": {
          "base_uri": "https://localhost:8080/"
        },
        "id": "FFKwAsUL0rEu",
        "outputId": "abfc4bfa-fb31-40e4-d7c4-11bb803d6d00"
      },
      "outputs": [
        {
          "data": {
            "text/plain": [
              "0"
            ]
          },
          "execution_count": 35,
          "metadata": {},
          "output_type": "execute_result"
        }
      ],
      "source": [
        "df_clean_colums_2016.duplicated().sum()"
      ]
    },
    {
      "cell_type": "markdown",
      "metadata": {
        "id": "yOW-XPro0v_A"
      },
      "source": [
        "##Filtragem - 2016"
      ]
    },
    {
      "cell_type": "code",
      "execution_count": 36,
      "metadata": {
        "id": "GMD_lgYV00JY"
      },
      "outputs": [],
      "source": [
        "#Filtrando os dados para selecionar apenas candidaturas de Salvador\n",
        "df_salvador_2016 = df_clean_colums_2016[df_clean_colums_2016['NM_UE']=='SALVADOR']"
      ]
    },
    {
      "cell_type": "code",
      "execution_count": 37,
      "metadata": {
        "id": "QB3FKpyN1KVg"
      },
      "outputs": [],
      "source": [
        "#Filtrando os dados para selecionar apenas candidaturas de vereadores\n",
        "df_salvador_vereadores_2016 = df_salvador_2016[df_salvador_2016['DS_CARGO']=='VEREADOR']"
      ]
    },
    {
      "cell_type": "code",
      "execution_count": 38,
      "metadata": {
        "id": "eMReJP7_fqYv"
      },
      "outputs": [],
      "source": [
        "#Filtrando os dados para selecionar apenas candidaturas de vereadores aptos\n",
        "df_salvador_vereadores_2016 = df_salvador_2016[df_salvador_2016['DS_SITUACAO_CANDIDATURA']=='APTO']"
      ]
    },
    {
      "cell_type": "code",
      "execution_count": 38,
      "metadata": {
        "id": "YZx060rKfu79"
      },
      "outputs": [],
      "source": []
    },
    {
      "cell_type": "code",
      "execution_count": 39,
      "metadata": {
        "colab": {
          "base_uri": "https://localhost:8080/"
        },
        "id": "3ROeC_tw1QlM",
        "outputId": "e642ac59-1219-46d4-c511-b33382f418f7"
      },
      "outputs": [
        {
          "name": "stdout",
          "output_type": "stream",
          "text": [
            "<class 'pandas.core.frame.DataFrame'>\n",
            "Index: 958 entries, 42 to 36828\n",
            "Data columns (total 25 columns):\n",
            " #   Column                   Non-Null Count  Dtype         \n",
            "---  ------                   --------------  -----         \n",
            " 0   ANO_ELEICAO              958 non-null    int64         \n",
            " 1   NM_UE                    958 non-null    object        \n",
            " 2   DS_CARGO                 958 non-null    object        \n",
            " 3   NR_CANDIDATO             958 non-null    int64         \n",
            " 4   NM_CANDIDATO             958 non-null    object        \n",
            " 5   NM_URNA_CANDIDATO        958 non-null    object        \n",
            " 6   NM_SOCIAL_CANDIDATO      958 non-null    object        \n",
            " 7   DS_SITUACAO_CANDIDATURA  958 non-null    object        \n",
            " 8   TP_AGREMIACAO            958 non-null    object        \n",
            " 9   SG_PARTIDO               958 non-null    object        \n",
            " 10  NM_PARTIDO               958 non-null    object        \n",
            " 11  NM_FEDERACAO             958 non-null    object        \n",
            " 12  SG_FEDERACAO             958 non-null    object        \n",
            " 13  DS_COMPOSICAO_FEDERACAO  958 non-null    object        \n",
            " 14  SQ_COLIGACAO             958 non-null    int64         \n",
            " 15  NM_COLIGACAO             958 non-null    object        \n",
            " 16  DS_COMPOSICAO_COLIGACAO  958 non-null    object        \n",
            " 17  SG_UF_NASCIMENTO         958 non-null    object        \n",
            " 18  DT_NASCIMENTO            958 non-null    datetime64[ns]\n",
            " 19  DS_GENERO                958 non-null    object        \n",
            " 20  DS_GRAU_INSTRUCAO        958 non-null    object        \n",
            " 21  DS_ESTADO_CIVIL          958 non-null    object        \n",
            " 22  DS_COR_RACA              958 non-null    object        \n",
            " 23  DS_OCUPACAO              958 non-null    object        \n",
            " 24  DS_SIT_TOT_TURNO         958 non-null    object        \n",
            "dtypes: datetime64[ns](1), int64(3), object(21)\n",
            "memory usage: 194.6+ KB\n"
          ]
        }
      ],
      "source": [
        "df_salvador_vereadores_2016.info()"
      ]
    },
    {
      "cell_type": "code",
      "execution_count": 39,
      "metadata": {
        "id": "k6lb8uH81D99"
      },
      "outputs": [],
      "source": []
    },
    {
      "cell_type": "markdown",
      "metadata": {
        "id": "y3vk_P0NjQKI"
      },
      "source": [
        "##Calculo de idade - 2016"
      ]
    },
    {
      "cell_type": "code",
      "execution_count": 40,
      "metadata": {
        "colab": {
          "base_uri": "https://localhost:8080/"
        },
        "id": "jaBezIQpzddJ",
        "outputId": "456cc40e-8c48-4482-8a9c-c24dc4220eec"
      },
      "outputs": [
        {
          "name": "stderr",
          "output_type": "stream",
          "text": [
            "<ipython-input-40-28b248ca66c8>:1: SettingWithCopyWarning: \n",
            "A value is trying to be set on a copy of a slice from a DataFrame.\n",
            "Try using .loc[row_indexer,col_indexer] = value instead\n",
            "\n",
            "See the caveats in the documentation: https://pandas.pydata.org/pandas-docs/stable/user_guide/indexing.html#returning-a-view-versus-a-copy\n",
            "  df_salvador_vereadores_2016.loc[:, 'ANO_NASCIMENTO'] = df_salvador_vereadores_2016['DT_NASCIMENTO'].dt.year\n"
          ]
        }
      ],
      "source": [
        "df_salvador_vereadores_2016.loc[:, 'ANO_NASCIMENTO'] = df_salvador_vereadores_2016['DT_NASCIMENTO'].dt.year"
      ]
    },
    {
      "cell_type": "code",
      "execution_count": 41,
      "metadata": {
        "colab": {
          "base_uri": "https://localhost:8080/"
        },
        "id": "6kh8IFLazjT6",
        "outputId": "542f7119-ed60-495c-e1c7-8cdc1838c89d"
      },
      "outputs": [
        {
          "name": "stderr",
          "output_type": "stream",
          "text": [
            "<ipython-input-41-24c59486982b>:1: SettingWithCopyWarning: \n",
            "A value is trying to be set on a copy of a slice from a DataFrame.\n",
            "Try using .loc[row_indexer,col_indexer] = value instead\n",
            "\n",
            "See the caveats in the documentation: https://pandas.pydata.org/pandas-docs/stable/user_guide/indexing.html#returning-a-view-versus-a-copy\n",
            "  df_salvador_vereadores_2016.loc[:, 'IDADE'] = df_salvador_vereadores_2016['ANO_ELEICAO'] - df_salvador_vereadores_2016['ANO_NASCIMENTO']\n"
          ]
        }
      ],
      "source": [
        "df_salvador_vereadores_2016.loc[:, 'IDADE'] = df_salvador_vereadores_2016['ANO_ELEICAO'] - df_salvador_vereadores_2016['ANO_NASCIMENTO']"
      ]
    },
    {
      "cell_type": "markdown",
      "metadata": {
        "id": "u22nd-Oq3-Rb"
      },
      "source": [
        "# Relacionamento entre as planilhas"
      ]
    },
    {
      "cell_type": "code",
      "execution_count": 42,
      "metadata": {
        "id": "fc9MaWze4C9p"
      },
      "outputs": [],
      "source": [
        "#Identificando se as planilhas de 2024 e 2020 possuem o mesmo número de colunas"
      ]
    },
    {
      "cell_type": "code",
      "execution_count": 43,
      "metadata": {
        "colab": {
          "base_uri": "https://localhost:8080/"
        },
        "id": "Ei9PSGtO4K9S",
        "outputId": "6a2227e2-ae1c-4565-a44c-72cfa0848a46"
      },
      "outputs": [
        {
          "data": {
            "text/plain": [
              "set()"
            ]
          },
          "execution_count": 43,
          "metadata": {},
          "output_type": "execute_result"
        }
      ],
      "source": [
        "colunas_sobras_pt1 = set(df_salvador_vereadores_2020) - set(df_salvador_vereadores_2024)\n",
        "colunas_sobras_pt1\n"
      ]
    },
    {
      "cell_type": "code",
      "execution_count": 44,
      "metadata": {
        "colab": {
          "base_uri": "https://localhost:8080/"
        },
        "id": "b27FPNsk6ot5",
        "outputId": "e6f22194-361b-4ff9-df4c-2148f54eb9cd"
      },
      "outputs": [
        {
          "data": {
            "text/plain": [
              "set()"
            ]
          },
          "execution_count": 44,
          "metadata": {},
          "output_type": "execute_result"
        }
      ],
      "source": [
        "#identificando se as planilhas de 2016 e 2020 possuem o mesmo número de colunas\n",
        "\n",
        "colunas_sobras_pt2 = set (df_salvador_vereadores_2016) - set(df_salvador_vereadores_2020)\n",
        "colunas_sobras_pt2"
      ]
    },
    {
      "cell_type": "code",
      "execution_count": 45,
      "metadata": {
        "colab": {
          "base_uri": "https://localhost:8080/"
        },
        "id": "Iz8eJmob7s-G",
        "outputId": "7fe2b140-c447-4dde-d669-69f4b5d446e5"
      },
      "outputs": [
        {
          "data": {
            "text/plain": [
              "True"
            ]
          },
          "execution_count": 45,
          "metadata": {},
          "output_type": "execute_result"
        }
      ],
      "source": [
        "#Verificando se as planilhas possuem as mesmas colunas na mesma ordem\n",
        "\n",
        "colunas_iguais_pt1 = set(df_salvador_vereadores_2016) == set(df_salvador_vereadores_2020)\n",
        "colunas_iguais_pt1"
      ]
    },
    {
      "cell_type": "code",
      "execution_count": 46,
      "metadata": {
        "colab": {
          "base_uri": "https://localhost:8080/"
        },
        "id": "NXl6HGQF8SUb",
        "outputId": "9293b3b4-9b3a-4148-b0d9-d9230e2a8524"
      },
      "outputs": [
        {
          "data": {
            "text/plain": [
              "True"
            ]
          },
          "execution_count": 46,
          "metadata": {},
          "output_type": "execute_result"
        }
      ],
      "source": [
        "colunas_iguais_pt2 = set(df_salvador_vereadores_2020) == set(df_salvador_vereadores_2024)\n",
        "colunas_iguais_pt2"
      ]
    },
    {
      "cell_type": "code",
      "execution_count": 47,
      "metadata": {
        "id": "fFlNdfuU-WxA"
      },
      "outputs": [],
      "source": [
        "#Concatenar planilhas\n",
        "\n",
        "df_vereadores_total = pd.concat([df_salvador_vereadores_2016, df_salvador_vereadores_2020, df_salvador_vereadores_2024], axis=0, ignore_index=True)\n"
      ]
    },
    {
      "cell_type": "code",
      "execution_count": 48,
      "metadata": {
        "colab": {
          "base_uri": "https://localhost:8080/"
        },
        "id": "e8GKcvsfPHrK",
        "outputId": "51d2d9da-4bee-4a50-a7d3-6910514c712f"
      },
      "outputs": [
        {
          "name": "stdout",
          "output_type": "stream",
          "text": [
            "<class 'pandas.core.frame.DataFrame'>\n",
            "RangeIndex: 3323 entries, 0 to 3322\n",
            "Data columns (total 27 columns):\n",
            " #   Column                   Non-Null Count  Dtype         \n",
            "---  ------                   --------------  -----         \n",
            " 0   ANO_ELEICAO              3323 non-null   int64         \n",
            " 1   NM_UE                    3323 non-null   object        \n",
            " 2   DS_CARGO                 3323 non-null   object        \n",
            " 3   NR_CANDIDATO             3323 non-null   int64         \n",
            " 4   NM_CANDIDATO             3323 non-null   object        \n",
            " 5   NM_URNA_CANDIDATO        3323 non-null   object        \n",
            " 6   NM_SOCIAL_CANDIDATO      3323 non-null   object        \n",
            " 7   DS_SITUACAO_CANDIDATURA  3323 non-null   object        \n",
            " 8   TP_AGREMIACAO            3323 non-null   object        \n",
            " 9   SG_PARTIDO               3323 non-null   object        \n",
            " 10  NM_PARTIDO               3323 non-null   object        \n",
            " 11  NM_FEDERACAO             3323 non-null   object        \n",
            " 12  SG_FEDERACAO             3323 non-null   object        \n",
            " 13  DS_COMPOSICAO_FEDERACAO  3323 non-null   object        \n",
            " 14  SQ_COLIGACAO             3323 non-null   int64         \n",
            " 15  NM_COLIGACAO             3323 non-null   object        \n",
            " 16  DS_COMPOSICAO_COLIGACAO  3323 non-null   object        \n",
            " 17  SG_UF_NASCIMENTO         3323 non-null   object        \n",
            " 18  DT_NASCIMENTO            3323 non-null   datetime64[ns]\n",
            " 19  DS_GENERO                3323 non-null   object        \n",
            " 20  DS_GRAU_INSTRUCAO        3323 non-null   object        \n",
            " 21  DS_ESTADO_CIVIL          3323 non-null   object        \n",
            " 22  DS_COR_RACA              3323 non-null   object        \n",
            " 23  DS_OCUPACAO              3323 non-null   object        \n",
            " 24  DS_SIT_TOT_TURNO         3323 non-null   object        \n",
            " 25  ANO_NASCIMENTO           3323 non-null   int32         \n",
            " 26  IDADE                    3323 non-null   int64         \n",
            "dtypes: datetime64[ns](1), int32(1), int64(4), object(21)\n",
            "memory usage: 688.1+ KB\n"
          ]
        }
      ],
      "source": [
        "df_vereadores_total.info()"
      ]
    },
    {
      "cell_type": "markdown",
      "metadata": {
        "id": "tJwXoAJUVKFm"
      },
      "source": [
        "# Gráficos exploratórios"
      ]
    },
    {
      "cell_type": "code",
      "execution_count": 57,
      "metadata": {
        "id": "QUrq6FFrtLYO"
      },
      "outputs": [],
      "source": [
        "import matplotlib.pyplot as plt\n",
        "import seaborn as sns\n"
      ]
    },
    {
      "cell_type": "code",
      "execution_count": 111,
      "metadata": {
        "colab": {
          "base_uri": "https://localhost:8080/",
          "height": 996
        },
        "id": "t0fcewnhqS27",
        "outputId": "8bc73843-e18c-4b20-f288-ef12c4592f1e"
      },
      "outputs": [
        {
          "data": {
            "image/png": "[encoded data removed]",
            "text/plain": [
              "<Figure size 1200x1000 with 1 Axes>"
            ]
          },
          "metadata": {},
          "output_type": "display_data"
        }
      ],
      "source": [
        "#Qual número de candidaturas de homens x mulheres\n",
        "#Qual é o avanço da proporção homens x mulheres de 2016 - 2024?\n",
        "\n",
        "\n",
        "qtdade_homens_mulheres = df_vereadores_total.groupby('ANO_ELEICAO')['DS_GENERO'].value_counts()\n",
        "qtdade_homens_mulheres\n",
        "\n",
        "cores = plt.cm.Set2([0, 1])\n",
        "\n",
        "fig, ax = plt.subplots(figsize=(12, 10))\n",
        "\n",
        "qtdade_homens_mulheres.plot(kind='bar', stacked=True, color = cores)\n",
        "plt.title('Percentual de candidaturas Homens e Mulheres por Ano')\n",
        "plt.xlabel('ANO_ELEICAO')\n",
        "plt.ylabel('DS_GENERO')\n",
        "\n",
        "ax = qtdade_homens_mulheres.plot(kind='bar', stacked=True, color=cores)\n",
        "for p in ax.patches:\n",
        "    width, height = p.get_width(), p.get_height()\n",
        "    x, y = p.get_xy()\n",
        "    ax.annotate(f'{int(height)}', (x+width/2, y+height/2), ha='center', va='center')\n",
        "\n",
        "plt.show()\n"
      ]
    },
    {
      "cell_type": "code",
      "execution_count": 110,
      "metadata": {
        "colab": {
          "base_uri": "https://localhost:8080/",
          "height": 607
        },
        "id": "Vm98lN7OwUoa",
        "outputId": "deecb324-dd0f-43a2-edac-3091371d46f5"
      },
      "outputs": [
        {
          "data": {
            "image/png": "[encoded data removed]",
            "text/plain": [
              "<Figure size 1000x600 with 1 Axes>"
            ]
          },
          "metadata": {},
          "output_type": "display_data"
        }
      ],
      "source": [
        "#Qual é a raça dos candidatos?\n",
        "\n",
        "qtadade_raca = df_vereadores_total.groupby(['DS_COR_RACA', 'ANO_ELEICAO']).size().unstack(fill_value=0)\n",
        "cores = plt.cm.Set2(range(len(qtadade_raca)))\n",
        "ax = qtadade_raca.plot(kind='bar', stacked=True, color=cores, figsize=(10, 6))\n",
        "\n",
        "for p in ax.patches:\n",
        "    width, height = p.get_width(), p.get_height()\n",
        "    x, y = p.get_xy()\n",
        "    if height > 0:\n",
        "        ax.annotate(f'{int(height)}', (x+width/2, y+height/3+2), ha='center', va='center', fontsize=10)\n",
        "\n",
        "plt.title('Quantidade de Candidaturas por Raça e Ano', fontsize=14)\n",
        "plt.xlabel('Ano da Eleição', fontsize=12)\n",
        "plt.ylabel('Quantidade de Candidatos', fontsize=12)\n",
        "\n",
        "plt.legend(title='Ano', bbox_to_anchor=(1.05, 1), loc='upper left')\n",
        "plt.xticks(rotation=45, ha='right')\n",
        "\n",
        "plt.tight_layout()\n",
        "plt.show()"
      ]
    },
    {
      "cell_type": "code",
      "execution_count": 109,
      "metadata": {
        "colab": {
          "base_uri": "https://localhost:8080/",
          "height": 607
        },
        "id": "F9W1SDK635Kj",
        "outputId": "4b77dfe1-671e-4d7b-ee3e-5578935e77de"
      },
      "outputs": [
        {
          "data": {
            "image/png": "[encoded data removed]",
            "text/plain": [
              "<Figure size 1000x600 with 1 Axes>"
            ]
          },
          "metadata": {},
          "output_type": "display_data"
        }
      ],
      "source": [
        "#qual é a escolaridade dos candidatos?\n",
        "\n",
        "qtadade_escolaridade = df_vereadores_total.groupby('DS_GRAU_INSTRUCAO')['ANO_ELEICAO'].value_counts().unstack(fill_value=0)\n",
        "cores = plt.cm.Set2(range(len(qtadade_escolaridade.columns)))\n",
        "ax = qtadade_escolaridade.plot(kind='barh', color=cores, figsize=(10, 6))\n",
        "\n",
        "\n",
        "for container in ax.containers:\n",
        "    ax.bar_label(container, label_type='edge', fontsize=10)\n",
        "\n",
        "plt.title('Escolaridade candidatos', fontsize=14)\n",
        "plt.xlabel('Ano da Eleição', fontsize=12)\n",
        "plt.ylabel('Escolaridade', fontsize=12)\n",
        "\n",
        "plt.legend(title='Ano', bbox_to_anchor=(1.05, 1), loc='upper left')\n",
        "plt.xticks(rotation=45, ha='right')\n",
        "\n",
        "plt.tight_layout()\n",
        "plt.show()"
      ]
    },
    {
      "cell_type": "markdown",
      "metadata": {
        "id": "jdcPNLc8NSUc"
      },
      "source": [
        "#Refinamento"
      ]
    },
    {
      "cell_type": "code",
      "execution_count": 49,
      "metadata": {
        "id": "vdokUrh2Nc6G"
      },
      "outputs": [],
      "source": []
    },
    {
      "cell_type": "code",
      "execution_count": 50,
      "metadata": {
        "colab": {
          "base_uri": "https://localhost:8080/"
        },
        "id": "vcttI2A3CJ8z",
        "outputId": "2d34d18f-a5bf-418d-e52c-fb470bb57f68"
      },
      "outputs": [
        {
          "data": {
            "text/plain": [
              "array([2016, 2020, 2024])"
            ]
          },
          "execution_count": 50,
          "metadata": {},
          "output_type": "execute_result"
        }
      ],
      "source": [
        "df_vereadores_total['ANO_ELEICAO'].unique()"
      ]
    },
    {
      "cell_type": "markdown",
      "metadata": {
        "id": "vyQ2bYzWDwag"
      },
      "source": [
        "# Observações"
      ]
    },
    {
      "cell_type": "markdown",
      "metadata": {
        "id": "ybXBmwd5ED-q"
      },
      "source": [
        "- Foram encontrados 5 linhas repetidas na planilha 2024, esses valores foram excluídos da planilha\n",
        "\n",
        "\n",
        "-94% dos eleitores não informaram raça, impossibilitando análises mais aprofundadas. ( [TSE,2024](https://sig.tse.jus.br/ords/dwapr/r/seai/sig-eleicao-eleitorado/painel-perfil-eleitorado?clear=17&session=3744905316104))"
      ]
    },
    {
      "cell_type": "markdown",
      "metadata": {
        "id": "WfJ02I4h_eRh"
      },
      "source": [
        "# Exportação da base"
      ]
    },
    {
      "cell_type": "code",
      "execution_count": 51,
      "metadata": {
        "id": "POOhKrBq_h8E"
      },
      "outputs": [],
      "source": [
        "df_vereadores_total.to_csv('base_vereadores_salvador.csv', index=False)"
      ]
    },
    {
      "cell_type": "code",
      "execution_count": 51,
      "metadata": {
        "id": "XD7RKJf3TA1D"
      },
      "outputs": [],
      "source": []
    }
  ],
  "metadata": {
    "colab": {
      "collapsed_sections": [
        "FI173jKAL7mj",
        "umPGDjyJSW6W"
      ],
      "provenance": [],
      "toc_visible": true
    },
    "kernelspec": {
      "display_name": "Python 3",
      "name": "python3"
    },
    "language_info": {
      "name": "python"
    }
  },
  "nbformat": 4,
  "nbformat_minor": 0
}
